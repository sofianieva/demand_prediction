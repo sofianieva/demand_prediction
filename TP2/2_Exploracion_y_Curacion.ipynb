{
 "cells": [
  {
   "cell_type": "markdown",
   "metadata": {
    "id": "bQ3sk0063RTh"
   },
   "source": [
    "<center>\n",
    "<h4>Diplomatura Datos 2021 - FaMAF - UNC</h4>\n",
    "<h1>Aplicando Machine Learning para predicción de demanda</h1>\n",
    "<h3>Exploración y Curación</h3>\n",
    "</center>\n",
    "</left>\n",
    "<h4>Dario Yvanoff</h4>\n",
    "</left>"
   ]
  },
  {
   "cell_type": "markdown",
   "metadata": {
    "id": "6-I3spnw3RTk"
   },
   "source": [
    "[Proyecto para Mentoría](https://sites.google.com/view/mentorias2021-diplodatos/aplicando-machine-learning-para-predicci%C3%B3n-de-demanda?authuser=0)"
   ]
  },
  {
   "cell_type": "markdown",
   "metadata": {
    "id": "lsTgeLcS3RTk"
   },
   "source": [
    "# Objetivo \n",
    "\n",
    "El objetivo final de la mentoría es poder predecir el próximo mes de venta de productos en los diferentes países y zonas en donde opera la compañía de retail proveedora de los datasets. Concretamente vamos a intentar predecir el proximo mes para una localidad dada. Sin embargo, los prácticos que se realizarán en esta mentoría son aplicables a compañías de cualquier vertical de negocio que quiera predecir la demanda.\n",
    "\n",
    "¿Cuáles serían los productos mas vendidos el próximo mes en cada localidad, provincia y país?\n",
    "\n",
    "¿Cuánto de cada producto se vendería el próximo mes en cada localidad, provincia y país?\n",
    "\n",
    "¿Cuándo convendría comenzar la distribución de cada producto a los almacenes más cercanos del consumidor?\n",
    "\n",
    "¿Qué productos se venderían juntos? Identificamos clusters de productos que pueden distribuirse conjuntamente antes que efectivamente se compren."
   ]
  },
  {
   "cell_type": "markdown",
   "metadata": {
    "id": "AAu5QW6T3RTl"
   },
   "source": [
    "### Información Importante"
   ]
  },
  {
   "cell_type": "markdown",
   "metadata": {
    "id": "0qBRyBXw3RTl"
   },
   "source": [
    "En la presente notebook, se presentará la consigna a seguir para el segundo práctico correspondiente a la materia Exploración y Curación. En esta notebook se enumeran las consignas que permitirán implementar los pasos necesarios para explorar en mayor profundidad la información, proceder a la limpieza del dataset y generar un dataset resultante que servirá de input para los futuros prácticos de ML. \n",
    "\n",
    "Cada grupo debe armar un repositorio git o agregar al repositorio existente con el trabajo de Exploración y Curación de la mentoría. En dicho repositorio deben presentar:\n",
    "- una notebook respondiendo las consignas de este práctico\n",
    "- un archivo python que se pueda correr desde el sistema operativo (Ej: python nombre_archivo.py) y que ejecute la lectura de los datos, la curación del dataset aplicando los pasos del checklist, el enriquecimiento del dataset con nuevas columnas y la generación del archivo final comprimido.\n",
    "- un informe (formato html, ppt o pdf) con las respuestas de este práctico. Dicho informe servirá de base para obtener la información a presentar en los videos intermedio y final de la mentoria. \n",
    "\n",
    "Se recomienda que el informe tenga las siguientes secciones:\n",
    "- Introducción \n",
    "- Respuestas a los puntos del práctico\n",
    "- Principales conclusiones\n",
    "\n",
    "#### Nota: \n",
    "Es muy importante no solo resolver las consignas técnicamente sino tambien tener la claridad en la comunicación de los hallazgos, exponer las conclusiones y tener poder de síntesis. Se valorará que la presentación sea acompañada de los gráficos adecuados en las consignas que corresponda. Cuando se agreguen al informe, los graficos deben hablar por si mismos."
   ]
  },
  {
   "cell_type": "markdown",
   "metadata": {
    "id": "PDGcH3AV3RTl"
   },
   "source": [
    "### Entregables \n",
    "\n",
    "Fecha de Entrega de este practico y el informe de Exploración y Curación: 4/7/2021"
   ]
  },
  {
   "cell_type": "markdown",
   "metadata": {
    "id": "uu_5KWRC3RTm"
   },
   "source": [
    "# 0. Importacion de librerías"
   ]
  },
  {
   "cell_type": "code",
   "execution_count": 1,
   "metadata": {
    "id": "Q6e5vLXC3RTm"
   },
   "outputs": [],
   "source": [
    "# Importación de las librerías necesarias\n",
    "import numpy as np\n",
    "import pandas as pd\n",
    "import matplotlib.pyplot as plt\n",
    "import seaborn as sns\n",
    "import plotly.express as px\n",
    "import plotly.graph_objects as go\n",
    "import pandas_profiling\n",
    "import sys\n",
    "import chardet"
   ]
  },
  {
   "cell_type": "code",
   "execution_count": 2,
   "metadata": {
    "id": "BfF2vBaT3RTm"
   },
   "outputs": [],
   "source": [
    "pd.set_option('display.max_columns', 150)\n",
    "pd.set_option('max_colwidth', 151)\n",
    "pd.set_option('display.float_format', lambda x: '%.2f' % x)\n",
    "pd.set_option('display.max_columns', None)  "
   ]
  },
  {
   "cell_type": "markdown",
   "metadata": {
    "id": "OgsrfJjV3RTn"
   },
   "source": [
    "# Consigna para Informe de Exploración y Curación"
   ]
  },
  {
   "cell_type": "markdown",
   "metadata": {
    "id": "yw4nW7OI3RTn"
   },
   "source": [
    "## 1- Curación de datos"
   ]
  },
  {
   "cell_type": "markdown",
   "metadata": {
    "id": "1DJ81lIU3RTn"
   },
   "source": [
    "Este practico consistirá en aplicar el checklist de limpieza de datos que se encuentra en https://dimewiki.worldbank.org/wiki/Checklist:_Data_Cleaning conjuntamente con la verificación de la consistencia de la información. Cada decisión tomada en la aplicación del checklist de limpieza deberá quedar documentada claramente. \n",
    "\n",
    "Si se considera conveniente y de utilidad, cada grupo podrá enriquecer el conjunto de datos con información externa al mismo. Los datos a incorporar en el dataset deberán ser aquellos que se intuya puedan tener una relación con el comportamiento de compra de congelados de los consumidores tales como densidad de población por localidad, feriados nacionales o temperaturas en días previos (ejemplos no exhaustivo de features que puedan determinar el comportamiento de compra). Este proceso de enriquecimiento podrá ser iterativo y podrá continuar mientras se realicen los experimentos de machine learning en los próximos prácticos.\n",
    "\n",
    "Como se mencionó anteriormente el dataset resultante aqui servirá de entrada a los futuros modelos de aprendizaje automático (ML). \n",
    "\n",
    "Se propone contestar cada uno de los puntos expuestos en esta notebook generando una rutina python de manera que puedan ser llamados desde el sistema operativo que dispongan. Dicha rutina debe contemplar desde la lectura de los dataset, pasando por cada punto del checklist de limpieza hasta la grabación del dataset resultante en un archivo pkl. "
   ]
  },
  {
   "cell_type": "markdown",
   "metadata": {
    "id": "rDaHItSo3RTo"
   },
   "source": [
    "### Checklist Data Cleaning"
   ]
  },
  {
   "cell_type": "markdown",
   "metadata": {
    "id": "4FgndJm23RTo"
   },
   "source": [
    "### 1- Importación Datos"
   ]
  },
  {
   "cell_type": "markdown",
   "metadata": {
    "id": "GKYtoO2s3RTo"
   },
   "source": [
    "#### 1.1. Verificación de Inexistencia de Problemas en la Importación"
   ]
  },
  {
   "cell_type": "code",
   "execution_count": 3,
   "metadata": {
    "colab": {
     "base_uri": "https://localhost:8080/"
    },
    "id": "GmZl5YopoVaf",
    "outputId": "5d4d2f4a-9229-4b21-d789-f2c40312828a"
   },
   "outputs": [],
   "source": [
    "#from google.colab import drive\n",
    "\n",
    "#drive.mount('/content/gdrive')"
   ]
  },
  {
   "cell_type": "code",
   "execution_count": 4,
   "metadata": {
    "colab": {
     "base_uri": "https://localhost:8080/",
     "height": 458
    },
    "id": "aCtnnqgT3RTp",
    "outputId": "cfce9b73-2fe1-4dd8-dda6-f05c66b46d08"
   },
   "outputs": [],
   "source": [
    "# Lectura del dataset Productos\n",
    "productos = pd.read_csv('./dataset/productos.zip', delimiter=';', encoding='latin-1')\n",
    "\n",
    "# Lectura del dataset Categorias\n",
    "categorias = pd.read_csv('./dataset/categorias.zip', delimiter=';', encoding='latin-1')\n",
    "\n",
    "# Lectura del dataset Punto de Venta\n",
    "pdv = pd.read_csv('dataset/puntos_de_venta.zip', delimiter=';', encoding='latin-1')\n",
    "\n",
    "# Lectura del dataset Ventas\n",
    "ventas = pd.read_csv('dataset/ventas.zip', delimiter=';', encoding='latin-1')\n",
    "\n",
    "# Lectura del dataset Paises, Provincias y Localidades\n",
    "paises = pd.read_csv('dataset/paises.zip', delimiter=';', encoding='latin-1')\n",
    "provincias = pd.read_csv('dataset/provincias.zip', delimiter=';', encoding='latin-1')\n",
    "localidades = pd.read_csv('dataset/localidades.zip', delimiter=';', encoding='latin-1')"
   ]
  },
  {
   "cell_type": "code",
   "execution_count": 5,
   "metadata": {
    "id": "uuEEdq0KpHpC"
   },
   "outputs": [],
   "source": [
    "#Otra manera de correr (DG)\n",
    "\n",
    "# Lectura del dataset Productos\n",
    "#productos = pd.read_csv('/content/gdrive/MyDrive/Colab Notebooks/Mentoria/Entregable 2/dataset/productos.zip', delimiter=';', encoding='latin-1')\n",
    "\n",
    "# Lectura del dataset Categorias\n",
    "#categorias = pd.read_csv('/content/gdrive/MyDrive/Colab Notebooks/Mentoria/Entregable 2/dataset/categorias.zip', delimiter=';', encoding='latin-1')\n",
    "\n",
    "# Lectura del dataset Punto de Venta\n",
    "#pdv = pd.read_csv('/content/gdrive/MyDrive/Colab Notebooks/Mentoria/Entregable 2/dataset/puntos_de_venta.zip', delimiter=';', encoding='latin-1')\n",
    "\n",
    "# Lectura del dataset Ventas\n",
    "#ventas = pd.read_csv('ventas.zip', delimiter=';', encoding='latin-1')\n",
    "\n",
    "# Lectura del dataset Paises, Provincias y Localidades\n",
    "#paises = pd.read_csv('/content/gdrive/MyDrive/Colab Notebooks/Mentoria/Entregable 2/dataset/paises.zip', delimiter=';', encoding='latin-1')\n",
    "#provincias = pd.read_csv('/content/gdrive/MyDrive/Colab Notebooks/Mentoria/Entregable 2/dataset/provincias.zip', delimiter=';', encoding='latin-1')\n",
    "#localidades = pd.read_csv('/content/gdrive/MyDrive/Colab Notebooks/Mentoria/Entregable 2/dataset/localidades.zip', delimiter=';', encoding='latin-1')"
   ]
  },
  {
   "cell_type": "code",
   "execution_count": 6,
   "metadata": {
    "id": "ZqxbpTbV3RTp"
   },
   "outputs": [],
   "source": [
    "# Creamos el campo fecha\n",
    "ventas['fecha'] = ventas['anio'].astype(str) + '-' + ventas['mes'].astype(str).str.zfill(2) + '-' + ventas['dia'].astype(str).str.zfill(2)\n",
    "\n",
    "# Convertimos a datetime el atributo fecha\n",
    "ventas['fecha'] = pd.to_datetime(ventas['fecha'], format='%Y-%m-%d')"
   ]
  },
  {
   "cell_type": "code",
   "execution_count": 7,
   "metadata": {
    "id": "8wfq28Yx3RTp"
   },
   "outputs": [],
   "source": [
    "# Correcciones de precios informados por el negocio\n",
    "productos.loc[productos.sku==3170,'unidadkg']=\"2.565\"\n",
    "productos.loc[productos.sku==3171,'unidadkg']=\"2.565\"\n",
    "productos.loc[productos.sku==12150,'unidadkg']=\"8.325\"\n",
    "productos.loc[productos.sku==3095,'unidadkg']=\"786.72\"\n",
    "productos.loc[productos.sku==22660,'unidadkg']=\"0.6\""
   ]
  },
  {
   "cell_type": "code",
   "execution_count": 8,
   "metadata": {
    "id": "40tavBt03RTp"
   },
   "outputs": [
    {
     "data": {
      "text/html": [
       "<div>\n",
       "<style scoped>\n",
       "    .dataframe tbody tr th:only-of-type {\n",
       "        vertical-align: middle;\n",
       "    }\n",
       "\n",
       "    .dataframe tbody tr th {\n",
       "        vertical-align: top;\n",
       "    }\n",
       "\n",
       "    .dataframe thead th {\n",
       "        text-align: right;\n",
       "    }\n",
       "</style>\n",
       "<table border=\"1\" class=\"dataframe\">\n",
       "  <thead>\n",
       "    <tr style=\"text-align: right;\">\n",
       "      <th></th>\n",
       "      <th>sku</th>\n",
       "      <th>descripcion</th>\n",
       "      <th>marca</th>\n",
       "      <th>id_categoria</th>\n",
       "      <th>presentacion</th>\n",
       "      <th>unidadcm3</th>\n",
       "      <th>unidadkg</th>\n",
       "      <th>id_proveedor</th>\n",
       "    </tr>\n",
       "  </thead>\n",
       "  <tbody>\n",
       "    <tr>\n",
       "      <th>0</th>\n",
       "      <td>223</td>\n",
       "      <td>PACKXX-XX-X-XXXRIDO</td>\n",
       "      <td>GRIDO</td>\n",
       "      <td>58</td>\n",
       "      <td>Pack</td>\n",
       "      <td>0.64</td>\n",
       "      <td>3.31</td>\n",
       "      <td>2</td>\n",
       "    </tr>\n",
       "    <tr>\n",
       "      <th>1</th>\n",
       "      <td>224</td>\n",
       "      <td>PACKXX-XX-X-XXXRIDO</td>\n",
       "      <td>GRIDO</td>\n",
       "      <td>57</td>\n",
       "      <td>Pack</td>\n",
       "      <td>0.77</td>\n",
       "      <td>4.22</td>\n",
       "      <td>2</td>\n",
       "    </tr>\n",
       "    <tr>\n",
       "      <th>2</th>\n",
       "      <td>225</td>\n",
       "      <td>PACKXX-XX-X-XXXBANA</td>\n",
       "      <td>VIA BANA</td>\n",
       "      <td>40</td>\n",
       "      <td>Pack</td>\n",
       "      <td>0.59</td>\n",
       "      <td>3.31</td>\n",
       "      <td>2</td>\n",
       "    </tr>\n",
       "    <tr>\n",
       "      <th>3</th>\n",
       "      <td>226</td>\n",
       "      <td>PACKXX-XX-X-XXXBANA</td>\n",
       "      <td>VIA BANA</td>\n",
       "      <td>40</td>\n",
       "      <td>Pack</td>\n",
       "      <td>0.70</td>\n",
       "      <td>4.22</td>\n",
       "      <td>2</td>\n",
       "    </tr>\n",
       "    <tr>\n",
       "      <th>4</th>\n",
       "      <td>227</td>\n",
       "      <td>PACKXX-XX-X-XXXBANA</td>\n",
       "      <td>VIA BANA</td>\n",
       "      <td>40</td>\n",
       "      <td>Pack</td>\n",
       "      <td>5.00</td>\n",
       "      <td>5.00</td>\n",
       "      <td>2</td>\n",
       "    </tr>\n",
       "  </tbody>\n",
       "</table>\n",
       "</div>"
      ],
      "text/plain": [
       "   sku          descripcion     marca  id_categoria presentacion  unidadcm3  \\\n",
       "0  223  PACKXX-XX-X-XXXRIDO     GRIDO            58         Pack       0.64   \n",
       "1  224  PACKXX-XX-X-XXXRIDO     GRIDO            57         Pack       0.77   \n",
       "2  225  PACKXX-XX-X-XXXBANA  VIA BANA            40         Pack       0.59   \n",
       "3  226  PACKXX-XX-X-XXXBANA  VIA BANA            40         Pack       0.70   \n",
       "4  227  PACKXX-XX-X-XXXBANA  VIA BANA            40         Pack       5.00   \n",
       "\n",
       "  unidadkg  id_proveedor  \n",
       "0     3.31             2  \n",
       "1     4.22             2  \n",
       "2     3.31             2  \n",
       "3     4.22             2  \n",
       "4     5.00             2  "
      ]
     },
     "execution_count": 8,
     "metadata": {},
     "output_type": "execute_result"
    }
   ],
   "source": [
    "productos.head()"
   ]
  },
  {
   "cell_type": "code",
   "execution_count": 9,
   "metadata": {
    "id": "4nVYBAS63RTq"
   },
   "outputs": [
    {
     "data": {
      "text/plain": [
       "(4352, 8)"
      ]
     },
     "execution_count": 9,
     "metadata": {},
     "output_type": "execute_result"
    }
   ],
   "source": [
    "productos.shape"
   ]
  },
  {
   "cell_type": "code",
   "execution_count": 10,
   "metadata": {
    "id": "KKCOpEjh3RTq"
   },
   "outputs": [
    {
     "data": {
      "text/html": [
       "<div>\n",
       "<style scoped>\n",
       "    .dataframe tbody tr th:only-of-type {\n",
       "        vertical-align: middle;\n",
       "    }\n",
       "\n",
       "    .dataframe tbody tr th {\n",
       "        vertical-align: top;\n",
       "    }\n",
       "\n",
       "    .dataframe thead th {\n",
       "        text-align: right;\n",
       "    }\n",
       "</style>\n",
       "<table border=\"1\" class=\"dataframe\">\n",
       "  <thead>\n",
       "    <tr style=\"text-align: right;\">\n",
       "      <th></th>\n",
       "      <th>0</th>\n",
       "    </tr>\n",
       "  </thead>\n",
       "  <tbody>\n",
       "    <tr>\n",
       "      <th>sku</th>\n",
       "      <td>int64</td>\n",
       "    </tr>\n",
       "    <tr>\n",
       "      <th>descripcion</th>\n",
       "      <td>object</td>\n",
       "    </tr>\n",
       "    <tr>\n",
       "      <th>marca</th>\n",
       "      <td>object</td>\n",
       "    </tr>\n",
       "    <tr>\n",
       "      <th>id_categoria</th>\n",
       "      <td>int64</td>\n",
       "    </tr>\n",
       "    <tr>\n",
       "      <th>presentacion</th>\n",
       "      <td>object</td>\n",
       "    </tr>\n",
       "    <tr>\n",
       "      <th>unidadcm3</th>\n",
       "      <td>float64</td>\n",
       "    </tr>\n",
       "    <tr>\n",
       "      <th>unidadkg</th>\n",
       "      <td>object</td>\n",
       "    </tr>\n",
       "    <tr>\n",
       "      <th>id_proveedor</th>\n",
       "      <td>int64</td>\n",
       "    </tr>\n",
       "  </tbody>\n",
       "</table>\n",
       "</div>"
      ],
      "text/plain": [
       "                    0\n",
       "sku             int64\n",
       "descripcion    object\n",
       "marca          object\n",
       "id_categoria    int64\n",
       "presentacion   object\n",
       "unidadcm3     float64\n",
       "unidadkg       object\n",
       "id_proveedor    int64"
      ]
     },
     "execution_count": 10,
     "metadata": {},
     "output_type": "execute_result"
    }
   ],
   "source": [
    "# Vemos los tipos de datos\n",
    "productos.dtypes.to_frame()"
   ]
  },
  {
   "cell_type": "code",
   "execution_count": 11,
   "metadata": {
    "id": "BYDnlFQs3RTr"
   },
   "outputs": [
    {
     "data": {
      "text/html": [
       "<div>\n",
       "<style scoped>\n",
       "    .dataframe tbody tr th:only-of-type {\n",
       "        vertical-align: middle;\n",
       "    }\n",
       "\n",
       "    .dataframe tbody tr th {\n",
       "        vertical-align: top;\n",
       "    }\n",
       "\n",
       "    .dataframe thead th {\n",
       "        text-align: right;\n",
       "    }\n",
       "</style>\n",
       "<table border=\"1\" class=\"dataframe\">\n",
       "  <thead>\n",
       "    <tr style=\"text-align: right;\">\n",
       "      <th></th>\n",
       "      <th>id_categoria</th>\n",
       "      <th>nombre</th>\n",
       "    </tr>\n",
       "  </thead>\n",
       "  <tbody>\n",
       "    <tr>\n",
       "      <th>0</th>\n",
       "      <td>35</td>\n",
       "      <td>05 - Pack Impulsivos Grido</td>\n",
       "    </tr>\n",
       "    <tr>\n",
       "      <th>1</th>\n",
       "      <td>36</td>\n",
       "      <td>07 - Pack Potes Grido</td>\n",
       "    </tr>\n",
       "    <tr>\n",
       "      <th>2</th>\n",
       "      <td>37</td>\n",
       "      <td>06 - Pack Postres/Tortas Grido</td>\n",
       "    </tr>\n",
       "    <tr>\n",
       "      <th>3</th>\n",
       "      <td>38</td>\n",
       "      <td>000 - GRIDO MIX</td>\n",
       "    </tr>\n",
       "    <tr>\n",
       "      <th>4</th>\n",
       "      <td>39</td>\n",
       "      <td>08 - Otros.</td>\n",
       "    </tr>\n",
       "  </tbody>\n",
       "</table>\n",
       "</div>"
      ],
      "text/plain": [
       "   id_categoria                          nombre\n",
       "0            35      05 - Pack Impulsivos Grido\n",
       "1            36           07 - Pack Potes Grido\n",
       "2            37  06 - Pack Postres/Tortas Grido\n",
       "3            38                 000 - GRIDO MIX\n",
       "4            39                     08 - Otros."
      ]
     },
     "execution_count": 11,
     "metadata": {},
     "output_type": "execute_result"
    }
   ],
   "source": [
    "categorias.head()"
   ]
  },
  {
   "cell_type": "code",
   "execution_count": 12,
   "metadata": {
    "id": "zcH60A8w3RTr"
   },
   "outputs": [
    {
     "data": {
      "text/plain": [
       "(88, 2)"
      ]
     },
     "execution_count": 12,
     "metadata": {},
     "output_type": "execute_result"
    }
   ],
   "source": [
    "categorias.shape"
   ]
  },
  {
   "cell_type": "code",
   "execution_count": 13,
   "metadata": {
    "id": "xyAeg5nh3RTr"
   },
   "outputs": [
    {
     "data": {
      "text/html": [
       "<div>\n",
       "<style scoped>\n",
       "    .dataframe tbody tr th:only-of-type {\n",
       "        vertical-align: middle;\n",
       "    }\n",
       "\n",
       "    .dataframe tbody tr th {\n",
       "        vertical-align: top;\n",
       "    }\n",
       "\n",
       "    .dataframe thead th {\n",
       "        text-align: right;\n",
       "    }\n",
       "</style>\n",
       "<table border=\"1\" class=\"dataframe\">\n",
       "  <thead>\n",
       "    <tr style=\"text-align: right;\">\n",
       "      <th></th>\n",
       "      <th>0</th>\n",
       "    </tr>\n",
       "  </thead>\n",
       "  <tbody>\n",
       "    <tr>\n",
       "      <th>id_categoria</th>\n",
       "      <td>int64</td>\n",
       "    </tr>\n",
       "    <tr>\n",
       "      <th>nombre</th>\n",
       "      <td>object</td>\n",
       "    </tr>\n",
       "  </tbody>\n",
       "</table>\n",
       "</div>"
      ],
      "text/plain": [
       "                   0\n",
       "id_categoria   int64\n",
       "nombre        object"
      ]
     },
     "execution_count": 13,
     "metadata": {},
     "output_type": "execute_result"
    }
   ],
   "source": [
    "# Vemos los tipos de datos\n",
    "categorias.dtypes.to_frame()"
   ]
  },
  {
   "cell_type": "code",
   "execution_count": 14,
   "metadata": {
    "id": "jzSWmwVV3RTr"
   },
   "outputs": [
    {
     "data": {
      "text/html": [
       "<div>\n",
       "<style scoped>\n",
       "    .dataframe tbody tr th:only-of-type {\n",
       "        vertical-align: middle;\n",
       "    }\n",
       "\n",
       "    .dataframe tbody tr th {\n",
       "        vertical-align: top;\n",
       "    }\n",
       "\n",
       "    .dataframe thead th {\n",
       "        text-align: right;\n",
       "    }\n",
       "</style>\n",
       "<table border=\"1\" class=\"dataframe\">\n",
       "  <thead>\n",
       "    <tr style=\"text-align: right;\">\n",
       "      <th></th>\n",
       "      <th>id_punto_venta</th>\n",
       "      <th>nombre</th>\n",
       "      <th>id_Provincia</th>\n",
       "      <th>id_Localidad</th>\n",
       "      <th>id_Pais</th>\n",
       "    </tr>\n",
       "  </thead>\n",
       "  <tbody>\n",
       "    <tr>\n",
       "      <th>0</th>\n",
       "      <td>100001</td>\n",
       "      <td>MONXXX-XX-XXSTO</td>\n",
       "      <td>5</td>\n",
       "      <td>1890</td>\n",
       "      <td>1</td>\n",
       "    </tr>\n",
       "    <tr>\n",
       "      <th>1</th>\n",
       "      <td>100002</td>\n",
       "      <td>SAMXXX-XX-XXCHO</td>\n",
       "      <td>5</td>\n",
       "      <td>2018</td>\n",
       "      <td>1</td>\n",
       "    </tr>\n",
       "    <tr>\n",
       "      <th>2</th>\n",
       "      <td>100003</td>\n",
       "      <td>VA.XXX-XX-XXE I</td>\n",
       "      <td>5</td>\n",
       "      <td>2124</td>\n",
       "      <td>1</td>\n",
       "    </tr>\n",
       "    <tr>\n",
       "      <th>3</th>\n",
       "      <td>100003-1</td>\n",
       "      <td>VILXXX-XX-XXIII</td>\n",
       "      <td>5</td>\n",
       "      <td>2124</td>\n",
       "      <td>1</td>\n",
       "    </tr>\n",
       "    <tr>\n",
       "      <th>4</th>\n",
       "      <td>100004</td>\n",
       "      <td>SUCXXX-XX-XXCRE</td>\n",
       "      <td>18</td>\n",
       "      <td>4263</td>\n",
       "      <td>1</td>\n",
       "    </tr>\n",
       "  </tbody>\n",
       "</table>\n",
       "</div>"
      ],
      "text/plain": [
       "  id_punto_venta           nombre  id_Provincia  id_Localidad  id_Pais\n",
       "0         100001  MONXXX-XX-XXSTO             5          1890        1\n",
       "1         100002  SAMXXX-XX-XXCHO             5          2018        1\n",
       "2         100003  VA.XXX-XX-XXE I             5          2124        1\n",
       "3       100003-1  VILXXX-XX-XXIII             5          2124        1\n",
       "4         100004  SUCXXX-XX-XXCRE            18          4263        1"
      ]
     },
     "execution_count": 14,
     "metadata": {},
     "output_type": "execute_result"
    }
   ],
   "source": [
    "pdv.head()"
   ]
  },
  {
   "cell_type": "code",
   "execution_count": 15,
   "metadata": {
    "id": "VghGhUeD3RTr"
   },
   "outputs": [
    {
     "data": {
      "text/plain": [
       "(1850, 5)"
      ]
     },
     "execution_count": 15,
     "metadata": {},
     "output_type": "execute_result"
    }
   ],
   "source": [
    "pdv.shape"
   ]
  },
  {
   "cell_type": "code",
   "execution_count": 16,
   "metadata": {
    "id": "II4h2lQE3RTs"
   },
   "outputs": [
    {
     "data": {
      "text/html": [
       "<div>\n",
       "<style scoped>\n",
       "    .dataframe tbody tr th:only-of-type {\n",
       "        vertical-align: middle;\n",
       "    }\n",
       "\n",
       "    .dataframe tbody tr th {\n",
       "        vertical-align: top;\n",
       "    }\n",
       "\n",
       "    .dataframe thead th {\n",
       "        text-align: right;\n",
       "    }\n",
       "</style>\n",
       "<table border=\"1\" class=\"dataframe\">\n",
       "  <thead>\n",
       "    <tr style=\"text-align: right;\">\n",
       "      <th></th>\n",
       "      <th>0</th>\n",
       "    </tr>\n",
       "  </thead>\n",
       "  <tbody>\n",
       "    <tr>\n",
       "      <th>id_punto_venta</th>\n",
       "      <td>object</td>\n",
       "    </tr>\n",
       "    <tr>\n",
       "      <th>nombre</th>\n",
       "      <td>object</td>\n",
       "    </tr>\n",
       "    <tr>\n",
       "      <th>id_Provincia</th>\n",
       "      <td>int64</td>\n",
       "    </tr>\n",
       "    <tr>\n",
       "      <th>id_Localidad</th>\n",
       "      <td>int64</td>\n",
       "    </tr>\n",
       "    <tr>\n",
       "      <th>id_Pais</th>\n",
       "      <td>int64</td>\n",
       "    </tr>\n",
       "  </tbody>\n",
       "</table>\n",
       "</div>"
      ],
      "text/plain": [
       "                     0\n",
       "id_punto_venta  object\n",
       "nombre          object\n",
       "id_Provincia     int64\n",
       "id_Localidad     int64\n",
       "id_Pais          int64"
      ]
     },
     "execution_count": 16,
     "metadata": {},
     "output_type": "execute_result"
    }
   ],
   "source": [
    "# Vemos los tipos de datos\n",
    "pdv.dtypes.to_frame()"
   ]
  },
  {
   "cell_type": "code",
   "execution_count": 17,
   "metadata": {
    "id": "MrS7lrWY3RTs"
   },
   "outputs": [
    {
     "data": {
      "text/html": [
       "<div>\n",
       "<style scoped>\n",
       "    .dataframe tbody tr th:only-of-type {\n",
       "        vertical-align: middle;\n",
       "    }\n",
       "\n",
       "    .dataframe tbody tr th {\n",
       "        vertical-align: top;\n",
       "    }\n",
       "\n",
       "    .dataframe thead th {\n",
       "        text-align: right;\n",
       "    }\n",
       "</style>\n",
       "<table border=\"1\" class=\"dataframe\">\n",
       "  <thead>\n",
       "    <tr style=\"text-align: right;\">\n",
       "      <th></th>\n",
       "      <th>dia</th>\n",
       "      <th>mes</th>\n",
       "      <th>anio</th>\n",
       "      <th>hora</th>\n",
       "      <th>sku</th>\n",
       "      <th>cantidad_pedida</th>\n",
       "      <th>id_punto_venta</th>\n",
       "      <th>fecha</th>\n",
       "    </tr>\n",
       "  </thead>\n",
       "  <tbody>\n",
       "    <tr>\n",
       "      <th>0</th>\n",
       "      <td>4</td>\n",
       "      <td>1</td>\n",
       "      <td>2018</td>\n",
       "      <td>15:05:34.0000000</td>\n",
       "      <td>3071</td>\n",
       "      <td>1.00</td>\n",
       "      <td>100000</td>\n",
       "      <td>2018-01-04</td>\n",
       "    </tr>\n",
       "    <tr>\n",
       "      <th>1</th>\n",
       "      <td>4</td>\n",
       "      <td>1</td>\n",
       "      <td>2018</td>\n",
       "      <td>15:05:34.0000000</td>\n",
       "      <td>1872</td>\n",
       "      <td>4.00</td>\n",
       "      <td>100000</td>\n",
       "      <td>2018-01-04</td>\n",
       "    </tr>\n",
       "    <tr>\n",
       "      <th>2</th>\n",
       "      <td>4</td>\n",
       "      <td>1</td>\n",
       "      <td>2018</td>\n",
       "      <td>15:05:34.0000000</td>\n",
       "      <td>2008</td>\n",
       "      <td>4.00</td>\n",
       "      <td>100000</td>\n",
       "      <td>2018-01-04</td>\n",
       "    </tr>\n",
       "    <tr>\n",
       "      <th>3</th>\n",
       "      <td>4</td>\n",
       "      <td>1</td>\n",
       "      <td>2018</td>\n",
       "      <td>15:05:34.0000000</td>\n",
       "      <td>2009</td>\n",
       "      <td>4.00</td>\n",
       "      <td>100000</td>\n",
       "      <td>2018-01-04</td>\n",
       "    </tr>\n",
       "    <tr>\n",
       "      <th>4</th>\n",
       "      <td>4</td>\n",
       "      <td>1</td>\n",
       "      <td>2018</td>\n",
       "      <td>15:05:34.0000000</td>\n",
       "      <td>1918</td>\n",
       "      <td>4.00</td>\n",
       "      <td>100000</td>\n",
       "      <td>2018-01-04</td>\n",
       "    </tr>\n",
       "  </tbody>\n",
       "</table>\n",
       "</div>"
      ],
      "text/plain": [
       "   dia  mes  anio              hora   sku  cantidad_pedida id_punto_venta  \\\n",
       "0    4    1  2018  15:05:34.0000000  3071             1.00         100000   \n",
       "1    4    1  2018  15:05:34.0000000  1872             4.00         100000   \n",
       "2    4    1  2018  15:05:34.0000000  2008             4.00         100000   \n",
       "3    4    1  2018  15:05:34.0000000  2009             4.00         100000   \n",
       "4    4    1  2018  15:05:34.0000000  1918             4.00         100000   \n",
       "\n",
       "       fecha  \n",
       "0 2018-01-04  \n",
       "1 2018-01-04  \n",
       "2 2018-01-04  \n",
       "3 2018-01-04  \n",
       "4 2018-01-04  "
      ]
     },
     "execution_count": 17,
     "metadata": {},
     "output_type": "execute_result"
    }
   ],
   "source": [
    "ventas.head()"
   ]
  },
  {
   "cell_type": "code",
   "execution_count": 18,
   "metadata": {
    "id": "wdiXwVN03RTs"
   },
   "outputs": [
    {
     "data": {
      "text/plain": [
       "(5666365, 8)"
      ]
     },
     "execution_count": 18,
     "metadata": {},
     "output_type": "execute_result"
    }
   ],
   "source": [
    "ventas.shape"
   ]
  },
  {
   "cell_type": "code",
   "execution_count": 19,
   "metadata": {
    "id": "BM09buzH3RTs"
   },
   "outputs": [
    {
     "data": {
      "text/html": [
       "<div>\n",
       "<style scoped>\n",
       "    .dataframe tbody tr th:only-of-type {\n",
       "        vertical-align: middle;\n",
       "    }\n",
       "\n",
       "    .dataframe tbody tr th {\n",
       "        vertical-align: top;\n",
       "    }\n",
       "\n",
       "    .dataframe thead th {\n",
       "        text-align: right;\n",
       "    }\n",
       "</style>\n",
       "<table border=\"1\" class=\"dataframe\">\n",
       "  <thead>\n",
       "    <tr style=\"text-align: right;\">\n",
       "      <th></th>\n",
       "      <th>0</th>\n",
       "    </tr>\n",
       "  </thead>\n",
       "  <tbody>\n",
       "    <tr>\n",
       "      <th>dia</th>\n",
       "      <td>int64</td>\n",
       "    </tr>\n",
       "    <tr>\n",
       "      <th>mes</th>\n",
       "      <td>int64</td>\n",
       "    </tr>\n",
       "    <tr>\n",
       "      <th>anio</th>\n",
       "      <td>int64</td>\n",
       "    </tr>\n",
       "    <tr>\n",
       "      <th>hora</th>\n",
       "      <td>object</td>\n",
       "    </tr>\n",
       "    <tr>\n",
       "      <th>sku</th>\n",
       "      <td>int64</td>\n",
       "    </tr>\n",
       "    <tr>\n",
       "      <th>cantidad_pedida</th>\n",
       "      <td>float64</td>\n",
       "    </tr>\n",
       "    <tr>\n",
       "      <th>id_punto_venta</th>\n",
       "      <td>object</td>\n",
       "    </tr>\n",
       "    <tr>\n",
       "      <th>fecha</th>\n",
       "      <td>datetime64[ns]</td>\n",
       "    </tr>\n",
       "  </tbody>\n",
       "</table>\n",
       "</div>"
      ],
      "text/plain": [
       "                              0\n",
       "dia                       int64\n",
       "mes                       int64\n",
       "anio                      int64\n",
       "hora                     object\n",
       "sku                       int64\n",
       "cantidad_pedida         float64\n",
       "id_punto_venta           object\n",
       "fecha            datetime64[ns]"
      ]
     },
     "execution_count": 19,
     "metadata": {},
     "output_type": "execute_result"
    }
   ],
   "source": [
    "# Vemos los tipos de datos\n",
    "ventas.dtypes.to_frame()"
   ]
  },
  {
   "cell_type": "code",
   "execution_count": 20,
   "metadata": {
    "id": "ZTPmvbxH3RTs"
   },
   "outputs": [
    {
     "data": {
      "text/html": [
       "<div>\n",
       "<style scoped>\n",
       "    .dataframe tbody tr th:only-of-type {\n",
       "        vertical-align: middle;\n",
       "    }\n",
       "\n",
       "    .dataframe tbody tr th {\n",
       "        vertical-align: top;\n",
       "    }\n",
       "\n",
       "    .dataframe thead th {\n",
       "        text-align: right;\n",
       "    }\n",
       "</style>\n",
       "<table border=\"1\" class=\"dataframe\">\n",
       "  <thead>\n",
       "    <tr style=\"text-align: right;\">\n",
       "      <th></th>\n",
       "      <th>id_Pais</th>\n",
       "      <th>nombre</th>\n",
       "    </tr>\n",
       "  </thead>\n",
       "  <tbody>\n",
       "    <tr>\n",
       "      <th>0</th>\n",
       "      <td>1</td>\n",
       "      <td>Argentina</td>\n",
       "    </tr>\n",
       "    <tr>\n",
       "      <th>1</th>\n",
       "      <td>2</td>\n",
       "      <td>Chile</td>\n",
       "    </tr>\n",
       "    <tr>\n",
       "      <th>2</th>\n",
       "      <td>3</td>\n",
       "      <td>Uruguay</td>\n",
       "    </tr>\n",
       "    <tr>\n",
       "      <th>3</th>\n",
       "      <td>5</td>\n",
       "      <td>Paraguay</td>\n",
       "    </tr>\n",
       "    <tr>\n",
       "      <th>4</th>\n",
       "      <td>7</td>\n",
       "      <td>Bolivia</td>\n",
       "    </tr>\n",
       "  </tbody>\n",
       "</table>\n",
       "</div>"
      ],
      "text/plain": [
       "   id_Pais     nombre\n",
       "0        1  Argentina\n",
       "1        2      Chile\n",
       "2        3    Uruguay\n",
       "3        5   Paraguay\n",
       "4        7    Bolivia"
      ]
     },
     "execution_count": 20,
     "metadata": {},
     "output_type": "execute_result"
    }
   ],
   "source": [
    "paises.head()"
   ]
  },
  {
   "cell_type": "code",
   "execution_count": 21,
   "metadata": {
    "id": "R_zU5k6X3RTt"
   },
   "outputs": [
    {
     "data": {
      "text/plain": [
       "(5, 2)"
      ]
     },
     "execution_count": 21,
     "metadata": {},
     "output_type": "execute_result"
    }
   ],
   "source": [
    "paises.shape"
   ]
  },
  {
   "cell_type": "code",
   "execution_count": 22,
   "metadata": {
    "id": "6ZgjGkza3RTt"
   },
   "outputs": [
    {
     "data": {
      "text/html": [
       "<div>\n",
       "<style scoped>\n",
       "    .dataframe tbody tr th:only-of-type {\n",
       "        vertical-align: middle;\n",
       "    }\n",
       "\n",
       "    .dataframe tbody tr th {\n",
       "        vertical-align: top;\n",
       "    }\n",
       "\n",
       "    .dataframe thead th {\n",
       "        text-align: right;\n",
       "    }\n",
       "</style>\n",
       "<table border=\"1\" class=\"dataframe\">\n",
       "  <thead>\n",
       "    <tr style=\"text-align: right;\">\n",
       "      <th></th>\n",
       "      <th>0</th>\n",
       "    </tr>\n",
       "  </thead>\n",
       "  <tbody>\n",
       "    <tr>\n",
       "      <th>id_Pais</th>\n",
       "      <td>int64</td>\n",
       "    </tr>\n",
       "    <tr>\n",
       "      <th>nombre</th>\n",
       "      <td>object</td>\n",
       "    </tr>\n",
       "  </tbody>\n",
       "</table>\n",
       "</div>"
      ],
      "text/plain": [
       "              0\n",
       "id_Pais   int64\n",
       "nombre   object"
      ]
     },
     "execution_count": 22,
     "metadata": {},
     "output_type": "execute_result"
    }
   ],
   "source": [
    "# Vemos los tipos de datos\n",
    "paises.dtypes.to_frame()"
   ]
  },
  {
   "cell_type": "code",
   "execution_count": 23,
   "metadata": {
    "id": "ZQJOwpIr3RTt"
   },
   "outputs": [
    {
     "data": {
      "text/html": [
       "<div>\n",
       "<style scoped>\n",
       "    .dataframe tbody tr th:only-of-type {\n",
       "        vertical-align: middle;\n",
       "    }\n",
       "\n",
       "    .dataframe tbody tr th {\n",
       "        vertical-align: top;\n",
       "    }\n",
       "\n",
       "    .dataframe thead th {\n",
       "        text-align: right;\n",
       "    }\n",
       "</style>\n",
       "<table border=\"1\" class=\"dataframe\">\n",
       "  <thead>\n",
       "    <tr style=\"text-align: right;\">\n",
       "      <th></th>\n",
       "      <th>id_Provincia</th>\n",
       "      <th>nombre</th>\n",
       "    </tr>\n",
       "  </thead>\n",
       "  <tbody>\n",
       "    <tr>\n",
       "      <th>0</th>\n",
       "      <td>5</td>\n",
       "      <td>Córdoba</td>\n",
       "    </tr>\n",
       "    <tr>\n",
       "      <th>1</th>\n",
       "      <td>11</td>\n",
       "      <td>La Rioja</td>\n",
       "    </tr>\n",
       "    <tr>\n",
       "      <th>2</th>\n",
       "      <td>20</td>\n",
       "      <td>Santa Fe</td>\n",
       "    </tr>\n",
       "    <tr>\n",
       "      <th>3</th>\n",
       "      <td>21</td>\n",
       "      <td>Santiago del Estero</td>\n",
       "    </tr>\n",
       "    <tr>\n",
       "      <th>4</th>\n",
       "      <td>2</td>\n",
       "      <td>Catamarca</td>\n",
       "    </tr>\n",
       "  </tbody>\n",
       "</table>\n",
       "</div>"
      ],
      "text/plain": [
       "   id_Provincia               nombre\n",
       "0             5              Córdoba\n",
       "1            11             La Rioja\n",
       "2            20             Santa Fe\n",
       "3            21  Santiago del Estero\n",
       "4             2            Catamarca"
      ]
     },
     "execution_count": 23,
     "metadata": {},
     "output_type": "execute_result"
    }
   ],
   "source": [
    "provincias.head()"
   ]
  },
  {
   "cell_type": "code",
   "execution_count": 24,
   "metadata": {
    "id": "HUhPH0cf3RTt"
   },
   "outputs": [
    {
     "data": {
      "text/plain": [
       "(78, 2)"
      ]
     },
     "execution_count": 24,
     "metadata": {},
     "output_type": "execute_result"
    }
   ],
   "source": [
    "provincias.shape"
   ]
  },
  {
   "cell_type": "code",
   "execution_count": 25,
   "metadata": {
    "id": "V2WJsLwB3RTt"
   },
   "outputs": [
    {
     "data": {
      "text/html": [
       "<div>\n",
       "<style scoped>\n",
       "    .dataframe tbody tr th:only-of-type {\n",
       "        vertical-align: middle;\n",
       "    }\n",
       "\n",
       "    .dataframe tbody tr th {\n",
       "        vertical-align: top;\n",
       "    }\n",
       "\n",
       "    .dataframe thead th {\n",
       "        text-align: right;\n",
       "    }\n",
       "</style>\n",
       "<table border=\"1\" class=\"dataframe\">\n",
       "  <thead>\n",
       "    <tr style=\"text-align: right;\">\n",
       "      <th></th>\n",
       "      <th>0</th>\n",
       "    </tr>\n",
       "  </thead>\n",
       "  <tbody>\n",
       "    <tr>\n",
       "      <th>id_Provincia</th>\n",
       "      <td>int64</td>\n",
       "    </tr>\n",
       "    <tr>\n",
       "      <th>nombre</th>\n",
       "      <td>object</td>\n",
       "    </tr>\n",
       "  </tbody>\n",
       "</table>\n",
       "</div>"
      ],
      "text/plain": [
       "                   0\n",
       "id_Provincia   int64\n",
       "nombre        object"
      ]
     },
     "execution_count": 25,
     "metadata": {},
     "output_type": "execute_result"
    }
   ],
   "source": [
    "# Vemos los tipos de datos\n",
    "provincias.dtypes.to_frame()"
   ]
  },
  {
   "cell_type": "code",
   "execution_count": 26,
   "metadata": {
    "id": "mpSoy7TP3RTt"
   },
   "outputs": [
    {
     "data": {
      "text/html": [
       "<div>\n",
       "<style scoped>\n",
       "    .dataframe tbody tr th:only-of-type {\n",
       "        vertical-align: middle;\n",
       "    }\n",
       "\n",
       "    .dataframe tbody tr th {\n",
       "        vertical-align: top;\n",
       "    }\n",
       "\n",
       "    .dataframe thead th {\n",
       "        text-align: right;\n",
       "    }\n",
       "</style>\n",
       "<table border=\"1\" class=\"dataframe\">\n",
       "  <thead>\n",
       "    <tr style=\"text-align: right;\">\n",
       "      <th></th>\n",
       "      <th>id_Localidad</th>\n",
       "      <th>nombre</th>\n",
       "    </tr>\n",
       "  </thead>\n",
       "  <tbody>\n",
       "    <tr>\n",
       "      <th>0</th>\n",
       "      <td>2</td>\n",
       "      <td>Córdoba</td>\n",
       "    </tr>\n",
       "    <tr>\n",
       "      <th>1</th>\n",
       "      <td>1737</td>\n",
       "      <td>La Calera</td>\n",
       "    </tr>\n",
       "    <tr>\n",
       "      <th>2</th>\n",
       "      <td>2124</td>\n",
       "      <td>Villa Allende</td>\n",
       "    </tr>\n",
       "    <tr>\n",
       "      <th>3</th>\n",
       "      <td>1431</td>\n",
       "      <td>Alta Gracia</td>\n",
       "    </tr>\n",
       "    <tr>\n",
       "      <th>4</th>\n",
       "      <td>1599</td>\n",
       "      <td>Deán Funes</td>\n",
       "    </tr>\n",
       "  </tbody>\n",
       "</table>\n",
       "</div>"
      ],
      "text/plain": [
       "   id_Localidad         nombre\n",
       "0             2        Córdoba\n",
       "1          1737      La Calera\n",
       "2          2124  Villa Allende\n",
       "3          1431    Alta Gracia\n",
       "4          1599     Deán Funes"
      ]
     },
     "execution_count": 26,
     "metadata": {},
     "output_type": "execute_result"
    }
   ],
   "source": [
    "localidades.head()"
   ]
  },
  {
   "cell_type": "code",
   "execution_count": 27,
   "metadata": {
    "id": "TfaF9bRP3RTu"
   },
   "outputs": [
    {
     "data": {
      "text/plain": [
       "(897, 2)"
      ]
     },
     "execution_count": 27,
     "metadata": {},
     "output_type": "execute_result"
    }
   ],
   "source": [
    "localidades.shape"
   ]
  },
  {
   "cell_type": "code",
   "execution_count": 28,
   "metadata": {
    "id": "HNC7E9j-3RTu"
   },
   "outputs": [
    {
     "data": {
      "text/html": [
       "<div>\n",
       "<style scoped>\n",
       "    .dataframe tbody tr th:only-of-type {\n",
       "        vertical-align: middle;\n",
       "    }\n",
       "\n",
       "    .dataframe tbody tr th {\n",
       "        vertical-align: top;\n",
       "    }\n",
       "\n",
       "    .dataframe thead th {\n",
       "        text-align: right;\n",
       "    }\n",
       "</style>\n",
       "<table border=\"1\" class=\"dataframe\">\n",
       "  <thead>\n",
       "    <tr style=\"text-align: right;\">\n",
       "      <th></th>\n",
       "      <th>0</th>\n",
       "    </tr>\n",
       "  </thead>\n",
       "  <tbody>\n",
       "    <tr>\n",
       "      <th>id_Localidad</th>\n",
       "      <td>int64</td>\n",
       "    </tr>\n",
       "    <tr>\n",
       "      <th>nombre</th>\n",
       "      <td>object</td>\n",
       "    </tr>\n",
       "  </tbody>\n",
       "</table>\n",
       "</div>"
      ],
      "text/plain": [
       "                   0\n",
       "id_Localidad   int64\n",
       "nombre        object"
      ]
     },
     "execution_count": 28,
     "metadata": {},
     "output_type": "execute_result"
    }
   ],
   "source": [
    "# Vemos los tipos de datos\n",
    "localidades.dtypes.to_frame()"
   ]
  },
  {
   "cell_type": "markdown",
   "metadata": {
    "id": "ZSeu6wHe3RTu"
   },
   "source": [
    "**Nota:** en este punto tenemos los dataframe listos para continuar con el proceso de curación de datos"
   ]
  },
  {
   "cell_type": "markdown",
   "metadata": {
    "id": "FDY_a-533RTu"
   },
   "source": [
    "#### 1.2. Asegurar la Existencia de IDs o Claves Únicas"
   ]
  },
  {
   "cell_type": "markdown",
   "metadata": {
    "id": "Km0VXFff3RTu"
   },
   "source": [
    "En esta sección se chequea que no existen datos duplicados y que las claves, si existen, son únicas.\n",
    "\n",
    "Esto debemos hacerlo sobre las entidades de **productos** y de **pdv**. Deberíamos tener un único sku por productos y id por punto de venta."
   ]
  },
  {
   "cell_type": "markdown",
   "metadata": {
    "id": "I4iXk1Pi3RTv"
   },
   "source": [
    "Definimos sku como indice de productos"
   ]
  },
  {
   "cell_type": "code",
   "execution_count": 29,
   "metadata": {
    "id": "Yy_C5unP3RTv"
   },
   "outputs": [],
   "source": [
    "a = productos.set_index('sku')"
   ]
  },
  {
   "cell_type": "markdown",
   "metadata": {
    "id": "vSKhHzAn3RTv"
   },
   "source": [
    "Verificamos que no haya indices duplicados para sucurales"
   ]
  },
  {
   "cell_type": "code",
   "execution_count": 30,
   "metadata": {
    "colab": {
     "base_uri": "https://localhost:8080/"
    },
    "id": "pzbkkOIh3RTv",
    "outputId": "c4abb306-13be-4bd5-d188-0375a1b22d1c"
   },
   "outputs": [
    {
     "data": {
      "text/plain": [
       "0"
      ]
     },
     "execution_count": 30,
     "metadata": {},
     "output_type": "execute_result"
    }
   ],
   "source": [
    "len(a[a.index.duplicated()])"
   ]
  },
  {
   "cell_type": "markdown",
   "metadata": {
    "id": "g9MAjjlC3RTv"
   },
   "source": [
    "Nota: Como se observa no tenemos sku duplicados en productos"
   ]
  },
  {
   "cell_type": "markdown",
   "metadata": {
    "id": "eExHcAgk3RTv"
   },
   "source": [
    "Definimos id_punto_venta como indice de punto de venta"
   ]
  },
  {
   "cell_type": "code",
   "execution_count": 31,
   "metadata": {
    "id": "r6Rj1w7u3RTw"
   },
   "outputs": [],
   "source": [
    "b = pdv.set_index('id_punto_venta')"
   ]
  },
  {
   "cell_type": "code",
   "execution_count": 32,
   "metadata": {
    "colab": {
     "base_uri": "https://localhost:8080/"
    },
    "id": "iF_G89Bo3RTw",
    "outputId": "9356bd88-e677-4d44-dd20-45392fa7bd73"
   },
   "outputs": [
    {
     "data": {
      "text/html": [
       "<div>\n",
       "<style scoped>\n",
       "    .dataframe tbody tr th:only-of-type {\n",
       "        vertical-align: middle;\n",
       "    }\n",
       "\n",
       "    .dataframe tbody tr th {\n",
       "        vertical-align: top;\n",
       "    }\n",
       "\n",
       "    .dataframe thead th {\n",
       "        text-align: right;\n",
       "    }\n",
       "</style>\n",
       "<table border=\"1\" class=\"dataframe\">\n",
       "  <thead>\n",
       "    <tr style=\"text-align: right;\">\n",
       "      <th></th>\n",
       "      <th>nombre</th>\n",
       "      <th>id_Provincia</th>\n",
       "      <th>id_Localidad</th>\n",
       "      <th>id_Pais</th>\n",
       "    </tr>\n",
       "    <tr>\n",
       "      <th>id_punto_venta</th>\n",
       "      <th></th>\n",
       "      <th></th>\n",
       "      <th></th>\n",
       "      <th></th>\n",
       "    </tr>\n",
       "  </thead>\n",
       "  <tbody>\n",
       "  </tbody>\n",
       "</table>\n",
       "</div>"
      ],
      "text/plain": [
       "Empty DataFrame\n",
       "Columns: [nombre, id_Provincia, id_Localidad, id_Pais]\n",
       "Index: []"
      ]
     },
     "execution_count": 32,
     "metadata": {},
     "output_type": "execute_result"
    }
   ],
   "source": [
    "b[b.index.duplicated()]"
   ]
  },
  {
   "cell_type": "markdown",
   "metadata": {
    "id": "gFc-V8v43RTw"
   },
   "source": [
    "Nota: Como se observa no tenemos id_punto_venta duplicados en punto de venta"
   ]
  },
  {
   "cell_type": "markdown",
   "metadata": {
    "id": "peFV_DJL3RTw"
   },
   "source": [
    "#### 1.3. Despersonalizar Datos y Guardarlos en un Nuevo Archivo"
   ]
  },
  {
   "cell_type": "markdown",
   "metadata": {
    "id": "_qanJzer3RTw"
   },
   "source": [
    "En este caso, no es necesario despersonalizar ningún dato, dado que las columnas con información sensible ya nos han sido provistas enmascaradas."
   ]
  },
  {
   "cell_type": "markdown",
   "metadata": {
    "id": "E4n2ek6o3RTw"
   },
   "source": [
    "#### 1.4. Nunca Modificar los Datos Crudos u Originales"
   ]
  },
  {
   "cell_type": "markdown",
   "metadata": {
    "id": "O_Ia_Stk3RTw"
   },
   "source": [
    "Al finalizar la limpieza, deberán guardar el dataset resultante en un nuevo archivo, para asegurarse de no modificar los datos originales."
   ]
  },
  {
   "cell_type": "markdown",
   "metadata": {
    "id": "Eb-BfcVJ3RTx"
   },
   "source": [
    "### 2. Pasos Importantes para limpieza de Datos"
   ]
  },
  {
   "cell_type": "markdown",
   "metadata": {
    "id": "a--N58_h3RTx"
   },
   "source": [
    "#### 2.1. Etiquetas de Variables/Columnas y Problemas de Codificación/Encoding"
   ]
  },
  {
   "cell_type": "markdown",
   "metadata": {
    "id": "PpQUMTfj3RTx"
   },
   "source": [
    "Verificamos el encoding de la fuente de datos. Tomamos primeros 100000 caracteres, por ejemplo:"
   ]
  },
  {
   "cell_type": "code",
   "execution_count": 33,
   "metadata": {
    "colab": {
     "base_uri": "https://localhost:8080/"
    },
    "id": "MKlEbJVR3RTx",
    "outputId": "252fd13a-8c98-4f52-a0c4-a19598fc28ab",
    "scrolled": true
   },
   "outputs": [
    {
     "data": {
      "text/plain": [
       "RangeIndex(start=0, stop=4352, step=1)"
      ]
     },
     "execution_count": 33,
     "metadata": {},
     "output_type": "execute_result"
    }
   ],
   "source": [
    "productos.index"
   ]
  },
  {
   "cell_type": "code",
   "execution_count": 34,
   "metadata": {
    "id": "25G5vy413RTx"
   },
   "outputs": [
    {
     "name": "stdout",
     "output_type": "stream",
     "text": [
      "{'encoding': 'Windows-1252', 'confidence': 0.7295995137308687, 'language': ''}\n"
     ]
    }
   ],
   "source": [
    "from zipfile import ZipFile\n",
    "with ZipFile('./dataset/productos.zip') as myzip:\n",
    "    with myzip.open('productos.csv') as f:\n",
    "        data = f.read()\n",
    "        print(chardet.detect(data))"
   ]
  },
  {
   "cell_type": "markdown",
   "metadata": {
    "id": "CeD-jVCd3RTx"
   },
   "source": [
    "**A responder:**  analizar el encoding de las demás fuentes de datos para asegurarse que todos tienen el mismo juego de caracteres y por tanto se le puede dar el mismo tratamiento."
   ]
  },
  {
   "cell_type": "code",
   "execution_count": 35,
   "metadata": {
    "id": "dTC7AQTH3RTy"
   },
   "outputs": [
    {
     "name": "stdout",
     "output_type": "stream",
     "text": [
      "{'encoding': 'ISO-8859-1', 'confidence': 0.73, 'language': ''}\n"
     ]
    }
   ],
   "source": [
    "with ZipFile('./dataset/categorias.zip') as myzip:\n",
    "    with myzip.open('categorias.csv') as f:\n",
    "        data = f.read()\n",
    "        print(chardet.detect(data))"
   ]
  },
  {
   "cell_type": "code",
   "execution_count": 36,
   "metadata": {
    "id": "62ltk_3J3RTy"
   },
   "outputs": [
    {
     "name": "stdout",
     "output_type": "stream",
     "text": [
      "{'encoding': 'ISO-8859-1', 'confidence': 0.73, 'language': ''}\n"
     ]
    }
   ],
   "source": [
    "with ZipFile('./dataset/puntos_de_venta.zip') as myzip:\n",
    "    with myzip.open('puntos_de_venta.csv') as f:\n",
    "        data = f.read()\n",
    "        print(chardet.detect(data))"
   ]
  },
  {
   "cell_type": "code",
   "execution_count": 37,
   "metadata": {
    "id": "C0HtMZuA3RTy"
   },
   "outputs": [
    {
     "name": "stdout",
     "output_type": "stream",
     "text": [
      "{'encoding': 'ascii', 'confidence': 1.0, 'language': ''}\n"
     ]
    }
   ],
   "source": [
    "with ZipFile('./dataset/ventas.zip') as myzip:\n",
    "    with myzip.open('ventas.csv') as f:\n",
    "        data = f.read()\n",
    "        print(chardet.detect(data))"
   ]
  },
  {
   "cell_type": "code",
   "execution_count": 38,
   "metadata": {
    "id": "9BTc_tQI3RTy"
   },
   "outputs": [
    {
     "name": "stdout",
     "output_type": "stream",
     "text": [
      "{'encoding': 'ascii', 'confidence': 1.0, 'language': ''}\n"
     ]
    }
   ],
   "source": [
    "with ZipFile('./dataset/paises.zip') as myzip:\n",
    "    with myzip.open('paises.csv') as f:\n",
    "        data = f.read()\n",
    "        print(chardet.detect(data))"
   ]
  },
  {
   "cell_type": "code",
   "execution_count": 39,
   "metadata": {
    "id": "yyWCqdL_3RTy"
   },
   "outputs": [
    {
     "name": "stdout",
     "output_type": "stream",
     "text": [
      "{'encoding': 'ISO-8859-1', 'confidence': 0.73, 'language': ''}\n"
     ]
    }
   ],
   "source": [
    "with ZipFile('./dataset/provincias.zip') as myzip:\n",
    "    with myzip.open('provincias.csv') as f:\n",
    "        data = f.read()\n",
    "        print(chardet.detect(data))"
   ]
  },
  {
   "cell_type": "code",
   "execution_count": 40,
   "metadata": {
    "id": "AChBQfu33RTy"
   },
   "outputs": [
    {
     "name": "stdout",
     "output_type": "stream",
     "text": [
      "{'encoding': 'Windows-1252', 'confidence': 0.7295995137308687, 'language': ''}\n"
     ]
    }
   ],
   "source": [
    "with open('./dataset/productos.csv',\"rb\") as f:\n",
    "    data = f.read()\n",
    "    print(chardet.detect(data))"
   ]
  },
  {
   "cell_type": "code",
   "execution_count": 41,
   "metadata": {
    "id": "qkMr00Gp3RTz"
   },
   "outputs": [
    {
     "name": "stdout",
     "output_type": "stream",
     "text": [
      "{'encoding': 'ISO-8859-1', 'confidence': 0.73, 'language': ''}\n"
     ]
    }
   ],
   "source": [
    "with ZipFile('./dataset/localidades.zip') as myzip:\n",
    "    with myzip.open('localidades.csv') as f:\n",
    "        data = f.read()\n",
    "        print(chardet.detect(data))"
   ]
  },
  {
   "cell_type": "markdown",
   "metadata": {
    "id": "40u45e6M3RTz"
   },
   "source": [
    "Analizamos los nombres de columnas utilizando la siguiente expresión `df.columns.str.extract(r'^(\\w+)$')`."
   ]
  },
  {
   "cell_type": "code",
   "execution_count": 42,
   "metadata": {
    "id": "A3_KhQKN3RTz"
   },
   "outputs": [
    {
     "data": {
      "text/plain": [
       "array(['dia', 'mes', 'anio', 'hora', 'sku', 'cantidad_pedida',\n",
       "       'id_punto_venta', 'fecha'], dtype=object)"
      ]
     },
     "execution_count": 42,
     "metadata": {},
     "output_type": "execute_result"
    }
   ],
   "source": [
    "ventas.columns.values"
   ]
  },
  {
   "cell_type": "code",
   "execution_count": 43,
   "metadata": {
    "id": "IwEuO-Eq3RTz"
   },
   "outputs": [
    {
     "data": {
      "text/plain": [
       "array([ True,  True,  True,  True,  True,  True,  True,  True])"
      ]
     },
     "execution_count": 43,
     "metadata": {},
     "output_type": "execute_result"
    }
   ],
   "source": [
    "ventas.columns.str.match(r'^(\\w+)$')"
   ]
  },
  {
   "cell_type": "code",
   "execution_count": 44,
   "metadata": {
    "id": "BwWToqKH3RTz"
   },
   "outputs": [
    {
     "data": {
      "text/plain": [
       "array(['sku', 'descripcion', 'marca', 'id_categoria', 'presentacion',\n",
       "       'unidadcm3', 'unidadkg', 'id_proveedor'], dtype=object)"
      ]
     },
     "execution_count": 44,
     "metadata": {},
     "output_type": "execute_result"
    }
   ],
   "source": [
    "productos.columns.values"
   ]
  },
  {
   "cell_type": "code",
   "execution_count": 45,
   "metadata": {
    "id": "5bIdsvoS3RTz"
   },
   "outputs": [
    {
     "data": {
      "text/plain": [
       "Index([], dtype='object')"
      ]
     },
     "execution_count": 45,
     "metadata": {},
     "output_type": "execute_result"
    }
   ],
   "source": [
    "productos.columns[~productos.columns.str.match(r'^(\\w+)$')]"
   ]
  },
  {
   "cell_type": "code",
   "execution_count": 46,
   "metadata": {
    "id": "03SA8UOg3RTz"
   },
   "outputs": [
    {
     "data": {
      "text/plain": [
       "array(['id_punto_venta', 'nombre', 'id_Provincia', 'id_Localidad',\n",
       "       'id_Pais'], dtype=object)"
      ]
     },
     "execution_count": 46,
     "metadata": {},
     "output_type": "execute_result"
    }
   ],
   "source": [
    "pdv.columns.values"
   ]
  },
  {
   "cell_type": "code",
   "execution_count": 47,
   "metadata": {
    "id": "hzpcC6oP3RTz"
   },
   "outputs": [
    {
     "data": {
      "text/plain": [
       "Index([], dtype='object')"
      ]
     },
     "execution_count": 47,
     "metadata": {},
     "output_type": "execute_result"
    }
   ],
   "source": [
    "pdv.columns[~pdv.columns.str.match(r'^(\\w+)$')]"
   ]
  },
  {
   "cell_type": "code",
   "execution_count": 48,
   "metadata": {
    "id": "_kxP2haH3RT0"
   },
   "outputs": [
    {
     "data": {
      "text/plain": [
       "array(['id_categoria', 'nombre'], dtype=object)"
      ]
     },
     "execution_count": 48,
     "metadata": {},
     "output_type": "execute_result"
    }
   ],
   "source": [
    "categorias.columns.values"
   ]
  },
  {
   "cell_type": "code",
   "execution_count": 49,
   "metadata": {
    "id": "5JwQWXxv3RT0"
   },
   "outputs": [
    {
     "data": {
      "text/plain": [
       "Index([], dtype='object')"
      ]
     },
     "execution_count": 49,
     "metadata": {},
     "output_type": "execute_result"
    }
   ],
   "source": [
    "categorias.columns[~categorias.columns.str.match(r'^(\\w+)$')]"
   ]
  },
  {
   "cell_type": "code",
   "execution_count": 50,
   "metadata": {
    "id": "-A1-nJv53RT0"
   },
   "outputs": [
    {
     "data": {
      "text/plain": [
       "array(['id_Pais', 'nombre'], dtype=object)"
      ]
     },
     "execution_count": 50,
     "metadata": {},
     "output_type": "execute_result"
    }
   ],
   "source": [
    "paises.columns.values"
   ]
  },
  {
   "cell_type": "code",
   "execution_count": 51,
   "metadata": {
    "id": "jkPn2ADc3RT0"
   },
   "outputs": [
    {
     "data": {
      "text/plain": [
       "Index([], dtype='object')"
      ]
     },
     "execution_count": 51,
     "metadata": {},
     "output_type": "execute_result"
    }
   ],
   "source": [
    "paises.columns[~paises.columns.str.match(r'^(\\w+)$')]"
   ]
  },
  {
   "cell_type": "code",
   "execution_count": 52,
   "metadata": {
    "id": "rBH9htM23RT0"
   },
   "outputs": [
    {
     "data": {
      "text/plain": [
       "array(['id_Provincia', 'nombre'], dtype=object)"
      ]
     },
     "execution_count": 52,
     "metadata": {},
     "output_type": "execute_result"
    }
   ],
   "source": [
    "provincias.columns.values"
   ]
  },
  {
   "cell_type": "code",
   "execution_count": 53,
   "metadata": {
    "id": "524jSg4f3RT0"
   },
   "outputs": [
    {
     "data": {
      "text/plain": [
       "Index([], dtype='object')"
      ]
     },
     "execution_count": 53,
     "metadata": {},
     "output_type": "execute_result"
    }
   ],
   "source": [
    "provincias.columns[~provincias.columns.str.match(r'^(\\w+)$')]"
   ]
  },
  {
   "cell_type": "code",
   "execution_count": 54,
   "metadata": {
    "id": "iK2CvLF73RT1"
   },
   "outputs": [
    {
     "data": {
      "text/plain": [
       "array(['id_Localidad', 'nombre'], dtype=object)"
      ]
     },
     "execution_count": 54,
     "metadata": {},
     "output_type": "execute_result"
    }
   ],
   "source": [
    "localidades.columns.values"
   ]
  },
  {
   "cell_type": "code",
   "execution_count": 55,
   "metadata": {
    "id": "KN-SKTM23RT1"
   },
   "outputs": [
    {
     "data": {
      "text/plain": [
       "Index([], dtype='object')"
      ]
     },
     "execution_count": 55,
     "metadata": {},
     "output_type": "execute_result"
    }
   ],
   "source": [
    "localidades.columns[~localidades.columns.str.match(r'^(\\w+)$')]"
   ]
  },
  {
   "cell_type": "markdown",
   "metadata": {
    "id": "bU5DqIor3RT1"
   },
   "source": [
    "**Nota:** Como se observa las entidades no tienen caracteres fuera de a-Z, 0-9 y _ en los nombres de columnas"
   ]
  },
  {
   "cell_type": "markdown",
   "metadata": {
    "id": "o2RsKjVj3RT1"
   },
   "source": [
    "#### 2.2. Tratamiento de Valores Faltantes\n",
    "\n",
    "A responder: analizar las demas entidades para verificar datos faltantes o situaciones similares a la de presentación de productos y documentar las decisiones tomadas. Se podrían completar los valores faltantes?"
   ]
  },
  {
   "cell_type": "markdown",
   "metadata": {
    "id": "OT71BiIr7bZm"
   },
   "source": [
    "##### productos"
   ]
  },
  {
   "cell_type": "markdown",
   "metadata": {
    "id": "wgya3GYA3RT1"
   },
   "source": [
    "Identificamos cuantos valores faltantes existen por feature y cuánto representan del total. Por ejemplo, para el dataset de productos:"
   ]
  },
  {
   "cell_type": "code",
   "execution_count": 56,
   "metadata": {
    "colab": {
     "base_uri": "https://localhost:8080/"
    },
    "id": "eQ3PTeXk3RT1",
    "outputId": "bbaf09ce-60af-4ec7-fe97-91c975640ba9"
   },
   "outputs": [
    {
     "data": {
      "text/html": [
       "<div>\n",
       "<style scoped>\n",
       "    .dataframe tbody tr th:only-of-type {\n",
       "        vertical-align: middle;\n",
       "    }\n",
       "\n",
       "    .dataframe tbody tr th {\n",
       "        vertical-align: top;\n",
       "    }\n",
       "\n",
       "    .dataframe thead th {\n",
       "        text-align: right;\n",
       "    }\n",
       "</style>\n",
       "<table border=\"1\" class=\"dataframe\">\n",
       "  <thead>\n",
       "    <tr style=\"text-align: right;\">\n",
       "      <th></th>\n",
       "      <th>0</th>\n",
       "    </tr>\n",
       "  </thead>\n",
       "  <tbody>\n",
       "    <tr>\n",
       "      <th>sku</th>\n",
       "      <td>0</td>\n",
       "    </tr>\n",
       "    <tr>\n",
       "      <th>descripcion</th>\n",
       "      <td>0</td>\n",
       "    </tr>\n",
       "    <tr>\n",
       "      <th>marca</th>\n",
       "      <td>0</td>\n",
       "    </tr>\n",
       "    <tr>\n",
       "      <th>id_categoria</th>\n",
       "      <td>0</td>\n",
       "    </tr>\n",
       "    <tr>\n",
       "      <th>presentacion</th>\n",
       "      <td>0</td>\n",
       "    </tr>\n",
       "    <tr>\n",
       "      <th>unidadcm3</th>\n",
       "      <td>0</td>\n",
       "    </tr>\n",
       "    <tr>\n",
       "      <th>unidadkg</th>\n",
       "      <td>0</td>\n",
       "    </tr>\n",
       "    <tr>\n",
       "      <th>id_proveedor</th>\n",
       "      <td>0</td>\n",
       "    </tr>\n",
       "  </tbody>\n",
       "</table>\n",
       "</div>"
      ],
      "text/plain": [
       "              0\n",
       "sku           0\n",
       "descripcion   0\n",
       "marca         0\n",
       "id_categoria  0\n",
       "presentacion  0\n",
       "unidadcm3     0\n",
       "unidadkg      0\n",
       "id_proveedor  0"
      ]
     },
     "execution_count": 56,
     "metadata": {},
     "output_type": "execute_result"
    }
   ],
   "source": [
    "# Verificamos si tiene valores Nan\n",
    "productos.isnull().sum().to_frame()"
   ]
  },
  {
   "cell_type": "code",
   "execution_count": 57,
   "metadata": {
    "colab": {
     "base_uri": "https://localhost:8080/"
    },
    "id": "59Y02yGv3RT1",
    "outputId": "3f6c2d4c-b6dc-4b5f-f7b4-6b7753dc70f5"
   },
   "outputs": [
    {
     "data": {
      "text/plain": [
       "SIN DEFINIR    2804\n",
       "GRIDO          1158\n",
       "VIA BANA        328\n",
       "FRIZZIO          62\n",
       "Name: marca, dtype: int64"
      ]
     },
     "execution_count": 57,
     "metadata": {},
     "output_type": "execute_result"
    }
   ],
   "source": [
    "productos.marca.value_counts()"
   ]
  },
  {
   "cell_type": "code",
   "execution_count": 58,
   "metadata": {
    "colab": {
     "base_uri": "https://localhost:8080/"
    },
    "id": "IshKO-vo3RT2",
    "outputId": "7b704372-dd16-489e-abf8-d65516e9115f",
    "scrolled": false
   },
   "outputs": [
    {
     "data": {
      "text/plain": [
       "Pack           2371\n",
       "Unidades       1106\n",
       "No Asignada     576\n",
       "Kilogramos      148\n",
       "Baldes          136\n",
       "                 15\n",
       "Name: presentacion, dtype: int64"
      ]
     },
     "execution_count": 58,
     "metadata": {},
     "output_type": "execute_result"
    }
   ],
   "source": [
    "productos.presentacion.value_counts()"
   ]
  },
  {
   "cell_type": "code",
   "execution_count": 59,
   "metadata": {
    "colab": {
     "base_uri": "https://localhost:8080/"
    },
    "id": "G9NUv16s3RT2",
    "outputId": "ac15e5a5-f247-456d-d75b-ee5fd00802b9"
   },
   "outputs": [
    {
     "data": {
      "text/plain": [
       "0.00      2433\n",
       "5.00       795\n",
       "7.80        86\n",
       "4.14        63\n",
       "0.17        62\n",
       "          ... \n",
       "709.50       1\n",
       "714.67       1\n",
       "268.96       1\n",
       "718.33       1\n",
       "5.06         1\n",
       "Name: unidadkg, Length: 290, dtype: int64"
      ]
     },
     "execution_count": 59,
     "metadata": {},
     "output_type": "execute_result"
    }
   ],
   "source": [
    "productos.unidadkg.value_counts()"
   ]
  },
  {
   "cell_type": "code",
   "execution_count": 60,
   "metadata": {
    "colab": {
     "base_uri": "https://localhost:8080/"
    },
    "id": "5GNTtL3A3RT2",
    "outputId": "66b9a724-9b99-4262-e75c-0917b23dc80d"
   },
   "outputs": [
    {
     "data": {
      "text/plain": [
       "array([ 163,  164,  175,  186,  268,  335,  389,  453,  460,  473,  475,\n",
       "        553,  554, 1212, 1215], dtype=int64)"
      ]
     },
     "execution_count": 60,
     "metadata": {},
     "output_type": "execute_result"
    }
   ],
   "source": [
    "#Obtenemos los indices de las filas que tienen registros con valores string vacíos\n",
    "indices = np.where(productos.applymap(lambda x: x == ' '))[0]\n",
    "indices"
   ]
  },
  {
   "cell_type": "code",
   "execution_count": 61,
   "metadata": {
    "colab": {
     "base_uri": "https://localhost:8080/"
    },
    "id": "hwTZcp2L3RT2",
    "outputId": "9b3aa868-f875-4c94-84d7-a02ad49ad83a"
   },
   "outputs": [
    {
     "data": {
      "text/html": [
       "<div>\n",
       "<style scoped>\n",
       "    .dataframe tbody tr th:only-of-type {\n",
       "        vertical-align: middle;\n",
       "    }\n",
       "\n",
       "    .dataframe tbody tr th {\n",
       "        vertical-align: top;\n",
       "    }\n",
       "\n",
       "    .dataframe thead th {\n",
       "        text-align: right;\n",
       "    }\n",
       "</style>\n",
       "<table border=\"1\" class=\"dataframe\">\n",
       "  <thead>\n",
       "    <tr style=\"text-align: right;\">\n",
       "      <th></th>\n",
       "      <th>sku</th>\n",
       "      <th>descripcion</th>\n",
       "      <th>marca</th>\n",
       "      <th>id_categoria</th>\n",
       "      <th>presentacion</th>\n",
       "      <th>unidadcm3</th>\n",
       "      <th>unidadkg</th>\n",
       "      <th>id_proveedor</th>\n",
       "    </tr>\n",
       "  </thead>\n",
       "  <tbody>\n",
       "    <tr>\n",
       "      <th>163</th>\n",
       "      <td>386</td>\n",
       "      <td>MESAXX-XX-X-XXXRIOR</td>\n",
       "      <td>SIN DEFINIR</td>\n",
       "      <td>64</td>\n",
       "      <td></td>\n",
       "      <td>5.00</td>\n",
       "      <td>5.00</td>\n",
       "      <td>3</td>\n",
       "    </tr>\n",
       "    <tr>\n",
       "      <th>164</th>\n",
       "      <td>387</td>\n",
       "      <td>SERVXX-XX-X-XXXNOX.</td>\n",
       "      <td>SIN DEFINIR</td>\n",
       "      <td>64</td>\n",
       "      <td></td>\n",
       "      <td>5.00</td>\n",
       "      <td>5.00</td>\n",
       "      <td>3</td>\n",
       "    </tr>\n",
       "    <tr>\n",
       "      <th>175</th>\n",
       "      <td>398</td>\n",
       "      <td>BALAXX-XX-X-XXX kg.</td>\n",
       "      <td>SIN DEFINIR</td>\n",
       "      <td>64</td>\n",
       "      <td></td>\n",
       "      <td>5.00</td>\n",
       "      <td>5.00</td>\n",
       "      <td>3</td>\n",
       "    </tr>\n",
       "    <tr>\n",
       "      <th>186</th>\n",
       "      <td>409</td>\n",
       "      <td>MESAXX-XX-X-XXX0.40</td>\n",
       "      <td>SIN DEFINIR</td>\n",
       "      <td>64</td>\n",
       "      <td></td>\n",
       "      <td>5.00</td>\n",
       "      <td>5.00</td>\n",
       "      <td>3</td>\n",
       "    </tr>\n",
       "    <tr>\n",
       "      <th>268</th>\n",
       "      <td>491</td>\n",
       "      <td>PULVXX-XX-X-XXX1 LT</td>\n",
       "      <td>SIN DEFINIR</td>\n",
       "      <td>64</td>\n",
       "      <td></td>\n",
       "      <td>5.00</td>\n",
       "      <td>5.00</td>\n",
       "      <td>3</td>\n",
       "    </tr>\n",
       "    <tr>\n",
       "      <th>335</th>\n",
       "      <td>558</td>\n",
       "      <td>CUCUXX-XX-X-XXXnid.</td>\n",
       "      <td>SIN DEFINIR</td>\n",
       "      <td>64</td>\n",
       "      <td></td>\n",
       "      <td>5.00</td>\n",
       "      <td>5.00</td>\n",
       "      <td>3</td>\n",
       "    </tr>\n",
       "    <tr>\n",
       "      <th>389</th>\n",
       "      <td>612</td>\n",
       "      <td>CRISXX-XX-X-XXXRAME</td>\n",
       "      <td>SIN DEFINIR</td>\n",
       "      <td>64</td>\n",
       "      <td></td>\n",
       "      <td>0.00</td>\n",
       "      <td>2.11</td>\n",
       "      <td>3</td>\n",
       "    </tr>\n",
       "    <tr>\n",
       "      <th>453</th>\n",
       "      <td>676</td>\n",
       "      <td>CONFXX-XX-X-XXXgrs.</td>\n",
       "      <td>SIN DEFINIR</td>\n",
       "      <td>64</td>\n",
       "      <td></td>\n",
       "      <td>5.00</td>\n",
       "      <td>5.00</td>\n",
       "      <td>3</td>\n",
       "    </tr>\n",
       "    <tr>\n",
       "      <th>460</th>\n",
       "      <td>683</td>\n",
       "      <td>CHAMXX-XX-X-XXX CC.</td>\n",
       "      <td>SIN DEFINIR</td>\n",
       "      <td>64</td>\n",
       "      <td></td>\n",
       "      <td>5.00</td>\n",
       "      <td>5.00</td>\n",
       "      <td>3</td>\n",
       "    </tr>\n",
       "    <tr>\n",
       "      <th>473</th>\n",
       "      <td>696</td>\n",
       "      <td>VASOXX-XX-X-XXXnid.</td>\n",
       "      <td>GRIDO</td>\n",
       "      <td>64</td>\n",
       "      <td></td>\n",
       "      <td>5.00</td>\n",
       "      <td>5.00</td>\n",
       "      <td>3</td>\n",
       "    </tr>\n",
       "    <tr>\n",
       "      <th>475</th>\n",
       "      <td>698</td>\n",
       "      <td>BURBXX-XX-X-XXXnid.</td>\n",
       "      <td>GRIDO</td>\n",
       "      <td>64</td>\n",
       "      <td></td>\n",
       "      <td>5.00</td>\n",
       "      <td>5.00</td>\n",
       "      <td>3</td>\n",
       "    </tr>\n",
       "    <tr>\n",
       "      <th>553</th>\n",
       "      <td>780</td>\n",
       "      <td>PLASXX-XX-X-XXXnid.</td>\n",
       "      <td>GRIDO</td>\n",
       "      <td>64</td>\n",
       "      <td></td>\n",
       "      <td>5.00</td>\n",
       "      <td>5.00</td>\n",
       "      <td>3</td>\n",
       "    </tr>\n",
       "    <tr>\n",
       "      <th>554</th>\n",
       "      <td>781</td>\n",
       "      <td>PLASXX-XX-X-XXXnid.</td>\n",
       "      <td>SIN DEFINIR</td>\n",
       "      <td>64</td>\n",
       "      <td></td>\n",
       "      <td>5.00</td>\n",
       "      <td>5.00</td>\n",
       "      <td>3</td>\n",
       "    </tr>\n",
       "    <tr>\n",
       "      <th>1212</th>\n",
       "      <td>1500</td>\n",
       "      <td>NARAXX-XX-X-XXXBANA</td>\n",
       "      <td>VIA BANA</td>\n",
       "      <td>47</td>\n",
       "      <td></td>\n",
       "      <td>0.01</td>\n",
       "      <td>7.00</td>\n",
       "      <td>2</td>\n",
       "    </tr>\n",
       "    <tr>\n",
       "      <th>1215</th>\n",
       "      <td>1503</td>\n",
       "      <td>DULCXX-XX-X-XXXBANA</td>\n",
       "      <td>VIA BANA</td>\n",
       "      <td>50</td>\n",
       "      <td></td>\n",
       "      <td>0.80</td>\n",
       "      <td>6.00</td>\n",
       "      <td>2</td>\n",
       "    </tr>\n",
       "  </tbody>\n",
       "</table>\n",
       "</div>"
      ],
      "text/plain": [
       "       sku          descripcion        marca  id_categoria presentacion  \\\n",
       "163    386  MESAXX-XX-X-XXXRIOR  SIN DEFINIR            64                \n",
       "164    387  SERVXX-XX-X-XXXNOX.  SIN DEFINIR            64                \n",
       "175    398  BALAXX-XX-X-XXX kg.  SIN DEFINIR            64                \n",
       "186    409  MESAXX-XX-X-XXX0.40  SIN DEFINIR            64                \n",
       "268    491  PULVXX-XX-X-XXX1 LT  SIN DEFINIR            64                \n",
       "335    558  CUCUXX-XX-X-XXXnid.  SIN DEFINIR            64                \n",
       "389    612  CRISXX-XX-X-XXXRAME  SIN DEFINIR            64                \n",
       "453    676  CONFXX-XX-X-XXXgrs.  SIN DEFINIR            64                \n",
       "460    683  CHAMXX-XX-X-XXX CC.  SIN DEFINIR            64                \n",
       "473    696  VASOXX-XX-X-XXXnid.        GRIDO            64                \n",
       "475    698  BURBXX-XX-X-XXXnid.        GRIDO            64                \n",
       "553    780  PLASXX-XX-X-XXXnid.        GRIDO            64                \n",
       "554    781  PLASXX-XX-X-XXXnid.  SIN DEFINIR            64                \n",
       "1212  1500  NARAXX-XX-X-XXXBANA     VIA BANA            47                \n",
       "1215  1503  DULCXX-XX-X-XXXBANA     VIA BANA            50                \n",
       "\n",
       "      unidadcm3 unidadkg  id_proveedor  \n",
       "163        5.00     5.00             3  \n",
       "164        5.00     5.00             3  \n",
       "175        5.00     5.00             3  \n",
       "186        5.00     5.00             3  \n",
       "268        5.00     5.00             3  \n",
       "335        5.00     5.00             3  \n",
       "389        0.00     2.11             3  \n",
       "453        5.00     5.00             3  \n",
       "460        5.00     5.00             3  \n",
       "473        5.00     5.00             3  \n",
       "475        5.00     5.00             3  \n",
       "553        5.00     5.00             3  \n",
       "554        5.00     5.00             3  \n",
       "1212       0.01     7.00             2  \n",
       "1215       0.80     6.00             2  "
      ]
     },
     "execution_count": 61,
     "metadata": {},
     "output_type": "execute_result"
    }
   ],
   "source": [
    "# Mostramos algunos ejemplos de filas que tienen presentaciones vacías desde los índices obtenidos en la celda anterior\n",
    "ejemplos = productos[productos.index.isin(indices)]\n",
    "ejemplos"
   ]
  },
  {
   "cell_type": "code",
   "execution_count": 62,
   "metadata": {
    "colab": {
     "base_uri": "https://localhost:8080/"
    },
    "id": "WRlq149M3RT2",
    "outputId": "86722e11-71b8-4712-cc99-115df2b05860"
   },
   "outputs": [
    {
     "name": "stdout",
     "output_type": "stream",
     "text": [
      "Porcentaje de presentaciones vacias: 0.0034% de un total de 4352 productos distintos\n"
     ]
    }
   ],
   "source": [
    "total_prod=len(productos)\n",
    "print(\"Porcentaje de presentaciones vacias: {0:.4f}% de un total de {1:} productos distintos\".format(15/total_prod,total_prod))"
   ]
  },
  {
   "cell_type": "markdown",
   "metadata": {
    "id": "vBSSobZO3RT2"
   },
   "source": [
    "Como se puede observar existen presentaciones que no son nulos pero que tampoco son NaN. Tener en cuenta este hecho en el análisis y decisiones que se tomen al respecto en cada práctico."
   ]
  },
  {
   "cell_type": "code",
   "execution_count": 63,
   "metadata": {
    "colab": {
     "base_uri": "https://localhost:8080/"
    },
    "id": "gXM9JoiZ3RT3",
    "outputId": "047b8255-be02-47e1-c96d-6d026ccbd921",
    "scrolled": true
   },
   "outputs": [
    {
     "data": {
      "text/plain": [
       "sku\n",
       "1503    1129\n",
       "1500     751\n",
       "dtype: int64"
      ]
     },
     "execution_count": 63,
     "metadata": {},
     "output_type": "execute_result"
    }
   ],
   "source": [
    "# De los que no tienen presentacion, solo estan presentes el 1500 y el 1503 que por lo menos tienen la marca\n",
    "ventas[ventas.sku.isin(list(ejemplos.sku))].value_counts('sku')"
   ]
  },
  {
   "cell_type": "markdown",
   "metadata": {
    "id": "BdZO1-k13RT3"
   },
   "source": [
    "##### categorias"
   ]
  },
  {
   "cell_type": "code",
   "execution_count": 64,
   "metadata": {
    "colab": {
     "base_uri": "https://localhost:8080/"
    },
    "id": "GOCVDQqK3RT3",
    "outputId": "b1306dd2-810d-466f-c700-67d0082c564e"
   },
   "outputs": [
    {
     "data": {
      "text/html": [
       "<div>\n",
       "<style scoped>\n",
       "    .dataframe tbody tr th:only-of-type {\n",
       "        vertical-align: middle;\n",
       "    }\n",
       "\n",
       "    .dataframe tbody tr th {\n",
       "        vertical-align: top;\n",
       "    }\n",
       "\n",
       "    .dataframe thead th {\n",
       "        text-align: right;\n",
       "    }\n",
       "</style>\n",
       "<table border=\"1\" class=\"dataframe\">\n",
       "  <thead>\n",
       "    <tr style=\"text-align: right;\">\n",
       "      <th></th>\n",
       "      <th>0</th>\n",
       "    </tr>\n",
       "  </thead>\n",
       "  <tbody>\n",
       "    <tr>\n",
       "      <th>id_categoria</th>\n",
       "      <td>0</td>\n",
       "    </tr>\n",
       "    <tr>\n",
       "      <th>nombre</th>\n",
       "      <td>0</td>\n",
       "    </tr>\n",
       "  </tbody>\n",
       "</table>\n",
       "</div>"
      ],
      "text/plain": [
       "              0\n",
       "id_categoria  0\n",
       "nombre        0"
      ]
     },
     "execution_count": 64,
     "metadata": {},
     "output_type": "execute_result"
    }
   ],
   "source": [
    "# Verificamos si tiene valores Nan\n",
    "categorias.isnull().sum().to_frame()"
   ]
  },
  {
   "cell_type": "code",
   "execution_count": 65,
   "metadata": {
    "colab": {
     "base_uri": "https://localhost:8080/"
    },
    "id": "EnY2vPR53RT3",
    "outputId": "41aed10f-b779-4ef6-8689-356131a4993f"
   },
   "outputs": [
    {
     "data": {
      "text/html": [
       "<div>\n",
       "<style scoped>\n",
       "    .dataframe tbody tr th:only-of-type {\n",
       "        vertical-align: middle;\n",
       "    }\n",
       "\n",
       "    .dataframe tbody tr th {\n",
       "        vertical-align: top;\n",
       "    }\n",
       "\n",
       "    .dataframe thead th {\n",
       "        text-align: right;\n",
       "    }\n",
       "</style>\n",
       "<table border=\"1\" class=\"dataframe\">\n",
       "  <thead>\n",
       "    <tr style=\"text-align: right;\">\n",
       "      <th></th>\n",
       "      <th>nombre</th>\n",
       "    </tr>\n",
       "  </thead>\n",
       "  <tbody>\n",
       "    <tr>\n",
       "      <th>VACIO</th>\n",
       "      <td>5</td>\n",
       "    </tr>\n",
       "    <tr>\n",
       "      <th>12 - MUEBLES</th>\n",
       "      <td>2</td>\n",
       "    </tr>\n",
       "    <tr>\n",
       "      <th>09 - SABORES PREMIUM</th>\n",
       "      <td>1</td>\n",
       "    </tr>\n",
       "    <tr>\n",
       "      <th>05 - Mix 40 GRANEL/60 IMP</th>\n",
       "      <td>1</td>\n",
       "    </tr>\n",
       "    <tr>\n",
       "      <th>0002 - ACCESORIOS, UTENSILIOS Y REPUESTOS</th>\n",
       "      <td>1</td>\n",
       "    </tr>\n",
       "    <tr>\n",
       "      <th>07 - Pack Potes Grido</th>\n",
       "      <td>1</td>\n",
       "    </tr>\n",
       "    <tr>\n",
       "      <th>10 - CARTELERIA, INSTITUCIONALES Y PLOTEOS</th>\n",
       "      <td>1</td>\n",
       "    </tr>\n",
       "    <tr>\n",
       "      <th>12 - IMPULSIVOS</th>\n",
       "      <td>1</td>\n",
       "    </tr>\n",
       "    <tr>\n",
       "      <th>0001 - GRIDO MARKET</th>\n",
       "      <td>1</td>\n",
       "    </tr>\n",
       "    <tr>\n",
       "      <th>19 - MATERIAS PRIMAS</th>\n",
       "      <td>1</td>\n",
       "    </tr>\n",
       "    <tr>\n",
       "      <th>004 - Sabores Premium X 12 Lts - Via Bana</th>\n",
       "      <td>1</td>\n",
       "    </tr>\n",
       "    <tr>\n",
       "      <th>10 - PALITOS CREMA / FRUTAL / BOMBON</th>\n",
       "      <td>1</td>\n",
       "    </tr>\n",
       "    <tr>\n",
       "      <th>001 - Sabores Al Agua X 12 Lts - Via Bana</th>\n",
       "      <td>1</td>\n",
       "    </tr>\n",
       "    <tr>\n",
       "      <th>0007 - ACCESORIOS Y REPUESTOS PARA EQUIPOS DE FRIO</th>\n",
       "      <td>1</td>\n",
       "    </tr>\n",
       "    <tr>\n",
       "      <th>18 - PRODUCTOS SIN TACC</th>\n",
       "      <td>1</td>\n",
       "    </tr>\n",
       "    <tr>\n",
       "      <th>08 - SABORES ESPECIALES</th>\n",
       "      <td>1</td>\n",
       "    </tr>\n",
       "    <tr>\n",
       "      <th>05 - Pack Impulsivos Grido</th>\n",
       "      <td>1</td>\n",
       "    </tr>\n",
       "    <tr>\n",
       "      <th>002 - Sabores Comunes X 12 Lts - Via Bana</th>\n",
       "      <td>1</td>\n",
       "    </tr>\n",
       "    <tr>\n",
       "      <th>0003 - ARTICULOS PROTECCION COVID-19</th>\n",
       "      <td>1</td>\n",
       "    </tr>\n",
       "    <tr>\n",
       "      <th>0003 - ALMACEN</th>\n",
       "      <td>1</td>\n",
       "    </tr>\n",
       "  </tbody>\n",
       "</table>\n",
       "</div>"
      ],
      "text/plain": [
       "                                                    nombre\n",
       "VACIO                                                    5\n",
       "12 - MUEBLES                                             2\n",
       "09 - SABORES PREMIUM                                     1\n",
       "05 - Mix 40 GRANEL/60 IMP                                1\n",
       "0002 - ACCESORIOS, UTENSILIOS Y REPUESTOS                1\n",
       "07 - Pack Potes Grido                                    1\n",
       "10 - CARTELERIA, INSTITUCIONALES Y PLOTEOS               1\n",
       "12 - IMPULSIVOS                                          1\n",
       "0001 - GRIDO MARKET                                      1\n",
       "19 - MATERIAS PRIMAS                                     1\n",
       "004 - Sabores Premium X 12 Lts - Via Bana                1\n",
       "10 - PALITOS CREMA / FRUTAL / BOMBON                     1\n",
       "001 - Sabores Al Agua X 12 Lts - Via Bana                1\n",
       "0007 - ACCESORIOS Y REPUESTOS PARA EQUIPOS DE FRIO       1\n",
       "18 - PRODUCTOS SIN TACC                                  1\n",
       "08 - SABORES ESPECIALES                                  1\n",
       "05 - Pack Impulsivos Grido                               1\n",
       "002 - Sabores Comunes X 12 Lts - Via Bana                1\n",
       "0003 - ARTICULOS PROTECCION COVID-19                     1\n",
       "0003 - ALMACEN                                           1"
      ]
     },
     "execution_count": 65,
     "metadata": {},
     "output_type": "execute_result"
    }
   ],
   "source": [
    "categorias.nombre.value_counts().to_frame()[:20]"
   ]
  },
  {
   "cell_type": "code",
   "execution_count": 66,
   "metadata": {
    "colab": {
     "base_uri": "https://localhost:8080/"
    },
    "id": "78ZMA6w_3RT3",
    "outputId": "6cdfbe1c-821f-46f2-951a-e8d722aaff19",
    "scrolled": true
   },
   "outputs": [
    {
     "data": {
      "text/plain": [
       "array([32, 40, 41, 45, 47, 48], dtype=int64)"
      ]
     },
     "execution_count": 66,
     "metadata": {},
     "output_type": "execute_result"
    }
   ],
   "source": [
    "#Obtenemos los indices de las filas que tienen registros con valores string vacíos\n",
    "indices = np.where(categorias.applymap(lambda x: x == 'VACIO' or x=='vacia'))[0]\n",
    "indices"
   ]
  },
  {
   "cell_type": "code",
   "execution_count": 67,
   "metadata": {
    "colab": {
     "base_uri": "https://localhost:8080/"
    },
    "id": "IJla2IrF3RT4",
    "outputId": "6a03d970-21e4-46c6-880d-d0a2469e8850"
   },
   "outputs": [
    {
     "data": {
      "text/html": [
       "<div>\n",
       "<style scoped>\n",
       "    .dataframe tbody tr th:only-of-type {\n",
       "        vertical-align: middle;\n",
       "    }\n",
       "\n",
       "    .dataframe tbody tr th {\n",
       "        vertical-align: top;\n",
       "    }\n",
       "\n",
       "    .dataframe thead th {\n",
       "        text-align: right;\n",
       "    }\n",
       "</style>\n",
       "<table border=\"1\" class=\"dataframe\">\n",
       "  <thead>\n",
       "    <tr style=\"text-align: right;\">\n",
       "      <th></th>\n",
       "      <th>sku</th>\n",
       "      <th>descripcion</th>\n",
       "      <th>marca</th>\n",
       "      <th>id_categoria</th>\n",
       "      <th>presentacion</th>\n",
       "      <th>unidadcm3</th>\n",
       "      <th>unidadkg</th>\n",
       "      <th>id_proveedor</th>\n",
       "    </tr>\n",
       "  </thead>\n",
       "  <tbody>\n",
       "    <tr>\n",
       "      <th>163</th>\n",
       "      <td>386</td>\n",
       "      <td>MESAXX-XX-X-XXXRIOR</td>\n",
       "      <td>SIN DEFINIR</td>\n",
       "      <td>64</td>\n",
       "      <td></td>\n",
       "      <td>5.00</td>\n",
       "      <td>5.00</td>\n",
       "      <td>3</td>\n",
       "    </tr>\n",
       "    <tr>\n",
       "      <th>164</th>\n",
       "      <td>387</td>\n",
       "      <td>SERVXX-XX-X-XXXNOX.</td>\n",
       "      <td>SIN DEFINIR</td>\n",
       "      <td>64</td>\n",
       "      <td></td>\n",
       "      <td>5.00</td>\n",
       "      <td>5.00</td>\n",
       "      <td>3</td>\n",
       "    </tr>\n",
       "  </tbody>\n",
       "</table>\n",
       "</div>"
      ],
      "text/plain": [
       "     sku          descripcion        marca  id_categoria presentacion  \\\n",
       "163  386  MESAXX-XX-X-XXXRIOR  SIN DEFINIR            64                \n",
       "164  387  SERVXX-XX-X-XXXNOX.  SIN DEFINIR            64                \n",
       "\n",
       "     unidadcm3 unidadkg  id_proveedor  \n",
       "163       5.00     5.00             3  \n",
       "164       5.00     5.00             3  "
      ]
     },
     "execution_count": 67,
     "metadata": {},
     "output_type": "execute_result"
    }
   ],
   "source": [
    "# Mostramos algunos ejemplos de filas que tienen presentaciones vacías desde los índices obtenidos en la celda anterior\n",
    "productos[productos.index.isin([163,164])]"
   ]
  },
  {
   "cell_type": "code",
   "execution_count": 68,
   "metadata": {
    "colab": {
     "base_uri": "https://localhost:8080/"
    },
    "id": "nmmAQTXZ3RT4",
    "outputId": "30ed9a58-fc62-4cd6-daa2-31d6a32a963c"
   },
   "outputs": [
    {
     "data": {
      "text/html": [
       "<div>\n",
       "<style scoped>\n",
       "    .dataframe tbody tr th:only-of-type {\n",
       "        vertical-align: middle;\n",
       "    }\n",
       "\n",
       "    .dataframe tbody tr th {\n",
       "        vertical-align: top;\n",
       "    }\n",
       "\n",
       "    .dataframe thead th {\n",
       "        text-align: right;\n",
       "    }\n",
       "</style>\n",
       "<table border=\"1\" class=\"dataframe\">\n",
       "  <thead>\n",
       "    <tr style=\"text-align: right;\">\n",
       "      <th></th>\n",
       "      <th>id_categoria</th>\n",
       "      <th>nombre</th>\n",
       "    </tr>\n",
       "  </thead>\n",
       "  <tbody>\n",
       "    <tr>\n",
       "      <th>32</th>\n",
       "      <td>67</td>\n",
       "      <td>VACIO</td>\n",
       "    </tr>\n",
       "    <tr>\n",
       "      <th>40</th>\n",
       "      <td>75</td>\n",
       "      <td>vacia</td>\n",
       "    </tr>\n",
       "    <tr>\n",
       "      <th>41</th>\n",
       "      <td>76</td>\n",
       "      <td>VACIO</td>\n",
       "    </tr>\n",
       "    <tr>\n",
       "      <th>45</th>\n",
       "      <td>80</td>\n",
       "      <td>VACIO</td>\n",
       "    </tr>\n",
       "    <tr>\n",
       "      <th>47</th>\n",
       "      <td>83</td>\n",
       "      <td>VACIO</td>\n",
       "    </tr>\n",
       "    <tr>\n",
       "      <th>48</th>\n",
       "      <td>84</td>\n",
       "      <td>VACIO</td>\n",
       "    </tr>\n",
       "  </tbody>\n",
       "</table>\n",
       "</div>"
      ],
      "text/plain": [
       "    id_categoria nombre\n",
       "32            67  VACIO\n",
       "40            75  vacia\n",
       "41            76  VACIO\n",
       "45            80  VACIO\n",
       "47            83  VACIO\n",
       "48            84  VACIO"
      ]
     },
     "execution_count": 68,
     "metadata": {},
     "output_type": "execute_result"
    }
   ],
   "source": [
    "# Mostramos algunos ejemplos de filas que tienen presentaciones vacías desde los índices obtenidos en la celda anterior\n",
    "ejemplos = categorias[categorias.index.isin(indices)]\n",
    "ejemplos"
   ]
  },
  {
   "cell_type": "code",
   "execution_count": 69,
   "metadata": {
    "colab": {
     "base_uri": "https://localhost:8080/"
    },
    "id": "pyWVY2hC3RT4",
    "outputId": "50748efa-ec34-43ce-c836-f769ad14c651",
    "scrolled": false
   },
   "outputs": [
    {
     "name": "stdout",
     "output_type": "stream",
     "text": [
      "Porcentaje de nombres vacios: 0.0682% de un total de 88 categorias distintas\n"
     ]
    }
   ],
   "source": [
    "total_cat=len(categorias)\n",
    "print(\"Porcentaje de nombres vacios: {0:.4f}% de un total de {1:} categorias distintas\".format(len(indices)/total_cat,total_cat))"
   ]
  },
  {
   "cell_type": "code",
   "execution_count": 70,
   "metadata": {
    "colab": {
     "base_uri": "https://localhost:8080/"
    },
    "id": "9twT6bcn3RT4",
    "outputId": "0b5941bc-e1f3-437b-cc77-95824bbf46eb"
   },
   "outputs": [
    {
     "data": {
      "text/html": [
       "<div>\n",
       "<style scoped>\n",
       "    .dataframe tbody tr th:only-of-type {\n",
       "        vertical-align: middle;\n",
       "    }\n",
       "\n",
       "    .dataframe tbody tr th {\n",
       "        vertical-align: top;\n",
       "    }\n",
       "\n",
       "    .dataframe thead th {\n",
       "        text-align: right;\n",
       "    }\n",
       "</style>\n",
       "<table border=\"1\" class=\"dataframe\">\n",
       "  <thead>\n",
       "    <tr style=\"text-align: right;\">\n",
       "      <th></th>\n",
       "      <th>sku</th>\n",
       "      <th>descripcion</th>\n",
       "      <th>marca</th>\n",
       "      <th>id_categoria</th>\n",
       "      <th>presentacion</th>\n",
       "      <th>unidadcm3</th>\n",
       "      <th>unidadkg</th>\n",
       "      <th>id_proveedor</th>\n",
       "    </tr>\n",
       "  </thead>\n",
       "  <tbody>\n",
       "  </tbody>\n",
       "</table>\n",
       "</div>"
      ],
      "text/plain": [
       "Empty DataFrame\n",
       "Columns: [sku, descripcion, marca, id_categoria, presentacion, unidadcm3, unidadkg, id_proveedor]\n",
       "Index: []"
      ]
     },
     "execution_count": 70,
     "metadata": {},
     "output_type": "execute_result"
    }
   ],
   "source": [
    "# Estas categorias vacias no van a ser un problema porque no hay ningun producto pertenecientes a esas categorias:\n",
    "productos[productos.id_categoria.isin(list(ejemplos.id_categoria))]"
   ]
  },
  {
   "cell_type": "markdown",
   "metadata": {
    "id": "4ItHptz03RT4"
   },
   "source": [
    "##### pdv"
   ]
  },
  {
   "cell_type": "code",
   "execution_count": 71,
   "metadata": {
    "colab": {
     "base_uri": "https://localhost:8080/"
    },
    "id": "DbTsSGZi3RT4",
    "outputId": "fe7b8b0c-5817-4b11-928a-43f79f3cd043",
    "scrolled": true
   },
   "outputs": [
    {
     "data": {
      "text/html": [
       "<div>\n",
       "<style scoped>\n",
       "    .dataframe tbody tr th:only-of-type {\n",
       "        vertical-align: middle;\n",
       "    }\n",
       "\n",
       "    .dataframe tbody tr th {\n",
       "        vertical-align: top;\n",
       "    }\n",
       "\n",
       "    .dataframe thead th {\n",
       "        text-align: right;\n",
       "    }\n",
       "</style>\n",
       "<table border=\"1\" class=\"dataframe\">\n",
       "  <thead>\n",
       "    <tr style=\"text-align: right;\">\n",
       "      <th></th>\n",
       "      <th>0</th>\n",
       "    </tr>\n",
       "  </thead>\n",
       "  <tbody>\n",
       "    <tr>\n",
       "      <th>id_punto_venta</th>\n",
       "      <td>0</td>\n",
       "    </tr>\n",
       "    <tr>\n",
       "      <th>nombre</th>\n",
       "      <td>0</td>\n",
       "    </tr>\n",
       "    <tr>\n",
       "      <th>id_Provincia</th>\n",
       "      <td>0</td>\n",
       "    </tr>\n",
       "    <tr>\n",
       "      <th>id_Localidad</th>\n",
       "      <td>0</td>\n",
       "    </tr>\n",
       "    <tr>\n",
       "      <th>id_Pais</th>\n",
       "      <td>0</td>\n",
       "    </tr>\n",
       "  </tbody>\n",
       "</table>\n",
       "</div>"
      ],
      "text/plain": [
       "                0\n",
       "id_punto_venta  0\n",
       "nombre          0\n",
       "id_Provincia    0\n",
       "id_Localidad    0\n",
       "id_Pais         0"
      ]
     },
     "execution_count": 71,
     "metadata": {},
     "output_type": "execute_result"
    }
   ],
   "source": [
    "# Verificamos si tiene valores Nan\n",
    "pdv.isnull().sum().to_frame()"
   ]
  },
  {
   "cell_type": "code",
   "execution_count": 72,
   "metadata": {
    "colab": {
     "base_uri": "https://localhost:8080/"
    },
    "id": "s7u5PaFS-UdB",
    "outputId": "c1fdecc4-4887-4fb9-a1ef-fd376282b201"
   },
   "outputs": [
    {
     "data": {
      "text/html": [
       "<div>\n",
       "<style scoped>\n",
       "    .dataframe tbody tr th:only-of-type {\n",
       "        vertical-align: middle;\n",
       "    }\n",
       "\n",
       "    .dataframe tbody tr th {\n",
       "        vertical-align: top;\n",
       "    }\n",
       "\n",
       "    .dataframe thead th {\n",
       "        text-align: right;\n",
       "    }\n",
       "</style>\n",
       "<table border=\"1\" class=\"dataframe\">\n",
       "  <thead>\n",
       "    <tr style=\"text-align: right;\">\n",
       "      <th></th>\n",
       "      <th>nombre</th>\n",
       "    </tr>\n",
       "  </thead>\n",
       "  <tbody>\n",
       "    <tr>\n",
       "      <th>SANXXX-XX-XX II</th>\n",
       "      <td>22</td>\n",
       "    </tr>\n",
       "    <tr>\n",
       "      <th>SANXXX-XX-XXIII</th>\n",
       "      <td>20</td>\n",
       "    </tr>\n",
       "    <tr>\n",
       "      <th>VILXXX-XX-XX II</th>\n",
       "      <td>15</td>\n",
       "    </tr>\n",
       "    <tr>\n",
       "      <th>VILXXX-XX-XXIII</th>\n",
       "      <td>7</td>\n",
       "    </tr>\n",
       "    <tr>\n",
       "      <th>SALXXX-XX-XXIII</th>\n",
       "      <td>6</td>\n",
       "    </tr>\n",
       "  </tbody>\n",
       "</table>\n",
       "</div>"
      ],
      "text/plain": [
       "                 nombre\n",
       "SANXXX-XX-XX II      22\n",
       "SANXXX-XX-XXIII      20\n",
       "VILXXX-XX-XX II      15\n",
       "VILXXX-XX-XXIII       7\n",
       "SALXXX-XX-XXIII       6"
      ]
     },
     "execution_count": 72,
     "metadata": {},
     "output_type": "execute_result"
    }
   ],
   "source": [
    "pdv.nombre.value_counts().to_frame()[:5]"
   ]
  },
  {
   "cell_type": "code",
   "execution_count": 73,
   "metadata": {
    "colab": {
     "base_uri": "https://localhost:8080/"
    },
    "id": "e2Q7MWYT3RT5",
    "outputId": "4a73f653-8d85-4579-f00a-638b83920ff6"
   },
   "outputs": [
    {
     "data": {
      "text/html": [
       "<div>\n",
       "<style scoped>\n",
       "    .dataframe tbody tr th:only-of-type {\n",
       "        vertical-align: middle;\n",
       "    }\n",
       "\n",
       "    .dataframe tbody tr th {\n",
       "        vertical-align: top;\n",
       "    }\n",
       "\n",
       "    .dataframe thead th {\n",
       "        text-align: right;\n",
       "    }\n",
       "</style>\n",
       "<table border=\"1\" class=\"dataframe\">\n",
       "  <thead>\n",
       "    <tr style=\"text-align: right;\">\n",
       "      <th></th>\n",
       "      <th>id_punto_venta</th>\n",
       "    </tr>\n",
       "  </thead>\n",
       "  <tbody>\n",
       "    <tr>\n",
       "      <th>101278</th>\n",
       "      <td>1</td>\n",
       "    </tr>\n",
       "    <tr>\n",
       "      <th>100238-2</th>\n",
       "      <td>1</td>\n",
       "    </tr>\n",
       "    <tr>\n",
       "      <th>100322</th>\n",
       "      <td>1</td>\n",
       "    </tr>\n",
       "    <tr>\n",
       "      <th>101208</th>\n",
       "      <td>1</td>\n",
       "    </tr>\n",
       "    <tr>\n",
       "      <th>100555</th>\n",
       "      <td>1</td>\n",
       "    </tr>\n",
       "  </tbody>\n",
       "</table>\n",
       "</div>"
      ],
      "text/plain": [
       "          id_punto_venta\n",
       "101278                 1\n",
       "100238-2               1\n",
       "100322                 1\n",
       "101208                 1\n",
       "100555                 1"
      ]
     },
     "execution_count": 73,
     "metadata": {},
     "output_type": "execute_result"
    }
   ],
   "source": [
    "pdv.id_punto_venta.value_counts().to_frame()[:5]"
   ]
  },
  {
   "cell_type": "code",
   "execution_count": 74,
   "metadata": {
    "colab": {
     "base_uri": "https://localhost:8080/"
    },
    "id": "ZrebUuLo3RT5",
    "outputId": "833f1283-1ef0-4c2b-a2ff-6559d02392ad"
   },
   "outputs": [
    {
     "data": {
      "text/html": [
       "<div>\n",
       "<style scoped>\n",
       "    .dataframe tbody tr th:only-of-type {\n",
       "        vertical-align: middle;\n",
       "    }\n",
       "\n",
       "    .dataframe tbody tr th {\n",
       "        vertical-align: top;\n",
       "    }\n",
       "\n",
       "    .dataframe thead th {\n",
       "        text-align: right;\n",
       "    }\n",
       "</style>\n",
       "<table border=\"1\" class=\"dataframe\">\n",
       "  <thead>\n",
       "    <tr style=\"text-align: right;\">\n",
       "      <th></th>\n",
       "      <th>id_Provincia</th>\n",
       "    </tr>\n",
       "  </thead>\n",
       "  <tbody>\n",
       "    <tr>\n",
       "      <th>1</th>\n",
       "      <td>509</td>\n",
       "    </tr>\n",
       "    <tr>\n",
       "      <th>5</th>\n",
       "      <td>372</td>\n",
       "    </tr>\n",
       "    <tr>\n",
       "      <th>20</th>\n",
       "      <td>157</td>\n",
       "    </tr>\n",
       "    <tr>\n",
       "      <th>23</th>\n",
       "      <td>95</td>\n",
       "    </tr>\n",
       "    <tr>\n",
       "      <th>7</th>\n",
       "      <td>76</td>\n",
       "    </tr>\n",
       "  </tbody>\n",
       "</table>\n",
       "</div>"
      ],
      "text/plain": [
       "    id_Provincia\n",
       "1            509\n",
       "5            372\n",
       "20           157\n",
       "23            95\n",
       "7             76"
      ]
     },
     "execution_count": 74,
     "metadata": {},
     "output_type": "execute_result"
    }
   ],
   "source": [
    "pdv.id_Provincia.value_counts().to_frame()[:5]"
   ]
  },
  {
   "cell_type": "code",
   "execution_count": 75,
   "metadata": {
    "colab": {
     "base_uri": "https://localhost:8080/"
    },
    "id": "laB3aX3S3RT5",
    "outputId": "6bf27e38-b87c-4af9-b0a4-bd3619e0fd17"
   },
   "outputs": [
    {
     "data": {
      "text/html": [
       "<div>\n",
       "<style scoped>\n",
       "    .dataframe tbody tr th:only-of-type {\n",
       "        vertical-align: middle;\n",
       "    }\n",
       "\n",
       "    .dataframe tbody tr th {\n",
       "        vertical-align: top;\n",
       "    }\n",
       "\n",
       "    .dataframe thead th {\n",
       "        text-align: right;\n",
       "    }\n",
       "</style>\n",
       "<table border=\"1\" class=\"dataframe\">\n",
       "  <thead>\n",
       "    <tr style=\"text-align: right;\">\n",
       "      <th></th>\n",
       "      <th>id_Localidad</th>\n",
       "    </tr>\n",
       "  </thead>\n",
       "  <tbody>\n",
       "    <tr>\n",
       "      <th>2</th>\n",
       "      <td>174</td>\n",
       "    </tr>\n",
       "    <tr>\n",
       "      <th>3</th>\n",
       "      <td>56</td>\n",
       "    </tr>\n",
       "    <tr>\n",
       "      <th>635</th>\n",
       "      <td>35</td>\n",
       "    </tr>\n",
       "    <tr>\n",
       "      <th>3920</th>\n",
       "      <td>32</td>\n",
       "    </tr>\n",
       "    <tr>\n",
       "      <th>4742</th>\n",
       "      <td>28</td>\n",
       "    </tr>\n",
       "  </tbody>\n",
       "</table>\n",
       "</div>"
      ],
      "text/plain": [
       "      id_Localidad\n",
       "2              174\n",
       "3               56\n",
       "635             35\n",
       "3920            32\n",
       "4742            28"
      ]
     },
     "execution_count": 75,
     "metadata": {},
     "output_type": "execute_result"
    }
   ],
   "source": [
    "pdv.id_Localidad.value_counts().to_frame()[:5]"
   ]
  },
  {
   "cell_type": "code",
   "execution_count": 76,
   "metadata": {
    "colab": {
     "base_uri": "https://localhost:8080/"
    },
    "id": "9oS4Bp__3RT5",
    "outputId": "d8fff721-8ed0-4098-ae67-9f2970f08d65"
   },
   "outputs": [
    {
     "data": {
      "text/html": [
       "<div>\n",
       "<style scoped>\n",
       "    .dataframe tbody tr th:only-of-type {\n",
       "        vertical-align: middle;\n",
       "    }\n",
       "\n",
       "    .dataframe tbody tr th {\n",
       "        vertical-align: top;\n",
       "    }\n",
       "\n",
       "    .dataframe thead th {\n",
       "        text-align: right;\n",
       "    }\n",
       "</style>\n",
       "<table border=\"1\" class=\"dataframe\">\n",
       "  <thead>\n",
       "    <tr style=\"text-align: right;\">\n",
       "      <th></th>\n",
       "      <th>id_Pais</th>\n",
       "    </tr>\n",
       "  </thead>\n",
       "  <tbody>\n",
       "    <tr>\n",
       "      <th>1</th>\n",
       "      <td>1849</td>\n",
       "    </tr>\n",
       "    <tr>\n",
       "      <th>3</th>\n",
       "      <td>1</td>\n",
       "    </tr>\n",
       "  </tbody>\n",
       "</table>\n",
       "</div>"
      ],
      "text/plain": [
       "   id_Pais\n",
       "1     1849\n",
       "3        1"
      ]
     },
     "execution_count": 76,
     "metadata": {},
     "output_type": "execute_result"
    }
   ],
   "source": [
    "pdv.id_Pais.value_counts().to_frame()"
   ]
  },
  {
   "cell_type": "code",
   "execution_count": 77,
   "metadata": {
    "id": "TMvJgJLN3RT5"
   },
   "outputs": [],
   "source": [
    "nombres = list(pdv.nombre.value_counts().to_frame().index)\n",
    "nombres.sort()"
   ]
  },
  {
   "cell_type": "markdown",
   "metadata": {
    "id": "HRp_dsU8-eFJ"
   },
   "source": [
    "No existen datos faltantes"
   ]
  },
  {
   "cell_type": "markdown",
   "metadata": {
    "id": "k88H2whw3RT5"
   },
   "source": [
    "##### ventas"
   ]
  },
  {
   "cell_type": "code",
   "execution_count": 78,
   "metadata": {
    "colab": {
     "base_uri": "https://localhost:8080/"
    },
    "id": "9TkQkzlN3RT5",
    "outputId": "bcc7caf2-98c2-4d5a-99d7-2207111e1249"
   },
   "outputs": [
    {
     "data": {
      "text/html": [
       "<div>\n",
       "<style scoped>\n",
       "    .dataframe tbody tr th:only-of-type {\n",
       "        vertical-align: middle;\n",
       "    }\n",
       "\n",
       "    .dataframe tbody tr th {\n",
       "        vertical-align: top;\n",
       "    }\n",
       "\n",
       "    .dataframe thead th {\n",
       "        text-align: right;\n",
       "    }\n",
       "</style>\n",
       "<table border=\"1\" class=\"dataframe\">\n",
       "  <thead>\n",
       "    <tr style=\"text-align: right;\">\n",
       "      <th></th>\n",
       "      <th>0</th>\n",
       "    </tr>\n",
       "  </thead>\n",
       "  <tbody>\n",
       "    <tr>\n",
       "      <th>dia</th>\n",
       "      <td>0</td>\n",
       "    </tr>\n",
       "    <tr>\n",
       "      <th>mes</th>\n",
       "      <td>0</td>\n",
       "    </tr>\n",
       "    <tr>\n",
       "      <th>anio</th>\n",
       "      <td>0</td>\n",
       "    </tr>\n",
       "    <tr>\n",
       "      <th>hora</th>\n",
       "      <td>0</td>\n",
       "    </tr>\n",
       "    <tr>\n",
       "      <th>sku</th>\n",
       "      <td>0</td>\n",
       "    </tr>\n",
       "    <tr>\n",
       "      <th>cantidad_pedida</th>\n",
       "      <td>0</td>\n",
       "    </tr>\n",
       "    <tr>\n",
       "      <th>id_punto_venta</th>\n",
       "      <td>0</td>\n",
       "    </tr>\n",
       "    <tr>\n",
       "      <th>fecha</th>\n",
       "      <td>0</td>\n",
       "    </tr>\n",
       "  </tbody>\n",
       "</table>\n",
       "</div>"
      ],
      "text/plain": [
       "                 0\n",
       "dia              0\n",
       "mes              0\n",
       "anio             0\n",
       "hora             0\n",
       "sku              0\n",
       "cantidad_pedida  0\n",
       "id_punto_venta   0\n",
       "fecha            0"
      ]
     },
     "execution_count": 78,
     "metadata": {},
     "output_type": "execute_result"
    }
   ],
   "source": [
    "# Verificamos si tiene valores Nan\n",
    "ventas.isnull().sum().to_frame()"
   ]
  },
  {
   "cell_type": "code",
   "execution_count": 79,
   "metadata": {
    "colab": {
     "base_uri": "https://localhost:8080/"
    },
    "id": "e0Bk0L6u3RT6",
    "outputId": "64c8b20d-b05f-4d6c-a004-eda53e3f5fc5",
    "scrolled": true
   },
   "outputs": [
    {
     "data": {
      "text/plain": [
       "16:10:51.0000000    821\n",
       "16:10:24.0000000    794\n",
       "16:08:04.0000000    793\n",
       "16:08:25.0000000    774\n",
       "16:14:47.0000000    762\n",
       "                   ... \n",
       "21:10:55.6200000      1\n",
       "09:12:33.5100000      1\n",
       "18:23:03.1530000      1\n",
       "07:30:56.0000000      1\n",
       "20:09:22.4970000      1\n",
       "Name: hora, Length: 88349, dtype: int64"
      ]
     },
     "execution_count": 79,
     "metadata": {},
     "output_type": "execute_result"
    }
   ],
   "source": [
    "ventas.hora.value_counts()"
   ]
  },
  {
   "cell_type": "code",
   "execution_count": 80,
   "metadata": {
    "colab": {
     "base_uri": "https://localhost:8080/"
    },
    "id": "1ZEgA2Hw3RT6",
    "outputId": "2b90966a-8668-49f0-e738-5e425a79ffc6"
   },
   "outputs": [
    {
     "data": {
      "text/plain": [
       "1689     84943\n",
       "334      81849\n",
       "1693     79430\n",
       "1695     78095\n",
       "1687     77870\n",
       "         ...  \n",
       "384          4\n",
       "9282         2\n",
       "11407        1\n",
       "6080         1\n",
       "10985        1\n",
       "Name: sku, Length: 588, dtype: int64"
      ]
     },
     "execution_count": 80,
     "metadata": {},
     "output_type": "execute_result"
    }
   ],
   "source": [
    "ventas.sku.value_counts()"
   ]
  },
  {
   "cell_type": "code",
   "execution_count": 81,
   "metadata": {
    "colab": {
     "base_uri": "https://localhost:8080/"
    },
    "id": "eg84gX9P3RT6",
    "outputId": "4839c95e-73ba-41c5-8943-cc8c242b93b2"
   },
   "outputs": [
    {
     "data": {
      "text/plain": [
       "1.00      1783757\n",
       "2.00      1346949\n",
       "3.00       671095\n",
       "4.00       441428\n",
       "5.00       393438\n",
       "           ...   \n",
       "329.00          1\n",
       "238.00          1\n",
       "-5.00           1\n",
       "205.00          1\n",
       "290.00          1\n",
       "Name: cantidad_pedida, Length: 265, dtype: int64"
      ]
     },
     "execution_count": 81,
     "metadata": {},
     "output_type": "execute_result"
    }
   ],
   "source": [
    "ventas.cantidad_pedida.value_counts()"
   ]
  },
  {
   "cell_type": "code",
   "execution_count": 82,
   "metadata": {
    "colab": {
     "base_uri": "https://localhost:8080/"
    },
    "id": "SCDnircR3RT6",
    "outputId": "feb08702-8a18-42bc-ee8c-6e6f4d8c594b"
   },
   "outputs": [
    {
     "data": {
      "text/plain": [
       "100147      12282\n",
       "100697      11437\n",
       "100747      11133\n",
       "100914      11063\n",
       "100351      10687\n",
       "            ...  \n",
       "100650-3        2\n",
       "100257-3        1\n",
       "100632-2        1\n",
       "100107-5        1\n",
       "100650-6        1\n",
       "Name: id_punto_venta, Length: 1796, dtype: int64"
      ]
     },
     "execution_count": 82,
     "metadata": {},
     "output_type": "execute_result"
    }
   ],
   "source": [
    "ventas.id_punto_venta.value_counts()"
   ]
  },
  {
   "cell_type": "code",
   "execution_count": 83,
   "metadata": {
    "colab": {
     "base_uri": "https://localhost:8080/"
    },
    "id": "iHjRq9ZO3RT6",
    "outputId": "054cfd3f-97ce-4b04-d19c-303ad3bd9a0e"
   },
   "outputs": [
    {
     "data": {
      "text/plain": [
       "2018-12-16    33469\n",
       "2019-11-17    31492\n",
       "2018-11-11    30797\n",
       "2019-01-27    30236\n",
       "2019-02-10    29902\n",
       "              ...  \n",
       "2018-06-23      271\n",
       "2018-07-14      267\n",
       "2018-06-02      259\n",
       "2019-06-29      254\n",
       "2018-06-16      199\n",
       "Name: fecha, Length: 730, dtype: int64"
      ]
     },
     "execution_count": 83,
     "metadata": {},
     "output_type": "execute_result"
    }
   ],
   "source": [
    "ventas.fecha.value_counts() #365*2=730"
   ]
  },
  {
   "cell_type": "markdown",
   "metadata": {
    "id": "C9bjcnz0_DWE"
   },
   "source": [
    "No hay datos faltantes"
   ]
  },
  {
   "cell_type": "markdown",
   "metadata": {
    "id": "XuFJxXIP3RT6"
   },
   "source": [
    "##### paises"
   ]
  },
  {
   "cell_type": "code",
   "execution_count": 84,
   "metadata": {
    "colab": {
     "base_uri": "https://localhost:8080/"
    },
    "id": "jQaKJirr3RT6",
    "outputId": "9b19c0f9-abb7-45a5-8b40-18d795e6dc29"
   },
   "outputs": [
    {
     "data": {
      "text/html": [
       "<div>\n",
       "<style scoped>\n",
       "    .dataframe tbody tr th:only-of-type {\n",
       "        vertical-align: middle;\n",
       "    }\n",
       "\n",
       "    .dataframe tbody tr th {\n",
       "        vertical-align: top;\n",
       "    }\n",
       "\n",
       "    .dataframe thead th {\n",
       "        text-align: right;\n",
       "    }\n",
       "</style>\n",
       "<table border=\"1\" class=\"dataframe\">\n",
       "  <thead>\n",
       "    <tr style=\"text-align: right;\">\n",
       "      <th></th>\n",
       "      <th>0</th>\n",
       "    </tr>\n",
       "  </thead>\n",
       "  <tbody>\n",
       "    <tr>\n",
       "      <th>id_Pais</th>\n",
       "      <td>0</td>\n",
       "    </tr>\n",
       "    <tr>\n",
       "      <th>nombre</th>\n",
       "      <td>0</td>\n",
       "    </tr>\n",
       "  </tbody>\n",
       "</table>\n",
       "</div>"
      ],
      "text/plain": [
       "         0\n",
       "id_Pais  0\n",
       "nombre   0"
      ]
     },
     "execution_count": 84,
     "metadata": {},
     "output_type": "execute_result"
    }
   ],
   "source": [
    "# Verificamos si tiene valores Nan\n",
    "paises.isnull().sum().to_frame()"
   ]
  },
  {
   "cell_type": "code",
   "execution_count": 85,
   "metadata": {
    "colab": {
     "base_uri": "https://localhost:8080/"
    },
    "id": "v-pZrswT3RT7",
    "outputId": "312b6d20-85b7-409c-e470-782bfab5f8cd",
    "scrolled": true
   },
   "outputs": [
    {
     "data": {
      "text/plain": [
       "1    1\n",
       "2    1\n",
       "3    1\n",
       "5    1\n",
       "7    1\n",
       "Name: id_Pais, dtype: int64"
      ]
     },
     "execution_count": 85,
     "metadata": {},
     "output_type": "execute_result"
    }
   ],
   "source": [
    "paises.id_Pais.value_counts()"
   ]
  },
  {
   "cell_type": "code",
   "execution_count": 86,
   "metadata": {
    "colab": {
     "base_uri": "https://localhost:8080/"
    },
    "id": "WwBFVPVm3RT7",
    "outputId": "6394e526-c7a7-4e1f-db40-871ae181e63b"
   },
   "outputs": [
    {
     "data": {
      "text/plain": [
       "Argentina    1\n",
       "Paraguay     1\n",
       "Uruguay      1\n",
       "Bolivia      1\n",
       "Chile        1\n",
       "Name: nombre, dtype: int64"
      ]
     },
     "execution_count": 86,
     "metadata": {},
     "output_type": "execute_result"
    }
   ],
   "source": [
    "paises.nombre.value_counts()"
   ]
  },
  {
   "cell_type": "markdown",
   "metadata": {
    "id": "FCkdnuPr_QcX"
   },
   "source": [
    "No hay datos faltantes"
   ]
  },
  {
   "cell_type": "markdown",
   "metadata": {
    "id": "znRV308O3RT7"
   },
   "source": [
    "##### provincias"
   ]
  },
  {
   "cell_type": "code",
   "execution_count": 87,
   "metadata": {
    "colab": {
     "base_uri": "https://localhost:8080/"
    },
    "id": "V4csF6LJ3RT7",
    "outputId": "36d8f273-4081-4cba-d5ba-65aa7bbe7c28"
   },
   "outputs": [
    {
     "data": {
      "text/html": [
       "<div>\n",
       "<style scoped>\n",
       "    .dataframe tbody tr th:only-of-type {\n",
       "        vertical-align: middle;\n",
       "    }\n",
       "\n",
       "    .dataframe tbody tr th {\n",
       "        vertical-align: top;\n",
       "    }\n",
       "\n",
       "    .dataframe thead th {\n",
       "        text-align: right;\n",
       "    }\n",
       "</style>\n",
       "<table border=\"1\" class=\"dataframe\">\n",
       "  <thead>\n",
       "    <tr style=\"text-align: right;\">\n",
       "      <th></th>\n",
       "      <th>0</th>\n",
       "    </tr>\n",
       "  </thead>\n",
       "  <tbody>\n",
       "    <tr>\n",
       "      <th>id_Provincia</th>\n",
       "      <td>0</td>\n",
       "    </tr>\n",
       "    <tr>\n",
       "      <th>nombre</th>\n",
       "      <td>0</td>\n",
       "    </tr>\n",
       "  </tbody>\n",
       "</table>\n",
       "</div>"
      ],
      "text/plain": [
       "              0\n",
       "id_Provincia  0\n",
       "nombre        0"
      ]
     },
     "execution_count": 87,
     "metadata": {},
     "output_type": "execute_result"
    }
   ],
   "source": [
    "# Verificamos si tiene valores Nan\n",
    "provincias.isnull().sum().to_frame()"
   ]
  },
  {
   "cell_type": "code",
   "execution_count": 88,
   "metadata": {
    "colab": {
     "base_uri": "https://localhost:8080/"
    },
    "id": "Aw5HSUkk3RT7",
    "outputId": "616187d7-805e-4511-9021-ce49d55f2258"
   },
   "outputs": [
    {
     "data": {
      "text/plain": [
       "79     1\n",
       "64     1\n",
       "63     1\n",
       "61     1\n",
       "59     1\n",
       "      ..\n",
       "26     1\n",
       "25     1\n",
       "24     1\n",
       "23     1\n",
       "124    1\n",
       "Name: id_Provincia, Length: 68, dtype: int64"
      ]
     },
     "execution_count": 88,
     "metadata": {},
     "output_type": "execute_result"
    }
   ],
   "source": [
    "provincias.id_Provincia.value_counts()[10:]"
   ]
  },
  {
   "cell_type": "code",
   "execution_count": 89,
   "metadata": {
    "colab": {
     "base_uri": "https://localhost:8080/"
    },
    "id": "afZc-mC33RT7",
    "outputId": "2e6b1d05-671b-4fc9-b213-e2dd4cc0a6f2"
   },
   "outputs": [
    {
     "data": {
      "text/plain": [
       "Neuquén            1\n",
       "Quillota           1\n",
       "Guairá             1\n",
       "Capital Federal    1\n",
       "Maipo              1\n",
       "                  ..\n",
       "Florida            1\n",
       "Córdoba            1\n",
       "Alto Paraná        1\n",
       "Central            1\n",
       "Santa Fe           1\n",
       "Name: nombre, Length: 64, dtype: int64"
      ]
     },
     "execution_count": 89,
     "metadata": {},
     "output_type": "execute_result"
    }
   ],
   "source": [
    "provincias.nombre.value_counts()[10:]"
   ]
  },
  {
   "cell_type": "code",
   "execution_count": 90,
   "metadata": {
    "colab": {
     "base_uri": "https://localhost:8080/"
    },
    "id": "9zULb1U23RT8",
    "outputId": "51360a5f-ac5c-4fe8-f00b-3ee8854b429f"
   },
   "outputs": [
    {
     "data": {
      "text/plain": [
       "array([15, 17, 48, 64], dtype=int64)"
      ]
     },
     "execution_count": 90,
     "metadata": {},
     "output_type": "execute_result"
    }
   ],
   "source": [
    "#Obtenemos los indices de las filas que tienen registros con ..\n",
    "indices = np.where(provincias.applymap(lambda x: x == 'Misiones' or x == 'Río Negro'))[0]\n",
    "indices"
   ]
  },
  {
   "cell_type": "code",
   "execution_count": 91,
   "metadata": {
    "colab": {
     "base_uri": "https://localhost:8080/"
    },
    "id": "p1M9LTZN3RT8",
    "outputId": "cd230aa0-9647-41e4-ef23-907ba87ef6de"
   },
   "outputs": [
    {
     "data": {
      "text/html": [
       "<div>\n",
       "<style scoped>\n",
       "    .dataframe tbody tr th:only-of-type {\n",
       "        vertical-align: middle;\n",
       "    }\n",
       "\n",
       "    .dataframe tbody tr th {\n",
       "        vertical-align: top;\n",
       "    }\n",
       "\n",
       "    .dataframe thead th {\n",
       "        text-align: right;\n",
       "    }\n",
       "</style>\n",
       "<table border=\"1\" class=\"dataframe\">\n",
       "  <thead>\n",
       "    <tr style=\"text-align: right;\">\n",
       "      <th></th>\n",
       "      <th>id_Provincia</th>\n",
       "      <th>nombre</th>\n",
       "    </tr>\n",
       "  </thead>\n",
       "  <tbody>\n",
       "    <tr>\n",
       "      <th>15</th>\n",
       "      <td>15</td>\n",
       "      <td>Río Negro</td>\n",
       "    </tr>\n",
       "    <tr>\n",
       "      <th>17</th>\n",
       "      <td>13</td>\n",
       "      <td>Misiones</td>\n",
       "    </tr>\n",
       "    <tr>\n",
       "      <th>48</th>\n",
       "      <td>40</td>\n",
       "      <td>Río Negro</td>\n",
       "    </tr>\n",
       "    <tr>\n",
       "      <th>64</th>\n",
       "      <td>74</td>\n",
       "      <td>Misiones</td>\n",
       "    </tr>\n",
       "  </tbody>\n",
       "</table>\n",
       "</div>"
      ],
      "text/plain": [
       "    id_Provincia     nombre\n",
       "15            15  Río Negro\n",
       "17            13   Misiones\n",
       "48            40  Río Negro\n",
       "64            74   Misiones"
      ]
     },
     "execution_count": 91,
     "metadata": {},
     "output_type": "execute_result"
    }
   ],
   "source": [
    "ejemplos = provincias[provincias.index.isin(indices)]\n",
    "ejemplos"
   ]
  },
  {
   "cell_type": "code",
   "execution_count": 92,
   "metadata": {
    "colab": {
     "base_uri": "https://localhost:8080/"
    },
    "id": "eCzICVqM3RT8",
    "outputId": "c31eb8c9-d27a-4ced-a9e6-0ecac828d58c"
   },
   "outputs": [
    {
     "data": {
      "text/plain": [
       "id_Provincia\n",
       "13    39\n",
       "15    32\n",
       "dtype: int64"
      ]
     },
     "execution_count": 92,
     "metadata": {},
     "output_type": "execute_result"
    }
   ],
   "source": [
    "pdv[pdv.id_Provincia.isin(list(ejemplos.id_Provincia))].value_counts('id_Provincia')"
   ]
  },
  {
   "cell_type": "markdown",
   "metadata": {
    "id": "WPkWQykXApFG"
   },
   "source": [
    "No hay datos faltantes pero hay nombres de provincias repetidas. Una suposición es que pertenecen a países distintos. De todas maneras, no será necesario la imputación dado que en el dataset de pdv aparecen con un sólo id_Provincia, probablmente porque hay un sólo país en el dataset.\n"
   ]
  },
  {
   "cell_type": "markdown",
   "metadata": {
    "id": "Eej1j59r3RT8"
   },
   "source": [
    "##### localidades"
   ]
  },
  {
   "cell_type": "code",
   "execution_count": 93,
   "metadata": {
    "colab": {
     "base_uri": "https://localhost:8080/"
    },
    "id": "ha3KSDlL3RT9",
    "outputId": "7b9a3f3e-01b8-41b0-e4c7-f2853e77f549"
   },
   "outputs": [
    {
     "data": {
      "text/html": [
       "<div>\n",
       "<style scoped>\n",
       "    .dataframe tbody tr th:only-of-type {\n",
       "        vertical-align: middle;\n",
       "    }\n",
       "\n",
       "    .dataframe tbody tr th {\n",
       "        vertical-align: top;\n",
       "    }\n",
       "\n",
       "    .dataframe thead th {\n",
       "        text-align: right;\n",
       "    }\n",
       "</style>\n",
       "<table border=\"1\" class=\"dataframe\">\n",
       "  <thead>\n",
       "    <tr style=\"text-align: right;\">\n",
       "      <th></th>\n",
       "      <th>0</th>\n",
       "    </tr>\n",
       "  </thead>\n",
       "  <tbody>\n",
       "    <tr>\n",
       "      <th>id_Localidad</th>\n",
       "      <td>0</td>\n",
       "    </tr>\n",
       "    <tr>\n",
       "      <th>nombre</th>\n",
       "      <td>0</td>\n",
       "    </tr>\n",
       "  </tbody>\n",
       "</table>\n",
       "</div>"
      ],
      "text/plain": [
       "              0\n",
       "id_Localidad  0\n",
       "nombre        0"
      ]
     },
     "execution_count": 93,
     "metadata": {},
     "output_type": "execute_result"
    }
   ],
   "source": [
    "# Verificamos si tiene valores Nan\n",
    "localidades.isnull().sum().to_frame()"
   ]
  },
  {
   "cell_type": "code",
   "execution_count": 94,
   "metadata": {
    "colab": {
     "base_uri": "https://localhost:8080/"
    },
    "id": "jh3mL28a3RT9",
    "outputId": "3d0fba44-7056-48a0-cd44-07d47395d22c",
    "scrolled": true
   },
   "outputs": [
    {
     "data": {
      "text/plain": [
       "2       1\n",
       "6220    1\n",
       "5458    1\n",
       "5460    1\n",
       "5461    1\n",
       "       ..\n",
       "2678    1\n",
       "4727    1\n",
       "633     1\n",
       "634     1\n",
       "6143    1\n",
       "Name: id_Localidad, Length: 897, dtype: int64"
      ]
     },
     "execution_count": 94,
     "metadata": {},
     "output_type": "execute_result"
    }
   ],
   "source": [
    "localidades.id_Localidad.value_counts()"
   ]
  },
  {
   "cell_type": "code",
   "execution_count": 95,
   "metadata": {
    "colab": {
     "base_uri": "https://localhost:8080/"
    },
    "id": "KvJ3twam3RT9",
    "outputId": "e4339c42-8973-49ff-aebf-83eaeb814fb1",
    "scrolled": true
   },
   "outputs": [
    {
     "data": {
      "text/plain": [
       "San Lorenzo                           4\n",
       "La Paz                                3\n",
       "La Florida                            2\n",
       "Rawson                                2\n",
       "Lampa                                 2\n",
       "                                     ..\n",
       "3 De Febrero, Remedios De Escalada    1\n",
       "Toay                                  1\n",
       "Loreto Villa San Martin               1\n",
       "San Fernando, Canal San Fernando      1\n",
       "Avellaneda, Sarandi                   1\n",
       "Name: nombre, Length: 872, dtype: int64"
      ]
     },
     "execution_count": 95,
     "metadata": {},
     "output_type": "execute_result"
    }
   ],
   "source": [
    "localidades.nombre.value_counts()"
   ]
  },
  {
   "cell_type": "markdown",
   "metadata": {
    "id": "dJs5ueUnBJ9z"
   },
   "source": [
    "No hay datos faltantes"
   ]
  },
  {
   "cell_type": "markdown",
   "metadata": {
    "id": "Gk1wWXjN3RT-"
   },
   "source": [
    "#### 2.3. Codificación de Variables Categóricas"
   ]
  },
  {
   "cell_type": "markdown",
   "metadata": {
    "id": "17zO7jHs3RT-"
   },
   "source": [
    "**Responder:** Aplica codificar variables categóricas?"
   ]
  },
  {
   "cell_type": "markdown",
   "metadata": {
    "id": "EFk_4Bf6CDm4"
   },
   "source": [
    "Para las aplicaciones de Aprendizaje Automático las variables categóricas deben codificarse. \n",
    "Dentro de los métodos empleados usualmente para variables categóricas nominales esta One Hot Encoding (ver más desarrollo en informe)."
   ]
  },
  {
   "cell_type": "markdown",
   "metadata": {
    "id": "f7rhgGOb3RT-"
   },
   "source": [
    "#### 2.4. No Cambiar los Nombres de las Variables de la Fuente de Origen"
   ]
  },
  {
   "cell_type": "markdown",
   "metadata": {
    "id": "vlBbE5Dp3RT-"
   },
   "source": [
    "#### 2.5. Verificación de Consistencia de Datos"
   ]
  },
  {
   "cell_type": "markdown",
   "metadata": {
    "id": "0kpsJrEf3RT-"
   },
   "source": [
    "Aplicar las reglas de integridad correspondientes y documentar las decisiones tomadas."
   ]
  },
  {
   "cell_type": "markdown",
   "metadata": {
    "id": "nC-KCIRNDOD0"
   },
   "source": [
    "Este punto se encuentra desarrollando en el inciso 4.1 del presente notebook."
   ]
  },
  {
   "cell_type": "markdown",
   "metadata": {
    "id": "wKzJGcT-3RT_"
   },
   "source": [
    "#### 2.6. Identificar y Documentar Valores Atípicos/Outliers"
   ]
  },
  {
   "cell_type": "markdown",
   "metadata": {
    "id": "gnAmDV723RT_"
   },
   "source": [
    "Calcular estadísticos y eliminar los outliers utilizando el metodo que considere pertinentes (z-score, z-score modificado o IRQ) justificando y documentando la elección realizada. Realizar el análisis sobre la columna cantidad_pedida\n"
   ]
  },
  {
   "cell_type": "code",
   "execution_count": 96,
   "metadata": {
    "colab": {
     "base_uri": "https://localhost:8080/"
    },
    "id": "45JwvGUi3RT_",
    "outputId": "f2ffd571-3624-4eca-a242-4e2d190eb402",
    "scrolled": true
   },
   "outputs": [
    {
     "name": "stdout",
     "output_type": "stream",
     "text": [
      "count   5666365.00\n",
      "mean          4.49\n",
      "std          73.35\n",
      "min         -23.00\n",
      "25%           1.00\n",
      "50%           2.00\n",
      "75%           5.00\n",
      "max       99997.00\n",
      "Name: cantidad_pedida, dtype: float64\n"
     ]
    },
    {
     "data": {
      "image/png": "[encoded data removed]",
      "text/plain": [
       "<Figure size 432x288 with 1 Axes>"
      ]
     },
     "metadata": {
      "needs_background": "light"
     },
     "output_type": "display_data"
    }
   ],
   "source": [
    "#Estadistica descriptiva de cantidad_pedida\n",
    "print(ventas.cantidad_pedida.describe())\n",
    "fig = sns.boxplot(x=ventas.cantidad_pedida)"
   ]
  },
  {
   "cell_type": "code",
   "execution_count": 97,
   "metadata": {
    "colab": {
     "base_uri": "https://localhost:8080/"
    },
    "id": "l1vNPuPv3RT_",
    "outputId": "a53434cc-ccbc-417c-a468-4a699218304b",
    "scrolled": false
   },
   "outputs": [
    {
     "name": "stdout",
     "output_type": "stream",
     "text": [
      "count   5666362.00\n",
      "mean          4.44\n",
      "std           9.29\n",
      "min         -23.00\n",
      "25%           1.00\n",
      "50%           2.00\n",
      "75%           5.00\n",
      "max        1520.00\n",
      "Name: cantidad_pedida, dtype: float64\n",
      "Se eliminaron 3 filas\n"
     ]
    },
    {
     "data": {
      "image/png": "[encoded data removed]",
      "text/plain": [
       "<Figure size 432x288 with 1 Axes>"
      ]
     },
     "metadata": {
      "needs_background": "light"
     },
     "output_type": "display_data"
    }
   ],
   "source": [
    "zoom = ventas[ventas['cantidad_pedida']<50000]\n",
    "print(zoom.cantidad_pedida.describe())\n",
    "print('Se eliminaron', len(ventas) - len(zoom), 'filas')\n",
    "fig = sns.boxplot(x=zoom.cantidad_pedida)"
   ]
  },
  {
   "cell_type": "code",
   "execution_count": 98,
   "metadata": {
    "colab": {
     "base_uri": "https://localhost:8080/"
    },
    "id": "QVwFJxMn3RT_",
    "outputId": "7218be37-92c5-4991-c1c9-38ba3b58048d"
   },
   "outputs": [
    {
     "data": {
      "text/plain": [
       "<seaborn.axisgrid.FacetGrid at 0x25a83aa7250>"
      ]
     },
     "execution_count": 98,
     "metadata": {},
     "output_type": "execute_result"
    },
    {
     "data": {
      "image/png": "[encoded data removed]",
      "text/plain": [
       "<Figure size 360x360 with 1 Axes>"
      ]
     },
     "metadata": {
      "needs_background": "light"
     },
     "output_type": "display_data"
    }
   ],
   "source": [
    "#La distribución es asimétrica aún en escala logarítmica por lo que se requiere utilizar métodos no parámetricos (IQR, Percentiles, etc)\n",
    "sns.displot(x=np.log10(zoom[zoom.cantidad_pedida>0].cantidad_pedida), bins=15)"
   ]
  },
  {
   "cell_type": "code",
   "execution_count": 99,
   "metadata": {
    "id": "xPqjhdS_3RT_"
   },
   "outputs": [],
   "source": [
    "#Detección a través de Z Score\n",
    "def outliers_z_score(df, col, threshold=3):\n",
    "    threshold = threshold\n",
    "    mean_y = np.mean(df[col])\n",
    "    stdev_y = np.std(df[col])\n",
    "    z_scores = [(y - mean_y) / stdev_y for y in df[col]]\n",
    "    return df[df.index.isin(list(np.where(np.abs(z_scores) <= threshold)[0]))]\n",
    "#Detección a través de Modified Z Score\n",
    "def outliers_modified_z_score(df, col, threshold=3.5):\n",
    "    threshold = threshold\n",
    "    median_y = np.median(df[col])\n",
    "    median_absolute_deviation_y = np.median([np.abs(y - median_y) for y in df[col]])\n",
    "    modified_z_scores = [0.6745 * (y - median_y) / median_absolute_deviation_y\n",
    "                        for y in df[col]]\n",
    "    return df[df.index.isin(list(np.where(np.abs(modified_z_scores) <= threshold)[0]))]\n",
    "#Detección a través de IQR\n",
    "def outliers_iqr(df, col, dist=1.5):\n",
    "    quartile_1, quartile_3 = np.percentile(df[col], [25, 75])\n",
    "    iqr = quartile_3 - quartile_1\n",
    "    lower_bound = quartile_1 - (iqr * dist)\n",
    "    upper_bound = quartile_3 + (iqr * dist)\n",
    "    return df[(df[col] <= upper_bound) & (df[col] >= lower_bound)]\n",
    "#Deteccion a través de percentiles\n",
    "def outliers_quantile(df, col, percentil=0.01):\n",
    "    p_max = df[col].quantile(1 - percentil) \n",
    "    p_min = df[col].quantile(percentil)\n",
    "    return df[(df[col] <= p_max) & (df[col] >= p_min)]"
   ]
  },
  {
   "cell_type": "code",
   "execution_count": 100,
   "metadata": {
    "colab": {
     "base_uri": "https://localhost:8080/"
    },
    "id": "nhjsZJ923RUA",
    "outputId": "e3031446-34cc-471a-f88c-a1ce803fe3b5",
    "scrolled": true
   },
   "outputs": [
    {
     "data": {
      "text/html": [
       "<div>\n",
       "<style scoped>\n",
       "    .dataframe tbody tr th:only-of-type {\n",
       "        vertical-align: middle;\n",
       "    }\n",
       "\n",
       "    .dataframe tbody tr th {\n",
       "        vertical-align: top;\n",
       "    }\n",
       "\n",
       "    .dataframe thead th {\n",
       "        text-align: right;\n",
       "    }\n",
       "</style>\n",
       "<table border=\"1\" class=\"dataframe\">\n",
       "  <thead>\n",
       "    <tr style=\"text-align: right;\">\n",
       "      <th></th>\n",
       "      <th>dia</th>\n",
       "      <th>mes</th>\n",
       "      <th>anio</th>\n",
       "      <th>hora</th>\n",
       "      <th>sku</th>\n",
       "      <th>cantidad_pedida</th>\n",
       "      <th>id_punto_venta</th>\n",
       "      <th>fecha</th>\n",
       "    </tr>\n",
       "  </thead>\n",
       "  <tbody>\n",
       "    <tr>\n",
       "      <th>0</th>\n",
       "      <td>4</td>\n",
       "      <td>1</td>\n",
       "      <td>2018</td>\n",
       "      <td>15:05:34.0000000</td>\n",
       "      <td>3071</td>\n",
       "      <td>1.00</td>\n",
       "      <td>100000</td>\n",
       "      <td>2018-01-04</td>\n",
       "    </tr>\n",
       "    <tr>\n",
       "      <th>1</th>\n",
       "      <td>4</td>\n",
       "      <td>1</td>\n",
       "      <td>2018</td>\n",
       "      <td>15:05:34.0000000</td>\n",
       "      <td>1872</td>\n",
       "      <td>4.00</td>\n",
       "      <td>100000</td>\n",
       "      <td>2018-01-04</td>\n",
       "    </tr>\n",
       "    <tr>\n",
       "      <th>2</th>\n",
       "      <td>4</td>\n",
       "      <td>1</td>\n",
       "      <td>2018</td>\n",
       "      <td>15:05:34.0000000</td>\n",
       "      <td>2008</td>\n",
       "      <td>4.00</td>\n",
       "      <td>100000</td>\n",
       "      <td>2018-01-04</td>\n",
       "    </tr>\n",
       "    <tr>\n",
       "      <th>3</th>\n",
       "      <td>4</td>\n",
       "      <td>1</td>\n",
       "      <td>2018</td>\n",
       "      <td>15:05:34.0000000</td>\n",
       "      <td>2009</td>\n",
       "      <td>4.00</td>\n",
       "      <td>100000</td>\n",
       "      <td>2018-01-04</td>\n",
       "    </tr>\n",
       "    <tr>\n",
       "      <th>4</th>\n",
       "      <td>4</td>\n",
       "      <td>1</td>\n",
       "      <td>2018</td>\n",
       "      <td>15:05:34.0000000</td>\n",
       "      <td>1918</td>\n",
       "      <td>4.00</td>\n",
       "      <td>100000</td>\n",
       "      <td>2018-01-04</td>\n",
       "    </tr>\n",
       "    <tr>\n",
       "      <th>...</th>\n",
       "      <td>...</td>\n",
       "      <td>...</td>\n",
       "      <td>...</td>\n",
       "      <td>...</td>\n",
       "      <td>...</td>\n",
       "      <td>...</td>\n",
       "      <td>...</td>\n",
       "      <td>...</td>\n",
       "    </tr>\n",
       "    <tr>\n",
       "      <th>5666360</th>\n",
       "      <td>31</td>\n",
       "      <td>12</td>\n",
       "      <td>2019</td>\n",
       "      <td>15:27:50.2900000</td>\n",
       "      <td>3121</td>\n",
       "      <td>2.00</td>\n",
       "      <td>100653-1</td>\n",
       "      <td>2019-12-31</td>\n",
       "    </tr>\n",
       "    <tr>\n",
       "      <th>5666361</th>\n",
       "      <td>31</td>\n",
       "      <td>12</td>\n",
       "      <td>2019</td>\n",
       "      <td>15:27:50.2900000</td>\n",
       "      <td>3051</td>\n",
       "      <td>6.00</td>\n",
       "      <td>100653-1</td>\n",
       "      <td>2019-12-31</td>\n",
       "    </tr>\n",
       "    <tr>\n",
       "      <th>5666362</th>\n",
       "      <td>31</td>\n",
       "      <td>12</td>\n",
       "      <td>2019</td>\n",
       "      <td>17:56:45.8570000</td>\n",
       "      <td>1244</td>\n",
       "      <td>1.00</td>\n",
       "      <td>100538</td>\n",
       "      <td>2019-12-31</td>\n",
       "    </tr>\n",
       "    <tr>\n",
       "      <th>5666363</th>\n",
       "      <td>31</td>\n",
       "      <td>12</td>\n",
       "      <td>2019</td>\n",
       "      <td>17:56:45.8570000</td>\n",
       "      <td>1966</td>\n",
       "      <td>3.00</td>\n",
       "      <td>100538</td>\n",
       "      <td>2019-12-31</td>\n",
       "    </tr>\n",
       "    <tr>\n",
       "      <th>5666364</th>\n",
       "      <td>31</td>\n",
       "      <td>12</td>\n",
       "      <td>2019</td>\n",
       "      <td>18:14:14.8000000</td>\n",
       "      <td>3121</td>\n",
       "      <td>1.00</td>\n",
       "      <td>100914</td>\n",
       "      <td>2019-12-31</td>\n",
       "    </tr>\n",
       "  </tbody>\n",
       "</table>\n",
       "<p>5665456 rows × 8 columns</p>\n",
       "</div>"
      ],
      "text/plain": [
       "         dia  mes  anio              hora   sku  cantidad_pedida  \\\n",
       "0          4    1  2018  15:05:34.0000000  3071             1.00   \n",
       "1          4    1  2018  15:05:34.0000000  1872             4.00   \n",
       "2          4    1  2018  15:05:34.0000000  2008             4.00   \n",
       "3          4    1  2018  15:05:34.0000000  2009             4.00   \n",
       "4          4    1  2018  15:05:34.0000000  1918             4.00   \n",
       "...      ...  ...   ...               ...   ...              ...   \n",
       "5666360   31   12  2019  15:27:50.2900000  3121             2.00   \n",
       "5666361   31   12  2019  15:27:50.2900000  3051             6.00   \n",
       "5666362   31   12  2019  17:56:45.8570000  1244             1.00   \n",
       "5666363   31   12  2019  17:56:45.8570000  1966             3.00   \n",
       "5666364   31   12  2019  18:14:14.8000000  3121             1.00   \n",
       "\n",
       "        id_punto_venta      fecha  \n",
       "0               100000 2018-01-04  \n",
       "1               100000 2018-01-04  \n",
       "2               100000 2018-01-04  \n",
       "3               100000 2018-01-04  \n",
       "4               100000 2018-01-04  \n",
       "...                ...        ...  \n",
       "5666360       100653-1 2019-12-31  \n",
       "5666361       100653-1 2019-12-31  \n",
       "5666362         100538 2019-12-31  \n",
       "5666363         100538 2019-12-31  \n",
       "5666364         100914 2019-12-31  \n",
       "\n",
       "[5665456 rows x 8 columns]"
      ]
     },
     "execution_count": 100,
     "metadata": {},
     "output_type": "execute_result"
    }
   ],
   "source": [
    "#Detección por Z Score\n",
    "df_zscore = outliers_z_score(ventas, 'cantidad_pedida')\n",
    "df_zscore"
   ]
  },
  {
   "cell_type": "code",
   "execution_count": 101,
   "metadata": {
    "colab": {
     "base_uri": "https://localhost:8080/"
    },
    "id": "jOINv20c3RUA",
    "outputId": "4d14c37e-ff40-425a-a03a-120cca9938af",
    "scrolled": true
   },
   "outputs": [
    {
     "name": "stdout",
     "output_type": "stream",
     "text": [
      "Antes\n",
      "count   5666365.00\n",
      "mean          4.49\n",
      "std          73.35\n",
      "min         -23.00\n",
      "25%           1.00\n",
      "50%           2.00\n",
      "75%           5.00\n",
      "max       99997.00\n",
      "Name: cantidad_pedida, dtype: float64\n",
      "\n",
      "Despues\n",
      "count   5665456.00\n",
      "mean          4.39\n",
      "std           8.31\n",
      "min         -23.00\n",
      "25%           1.00\n",
      "50%           2.00\n",
      "75%           5.00\n",
      "max         224.00\n",
      "Name: cantidad_pedida, dtype: float64\n",
      "\n",
      "Se eliminaron 909 filas\n"
     ]
    },
    {
     "data": {
      "image/png": "[encoded data removed]",
      "text/plain": [
       "<Figure size 432x288 with 1 Axes>"
      ]
     },
     "metadata": {
      "needs_background": "light"
     },
     "output_type": "display_data"
    }
   ],
   "source": [
    "print('Antes')\n",
    "print(ventas.cantidad_pedida.describe())\n",
    "print('\\nDespues')\n",
    "print(df_zscore.cantidad_pedida.describe())\n",
    "print('\\nSe eliminaron', len(ventas) - len(df_zscore), 'filas')\n",
    "fig = sns.boxplot(x=df_zscore.cantidad_pedida)"
   ]
  },
  {
   "cell_type": "code",
   "execution_count": 102,
   "metadata": {
    "colab": {
     "base_uri": "https://localhost:8080/"
    },
    "id": "v7YEX8jk3RUA",
    "outputId": "441ada77-18a0-4af4-be98-f23345167c5e"
   },
   "outputs": [
    {
     "data": {
      "text/plain": [
       "1394"
      ]
     },
     "execution_count": 102,
     "metadata": {},
     "output_type": "execute_result"
    }
   ],
   "source": [
    "#Total de registros a eliminar (sin considerar los valores por debajo del 0)\n",
    "len(df_zscore[df_zscore.cantidad_pedida<=0]) # sacaria en total 1394 + 909 = 2303 filas"
   ]
  },
  {
   "cell_type": "code",
   "execution_count": 103,
   "metadata": {
    "colab": {
     "base_uri": "https://localhost:8080/"
    },
    "id": "nEMGhekO3RUA",
    "outputId": "317b54a9-fecd-4971-e633-2c083d2f9b2b",
    "scrolled": true
   },
   "outputs": [
    {
     "data": {
      "text/html": [
       "<div>\n",
       "<style scoped>\n",
       "    .dataframe tbody tr th:only-of-type {\n",
       "        vertical-align: middle;\n",
       "    }\n",
       "\n",
       "    .dataframe tbody tr th {\n",
       "        vertical-align: top;\n",
       "    }\n",
       "\n",
       "    .dataframe thead th {\n",
       "        text-align: right;\n",
       "    }\n",
       "</style>\n",
       "<table border=\"1\" class=\"dataframe\">\n",
       "  <thead>\n",
       "    <tr style=\"text-align: right;\">\n",
       "      <th></th>\n",
       "      <th>dia</th>\n",
       "      <th>mes</th>\n",
       "      <th>anio</th>\n",
       "      <th>hora</th>\n",
       "      <th>sku</th>\n",
       "      <th>cantidad_pedida</th>\n",
       "      <th>id_punto_venta</th>\n",
       "      <th>fecha</th>\n",
       "    </tr>\n",
       "  </thead>\n",
       "  <tbody>\n",
       "    <tr>\n",
       "      <th>0</th>\n",
       "      <td>4</td>\n",
       "      <td>1</td>\n",
       "      <td>2018</td>\n",
       "      <td>15:05:34.0000000</td>\n",
       "      <td>3071</td>\n",
       "      <td>1.00</td>\n",
       "      <td>100000</td>\n",
       "      <td>2018-01-04</td>\n",
       "    </tr>\n",
       "    <tr>\n",
       "      <th>1</th>\n",
       "      <td>4</td>\n",
       "      <td>1</td>\n",
       "      <td>2018</td>\n",
       "      <td>15:05:34.0000000</td>\n",
       "      <td>1872</td>\n",
       "      <td>4.00</td>\n",
       "      <td>100000</td>\n",
       "      <td>2018-01-04</td>\n",
       "    </tr>\n",
       "    <tr>\n",
       "      <th>2</th>\n",
       "      <td>4</td>\n",
       "      <td>1</td>\n",
       "      <td>2018</td>\n",
       "      <td>15:05:34.0000000</td>\n",
       "      <td>2008</td>\n",
       "      <td>4.00</td>\n",
       "      <td>100000</td>\n",
       "      <td>2018-01-04</td>\n",
       "    </tr>\n",
       "    <tr>\n",
       "      <th>3</th>\n",
       "      <td>4</td>\n",
       "      <td>1</td>\n",
       "      <td>2018</td>\n",
       "      <td>15:05:34.0000000</td>\n",
       "      <td>2009</td>\n",
       "      <td>4.00</td>\n",
       "      <td>100000</td>\n",
       "      <td>2018-01-04</td>\n",
       "    </tr>\n",
       "    <tr>\n",
       "      <th>4</th>\n",
       "      <td>4</td>\n",
       "      <td>1</td>\n",
       "      <td>2018</td>\n",
       "      <td>15:05:34.0000000</td>\n",
       "      <td>1918</td>\n",
       "      <td>4.00</td>\n",
       "      <td>100000</td>\n",
       "      <td>2018-01-04</td>\n",
       "    </tr>\n",
       "    <tr>\n",
       "      <th>...</th>\n",
       "      <td>...</td>\n",
       "      <td>...</td>\n",
       "      <td>...</td>\n",
       "      <td>...</td>\n",
       "      <td>...</td>\n",
       "      <td>...</td>\n",
       "      <td>...</td>\n",
       "      <td>...</td>\n",
       "    </tr>\n",
       "    <tr>\n",
       "      <th>5666360</th>\n",
       "      <td>31</td>\n",
       "      <td>12</td>\n",
       "      <td>2019</td>\n",
       "      <td>15:27:50.2900000</td>\n",
       "      <td>3121</td>\n",
       "      <td>2.00</td>\n",
       "      <td>100653-1</td>\n",
       "      <td>2019-12-31</td>\n",
       "    </tr>\n",
       "    <tr>\n",
       "      <th>5666361</th>\n",
       "      <td>31</td>\n",
       "      <td>12</td>\n",
       "      <td>2019</td>\n",
       "      <td>15:27:50.2900000</td>\n",
       "      <td>3051</td>\n",
       "      <td>6.00</td>\n",
       "      <td>100653-1</td>\n",
       "      <td>2019-12-31</td>\n",
       "    </tr>\n",
       "    <tr>\n",
       "      <th>5666362</th>\n",
       "      <td>31</td>\n",
       "      <td>12</td>\n",
       "      <td>2019</td>\n",
       "      <td>17:56:45.8570000</td>\n",
       "      <td>1244</td>\n",
       "      <td>1.00</td>\n",
       "      <td>100538</td>\n",
       "      <td>2019-12-31</td>\n",
       "    </tr>\n",
       "    <tr>\n",
       "      <th>5666363</th>\n",
       "      <td>31</td>\n",
       "      <td>12</td>\n",
       "      <td>2019</td>\n",
       "      <td>17:56:45.8570000</td>\n",
       "      <td>1966</td>\n",
       "      <td>3.00</td>\n",
       "      <td>100538</td>\n",
       "      <td>2019-12-31</td>\n",
       "    </tr>\n",
       "    <tr>\n",
       "      <th>5666364</th>\n",
       "      <td>31</td>\n",
       "      <td>12</td>\n",
       "      <td>2019</td>\n",
       "      <td>18:14:14.8000000</td>\n",
       "      <td>3121</td>\n",
       "      <td>1.00</td>\n",
       "      <td>100914</td>\n",
       "      <td>2019-12-31</td>\n",
       "    </tr>\n",
       "  </tbody>\n",
       "</table>\n",
       "<p>4924826 rows × 8 columns</p>\n",
       "</div>"
      ],
      "text/plain": [
       "         dia  mes  anio              hora   sku  cantidad_pedida  \\\n",
       "0          4    1  2018  15:05:34.0000000  3071             1.00   \n",
       "1          4    1  2018  15:05:34.0000000  1872             4.00   \n",
       "2          4    1  2018  15:05:34.0000000  2008             4.00   \n",
       "3          4    1  2018  15:05:34.0000000  2009             4.00   \n",
       "4          4    1  2018  15:05:34.0000000  1918             4.00   \n",
       "...      ...  ...   ...               ...   ...              ...   \n",
       "5666360   31   12  2019  15:27:50.2900000  3121             2.00   \n",
       "5666361   31   12  2019  15:27:50.2900000  3051             6.00   \n",
       "5666362   31   12  2019  17:56:45.8570000  1244             1.00   \n",
       "5666363   31   12  2019  17:56:45.8570000  1966             3.00   \n",
       "5666364   31   12  2019  18:14:14.8000000  3121             1.00   \n",
       "\n",
       "        id_punto_venta      fecha  \n",
       "0               100000 2018-01-04  \n",
       "1               100000 2018-01-04  \n",
       "2               100000 2018-01-04  \n",
       "3               100000 2018-01-04  \n",
       "4               100000 2018-01-04  \n",
       "...                ...        ...  \n",
       "5666360       100653-1 2019-12-31  \n",
       "5666361       100653-1 2019-12-31  \n",
       "5666362         100538 2019-12-31  \n",
       "5666363         100538 2019-12-31  \n",
       "5666364         100914 2019-12-31  \n",
       "\n",
       "[4924826 rows x 8 columns]"
      ]
     },
     "execution_count": 103,
     "metadata": {},
     "output_type": "execute_result"
    }
   ],
   "source": [
    "#Detección por Modified Z Score\n",
    "df_zscorem = outliers_modified_z_score(ventas, 'cantidad_pedida')\n",
    "df_zscorem"
   ]
  },
  {
   "cell_type": "code",
   "execution_count": 104,
   "metadata": {
    "colab": {
     "base_uri": "https://localhost:8080/"
    },
    "id": "gHKK9GwW3RUA",
    "outputId": "11788d30-886f-42f9-de90-894437880976",
    "scrolled": true
   },
   "outputs": [
    {
     "name": "stdout",
     "output_type": "stream",
     "text": [
      "count   4924826.00\n",
      "mean          2.44\n",
      "std           1.57\n",
      "min          -1.00\n",
      "25%           1.00\n",
      "50%           2.00\n",
      "75%           3.00\n",
      "max           7.00\n",
      "Name: cantidad_pedida, dtype: float64\n",
      "Se eliminaron 741539 filas\n"
     ]
    },
    {
     "data": {
      "image/png": "[encoded data removed]",
      "text/plain": [
       "<Figure size 432x288 with 1 Axes>"
      ]
     },
     "metadata": {
      "needs_background": "light"
     },
     "output_type": "display_data"
    }
   ],
   "source": [
    "print(df_zscorem.cantidad_pedida.describe())\n",
    "print('Se eliminaron', len(ventas) - len(df_zscorem), 'filas')\n",
    "fig = sns.boxplot(x=df_zscorem.cantidad_pedida)"
   ]
  },
  {
   "cell_type": "markdown",
   "metadata": {
    "id": "ijihL9mjFRRH"
   },
   "source": [
    "Para este caso se considera que se elimina demasiados registros por lo que no se seleccionara."
   ]
  },
  {
   "cell_type": "code",
   "execution_count": 105,
   "metadata": {
    "colab": {
     "base_uri": "https://localhost:8080/"
    },
    "id": "nvZR_zXK3RUB",
    "outputId": "9f7978f4-ce83-49fc-9f8c-d0e8b922cea8",
    "scrolled": true
   },
   "outputs": [
    {
     "data": {
      "text/html": [
       "<div>\n",
       "<style scoped>\n",
       "    .dataframe tbody tr th:only-of-type {\n",
       "        vertical-align: middle;\n",
       "    }\n",
       "\n",
       "    .dataframe tbody tr th {\n",
       "        vertical-align: top;\n",
       "    }\n",
       "\n",
       "    .dataframe thead th {\n",
       "        text-align: right;\n",
       "    }\n",
       "</style>\n",
       "<table border=\"1\" class=\"dataframe\">\n",
       "  <thead>\n",
       "    <tr style=\"text-align: right;\">\n",
       "      <th></th>\n",
       "      <th>dia</th>\n",
       "      <th>mes</th>\n",
       "      <th>anio</th>\n",
       "      <th>hora</th>\n",
       "      <th>sku</th>\n",
       "      <th>cantidad_pedida</th>\n",
       "      <th>id_punto_venta</th>\n",
       "      <th>fecha</th>\n",
       "    </tr>\n",
       "  </thead>\n",
       "  <tbody>\n",
       "    <tr>\n",
       "      <th>0</th>\n",
       "      <td>4</td>\n",
       "      <td>1</td>\n",
       "      <td>2018</td>\n",
       "      <td>15:05:34.0000000</td>\n",
       "      <td>3071</td>\n",
       "      <td>1.00</td>\n",
       "      <td>100000</td>\n",
       "      <td>2018-01-04</td>\n",
       "    </tr>\n",
       "    <tr>\n",
       "      <th>1</th>\n",
       "      <td>4</td>\n",
       "      <td>1</td>\n",
       "      <td>2018</td>\n",
       "      <td>15:05:34.0000000</td>\n",
       "      <td>1872</td>\n",
       "      <td>4.00</td>\n",
       "      <td>100000</td>\n",
       "      <td>2018-01-04</td>\n",
       "    </tr>\n",
       "    <tr>\n",
       "      <th>2</th>\n",
       "      <td>4</td>\n",
       "      <td>1</td>\n",
       "      <td>2018</td>\n",
       "      <td>15:05:34.0000000</td>\n",
       "      <td>2008</td>\n",
       "      <td>4.00</td>\n",
       "      <td>100000</td>\n",
       "      <td>2018-01-04</td>\n",
       "    </tr>\n",
       "    <tr>\n",
       "      <th>3</th>\n",
       "      <td>4</td>\n",
       "      <td>1</td>\n",
       "      <td>2018</td>\n",
       "      <td>15:05:34.0000000</td>\n",
       "      <td>2009</td>\n",
       "      <td>4.00</td>\n",
       "      <td>100000</td>\n",
       "      <td>2018-01-04</td>\n",
       "    </tr>\n",
       "    <tr>\n",
       "      <th>4</th>\n",
       "      <td>4</td>\n",
       "      <td>1</td>\n",
       "      <td>2018</td>\n",
       "      <td>15:05:34.0000000</td>\n",
       "      <td>1918</td>\n",
       "      <td>4.00</td>\n",
       "      <td>100000</td>\n",
       "      <td>2018-01-04</td>\n",
       "    </tr>\n",
       "    <tr>\n",
       "      <th>...</th>\n",
       "      <td>...</td>\n",
       "      <td>...</td>\n",
       "      <td>...</td>\n",
       "      <td>...</td>\n",
       "      <td>...</td>\n",
       "      <td>...</td>\n",
       "      <td>...</td>\n",
       "      <td>...</td>\n",
       "    </tr>\n",
       "    <tr>\n",
       "      <th>5666360</th>\n",
       "      <td>31</td>\n",
       "      <td>12</td>\n",
       "      <td>2019</td>\n",
       "      <td>15:27:50.2900000</td>\n",
       "      <td>3121</td>\n",
       "      <td>2.00</td>\n",
       "      <td>100653-1</td>\n",
       "      <td>2019-12-31</td>\n",
       "    </tr>\n",
       "    <tr>\n",
       "      <th>5666361</th>\n",
       "      <td>31</td>\n",
       "      <td>12</td>\n",
       "      <td>2019</td>\n",
       "      <td>15:27:50.2900000</td>\n",
       "      <td>3051</td>\n",
       "      <td>6.00</td>\n",
       "      <td>100653-1</td>\n",
       "      <td>2019-12-31</td>\n",
       "    </tr>\n",
       "    <tr>\n",
       "      <th>5666362</th>\n",
       "      <td>31</td>\n",
       "      <td>12</td>\n",
       "      <td>2019</td>\n",
       "      <td>17:56:45.8570000</td>\n",
       "      <td>1244</td>\n",
       "      <td>1.00</td>\n",
       "      <td>100538</td>\n",
       "      <td>2019-12-31</td>\n",
       "    </tr>\n",
       "    <tr>\n",
       "      <th>5666363</th>\n",
       "      <td>31</td>\n",
       "      <td>12</td>\n",
       "      <td>2019</td>\n",
       "      <td>17:56:45.8570000</td>\n",
       "      <td>1966</td>\n",
       "      <td>3.00</td>\n",
       "      <td>100538</td>\n",
       "      <td>2019-12-31</td>\n",
       "    </tr>\n",
       "    <tr>\n",
       "      <th>5666364</th>\n",
       "      <td>31</td>\n",
       "      <td>12</td>\n",
       "      <td>2019</td>\n",
       "      <td>18:14:14.8000000</td>\n",
       "      <td>3121</td>\n",
       "      <td>1.00</td>\n",
       "      <td>100914</td>\n",
       "      <td>2019-12-31</td>\n",
       "    </tr>\n",
       "  </tbody>\n",
       "</table>\n",
       "<p>5298760 rows × 8 columns</p>\n",
       "</div>"
      ],
      "text/plain": [
       "         dia  mes  anio              hora   sku  cantidad_pedida  \\\n",
       "0          4    1  2018  15:05:34.0000000  3071             1.00   \n",
       "1          4    1  2018  15:05:34.0000000  1872             4.00   \n",
       "2          4    1  2018  15:05:34.0000000  2008             4.00   \n",
       "3          4    1  2018  15:05:34.0000000  2009             4.00   \n",
       "4          4    1  2018  15:05:34.0000000  1918             4.00   \n",
       "...      ...  ...   ...               ...   ...              ...   \n",
       "5666360   31   12  2019  15:27:50.2900000  3121             2.00   \n",
       "5666361   31   12  2019  15:27:50.2900000  3051             6.00   \n",
       "5666362   31   12  2019  17:56:45.8570000  1244             1.00   \n",
       "5666363   31   12  2019  17:56:45.8570000  1966             3.00   \n",
       "5666364   31   12  2019  18:14:14.8000000  3121             1.00   \n",
       "\n",
       "        id_punto_venta      fecha  \n",
       "0               100000 2018-01-04  \n",
       "1               100000 2018-01-04  \n",
       "2               100000 2018-01-04  \n",
       "3               100000 2018-01-04  \n",
       "4               100000 2018-01-04  \n",
       "...                ...        ...  \n",
       "5666360       100653-1 2019-12-31  \n",
       "5666361       100653-1 2019-12-31  \n",
       "5666362         100538 2019-12-31  \n",
       "5666363         100538 2019-12-31  \n",
       "5666364         100914 2019-12-31  \n",
       "\n",
       "[5298760 rows x 8 columns]"
      ]
     },
     "execution_count": 105,
     "metadata": {},
     "output_type": "execute_result"
    }
   ],
   "source": [
    "#Detección por IQR\n",
    "df_iqr = outliers_iqr(ventas, 'cantidad_pedida')\n",
    "df_iqr"
   ]
  },
  {
   "cell_type": "code",
   "execution_count": 106,
   "metadata": {
    "colab": {
     "base_uri": "https://localhost:8080/"
    },
    "id": "jR8ASN8q3RUB",
    "outputId": "772f934d-320b-4303-890d-9fe363559baa",
    "scrolled": true
   },
   "outputs": [
    {
     "name": "stdout",
     "output_type": "stream",
     "text": [
      "count   5298760.00\n",
      "mean          2.92\n",
      "std           2.33\n",
      "min          -5.00\n",
      "25%           1.00\n",
      "50%           2.00\n",
      "75%           4.00\n",
      "max          11.00\n",
      "Name: cantidad_pedida, dtype: float64\n",
      "Se eliminaron 367605 filas\n"
     ]
    },
    {
     "data": {
      "image/png": "[encoded data removed]",
      "text/plain": [
       "<Figure size 432x288 with 1 Axes>"
      ]
     },
     "metadata": {
      "needs_background": "light"
     },
     "output_type": "display_data"
    }
   ],
   "source": [
    "print(df_iqr.cantidad_pedida.describe())\n",
    "print('Se eliminaron', len(ventas) - len(df_iqr), 'filas')\n",
    "fig = sns.boxplot(x=df_iqr.cantidad_pedida)"
   ]
  },
  {
   "cell_type": "markdown",
   "metadata": {
    "id": "HvpdhZBKFlvu"
   },
   "source": [
    "Para este caso se considera que se elimina demasiados registros por lo que no se seleccionara."
   ]
  },
  {
   "cell_type": "code",
   "execution_count": 107,
   "metadata": {
    "colab": {
     "base_uri": "https://localhost:8080/"
    },
    "id": "coQjS2sF3RUB",
    "outputId": "940c205e-4a7f-460f-c259-daee2c2761cc",
    "scrolled": true
   },
   "outputs": [
    {
     "data": {
      "text/html": [
       "<div>\n",
       "<style scoped>\n",
       "    .dataframe tbody tr th:only-of-type {\n",
       "        vertical-align: middle;\n",
       "    }\n",
       "\n",
       "    .dataframe tbody tr th {\n",
       "        vertical-align: top;\n",
       "    }\n",
       "\n",
       "    .dataframe thead th {\n",
       "        text-align: right;\n",
       "    }\n",
       "</style>\n",
       "<table border=\"1\" class=\"dataframe\">\n",
       "  <thead>\n",
       "    <tr style=\"text-align: right;\">\n",
       "      <th></th>\n",
       "      <th>dia</th>\n",
       "      <th>mes</th>\n",
       "      <th>anio</th>\n",
       "      <th>hora</th>\n",
       "      <th>sku</th>\n",
       "      <th>cantidad_pedida</th>\n",
       "      <th>id_punto_venta</th>\n",
       "      <th>fecha</th>\n",
       "    </tr>\n",
       "  </thead>\n",
       "  <tbody>\n",
       "    <tr>\n",
       "      <th>0</th>\n",
       "      <td>4</td>\n",
       "      <td>1</td>\n",
       "      <td>2018</td>\n",
       "      <td>15:05:34.0000000</td>\n",
       "      <td>3071</td>\n",
       "      <td>1.00</td>\n",
       "      <td>100000</td>\n",
       "      <td>2018-01-04</td>\n",
       "    </tr>\n",
       "    <tr>\n",
       "      <th>1</th>\n",
       "      <td>4</td>\n",
       "      <td>1</td>\n",
       "      <td>2018</td>\n",
       "      <td>15:05:34.0000000</td>\n",
       "      <td>1872</td>\n",
       "      <td>4.00</td>\n",
       "      <td>100000</td>\n",
       "      <td>2018-01-04</td>\n",
       "    </tr>\n",
       "    <tr>\n",
       "      <th>2</th>\n",
       "      <td>4</td>\n",
       "      <td>1</td>\n",
       "      <td>2018</td>\n",
       "      <td>15:05:34.0000000</td>\n",
       "      <td>2008</td>\n",
       "      <td>4.00</td>\n",
       "      <td>100000</td>\n",
       "      <td>2018-01-04</td>\n",
       "    </tr>\n",
       "    <tr>\n",
       "      <th>3</th>\n",
       "      <td>4</td>\n",
       "      <td>1</td>\n",
       "      <td>2018</td>\n",
       "      <td>15:05:34.0000000</td>\n",
       "      <td>2009</td>\n",
       "      <td>4.00</td>\n",
       "      <td>100000</td>\n",
       "      <td>2018-01-04</td>\n",
       "    </tr>\n",
       "    <tr>\n",
       "      <th>4</th>\n",
       "      <td>4</td>\n",
       "      <td>1</td>\n",
       "      <td>2018</td>\n",
       "      <td>15:05:34.0000000</td>\n",
       "      <td>1918</td>\n",
       "      <td>4.00</td>\n",
       "      <td>100000</td>\n",
       "      <td>2018-01-04</td>\n",
       "    </tr>\n",
       "    <tr>\n",
       "      <th>...</th>\n",
       "      <td>...</td>\n",
       "      <td>...</td>\n",
       "      <td>...</td>\n",
       "      <td>...</td>\n",
       "      <td>...</td>\n",
       "      <td>...</td>\n",
       "      <td>...</td>\n",
       "      <td>...</td>\n",
       "    </tr>\n",
       "    <tr>\n",
       "      <th>5666360</th>\n",
       "      <td>31</td>\n",
       "      <td>12</td>\n",
       "      <td>2019</td>\n",
       "      <td>15:27:50.2900000</td>\n",
       "      <td>3121</td>\n",
       "      <td>2.00</td>\n",
       "      <td>100653-1</td>\n",
       "      <td>2019-12-31</td>\n",
       "    </tr>\n",
       "    <tr>\n",
       "      <th>5666361</th>\n",
       "      <td>31</td>\n",
       "      <td>12</td>\n",
       "      <td>2019</td>\n",
       "      <td>15:27:50.2900000</td>\n",
       "      <td>3051</td>\n",
       "      <td>6.00</td>\n",
       "      <td>100653-1</td>\n",
       "      <td>2019-12-31</td>\n",
       "    </tr>\n",
       "    <tr>\n",
       "      <th>5666362</th>\n",
       "      <td>31</td>\n",
       "      <td>12</td>\n",
       "      <td>2019</td>\n",
       "      <td>17:56:45.8570000</td>\n",
       "      <td>1244</td>\n",
       "      <td>1.00</td>\n",
       "      <td>100538</td>\n",
       "      <td>2019-12-31</td>\n",
       "    </tr>\n",
       "    <tr>\n",
       "      <th>5666363</th>\n",
       "      <td>31</td>\n",
       "      <td>12</td>\n",
       "      <td>2019</td>\n",
       "      <td>17:56:45.8570000</td>\n",
       "      <td>1966</td>\n",
       "      <td>3.00</td>\n",
       "      <td>100538</td>\n",
       "      <td>2019-12-31</td>\n",
       "    </tr>\n",
       "    <tr>\n",
       "      <th>5666364</th>\n",
       "      <td>31</td>\n",
       "      <td>12</td>\n",
       "      <td>2019</td>\n",
       "      <td>18:14:14.8000000</td>\n",
       "      <td>3121</td>\n",
       "      <td>1.00</td>\n",
       "      <td>100914</td>\n",
       "      <td>2019-12-31</td>\n",
       "    </tr>\n",
       "  </tbody>\n",
       "</table>\n",
       "<p>5609978 rows × 8 columns</p>\n",
       "</div>"
      ],
      "text/plain": [
       "         dia  mes  anio              hora   sku  cantidad_pedida  \\\n",
       "0          4    1  2018  15:05:34.0000000  3071             1.00   \n",
       "1          4    1  2018  15:05:34.0000000  1872             4.00   \n",
       "2          4    1  2018  15:05:34.0000000  2008             4.00   \n",
       "3          4    1  2018  15:05:34.0000000  2009             4.00   \n",
       "4          4    1  2018  15:05:34.0000000  1918             4.00   \n",
       "...      ...  ...   ...               ...   ...              ...   \n",
       "5666360   31   12  2019  15:27:50.2900000  3121             2.00   \n",
       "5666361   31   12  2019  15:27:50.2900000  3051             6.00   \n",
       "5666362   31   12  2019  17:56:45.8570000  1244             1.00   \n",
       "5666363   31   12  2019  17:56:45.8570000  1966             3.00   \n",
       "5666364   31   12  2019  18:14:14.8000000  3121             1.00   \n",
       "\n",
       "        id_punto_venta      fecha  \n",
       "0               100000 2018-01-04  \n",
       "1               100000 2018-01-04  \n",
       "2               100000 2018-01-04  \n",
       "3               100000 2018-01-04  \n",
       "4               100000 2018-01-04  \n",
       "...                ...        ...  \n",
       "5666360       100653-1 2019-12-31  \n",
       "5666361       100653-1 2019-12-31  \n",
       "5666362         100538 2019-12-31  \n",
       "5666363         100538 2019-12-31  \n",
       "5666364         100914 2019-12-31  \n",
       "\n",
       "[5609978 rows x 8 columns]"
      ]
     },
     "execution_count": 107,
     "metadata": {},
     "output_type": "execute_result"
    }
   ],
   "source": [
    "#Deteccion por percentiles de 0.99 y 0.01\n",
    "df_quantile_01 = outliers_quantile(ventas, 'cantidad_pedida')\n",
    "df_quantile_01"
   ]
  },
  {
   "cell_type": "code",
   "execution_count": 108,
   "metadata": {
    "colab": {
     "base_uri": "https://localhost:8080/"
    },
    "id": "wELAaWsf3RUB",
    "outputId": "de56f948-db6d-40d8-fc38-a8989f18a61a",
    "scrolled": true
   },
   "outputs": [
    {
     "name": "stdout",
     "output_type": "stream",
     "text": [
      "count   5609978.00\n",
      "mean          3.79\n",
      "std           4.45\n",
      "min           1.00\n",
      "25%           1.00\n",
      "50%           2.00\n",
      "75%           4.00\n",
      "max          35.00\n",
      "Name: cantidad_pedida, dtype: float64\n",
      "Se eliminaron 56387 filas\n"
     ]
    },
    {
     "data": {
      "image/png": "[encoded data removed]",
      "text/plain": [
       "<Figure size 432x288 with 1 Axes>"
      ]
     },
     "metadata": {
      "needs_background": "light"
     },
     "output_type": "display_data"
    }
   ],
   "source": [
    "print(df_quantile_01.cantidad_pedida.describe())\n",
    "print('Se eliminaron', len(ventas) - len(df_quantile_01), 'filas')\n",
    "fig = sns.boxplot(x=df_quantile_01.cantidad_pedida)"
   ]
  },
  {
   "cell_type": "markdown",
   "metadata": {
    "id": "Yh2ZxT2aFoaF"
   },
   "source": [
    "Para este caso se considera que se elimina demasiados registros por lo que no se seleccionara."
   ]
  },
  {
   "cell_type": "code",
   "execution_count": 109,
   "metadata": {
    "colab": {
     "base_uri": "https://localhost:8080/"
    },
    "id": "2YlqRdtU3RUC",
    "outputId": "cb8ff766-1d5d-4be3-c022-dc3ab086ec4c"
   },
   "outputs": [
    {
     "data": {
      "text/html": [
       "<div>\n",
       "<style scoped>\n",
       "    .dataframe tbody tr th:only-of-type {\n",
       "        vertical-align: middle;\n",
       "    }\n",
       "\n",
       "    .dataframe tbody tr th {\n",
       "        vertical-align: top;\n",
       "    }\n",
       "\n",
       "    .dataframe thead th {\n",
       "        text-align: right;\n",
       "    }\n",
       "</style>\n",
       "<table border=\"1\" class=\"dataframe\">\n",
       "  <thead>\n",
       "    <tr style=\"text-align: right;\">\n",
       "      <th></th>\n",
       "      <th>dia</th>\n",
       "      <th>mes</th>\n",
       "      <th>anio</th>\n",
       "      <th>hora</th>\n",
       "      <th>sku</th>\n",
       "      <th>cantidad_pedida</th>\n",
       "      <th>id_punto_venta</th>\n",
       "      <th>fecha</th>\n",
       "    </tr>\n",
       "  </thead>\n",
       "  <tbody>\n",
       "    <tr>\n",
       "      <th>0</th>\n",
       "      <td>4</td>\n",
       "      <td>1</td>\n",
       "      <td>2018</td>\n",
       "      <td>15:05:34.0000000</td>\n",
       "      <td>3071</td>\n",
       "      <td>1.00</td>\n",
       "      <td>100000</td>\n",
       "      <td>2018-01-04</td>\n",
       "    </tr>\n",
       "    <tr>\n",
       "      <th>1</th>\n",
       "      <td>4</td>\n",
       "      <td>1</td>\n",
       "      <td>2018</td>\n",
       "      <td>15:05:34.0000000</td>\n",
       "      <td>1872</td>\n",
       "      <td>4.00</td>\n",
       "      <td>100000</td>\n",
       "      <td>2018-01-04</td>\n",
       "    </tr>\n",
       "    <tr>\n",
       "      <th>2</th>\n",
       "      <td>4</td>\n",
       "      <td>1</td>\n",
       "      <td>2018</td>\n",
       "      <td>15:05:34.0000000</td>\n",
       "      <td>2008</td>\n",
       "      <td>4.00</td>\n",
       "      <td>100000</td>\n",
       "      <td>2018-01-04</td>\n",
       "    </tr>\n",
       "    <tr>\n",
       "      <th>3</th>\n",
       "      <td>4</td>\n",
       "      <td>1</td>\n",
       "      <td>2018</td>\n",
       "      <td>15:05:34.0000000</td>\n",
       "      <td>2009</td>\n",
       "      <td>4.00</td>\n",
       "      <td>100000</td>\n",
       "      <td>2018-01-04</td>\n",
       "    </tr>\n",
       "    <tr>\n",
       "      <th>4</th>\n",
       "      <td>4</td>\n",
       "      <td>1</td>\n",
       "      <td>2018</td>\n",
       "      <td>15:05:34.0000000</td>\n",
       "      <td>1918</td>\n",
       "      <td>4.00</td>\n",
       "      <td>100000</td>\n",
       "      <td>2018-01-04</td>\n",
       "    </tr>\n",
       "    <tr>\n",
       "      <th>...</th>\n",
       "      <td>...</td>\n",
       "      <td>...</td>\n",
       "      <td>...</td>\n",
       "      <td>...</td>\n",
       "      <td>...</td>\n",
       "      <td>...</td>\n",
       "      <td>...</td>\n",
       "      <td>...</td>\n",
       "    </tr>\n",
       "    <tr>\n",
       "      <th>5666360</th>\n",
       "      <td>31</td>\n",
       "      <td>12</td>\n",
       "      <td>2019</td>\n",
       "      <td>15:27:50.2900000</td>\n",
       "      <td>3121</td>\n",
       "      <td>2.00</td>\n",
       "      <td>100653-1</td>\n",
       "      <td>2019-12-31</td>\n",
       "    </tr>\n",
       "    <tr>\n",
       "      <th>5666361</th>\n",
       "      <td>31</td>\n",
       "      <td>12</td>\n",
       "      <td>2019</td>\n",
       "      <td>15:27:50.2900000</td>\n",
       "      <td>3051</td>\n",
       "      <td>6.00</td>\n",
       "      <td>100653-1</td>\n",
       "      <td>2019-12-31</td>\n",
       "    </tr>\n",
       "    <tr>\n",
       "      <th>5666362</th>\n",
       "      <td>31</td>\n",
       "      <td>12</td>\n",
       "      <td>2019</td>\n",
       "      <td>17:56:45.8570000</td>\n",
       "      <td>1244</td>\n",
       "      <td>1.00</td>\n",
       "      <td>100538</td>\n",
       "      <td>2019-12-31</td>\n",
       "    </tr>\n",
       "    <tr>\n",
       "      <th>5666363</th>\n",
       "      <td>31</td>\n",
       "      <td>12</td>\n",
       "      <td>2019</td>\n",
       "      <td>17:56:45.8570000</td>\n",
       "      <td>1966</td>\n",
       "      <td>3.00</td>\n",
       "      <td>100538</td>\n",
       "      <td>2019-12-31</td>\n",
       "    </tr>\n",
       "    <tr>\n",
       "      <th>5666364</th>\n",
       "      <td>31</td>\n",
       "      <td>12</td>\n",
       "      <td>2019</td>\n",
       "      <td>18:14:14.8000000</td>\n",
       "      <td>3121</td>\n",
       "      <td>1.00</td>\n",
       "      <td>100914</td>\n",
       "      <td>2019-12-31</td>\n",
       "    </tr>\n",
       "  </tbody>\n",
       "</table>\n",
       "<p>5638505 rows × 8 columns</p>\n",
       "</div>"
      ],
      "text/plain": [
       "         dia  mes  anio              hora   sku  cantidad_pedida  \\\n",
       "0          4    1  2018  15:05:34.0000000  3071             1.00   \n",
       "1          4    1  2018  15:05:34.0000000  1872             4.00   \n",
       "2          4    1  2018  15:05:34.0000000  2008             4.00   \n",
       "3          4    1  2018  15:05:34.0000000  2009             4.00   \n",
       "4          4    1  2018  15:05:34.0000000  1918             4.00   \n",
       "...      ...  ...   ...               ...   ...              ...   \n",
       "5666360   31   12  2019  15:27:50.2900000  3121             2.00   \n",
       "5666361   31   12  2019  15:27:50.2900000  3051             6.00   \n",
       "5666362   31   12  2019  17:56:45.8570000  1244             1.00   \n",
       "5666363   31   12  2019  17:56:45.8570000  1966             3.00   \n",
       "5666364   31   12  2019  18:14:14.8000000  3121             1.00   \n",
       "\n",
       "        id_punto_venta      fecha  \n",
       "0               100000 2018-01-04  \n",
       "1               100000 2018-01-04  \n",
       "2               100000 2018-01-04  \n",
       "3               100000 2018-01-04  \n",
       "4               100000 2018-01-04  \n",
       "...                ...        ...  \n",
       "5666360       100653-1 2019-12-31  \n",
       "5666361       100653-1 2019-12-31  \n",
       "5666362         100538 2019-12-31  \n",
       "5666363         100538 2019-12-31  \n",
       "5666364         100914 2019-12-31  \n",
       "\n",
       "[5638505 rows x 8 columns]"
      ]
     },
     "execution_count": 109,
     "metadata": {},
     "output_type": "execute_result"
    }
   ],
   "source": [
    "#Deteccion por percentiles de 0.995 y 0.005\n",
    "df_quantile_005 = outliers_quantile(ventas, 'cantidad_pedida', percentil=0.005)\n",
    "df_quantile_005"
   ]
  },
  {
   "cell_type": "code",
   "execution_count": 110,
   "metadata": {
    "colab": {
     "base_uri": "https://localhost:8080/"
    },
    "id": "fWnBxadz3RUC",
    "outputId": "5fd781a9-6cc1-4892-c368-4ac70913433d",
    "scrolled": false
   },
   "outputs": [
    {
     "name": "stdout",
     "output_type": "stream",
     "text": [
      "count   5638505.00\n",
      "mean          3.99\n",
      "std           5.26\n",
      "min           1.00\n",
      "25%           1.00\n",
      "50%           2.00\n",
      "75%           4.00\n",
      "max          50.00\n",
      "Name: cantidad_pedida, dtype: float64\n",
      "Se eliminaron 27860 filas\n"
     ]
    },
    {
     "data": {
      "image/png": "[encoded data removed]",
      "text/plain": [
       "<Figure size 432x288 with 1 Axes>"
      ]
     },
     "metadata": {
      "needs_background": "light"
     },
     "output_type": "display_data"
    }
   ],
   "source": [
    "print(df_quantile_005.cantidad_pedida.describe())\n",
    "print('Se eliminaron', len(ventas) - len(df_quantile_005), 'filas')\n",
    "fig = sns.boxplot(x=df_quantile_005.cantidad_pedida)"
   ]
  },
  {
   "cell_type": "code",
   "execution_count": 111,
   "metadata": {
    "id": "6XPx_Gky3RUC"
   },
   "outputs": [],
   "source": [
    "#Se crea una nueva variable con el método de filtrado de outliers seleccionado\n",
    "ventas_filtrado = df_quantile_005"
   ]
  },
  {
   "cell_type": "code",
   "execution_count": 112,
   "metadata": {
    "colab": {
     "base_uri": "https://localhost:8080/"
    },
    "id": "TijDTkWf3RUC",
    "outputId": "9432a938-5ea7-456c-95dd-26873bdd4d9e",
    "scrolled": true
   },
   "outputs": [
    {
     "data": {
      "image/png": "[encoded data removed]",
      "text/plain": [
       "<Figure size 720x432 with 3 Axes>"
      ]
     },
     "metadata": {
      "needs_background": "light"
     },
     "output_type": "display_data"
    }
   ],
   "source": [
    "fig, (ax1, ax2, ax3) = plt.subplots(nrows=3, figsize = (10,6))\n",
    "sns.boxplot(x=ventas.cantidad_pedida, ax=ax1)\n",
    "ax1.set_title('Boxplot de cantidad_pedida sin filtrar')\n",
    "sns.boxplot(x=zoom.cantidad_pedida, ax=ax2)\n",
    "ax2.set_title('Boxplot de cantidad_pedida sacando 3 outliers para visualizar mejor')\n",
    "sns.boxplot(x=df_quantile_005.cantidad_pedida, ax=ax3)\n",
    "ax3.set_title('Boxplot de cantidad_pedida filtrando con ' + outliers_quantile.__name__ + ', percentil 0.995')\n",
    "fig.tight_layout(pad=3.0)"
   ]
  },
  {
   "cell_type": "markdown",
   "metadata": {
    "id": "puJOkwzS3RUC"
   },
   "source": [
    "#### 2.8. Guardar el Set de Datos con un Nombre Informativo"
   ]
  },
  {
   "cell_type": "markdown",
   "metadata": {
    "id": "kvkreVDT3RUD"
   },
   "source": [
    "Combinar las fuentes de datos curadas en un unico archivo. Para ello, antes deberá hacer merge de todos los dataframe para lograr un único dataset final resultante. Se recomienda guardar el dataset resultante en formato comprimido. "
   ]
  },
  {
   "cell_type": "code",
   "execution_count": 113,
   "metadata": {
    "id": "EXve6ZN23RUD"
   },
   "outputs": [],
   "source": [
    "#Merge 1: Unimos productos y categorias\n",
    "productos_categoria = pd.merge(productos,categorias,on='id_categoria').rename(columns={'nombre':'categoria'})"
   ]
  },
  {
   "cell_type": "code",
   "execution_count": 114,
   "metadata": {
    "id": "9sKxw5NI3RUD"
   },
   "outputs": [],
   "source": [
    "#Merge 2: Unimos ventas con producto_categoria con left join\n",
    "ventas_producto = pd.merge(ventas_filtrado,productos_categoria,left_on='sku',right_on='sku',how='left')\n",
    "# es left join asi que no voy a perder ninguna venta"
   ]
  },
  {
   "cell_type": "code",
   "execution_count": 115,
   "metadata": {
    "id": "kJ8w2ce-3RUF"
   },
   "outputs": [],
   "source": [
    "#Merge 3: Unimos pdv_ubicacion con localidades \n",
    "pdv_ubicacion = pdv.merge(localidades,on='id_Localidad').rename(columns={'nombre_x':'Punto_Venta','nombre_y':'Localidad'})"
   ]
  },
  {
   "cell_type": "code",
   "execution_count": 116,
   "metadata": {
    "id": "MFZ8NiV43RUF"
   },
   "outputs": [],
   "source": [
    "#Merge 4: Unimos pdv_ubicacion con provincias\n",
    "pdv_ubicacion = pdv_ubicacion.merge(provincias,on='id_Provincia').rename(columns={'nombre':'Provincia'})"
   ]
  },
  {
   "cell_type": "code",
   "execution_count": 117,
   "metadata": {
    "id": "gmnSTAKg3RUF"
   },
   "outputs": [],
   "source": [
    "#Merge 5: Unimos pdv_ubicacion con paises\n",
    "pdv_ubicacion = pdv_ubicacion.merge(paises,on='id_Pais').rename(columns={'nombre':'Pais'})"
   ]
  },
  {
   "cell_type": "code",
   "execution_count": 118,
   "metadata": {
    "id": "GWyKRC-M3RUF"
   },
   "outputs": [],
   "source": [
    "#Merge 6: Unimos ventas_producto con pdv_ubicacion con left join\n",
    "ventas_producto_pdv = pd.merge(ventas_producto,pdv_ubicacion,left_on='id_punto_venta',right_on='id_punto_venta',how='left')"
   ]
  },
  {
   "cell_type": "code",
   "execution_count": 119,
   "metadata": {
    "colab": {
     "base_uri": "https://localhost:8080/"
    },
    "id": "1cllotiw3RUF",
    "outputId": "7a94033f-5601-4f2c-97b9-9eea9ff66114"
   },
   "outputs": [
    {
     "data": {
      "text/html": [
       "<div>\n",
       "<style scoped>\n",
       "    .dataframe tbody tr th:only-of-type {\n",
       "        vertical-align: middle;\n",
       "    }\n",
       "\n",
       "    .dataframe tbody tr th {\n",
       "        vertical-align: top;\n",
       "    }\n",
       "\n",
       "    .dataframe thead th {\n",
       "        text-align: right;\n",
       "    }\n",
       "</style>\n",
       "<table border=\"1\" class=\"dataframe\">\n",
       "  <thead>\n",
       "    <tr style=\"text-align: right;\">\n",
       "      <th></th>\n",
       "      <th>index</th>\n",
       "      <th>0</th>\n",
       "    </tr>\n",
       "  </thead>\n",
       "  <tbody>\n",
       "    <tr>\n",
       "      <th>0</th>\n",
       "      <td>Pais</td>\n",
       "      <td>664763</td>\n",
       "    </tr>\n",
       "    <tr>\n",
       "      <th>1</th>\n",
       "      <td>Provincia</td>\n",
       "      <td>664763</td>\n",
       "    </tr>\n",
       "    <tr>\n",
       "      <th>2</th>\n",
       "      <td>Localidad</td>\n",
       "      <td>664763</td>\n",
       "    </tr>\n",
       "    <tr>\n",
       "      <th>3</th>\n",
       "      <td>id_Pais</td>\n",
       "      <td>664763</td>\n",
       "    </tr>\n",
       "    <tr>\n",
       "      <th>4</th>\n",
       "      <td>id_Localidad</td>\n",
       "      <td>664763</td>\n",
       "    </tr>\n",
       "    <tr>\n",
       "      <th>5</th>\n",
       "      <td>id_Provincia</td>\n",
       "      <td>664763</td>\n",
       "    </tr>\n",
       "    <tr>\n",
       "      <th>6</th>\n",
       "      <td>Punto_Venta</td>\n",
       "      <td>664763</td>\n",
       "    </tr>\n",
       "    <tr>\n",
       "      <th>7</th>\n",
       "      <td>unidadcm3</td>\n",
       "      <td>2</td>\n",
       "    </tr>\n",
       "    <tr>\n",
       "      <th>8</th>\n",
       "      <td>categoria</td>\n",
       "      <td>2</td>\n",
       "    </tr>\n",
       "    <tr>\n",
       "      <th>9</th>\n",
       "      <td>id_proveedor</td>\n",
       "      <td>2</td>\n",
       "    </tr>\n",
       "    <tr>\n",
       "      <th>10</th>\n",
       "      <td>unidadkg</td>\n",
       "      <td>2</td>\n",
       "    </tr>\n",
       "    <tr>\n",
       "      <th>11</th>\n",
       "      <td>presentacion</td>\n",
       "      <td>2</td>\n",
       "    </tr>\n",
       "    <tr>\n",
       "      <th>12</th>\n",
       "      <td>id_categoria</td>\n",
       "      <td>2</td>\n",
       "    </tr>\n",
       "    <tr>\n",
       "      <th>13</th>\n",
       "      <td>marca</td>\n",
       "      <td>2</td>\n",
       "    </tr>\n",
       "    <tr>\n",
       "      <th>14</th>\n",
       "      <td>descripcion</td>\n",
       "      <td>2</td>\n",
       "    </tr>\n",
       "    <tr>\n",
       "      <th>15</th>\n",
       "      <td>mes</td>\n",
       "      <td>0</td>\n",
       "    </tr>\n",
       "    <tr>\n",
       "      <th>16</th>\n",
       "      <td>fecha</td>\n",
       "      <td>0</td>\n",
       "    </tr>\n",
       "    <tr>\n",
       "      <th>17</th>\n",
       "      <td>id_punto_venta</td>\n",
       "      <td>0</td>\n",
       "    </tr>\n",
       "    <tr>\n",
       "      <th>18</th>\n",
       "      <td>cantidad_pedida</td>\n",
       "      <td>0</td>\n",
       "    </tr>\n",
       "    <tr>\n",
       "      <th>19</th>\n",
       "      <td>sku</td>\n",
       "      <td>0</td>\n",
       "    </tr>\n",
       "    <tr>\n",
       "      <th>20</th>\n",
       "      <td>hora</td>\n",
       "      <td>0</td>\n",
       "    </tr>\n",
       "    <tr>\n",
       "      <th>21</th>\n",
       "      <td>anio</td>\n",
       "      <td>0</td>\n",
       "    </tr>\n",
       "    <tr>\n",
       "      <th>22</th>\n",
       "      <td>dia</td>\n",
       "      <td>0</td>\n",
       "    </tr>\n",
       "  </tbody>\n",
       "</table>\n",
       "</div>"
      ],
      "text/plain": [
       "              index       0\n",
       "0              Pais  664763\n",
       "1         Provincia  664763\n",
       "2         Localidad  664763\n",
       "3           id_Pais  664763\n",
       "4      id_Localidad  664763\n",
       "5      id_Provincia  664763\n",
       "6       Punto_Venta  664763\n",
       "7         unidadcm3       2\n",
       "8         categoria       2\n",
       "9      id_proveedor       2\n",
       "10         unidadkg       2\n",
       "11     presentacion       2\n",
       "12     id_categoria       2\n",
       "13            marca       2\n",
       "14      descripcion       2\n",
       "15              mes       0\n",
       "16            fecha       0\n",
       "17   id_punto_venta       0\n",
       "18  cantidad_pedida       0\n",
       "19              sku       0\n",
       "20             hora       0\n",
       "21             anio       0\n",
       "22              dia       0"
      ]
     },
     "execution_count": 119,
     "metadata": {},
     "output_type": "execute_result"
    }
   ],
   "source": [
    "# Verificamos que features tienen valores nulos\n",
    "ventas_producto_pdv.isnull().sum().to_frame().sort_values(0, ascending = False).reset_index()"
   ]
  },
  {
   "cell_type": "code",
   "execution_count": 120,
   "metadata": {
    "colab": {
     "base_uri": "https://localhost:8080/"
    },
    "id": "maqVwjKK3RUG",
    "outputId": "4fae38c4-4ab2-41b1-8856-68343bbd2512"
   },
   "outputs": [
    {
     "data": {
      "text/plain": [
       "(5638505, 23)"
      ]
     },
     "execution_count": 120,
     "metadata": {},
     "output_type": "execute_result"
    }
   ],
   "source": [
    "# Verificamos las dimensiones del dataframe\n",
    "ventas_producto_pdv.shape"
   ]
  },
  {
   "cell_type": "code",
   "execution_count": 121,
   "metadata": {
    "colab": {
     "base_uri": "https://localhost:8080/"
    },
    "id": "I5Ue6MWW3RUG",
    "outputId": "ed3c773f-a028-4c75-8977-b4f76e90708a"
   },
   "outputs": [
    {
     "data": {
      "text/html": [
       "<div>\n",
       "<style scoped>\n",
       "    .dataframe tbody tr th:only-of-type {\n",
       "        vertical-align: middle;\n",
       "    }\n",
       "\n",
       "    .dataframe tbody tr th {\n",
       "        vertical-align: top;\n",
       "    }\n",
       "\n",
       "    .dataframe thead th {\n",
       "        text-align: right;\n",
       "    }\n",
       "</style>\n",
       "<table border=\"1\" class=\"dataframe\">\n",
       "  <thead>\n",
       "    <tr style=\"text-align: right;\">\n",
       "      <th></th>\n",
       "      <th>0</th>\n",
       "    </tr>\n",
       "  </thead>\n",
       "  <tbody>\n",
       "    <tr>\n",
       "      <th>dia</th>\n",
       "      <td>int64</td>\n",
       "    </tr>\n",
       "    <tr>\n",
       "      <th>mes</th>\n",
       "      <td>int64</td>\n",
       "    </tr>\n",
       "    <tr>\n",
       "      <th>anio</th>\n",
       "      <td>int64</td>\n",
       "    </tr>\n",
       "    <tr>\n",
       "      <th>hora</th>\n",
       "      <td>object</td>\n",
       "    </tr>\n",
       "    <tr>\n",
       "      <th>sku</th>\n",
       "      <td>int64</td>\n",
       "    </tr>\n",
       "    <tr>\n",
       "      <th>cantidad_pedida</th>\n",
       "      <td>float64</td>\n",
       "    </tr>\n",
       "    <tr>\n",
       "      <th>id_punto_venta</th>\n",
       "      <td>object</td>\n",
       "    </tr>\n",
       "    <tr>\n",
       "      <th>fecha</th>\n",
       "      <td>datetime64[ns]</td>\n",
       "    </tr>\n",
       "    <tr>\n",
       "      <th>descripcion</th>\n",
       "      <td>object</td>\n",
       "    </tr>\n",
       "    <tr>\n",
       "      <th>marca</th>\n",
       "      <td>object</td>\n",
       "    </tr>\n",
       "    <tr>\n",
       "      <th>id_categoria</th>\n",
       "      <td>float64</td>\n",
       "    </tr>\n",
       "    <tr>\n",
       "      <th>presentacion</th>\n",
       "      <td>object</td>\n",
       "    </tr>\n",
       "    <tr>\n",
       "      <th>unidadcm3</th>\n",
       "      <td>float64</td>\n",
       "    </tr>\n",
       "    <tr>\n",
       "      <th>unidadkg</th>\n",
       "      <td>object</td>\n",
       "    </tr>\n",
       "    <tr>\n",
       "      <th>id_proveedor</th>\n",
       "      <td>float64</td>\n",
       "    </tr>\n",
       "    <tr>\n",
       "      <th>categoria</th>\n",
       "      <td>object</td>\n",
       "    </tr>\n",
       "    <tr>\n",
       "      <th>Punto_Venta</th>\n",
       "      <td>object</td>\n",
       "    </tr>\n",
       "    <tr>\n",
       "      <th>id_Provincia</th>\n",
       "      <td>float64</td>\n",
       "    </tr>\n",
       "    <tr>\n",
       "      <th>id_Localidad</th>\n",
       "      <td>float64</td>\n",
       "    </tr>\n",
       "    <tr>\n",
       "      <th>id_Pais</th>\n",
       "      <td>float64</td>\n",
       "    </tr>\n",
       "    <tr>\n",
       "      <th>Localidad</th>\n",
       "      <td>object</td>\n",
       "    </tr>\n",
       "    <tr>\n",
       "      <th>Provincia</th>\n",
       "      <td>object</td>\n",
       "    </tr>\n",
       "    <tr>\n",
       "      <th>Pais</th>\n",
       "      <td>object</td>\n",
       "    </tr>\n",
       "  </tbody>\n",
       "</table>\n",
       "</div>"
      ],
      "text/plain": [
       "                              0\n",
       "dia                       int64\n",
       "mes                       int64\n",
       "anio                      int64\n",
       "hora                     object\n",
       "sku                       int64\n",
       "cantidad_pedida         float64\n",
       "id_punto_venta           object\n",
       "fecha            datetime64[ns]\n",
       "descripcion              object\n",
       "marca                    object\n",
       "id_categoria            float64\n",
       "presentacion             object\n",
       "unidadcm3               float64\n",
       "unidadkg                 object\n",
       "id_proveedor            float64\n",
       "categoria                object\n",
       "Punto_Venta              object\n",
       "id_Provincia            float64\n",
       "id_Localidad            float64\n",
       "id_Pais                 float64\n",
       "Localidad                object\n",
       "Provincia                object\n",
       "Pais                     object"
      ]
     },
     "execution_count": 121,
     "metadata": {},
     "output_type": "execute_result"
    }
   ],
   "source": [
    "# Verificamos los tipos de datos del dataframe resultante\n",
    "ventas_producto_pdv.dtypes.to_frame()"
   ]
  },
  {
   "cell_type": "markdown",
   "metadata": {
    "id": "OKKsRqJV3RUC"
   },
   "source": [
    "#### 2.7. Evaluar Cómo Comprimir los Datos Para su Almacenamiento Más Eficiente"
   ]
  },
  {
   "cell_type": "code",
   "execution_count": 122,
   "metadata": {
    "colab": {
     "base_uri": "https://localhost:8080/",
     "height": 370
    },
    "id": "US_KgRqINa4J",
    "outputId": "460b7767-d7b6-48b7-ec4d-ee62e7a7ede0"
   },
   "outputs": [],
   "source": [
    "#Utilizamos la libreria pickle\n",
    "import pickle as pkl \n",
    "#ventas_producto_pdv.to_pickle('/content/gdrive/MyDrive/Colab Notebooks/Mentoria/Entregable 2/dataset/ventas_producto_pdv')\n",
    "ventas_producto_pdv.to_pickle('dataset/ventas_producto_pdv')"
   ]
  },
  {
   "cell_type": "code",
   "execution_count": 123,
   "metadata": {
    "id": "pY_mT9xnO5f0"
   },
   "outputs": [
    {
     "data": {
      "text/plain": [
       "(5638505, 23)"
      ]
     },
     "execution_count": 123,
     "metadata": {},
     "output_type": "execute_result"
    }
   ],
   "source": [
    "#Para probar que se guardo bien y se puede leer\n",
    "#prueba_pkl = pd.read_pickle('/content/gdrive/MyDrive/Colab Notebooks/Mentoria/Entregable 2/dataset/ventas_producto_pdv')\n",
    "prueba_pkl = pd.read_pickle('dataset/ventas_producto_pdv')\n",
    "prueba_pkl.shape"
   ]
  },
  {
   "cell_type": "markdown",
   "metadata": {
    "id": "CcRKOJcR3RUG"
   },
   "source": [
    "### 3. Pasos Opcionales para limpieza de Datos - Deseables"
   ]
  },
  {
   "cell_type": "markdown",
   "metadata": {
    "id": "oXcUZ7Qn3RUG"
   },
   "source": [
    "#### 3.1. Ordenar Variables/Columnas"
   ]
  },
  {
   "cell_type": "code",
   "execution_count": 124,
   "metadata": {
    "colab": {
     "base_uri": "https://localhost:8080/"
    },
    "id": "368Hgxof3RUG",
    "outputId": "738316c4-3146-4a1c-af48-5cc5dbfcc4d3",
    "scrolled": true
   },
   "outputs": [
    {
     "data": {
      "text/plain": [
       "Index(['dia', 'mes', 'anio', 'hora', 'sku', 'cantidad_pedida',\n",
       "       'id_punto_venta', 'fecha', 'descripcion', 'marca', 'id_categoria',\n",
       "       'presentacion', 'unidadcm3', 'unidadkg', 'id_proveedor', 'categoria',\n",
       "       'Punto_Venta', 'id_Provincia', 'id_Localidad', 'id_Pais', 'Localidad',\n",
       "       'Provincia', 'Pais'],\n",
       "      dtype='object')"
      ]
     },
     "execution_count": 124,
     "metadata": {},
     "output_type": "execute_result"
    }
   ],
   "source": [
    "ventas_producto_pdv.columns"
   ]
  },
  {
   "cell_type": "code",
   "execution_count": 125,
   "metadata": {
    "id": "bYMDzzz33RUH"
   },
   "outputs": [],
   "source": [
    "orden = ['dia', 'mes', 'anio', 'hora', 'fecha', \n",
    "         'sku', 'descripcion', 'marca', 'presentacion', 'categoria', 'id_categoria', \n",
    "         'cantidad_pedida' , 'unidadcm3', 'unidadkg',  \n",
    "         'Punto_Venta', 'id_punto_venta', 'id_proveedor', \n",
    "         'Localidad', 'id_Localidad', 'Provincia', 'id_Provincia', 'Pais', 'id_Pais']"
   ]
  },
  {
   "cell_type": "code",
   "execution_count": 126,
   "metadata": {
    "colab": {
     "base_uri": "https://localhost:8080/"
    },
    "id": "elurmSbS3RUH",
    "outputId": "4f49dd0a-7d6e-4dd6-9965-c9ab8e04fa35"
   },
   "outputs": [
    {
     "data": {
      "text/html": [
       "<div>\n",
       "<style scoped>\n",
       "    .dataframe tbody tr th:only-of-type {\n",
       "        vertical-align: middle;\n",
       "    }\n",
       "\n",
       "    .dataframe tbody tr th {\n",
       "        vertical-align: top;\n",
       "    }\n",
       "\n",
       "    .dataframe thead th {\n",
       "        text-align: right;\n",
       "    }\n",
       "</style>\n",
       "<table border=\"1\" class=\"dataframe\">\n",
       "  <thead>\n",
       "    <tr style=\"text-align: right;\">\n",
       "      <th></th>\n",
       "      <th>dia</th>\n",
       "      <th>mes</th>\n",
       "      <th>anio</th>\n",
       "      <th>hora</th>\n",
       "      <th>fecha</th>\n",
       "      <th>sku</th>\n",
       "      <th>descripcion</th>\n",
       "      <th>marca</th>\n",
       "      <th>presentacion</th>\n",
       "      <th>categoria</th>\n",
       "      <th>id_categoria</th>\n",
       "      <th>cantidad_pedida</th>\n",
       "      <th>unidadcm3</th>\n",
       "      <th>unidadkg</th>\n",
       "      <th>Punto_Venta</th>\n",
       "      <th>id_punto_venta</th>\n",
       "      <th>id_proveedor</th>\n",
       "      <th>Localidad</th>\n",
       "      <th>id_Localidad</th>\n",
       "      <th>Provincia</th>\n",
       "      <th>id_Provincia</th>\n",
       "      <th>Pais</th>\n",
       "      <th>id_Pais</th>\n",
       "    </tr>\n",
       "  </thead>\n",
       "  <tbody>\n",
       "    <tr>\n",
       "      <th>1711489</th>\n",
       "      <td>12</td>\n",
       "      <td>9</td>\n",
       "      <td>2018</td>\n",
       "      <td>17:02:53.0000000</td>\n",
       "      <td>2018-09-12</td>\n",
       "      <td>910</td>\n",
       "      <td>PACKXX-XX-X-XXXRIDO</td>\n",
       "      <td>GRIDO</td>\n",
       "      <td>Kilogramos</td>\n",
       "      <td>17 - POTE 1 LTS</td>\n",
       "      <td>63.00</td>\n",
       "      <td>1.00</td>\n",
       "      <td>0.56</td>\n",
       "      <td>4.14</td>\n",
       "      <td>ONCXXX-XX-XXNCE</td>\n",
       "      <td>100311</td>\n",
       "      <td>2.00</td>\n",
       "      <td>Balvanera</td>\n",
       "      <td>5526.00</td>\n",
       "      <td>Capital Federal</td>\n",
       "      <td>81.00</td>\n",
       "      <td>Argentina</td>\n",
       "      <td>1.00</td>\n",
       "    </tr>\n",
       "    <tr>\n",
       "      <th>1208669</th>\n",
       "      <td>16</td>\n",
       "      <td>10</td>\n",
       "      <td>2019</td>\n",
       "      <td>16:55:41.0600000</td>\n",
       "      <td>2019-10-16</td>\n",
       "      <td>1690</td>\n",
       "      <td>CHOCXX-XX-X-XXXRIDO</td>\n",
       "      <td>GRIDO</td>\n",
       "      <td>Baldes</td>\n",
       "      <td>07 - SABORES COMUNES</td>\n",
       "      <td>44.00</td>\n",
       "      <td>3.00</td>\n",
       "      <td>0.80</td>\n",
       "      <td>7.80</td>\n",
       "      <td>NaN</td>\n",
       "      <td>100215</td>\n",
       "      <td>2.00</td>\n",
       "      <td>NaN</td>\n",
       "      <td>NaN</td>\n",
       "      <td>NaN</td>\n",
       "      <td>NaN</td>\n",
       "      <td>NaN</td>\n",
       "      <td>NaN</td>\n",
       "    </tr>\n",
       "    <tr>\n",
       "      <th>5447747</th>\n",
       "      <td>1</td>\n",
       "      <td>10</td>\n",
       "      <td>2019</td>\n",
       "      <td>01:04:21.0000000</td>\n",
       "      <td>2019-10-01</td>\n",
       "      <td>3060</td>\n",
       "      <td>MINIXX-XX-X-XXXX1UN</td>\n",
       "      <td>VIA BANA</td>\n",
       "      <td>Unidades</td>\n",
       "      <td>0013 - PRODUCTOS VIA BANA - TIPO A</td>\n",
       "      <td>92.00</td>\n",
       "      <td>13.00</td>\n",
       "      <td>0.04</td>\n",
       "      <td>2.82</td>\n",
       "      <td>PTEXXX-XX-XXNOS</td>\n",
       "      <td>100862</td>\n",
       "      <td>3.00</td>\n",
       "      <td>San Miguel De Tucumán</td>\n",
       "      <td>3.00</td>\n",
       "      <td>Tucumán</td>\n",
       "      <td>23.00</td>\n",
       "      <td>Argentina</td>\n",
       "      <td>1.00</td>\n",
       "    </tr>\n",
       "    <tr>\n",
       "      <th>2515526</th>\n",
       "      <td>8</td>\n",
       "      <td>12</td>\n",
       "      <td>2019</td>\n",
       "      <td>17:54:17.4230000</td>\n",
       "      <td>2019-12-08</td>\n",
       "      <td>1689</td>\n",
       "      <td>FRUTXX-XX-X-XXXRIDO</td>\n",
       "      <td>GRIDO</td>\n",
       "      <td>Baldes</td>\n",
       "      <td>07 - SABORES COMUNES</td>\n",
       "      <td>44.00</td>\n",
       "      <td>1.00</td>\n",
       "      <td>0.80</td>\n",
       "      <td>7.80</td>\n",
       "      <td>GUIXXX-XX-XX II</td>\n",
       "      <td>100414-1</td>\n",
       "      <td>2.00</td>\n",
       "      <td>Córdoba</td>\n",
       "      <td>2.00</td>\n",
       "      <td>Córdoba</td>\n",
       "      <td>5.00</td>\n",
       "      <td>Argentina</td>\n",
       "      <td>1.00</td>\n",
       "    </tr>\n",
       "    <tr>\n",
       "      <th>2904858</th>\n",
       "      <td>14</td>\n",
       "      <td>5</td>\n",
       "      <td>2018</td>\n",
       "      <td>16:43:24.0000000</td>\n",
       "      <td>2018-05-14</td>\n",
       "      <td>1691</td>\n",
       "      <td>VAINXX-XX-X-XXXRIDO</td>\n",
       "      <td>GRIDO</td>\n",
       "      <td>Baldes</td>\n",
       "      <td>07 - SABORES COMUNES</td>\n",
       "      <td>44.00</td>\n",
       "      <td>1.00</td>\n",
       "      <td>0.80</td>\n",
       "      <td>7.80</td>\n",
       "      <td>COSXXX-XX-XX II</td>\n",
       "      <td>100777-1</td>\n",
       "      <td>2.00</td>\n",
       "      <td>Cosquín</td>\n",
       "      <td>1580.00</td>\n",
       "      <td>Córdoba</td>\n",
       "      <td>5.00</td>\n",
       "      <td>Argentina</td>\n",
       "      <td>1.00</td>\n",
       "    </tr>\n",
       "  </tbody>\n",
       "</table>\n",
       "</div>"
      ],
      "text/plain": [
       "         dia  mes  anio              hora      fecha   sku  \\\n",
       "1711489   12    9  2018  17:02:53.0000000 2018-09-12   910   \n",
       "1208669   16   10  2019  16:55:41.0600000 2019-10-16  1690   \n",
       "5447747    1   10  2019  01:04:21.0000000 2019-10-01  3060   \n",
       "2515526    8   12  2019  17:54:17.4230000 2019-12-08  1689   \n",
       "2904858   14    5  2018  16:43:24.0000000 2018-05-14  1691   \n",
       "\n",
       "                 descripcion     marca presentacion  \\\n",
       "1711489  PACKXX-XX-X-XXXRIDO     GRIDO   Kilogramos   \n",
       "1208669  CHOCXX-XX-X-XXXRIDO     GRIDO       Baldes   \n",
       "5447747  MINIXX-XX-X-XXXX1UN  VIA BANA     Unidades   \n",
       "2515526  FRUTXX-XX-X-XXXRIDO     GRIDO       Baldes   \n",
       "2904858  VAINXX-XX-X-XXXRIDO     GRIDO       Baldes   \n",
       "\n",
       "                                  categoria  id_categoria  cantidad_pedida  \\\n",
       "1711489                     17 - POTE 1 LTS         63.00             1.00   \n",
       "1208669                07 - SABORES COMUNES         44.00             3.00   \n",
       "5447747  0013 - PRODUCTOS VIA BANA - TIPO A         92.00            13.00   \n",
       "2515526                07 - SABORES COMUNES         44.00             1.00   \n",
       "2904858                07 - SABORES COMUNES         44.00             1.00   \n",
       "\n",
       "         unidadcm3 unidadkg      Punto_Venta id_punto_venta  id_proveedor  \\\n",
       "1711489       0.56     4.14  ONCXXX-XX-XXNCE         100311          2.00   \n",
       "1208669       0.80     7.80              NaN         100215          2.00   \n",
       "5447747       0.04     2.82  PTEXXX-XX-XXNOS         100862          3.00   \n",
       "2515526       0.80     7.80  GUIXXX-XX-XX II       100414-1          2.00   \n",
       "2904858       0.80     7.80  COSXXX-XX-XX II       100777-1          2.00   \n",
       "\n",
       "                     Localidad  id_Localidad        Provincia  id_Provincia  \\\n",
       "1711489              Balvanera       5526.00  Capital Federal         81.00   \n",
       "1208669                    NaN           NaN              NaN           NaN   \n",
       "5447747  San Miguel De Tucumán          3.00          Tucumán         23.00   \n",
       "2515526                Córdoba          2.00          Córdoba          5.00   \n",
       "2904858                Cosquín       1580.00          Córdoba          5.00   \n",
       "\n",
       "              Pais  id_Pais  \n",
       "1711489  Argentina     1.00  \n",
       "1208669        NaN      NaN  \n",
       "5447747  Argentina     1.00  \n",
       "2515526  Argentina     1.00  \n",
       "2904858  Argentina     1.00  "
      ]
     },
     "execution_count": 126,
     "metadata": {},
     "output_type": "execute_result"
    }
   ],
   "source": [
    "ventas_producto_pdv = ventas_producto_pdv[orden]\n",
    "ventas_producto_pdv.sample(5)"
   ]
  },
  {
   "cell_type": "markdown",
   "metadata": {
    "id": "m59nGR5f3RUH"
   },
   "source": [
    "#### 3.2. Quitar Variables/Columnas Irrelevantes"
   ]
  },
  {
   "cell_type": "markdown",
   "metadata": {
    "id": "XHCR7sHv3RUH"
   },
   "source": [
    "Analizando la matriz de correlación de la variables independientes, existen variables irrelevantes o que podriamos quitar?"
   ]
  },
  {
   "cell_type": "code",
   "execution_count": 127,
   "metadata": {
    "colab": {
     "base_uri": "https://localhost:8080/"
    },
    "id": "jbN1wznG3RUI",
    "outputId": "ce36470d-d48c-4368-9a37-90670515b393",
    "scrolled": false
   },
   "outputs": [
    {
     "data": {
      "text/html": [
       "<div>\n",
       "<style scoped>\n",
       "    .dataframe tbody tr th:only-of-type {\n",
       "        vertical-align: middle;\n",
       "    }\n",
       "\n",
       "    .dataframe tbody tr th {\n",
       "        vertical-align: top;\n",
       "    }\n",
       "\n",
       "    .dataframe thead th {\n",
       "        text-align: right;\n",
       "    }\n",
       "</style>\n",
       "<table border=\"1\" class=\"dataframe\">\n",
       "  <thead>\n",
       "    <tr style=\"text-align: right;\">\n",
       "      <th></th>\n",
       "      <th>mes</th>\n",
       "      <th>anio</th>\n",
       "      <th>sku</th>\n",
       "      <th>marca</th>\n",
       "      <th>presentacion</th>\n",
       "      <th>categoria</th>\n",
       "      <th>cantidad_pedida</th>\n",
       "      <th>unidadkg</th>\n",
       "      <th>id_proveedor</th>\n",
       "      <th>ubicacion</th>\n",
       "      <th>Provincia</th>\n",
       "    </tr>\n",
       "  </thead>\n",
       "  <tbody>\n",
       "    <tr>\n",
       "      <th>0</th>\n",
       "      <td>1</td>\n",
       "      <td>2018</td>\n",
       "      <td>3071</td>\n",
       "      <td>GRIDO</td>\n",
       "      <td>Unidades</td>\n",
       "      <td>000 - GRIDO MIX</td>\n",
       "      <td>1.00</td>\n",
       "      <td>680.32</td>\n",
       "      <td>2.00</td>\n",
       "      <td>NaN</td>\n",
       "      <td>NaN</td>\n",
       "    </tr>\n",
       "    <tr>\n",
       "      <th>1</th>\n",
       "      <td>1</td>\n",
       "      <td>2018</td>\n",
       "      <td>1872</td>\n",
       "      <td>FRIZZIO</td>\n",
       "      <td>Pack</td>\n",
       "      <td>01 - FRIZZIO</td>\n",
       "      <td>4.00</td>\n",
       "      <td>6.12</td>\n",
       "      <td>2.00</td>\n",
       "      <td>NaN</td>\n",
       "      <td>NaN</td>\n",
       "    </tr>\n",
       "    <tr>\n",
       "      <th>2</th>\n",
       "      <td>1</td>\n",
       "      <td>2018</td>\n",
       "      <td>2008</td>\n",
       "      <td>FRIZZIO</td>\n",
       "      <td>Pack</td>\n",
       "      <td>01 - FRIZZIO</td>\n",
       "      <td>4.00</td>\n",
       "      <td>6.08</td>\n",
       "      <td>2.00</td>\n",
       "      <td>NaN</td>\n",
       "      <td>NaN</td>\n",
       "    </tr>\n",
       "    <tr>\n",
       "      <th>3</th>\n",
       "      <td>1</td>\n",
       "      <td>2018</td>\n",
       "      <td>2009</td>\n",
       "      <td>FRIZZIO</td>\n",
       "      <td>Pack</td>\n",
       "      <td>01 - FRIZZIO</td>\n",
       "      <td>4.00</td>\n",
       "      <td>6.08</td>\n",
       "      <td>2.00</td>\n",
       "      <td>NaN</td>\n",
       "      <td>NaN</td>\n",
       "    </tr>\n",
       "    <tr>\n",
       "      <th>4</th>\n",
       "      <td>1</td>\n",
       "      <td>2018</td>\n",
       "      <td>1918</td>\n",
       "      <td>FRIZZIO</td>\n",
       "      <td>Unidades</td>\n",
       "      <td>01 - FRIZZIO</td>\n",
       "      <td>4.00</td>\n",
       "      <td>3.60</td>\n",
       "      <td>2.00</td>\n",
       "      <td>NaN</td>\n",
       "      <td>NaN</td>\n",
       "    </tr>\n",
       "    <tr>\n",
       "      <th>...</th>\n",
       "      <td>...</td>\n",
       "      <td>...</td>\n",
       "      <td>...</td>\n",
       "      <td>...</td>\n",
       "      <td>...</td>\n",
       "      <td>...</td>\n",
       "      <td>...</td>\n",
       "      <td>...</td>\n",
       "      <td>...</td>\n",
       "      <td>...</td>\n",
       "      <td>...</td>\n",
       "    </tr>\n",
       "    <tr>\n",
       "      <th>5638500</th>\n",
       "      <td>12</td>\n",
       "      <td>2019</td>\n",
       "      <td>3121</td>\n",
       "      <td>GRIDO</td>\n",
       "      <td>Unidades</td>\n",
       "      <td>0001 - INDUMENTARIA</td>\n",
       "      <td>2.00</td>\n",
       "      <td>0.00</td>\n",
       "      <td>3.00</td>\n",
       "      <td>Córdoba, Córdoba</td>\n",
       "      <td>Córdoba</td>\n",
       "    </tr>\n",
       "    <tr>\n",
       "      <th>5638501</th>\n",
       "      <td>12</td>\n",
       "      <td>2019</td>\n",
       "      <td>3051</td>\n",
       "      <td>SIN DEFINIR</td>\n",
       "      <td>Unidades</td>\n",
       "      <td>0006 - EQUIPOS</td>\n",
       "      <td>6.00</td>\n",
       "      <td>0.47</td>\n",
       "      <td>3.00</td>\n",
       "      <td>Córdoba, Córdoba</td>\n",
       "      <td>Córdoba</td>\n",
       "    </tr>\n",
       "    <tr>\n",
       "      <th>5638502</th>\n",
       "      <td>12</td>\n",
       "      <td>2019</td>\n",
       "      <td>1244</td>\n",
       "      <td>SIN DEFINIR</td>\n",
       "      <td>Unidades</td>\n",
       "      <td>0005 - CARTELERIA, INSTITUCIONALES Y PLOTEOS</td>\n",
       "      <td>1.00</td>\n",
       "      <td>0.44</td>\n",
       "      <td>3.00</td>\n",
       "      <td>San Juan, San Juan</td>\n",
       "      <td>San Juan</td>\n",
       "    </tr>\n",
       "    <tr>\n",
       "      <th>5638503</th>\n",
       "      <td>12</td>\n",
       "      <td>2019</td>\n",
       "      <td>1966</td>\n",
       "      <td>SIN DEFINIR</td>\n",
       "      <td>No Asignada</td>\n",
       "      <td>0007 - ACCESORIOS Y REPUESTOS PARA EQUIPOS DE FRIO</td>\n",
       "      <td>3.00</td>\n",
       "      <td>0.00</td>\n",
       "      <td>3.00</td>\n",
       "      <td>San Juan, San Juan</td>\n",
       "      <td>San Juan</td>\n",
       "    </tr>\n",
       "    <tr>\n",
       "      <th>5638504</th>\n",
       "      <td>12</td>\n",
       "      <td>2019</td>\n",
       "      <td>3121</td>\n",
       "      <td>GRIDO</td>\n",
       "      <td>Unidades</td>\n",
       "      <td>0001 - INDUMENTARIA</td>\n",
       "      <td>1.00</td>\n",
       "      <td>0.00</td>\n",
       "      <td>3.00</td>\n",
       "      <td>Córdoba, Córdoba</td>\n",
       "      <td>Córdoba</td>\n",
       "    </tr>\n",
       "  </tbody>\n",
       "</table>\n",
       "<p>5638505 rows × 11 columns</p>\n",
       "</div>"
      ],
      "text/plain": [
       "         mes  anio   sku        marca presentacion  \\\n",
       "0          1  2018  3071        GRIDO     Unidades   \n",
       "1          1  2018  1872      FRIZZIO         Pack   \n",
       "2          1  2018  2008      FRIZZIO         Pack   \n",
       "3          1  2018  2009      FRIZZIO         Pack   \n",
       "4          1  2018  1918      FRIZZIO     Unidades   \n",
       "...      ...   ...   ...          ...          ...   \n",
       "5638500   12  2019  3121        GRIDO     Unidades   \n",
       "5638501   12  2019  3051  SIN DEFINIR     Unidades   \n",
       "5638502   12  2019  1244  SIN DEFINIR     Unidades   \n",
       "5638503   12  2019  1966  SIN DEFINIR  No Asignada   \n",
       "5638504   12  2019  3121        GRIDO     Unidades   \n",
       "\n",
       "                                                  categoria  cantidad_pedida  \\\n",
       "0                                           000 - GRIDO MIX             1.00   \n",
       "1                                              01 - FRIZZIO             4.00   \n",
       "2                                              01 - FRIZZIO             4.00   \n",
       "3                                              01 - FRIZZIO             4.00   \n",
       "4                                              01 - FRIZZIO             4.00   \n",
       "...                                                     ...              ...   \n",
       "5638500                                0001 - INDUMENTARIA              2.00   \n",
       "5638501                                      0006 - EQUIPOS             6.00   \n",
       "5638502        0005 - CARTELERIA, INSTITUCIONALES Y PLOTEOS             1.00   \n",
       "5638503  0007 - ACCESORIOS Y REPUESTOS PARA EQUIPOS DE FRIO             3.00   \n",
       "5638504                                0001 - INDUMENTARIA              1.00   \n",
       "\n",
       "        unidadkg  id_proveedor           ubicacion Provincia  \n",
       "0         680.32          2.00                 NaN       NaN  \n",
       "1           6.12          2.00                 NaN       NaN  \n",
       "2           6.08          2.00                 NaN       NaN  \n",
       "3           6.08          2.00                 NaN       NaN  \n",
       "4           3.60          2.00                 NaN       NaN  \n",
       "...          ...           ...                 ...       ...  \n",
       "5638500     0.00          3.00    Córdoba, Córdoba   Córdoba  \n",
       "5638501     0.47          3.00    Córdoba, Córdoba   Córdoba  \n",
       "5638502     0.44          3.00  San Juan, San Juan  San Juan  \n",
       "5638503     0.00          3.00  San Juan, San Juan  San Juan  \n",
       "5638504     0.00          3.00    Córdoba, Córdoba   Córdoba  \n",
       "\n",
       "[5638505 rows x 11 columns]"
      ]
     },
     "execution_count": 127,
     "metadata": {},
     "output_type": "execute_result"
    }
   ],
   "source": [
    "#Se genera una nueva variable de ubicación\n",
    "ventas_producto_pdv['ubicacion'] = ventas_producto_pdv['Localidad']+', '+ventas_producto_pdv['Provincia']\n",
    "\n",
    "#Filtramos las variables necesarias (consideramos Provincia para el desarrollo de incisos posteriores pero despues se podría borrar)\n",
    "df = ventas_producto_pdv[['mes', 'anio', 'sku', 'marca', 'presentacion', 'categoria',\n",
    "       'cantidad_pedida', 'unidadkg', 'id_proveedor', 'ubicacion', 'Provincia']]\n",
    "df"
   ]
  },
  {
   "cell_type": "markdown",
   "metadata": {
    "id": "wQNwhmgH3RUI"
   },
   "source": [
    "#### 3.3. Renombrar Variables de Grillas"
   ]
  },
  {
   "cell_type": "markdown",
   "metadata": {
    "id": "SVYIbb9o3RUI"
   },
   "source": [
    "Esto se puede hacer de manera transparente a través de un diccionario."
   ]
  },
  {
   "cell_type": "code",
   "execution_count": null,
   "metadata": {
    "id": "_p2dC-Tw3RUL"
   },
   "outputs": [],
   "source": []
  },
  {
   "cell_type": "markdown",
   "metadata": {
    "id": "9COjd0B73RUL"
   },
   "source": [
    "#### 3.4. Categorizar Variables que Contengan “Otros”"
   ]
  },
  {
   "cell_type": "markdown",
   "metadata": {
    "id": "KEpmPUBN3RUL"
   },
   "source": [
    "Se sugiere reemplazar los valores de las columnas categóricas que contienen valores vacíos por el string \"Otros\" para el caso de marcas, presentaciones y categorias. "
   ]
  },
  {
   "cell_type": "code",
   "execution_count": null,
   "metadata": {
    "id": "9y6Tgjdx3RUL"
   },
   "outputs": [],
   "source": []
  },
  {
   "cell_type": "markdown",
   "metadata": {
    "id": "CaNvsBhb3RUM"
   },
   "source": [
    "#### 3.5. Agregar Metadata a los Datos"
   ]
  },
  {
   "cell_type": "markdown",
   "metadata": {
    "id": "YyHpSNa33RUM"
   },
   "source": [
    "Agregar información acerca de cuando y como fueron obtenidos, limpieza realizada, decisiones implementadas, etc."
   ]
  },
  {
   "cell_type": "code",
   "execution_count": null,
   "metadata": {
    "id": "j9gbYI9p3RUM"
   },
   "outputs": [],
   "source": []
  },
  {
   "cell_type": "markdown",
   "metadata": {
    "id": "_-luOWvQ3RUN"
   },
   "source": [
    "### 4- Análisis complementario de algunas features"
   ]
  },
  {
   "cell_type": "markdown",
   "metadata": {
    "id": "5EwXpZpK3RUN"
   },
   "source": [
    "En este punto deberán realizar un análisis mas profundo de algunas features y documentar las decisiones tomadas. \n",
    "\n",
    "Algunas preguntas que deberán responder en este apartado son:"
   ]
  },
  {
   "cell_type": "markdown",
   "metadata": {
    "id": "JSUHpe4q3RUN"
   },
   "source": [
    "#### 4.1 Al generarse los joins entre todas las fuentes de datos qué información quedó excluída?"
   ]
  },
  {
   "cell_type": "markdown",
   "metadata": {
    "id": "3PAuBV1KAjqk"
   },
   "source": [
    "##### Merge Productos y Categorias (id_categoria)"
   ]
  },
  {
   "cell_type": "code",
   "execution_count": 128,
   "metadata": {
    "colab": {
     "base_uri": "https://localhost:8080/"
    },
    "id": "nRLFLu4V3RUN",
    "outputId": "73256552-2b3a-426a-908d-c91b418d7756"
   },
   "outputs": [
    {
     "data": {
      "text/plain": [
       "set()"
      ]
     },
     "execution_count": 128,
     "metadata": {},
     "output_type": "execute_result"
    }
   ],
   "source": [
    "#Analisis del join entre productos y categorias\n",
    "set(productos.id_categoria) - set(categorias.id_categoria)"
   ]
  },
  {
   "cell_type": "code",
   "execution_count": 129,
   "metadata": {
    "colab": {
     "base_uri": "https://localhost:8080/"
    },
    "id": "lqYOduT1QHD5",
    "outputId": "36b5685f-68e3-4e5b-c30c-85266fac3ef0"
   },
   "outputs": [
    {
     "data": {
      "text/plain": [
       "{37, 67, 75, 76, 80, 83, 84, 86, 110, 116, 189, 548}"
      ]
     },
     "execution_count": 129,
     "metadata": {},
     "output_type": "execute_result"
    }
   ],
   "source": [
    "set(categorias.id_categoria)-set(productos.id_categoria)"
   ]
  },
  {
   "cell_type": "code",
   "execution_count": 130,
   "metadata": {
    "colab": {
     "base_uri": "https://localhost:8080/"
    },
    "id": "8oyfGliBQNLH",
    "outputId": "4f2a6712-93e2-4f26-d4c8-5878160d53c9"
   },
   "outputs": [
    {
     "name": "stdout",
     "output_type": "stream",
     "text": [
      "Registros productos:  4352\n",
      "Registros productos_categoria:  4352\n"
     ]
    }
   ],
   "source": [
    "#Verificamos cantidad de registros de productos vs registros de la nueva variable resultante del merge\n",
    "print('Registros productos: ',len(productos))\n",
    "print('Registros productos_categoria: ',len(productos_categoria))"
   ]
  },
  {
   "cell_type": "code",
   "execution_count": 131,
   "metadata": {
    "colab": {
     "base_uri": "https://localhost:8080/"
    },
    "id": "BYn3jdWOASJQ",
    "outputId": "c84997dd-c503-4910-d6a8-8443175950fd"
   },
   "outputs": [
    {
     "name": "stdout",
     "output_type": "stream",
     "text": [
      "N categorias(pre-merge): 88\n",
      "N categorias (post-merge 75\n",
      "Diferencia:  13\n"
     ]
    }
   ],
   "source": [
    "#Analizamos las categorías\n",
    "print('N categorias(pre-merge):',len(categorias))\n",
    "print('N categorias (post-merge',productos_categoria.categoria.nunique())\n",
    "print ('Diferencia: ',len(categorias)-productos_categoria.categoria.nunique())"
   ]
  },
  {
   "cell_type": "code",
   "execution_count": 132,
   "metadata": {
    "colab": {
     "base_uri": "https://localhost:8080/"
    },
    "id": "fSCXBM85yZ24",
    "outputId": "80bb4964-8f5b-4b81-d3be-d1b11a70f7da"
   },
   "outputs": [
    {
     "data": {
      "text/html": [
       "<div>\n",
       "<style scoped>\n",
       "    .dataframe tbody tr th:only-of-type {\n",
       "        vertical-align: middle;\n",
       "    }\n",
       "\n",
       "    .dataframe tbody tr th {\n",
       "        vertical-align: top;\n",
       "    }\n",
       "\n",
       "    .dataframe thead th {\n",
       "        text-align: right;\n",
       "    }\n",
       "</style>\n",
       "<table border=\"1\" class=\"dataframe\">\n",
       "  <thead>\n",
       "    <tr style=\"text-align: right;\">\n",
       "      <th></th>\n",
       "      <th>id_categoria</th>\n",
       "      <th>nombre</th>\n",
       "    </tr>\n",
       "  </thead>\n",
       "  <tbody>\n",
       "    <tr>\n",
       "      <th>2</th>\n",
       "      <td>37</td>\n",
       "      <td>06 - Pack Postres/Tortas Grido</td>\n",
       "    </tr>\n",
       "    <tr>\n",
       "      <th>32</th>\n",
       "      <td>67</td>\n",
       "      <td>VACIO</td>\n",
       "    </tr>\n",
       "    <tr>\n",
       "      <th>40</th>\n",
       "      <td>75</td>\n",
       "      <td>vacia</td>\n",
       "    </tr>\n",
       "    <tr>\n",
       "      <th>41</th>\n",
       "      <td>76</td>\n",
       "      <td>VACIO</td>\n",
       "    </tr>\n",
       "    <tr>\n",
       "      <th>45</th>\n",
       "      <td>80</td>\n",
       "      <td>VACIO</td>\n",
       "    </tr>\n",
       "    <tr>\n",
       "      <th>47</th>\n",
       "      <td>83</td>\n",
       "      <td>VACIO</td>\n",
       "    </tr>\n",
       "    <tr>\n",
       "      <th>48</th>\n",
       "      <td>84</td>\n",
       "      <td>VACIO</td>\n",
       "    </tr>\n",
       "    <tr>\n",
       "      <th>50</th>\n",
       "      <td>86</td>\n",
       "      <td>20 - SISTEMAS DE FRÍO A PEDIDO</td>\n",
       "    </tr>\n",
       "    <tr>\n",
       "      <th>59</th>\n",
       "      <td>110</td>\n",
       "      <td>12 - REPUESTOS EQUIPOS DE FRIO</td>\n",
       "    </tr>\n",
       "    <tr>\n",
       "      <th>62</th>\n",
       "      <td>116</td>\n",
       "      <td>00 - VIA BANA MIX</td>\n",
       "    </tr>\n",
       "    <tr>\n",
       "      <th>66</th>\n",
       "      <td>189</td>\n",
       "      <td>0009 - JUEGOS</td>\n",
       "    </tr>\n",
       "    <tr>\n",
       "      <th>78</th>\n",
       "      <td>548</td>\n",
       "      <td>00556 - PRODUCTOS BIODEGRADABLES / COMPOSTABLES</td>\n",
       "    </tr>\n",
       "  </tbody>\n",
       "</table>\n",
       "</div>"
      ],
      "text/plain": [
       "    id_categoria                                           nombre\n",
       "2             37                   06 - Pack Postres/Tortas Grido\n",
       "32            67                                            VACIO\n",
       "40            75                                            vacia\n",
       "41            76                                            VACIO\n",
       "45            80                                            VACIO\n",
       "47            83                                            VACIO\n",
       "48            84                                            VACIO\n",
       "50            86                  20 - SISTEMAS DE FRÍO A PEDIDO \n",
       "59           110                   12 - REPUESTOS EQUIPOS DE FRIO\n",
       "62           116                                00 - VIA BANA MIX\n",
       "66           189                                    0009 - JUEGOS\n",
       "78           548  00556 - PRODUCTOS BIODEGRADABLES / COMPOSTABLES"
      ]
     },
     "execution_count": 132,
     "metadata": {},
     "output_type": "execute_result"
    }
   ],
   "source": [
    "#Insepeccionamos que categorías desaparecieron\n",
    "list_categoria = productos_categoria.categoria.drop_duplicates().tolist()\n",
    "categorias[~categorias['nombre'].isin(list_categoria)]"
   ]
  },
  {
   "cell_type": "markdown",
   "metadata": {
    "id": "rLfdDGCfHqZY"
   },
   "source": [
    "De la unión de productos y categorias, se pueden realizar las siguientes observaciones:\n",
    "\n",
    "1.   Se mantuvo la totalidad de registros de la base de productos (sin pérdidas).\n",
    "2.   Hay 13 categorías que ya no se encuentran luego de realizar la unión. Esto se debe a que no existen productos que posean estas categorías por lo que estaría correcto la eliminación para el objetivo de este trabajo. Por otro lado, \"limpiamos\" las categorías denominadas como \"VACIO\" y \"vacia\".\n",
    "\n"
   ]
  },
  {
   "cell_type": "markdown",
   "metadata": {
    "id": "GHY6yf51ApmC"
   },
   "source": [
    "##### Merge ventas y productos_categoria (sku)"
   ]
  },
  {
   "cell_type": "code",
   "execution_count": 133,
   "metadata": {
    "colab": {
     "base_uri": "https://localhost:8080/"
    },
    "id": "hPrwZ8x9BKA_",
    "outputId": "8ce23774-8ae0-4706-bce8-74b35eb117f5"
   },
   "outputs": [
    {
     "name": "stdout",
     "output_type": "stream",
     "text": [
      "Registros productos_categoria:  4352\n",
      "Registros ventas_filtrado:  5638505\n",
      "Registros ventas_producto:  5638505\n"
     ]
    }
   ],
   "source": [
    "print('Registros productos_categoria: ',len(productos_categoria))\n",
    "print('Registros ventas_filtrado: ',len(ventas_filtrado))\n",
    "print('Registros ventas_producto: ',len(ventas_producto))"
   ]
  },
  {
   "cell_type": "code",
   "execution_count": 134,
   "metadata": {
    "colab": {
     "base_uri": "https://localhost:8080/"
    },
    "id": "mXUFRObW2rZD",
    "outputId": "036e3060-e5c3-4ccd-85da-8d5170e57558"
   },
   "outputs": [
    {
     "name": "stdout",
     "output_type": "stream",
     "text": [
      "SKU productos_categoria:  4352\n",
      "SKU ventas_filtrado:  588\n",
      "SKU ventas_producto:  588\n"
     ]
    }
   ],
   "source": [
    "print('SKU productos_categoria: ',productos_categoria.sku.nunique())\n",
    "print('SKU ventas_filtrado: ',ventas_filtrado.sku.nunique())\n",
    "print('SKU ventas_producto: ',ventas_producto.sku.nunique())"
   ]
  },
  {
   "cell_type": "code",
   "execution_count": 135,
   "metadata": {
    "colab": {
     "base_uri": "https://localhost:8080/"
    },
    "id": "Wfo-o3-o4fb6",
    "outputId": "716ba9a0-b7aa-4c49-e4ae-ddc7246a73b2"
   },
   "outputs": [
    {
     "data": {
      "text/html": [
       "<div>\n",
       "<style scoped>\n",
       "    .dataframe tbody tr th:only-of-type {\n",
       "        vertical-align: middle;\n",
       "    }\n",
       "\n",
       "    .dataframe tbody tr th {\n",
       "        vertical-align: top;\n",
       "    }\n",
       "\n",
       "    .dataframe thead th {\n",
       "        text-align: right;\n",
       "    }\n",
       "</style>\n",
       "<table border=\"1\" class=\"dataframe\">\n",
       "  <thead>\n",
       "    <tr style=\"text-align: right;\">\n",
       "      <th></th>\n",
       "      <th>dia</th>\n",
       "      <th>mes</th>\n",
       "      <th>anio</th>\n",
       "      <th>hora</th>\n",
       "      <th>sku</th>\n",
       "      <th>cantidad_pedida</th>\n",
       "      <th>id_punto_venta</th>\n",
       "      <th>fecha</th>\n",
       "      <th>descripcion</th>\n",
       "      <th>marca</th>\n",
       "      <th>id_categoria</th>\n",
       "      <th>presentacion</th>\n",
       "      <th>unidadcm3</th>\n",
       "      <th>unidadkg</th>\n",
       "      <th>id_proveedor</th>\n",
       "      <th>categoria</th>\n",
       "    </tr>\n",
       "  </thead>\n",
       "  <tbody>\n",
       "    <tr>\n",
       "      <th>5472333</th>\n",
       "      <td>16</td>\n",
       "      <td>10</td>\n",
       "      <td>2019</td>\n",
       "      <td>07:59:10.4300000</td>\n",
       "      <td>9282</td>\n",
       "      <td>6.00</td>\n",
       "      <td>727</td>\n",
       "      <td>2019-10-16</td>\n",
       "      <td>NaN</td>\n",
       "      <td>NaN</td>\n",
       "      <td>NaN</td>\n",
       "      <td>NaN</td>\n",
       "      <td>NaN</td>\n",
       "      <td>NaN</td>\n",
       "      <td>NaN</td>\n",
       "      <td>NaN</td>\n",
       "    </tr>\n",
       "    <tr>\n",
       "      <th>5472335</th>\n",
       "      <td>16</td>\n",
       "      <td>10</td>\n",
       "      <td>2019</td>\n",
       "      <td>08:03:43.7830000</td>\n",
       "      <td>9282</td>\n",
       "      <td>6.00</td>\n",
       "      <td>727-1</td>\n",
       "      <td>2019-10-16</td>\n",
       "      <td>NaN</td>\n",
       "      <td>NaN</td>\n",
       "      <td>NaN</td>\n",
       "      <td>NaN</td>\n",
       "      <td>NaN</td>\n",
       "      <td>NaN</td>\n",
       "      <td>NaN</td>\n",
       "      <td>NaN</td>\n",
       "    </tr>\n",
       "  </tbody>\n",
       "</table>\n",
       "</div>"
      ],
      "text/plain": [
       "         dia  mes  anio              hora   sku  cantidad_pedida  \\\n",
       "5472333   16   10  2019  07:59:10.4300000  9282             6.00   \n",
       "5472335   16   10  2019  08:03:43.7830000  9282             6.00   \n",
       "\n",
       "        id_punto_venta      fecha descripcion marca  id_categoria  \\\n",
       "5472333            727 2019-10-16         NaN   NaN           NaN   \n",
       "5472335          727-1 2019-10-16         NaN   NaN           NaN   \n",
       "\n",
       "        presentacion  unidadcm3 unidadkg  id_proveedor categoria  \n",
       "5472333          NaN        NaN      NaN           NaN       NaN  \n",
       "5472335          NaN        NaN      NaN           NaN       NaN  "
      ]
     },
     "execution_count": 135,
     "metadata": {},
     "output_type": "execute_result"
    }
   ],
   "source": [
    "#Analizamos cuales sku ya NO están en el dataset nuevo\n",
    "ventas_producto[ventas_producto['descripcion'].isna()]"
   ]
  },
  {
   "cell_type": "code",
   "execution_count": 136,
   "metadata": {
    "colab": {
     "base_uri": "https://localhost:8080/"
    },
    "id": "LUCdAg3c-Yzv",
    "outputId": "54cd37a0-2972-48ae-9d3f-d7307ef2a1e0"
   },
   "outputs": [
    {
     "name": "stdout",
     "output_type": "stream",
     "text": [
      "70\n",
      "38\n"
     ]
    }
   ],
   "source": [
    "#Estos son los productos que no figuraran en el dataset generado dado que no tienen ventas registradas\n",
    "list_sku = ventas_filtrado.sku.drop_duplicates().tolist()\n",
    "sku_drop = productos_categoria[~productos_categoria['sku'].isin(list_sku)]\n",
    "\n",
    "#Vemos a que categorías corresponden y marca\n",
    "print(len(sku_drop.categoria.drop_duplicates().tolist()))\n",
    "print(len(sku_drop[sku_drop['id_proveedor']==3].categoria.drop_duplicates().tolist()))"
   ]
  },
  {
   "cell_type": "markdown",
   "metadata": {
    "id": "LX9I6xHV1_K7"
   },
   "source": [
    "De la unión de ventas_filtrado y producto_categoria, se pueden realizar las siguientes observaciones:\n",
    "\n",
    "1.   Se mantuvo la totalidad de registros de la base de ventas_filtrado (sin pérdidas).\n",
    "2.   Sólo quedan 588 sku de un total de 4352 que teniamos inicialmente. Se podría decir que los productos que no figuran no registran ventas de los mismos por lo que no habría inconvenientes.\n",
    "3.   Se observa que el sku 9282 no posee información proveniente del dataset de producto_categoria. Dado que sólo son dos registros se podría eliminar los mismos.  \n"
   ]
  },
  {
   "cell_type": "markdown",
   "metadata": {
    "id": "T2r61VGMA4fG"
   },
   "source": [
    "##### Merge entre pdv y localidades (id_Localidad)"
   ]
  },
  {
   "cell_type": "code",
   "execution_count": 137,
   "metadata": {
    "colab": {
     "base_uri": "https://localhost:8080/"
    },
    "id": "mKwaImBWD46_",
    "outputId": "2122d58b-901c-47a6-f8f7-f21b1e38ac3b"
   },
   "outputs": [
    {
     "name": "stdout",
     "output_type": "stream",
     "text": [
      "Registros pdv:  1850\n",
      "Registros localidades:  897\n",
      "Registros pdv_ubicacion:  1850\n"
     ]
    }
   ],
   "source": [
    "print('Registros pdv: ',len(pdv))\n",
    "print('Registros localidades: ',len(localidades))\n",
    "print('Registros pdv_ubicacion: ',len(pdv_ubicacion))"
   ]
  },
  {
   "cell_type": "code",
   "execution_count": 138,
   "metadata": {
    "colab": {
     "base_uri": "https://localhost:8080/"
    },
    "id": "Cvq-lIZcEVi7",
    "outputId": "8e1399a9-a341-41f1-da49-d3b8ec6775e5"
   },
   "outputs": [
    {
     "name": "stdout",
     "output_type": "stream",
     "text": [
      "id_Localidad de pdv:  733\n",
      "id_Localidad de localidades:  897\n",
      "id_Localidad de pdv_ubicacion:  733\n",
      "Diferencia:  164\n"
     ]
    }
   ],
   "source": [
    "print('id_Localidad de pdv: ',pdv.id_Localidad.nunique())\n",
    "print('id_Localidad de localidades: ',localidades.id_Localidad.nunique())\n",
    "print('id_Localidad de pdv_ubicacion: ',pdv_ubicacion.id_Localidad.nunique())\n",
    "print('Diferencia: ',localidades.id_Localidad.nunique()-pdv.id_Localidad.nunique())"
   ]
  },
  {
   "cell_type": "code",
   "execution_count": 139,
   "metadata": {
    "colab": {
     "base_uri": "https://localhost:8080/"
    },
    "id": "GlgqQCACFkPo",
    "outputId": "4f3d5ad9-cffd-4189-cffd-c5d3b10a82d5"
   },
   "outputs": [
    {
     "data": {
      "text/html": [
       "<div>\n",
       "<style scoped>\n",
       "    .dataframe tbody tr th:only-of-type {\n",
       "        vertical-align: middle;\n",
       "    }\n",
       "\n",
       "    .dataframe tbody tr th {\n",
       "        vertical-align: top;\n",
       "    }\n",
       "\n",
       "    .dataframe thead th {\n",
       "        text-align: right;\n",
       "    }\n",
       "</style>\n",
       "<table border=\"1\" class=\"dataframe\">\n",
       "  <thead>\n",
       "    <tr style=\"text-align: right;\">\n",
       "      <th></th>\n",
       "      <th>id_Localidad</th>\n",
       "      <th>nombre</th>\n",
       "    </tr>\n",
       "  </thead>\n",
       "  <tbody>\n",
       "    <tr>\n",
       "      <th>121</th>\n",
       "      <td>2149</td>\n",
       "      <td>Villa Giardino</td>\n",
       "    </tr>\n",
       "    <tr>\n",
       "      <th>158</th>\n",
       "      <td>272</td>\n",
       "      <td>Lincoln, Coronel Martinez De Hoz</td>\n",
       "    </tr>\n",
       "    <tr>\n",
       "      <th>185</th>\n",
       "      <td>3091</td>\n",
       "      <td>Olta</td>\n",
       "    </tr>\n",
       "    <tr>\n",
       "      <th>198</th>\n",
       "      <td>458</td>\n",
       "      <td>Hipólito Yrigoyen, Henderson</td>\n",
       "    </tr>\n",
       "    <tr>\n",
       "      <th>332</th>\n",
       "      <td>1684</td>\n",
       "      <td>Huerta Grande</td>\n",
       "    </tr>\n",
       "    <tr>\n",
       "      <th>...</th>\n",
       "      <td>...</td>\n",
       "      <td>...</td>\n",
       "    </tr>\n",
       "    <tr>\n",
       "      <th>883</th>\n",
       "      <td>4705</td>\n",
       "      <td>Zenon Pereyra</td>\n",
       "    </tr>\n",
       "    <tr>\n",
       "      <th>887</th>\n",
       "      <td>3780</td>\n",
       "      <td>El Carril</td>\n",
       "    </tr>\n",
       "    <tr>\n",
       "      <th>891</th>\n",
       "      <td>3830</td>\n",
       "      <td>La Caldera</td>\n",
       "    </tr>\n",
       "    <tr>\n",
       "      <th>894</th>\n",
       "      <td>5850</td>\n",
       "      <td>Potrerillos</td>\n",
       "    </tr>\n",
       "    <tr>\n",
       "      <th>896</th>\n",
       "      <td>175</td>\n",
       "      <td>Florencio Varela, Bosques</td>\n",
       "    </tr>\n",
       "  </tbody>\n",
       "</table>\n",
       "<p>164 rows × 2 columns</p>\n",
       "</div>"
      ],
      "text/plain": [
       "     id_Localidad                            nombre\n",
       "121          2149                    Villa Giardino\n",
       "158           272  Lincoln, Coronel Martinez De Hoz\n",
       "185          3091                              Olta\n",
       "198           458      Hipólito Yrigoyen, Henderson\n",
       "332          1684                     Huerta Grande\n",
       "..            ...                               ...\n",
       "883          4705                     Zenon Pereyra\n",
       "887          3780                         El Carril\n",
       "891          3830                        La Caldera\n",
       "894          5850                       Potrerillos\n",
       "896           175         Florencio Varela, Bosques\n",
       "\n",
       "[164 rows x 2 columns]"
      ]
     },
     "execution_count": 139,
     "metadata": {},
     "output_type": "execute_result"
    }
   ],
   "source": [
    "#Analizamos las localidades que ya no estan\n",
    "list_loc = pdv_ubicacion.id_Localidad.drop_duplicates().tolist()\n",
    "localidades[~localidades['id_Localidad'].isin(list_loc)]"
   ]
  },
  {
   "cell_type": "markdown",
   "metadata": {
    "id": "DQcsPN0rEHyO"
   },
   "source": [
    "De la unión de pdv y localidades, se pueden realizar las siguientes observaciones:\n",
    "\n",
    "1.   Se mantuvo la totalidad de registros de la base de pdv (sin pérdidas).\n",
    "2.   Hay 164 localidades que no figuran en el nuevo dataset."
   ]
  },
  {
   "cell_type": "markdown",
   "metadata": {
    "id": "QNnw8aWYBFy7"
   },
   "source": [
    "##### Merge entre pdv_ubicacion y provincias"
   ]
  },
  {
   "cell_type": "code",
   "execution_count": 140,
   "metadata": {
    "colab": {
     "base_uri": "https://localhost:8080/"
    },
    "id": "lXVcUbOsGyGG",
    "outputId": "66fb4a03-3634-4024-da1d-ed7344376e05"
   },
   "outputs": [
    {
     "name": "stdout",
     "output_type": "stream",
     "text": [
      "Registros pdv_ubicacion:  1850\n",
      "Registros provincias:  78\n"
     ]
    }
   ],
   "source": [
    "print('Registros pdv_ubicacion: ',len(pdv_ubicacion))\n",
    "print('Registros provincias: ',len(provincias))"
   ]
  },
  {
   "cell_type": "code",
   "execution_count": 141,
   "metadata": {
    "colab": {
     "base_uri": "https://localhost:8080/"
    },
    "id": "E7dHCm2TGzWG",
    "outputId": "53c648f5-d30a-4613-a76e-3987075609a3"
   },
   "outputs": [
    {
     "name": "stdout",
     "output_type": "stream",
     "text": [
      "id_Provincia de localidades:  78\n",
      "id_Provincia de pdv_ubicacion:  25\n",
      "Diferencia:  53\n"
     ]
    }
   ],
   "source": [
    "print('id_Provincia de localidades: ',provincias.id_Provincia.nunique())\n",
    "print('id_Provincia de pdv_ubicacion: ',pdv_ubicacion.id_Provincia.nunique())\n",
    "print('Diferencia: ',provincias.id_Provincia.nunique()-pdv_ubicacion.id_Provincia.nunique())"
   ]
  },
  {
   "cell_type": "code",
   "execution_count": 142,
   "metadata": {
    "colab": {
     "base_uri": "https://localhost:8080/"
    },
    "id": "J-7mhN96G0Wr",
    "outputId": "f2d2e8e3-5e97-41f6-f67f-5a30983ab8b6"
   },
   "outputs": [
    {
     "data": {
      "text/html": [
       "<div>\n",
       "<style scoped>\n",
       "    .dataframe tbody tr th:only-of-type {\n",
       "        vertical-align: middle;\n",
       "    }\n",
       "\n",
       "    .dataframe tbody tr th {\n",
       "        vertical-align: top;\n",
       "    }\n",
       "\n",
       "    .dataframe thead th {\n",
       "        text-align: right;\n",
       "    }\n",
       "</style>\n",
       "<table border=\"1\" class=\"dataframe\">\n",
       "  <thead>\n",
       "    <tr style=\"text-align: right;\">\n",
       "      <th></th>\n",
       "      <th>id_Provincia</th>\n",
       "      <th>nombre</th>\n",
       "    </tr>\n",
       "  </thead>\n",
       "  <tbody>\n",
       "    <tr>\n",
       "      <th>22</th>\n",
       "      <td>121</td>\n",
       "      <td>Santiago</td>\n",
       "    </tr>\n",
       "    <tr>\n",
       "      <th>23</th>\n",
       "      <td>122</td>\n",
       "      <td>Cordillera</td>\n",
       "    </tr>\n",
       "    <tr>\n",
       "      <th>24</th>\n",
       "      <td>92</td>\n",
       "      <td>Valparaíso</td>\n",
       "    </tr>\n",
       "    <tr>\n",
       "      <th>25</th>\n",
       "      <td>48</td>\n",
       "      <td>Los Andes</td>\n",
       "    </tr>\n",
       "    <tr>\n",
       "      <th>26</th>\n",
       "      <td>49</td>\n",
       "      <td>Quillota</td>\n",
       "    </tr>\n",
       "  </tbody>\n",
       "</table>\n",
       "</div>"
      ],
      "text/plain": [
       "    id_Provincia      nombre\n",
       "22           121    Santiago\n",
       "23           122  Cordillera\n",
       "24            92  Valparaíso\n",
       "25            48   Los Andes\n",
       "26            49    Quillota"
      ]
     },
     "execution_count": 142,
     "metadata": {},
     "output_type": "execute_result"
    }
   ],
   "source": [
    "#Analizamos las localidades que ya no estan\n",
    "list_prov = pdv_ubicacion.id_Provincia.drop_duplicates().tolist()\n",
    "provincias[~provincias['id_Provincia'].isin(list_prov)][:5]"
   ]
  },
  {
   "cell_type": "markdown",
   "metadata": {
    "id": "tbFzDqjCHaK_"
   },
   "source": [
    "De la unión de pdv_ubicacion y provincias, se pueden realizar las siguientes observaciones:\n",
    "\n",
    "1.   Se mantuvo la totalidad de registros de la base de pdv_ubicacion (sin pérdidas).\n",
    "2.   Hay 53 provincias que no figuran en el nuevo dataset. Hay varias de estas provincias que corresponden a otros países, dado que el dataset posee solo registros de puntos de ventas de Argentina no habría problema de que quedaran descartadas."
   ]
  },
  {
   "cell_type": "markdown",
   "metadata": {
    "id": "07Dv2sGMBZ8c"
   },
   "source": [
    "##### Merge entre pdv_ubicacion y paises"
   ]
  },
  {
   "cell_type": "code",
   "execution_count": 143,
   "metadata": {
    "colab": {
     "base_uri": "https://localhost:8080/"
    },
    "id": "jHX7mVQFB1mC",
    "outputId": "95d695ee-c308-4d1c-b613-49c06d1fba22"
   },
   "outputs": [
    {
     "name": "stdout",
     "output_type": "stream",
     "text": [
      "Registros pdv_ubicacion:  1850\n",
      "Registros paises:  5\n"
     ]
    }
   ],
   "source": [
    "print('Registros pdv_ubicacion: ',len(pdv_ubicacion))\n",
    "print('Registros paises: ',len(paises))"
   ]
  },
  {
   "cell_type": "code",
   "execution_count": 144,
   "metadata": {
    "colab": {
     "base_uri": "https://localhost:8080/"
    },
    "id": "G4QxmqPEITRi",
    "outputId": "b1c1f11c-4b89-456f-8638-ff18df7f6793"
   },
   "outputs": [
    {
     "name": "stdout",
     "output_type": "stream",
     "text": [
      "id_Pais de paises:  5\n",
      "id_Pais de pdv_ubicacion:  2\n",
      "Diferencia:  3\n"
     ]
    }
   ],
   "source": [
    "print('id_Pais de paises: ',paises.id_Pais.nunique())\n",
    "print('id_Pais de pdv_ubicacion: ',pdv_ubicacion.id_Pais.nunique())\n",
    "print('Diferencia: ',paises.id_Pais.nunique()-pdv_ubicacion.id_Pais.nunique())"
   ]
  },
  {
   "cell_type": "code",
   "execution_count": 145,
   "metadata": {
    "colab": {
     "base_uri": "https://localhost:8080/"
    },
    "id": "uI6CTP0zIUlE",
    "outputId": "477dcea3-03f3-4f6f-ef53-dedf8315f463"
   },
   "outputs": [
    {
     "data": {
      "text/html": [
       "<div>\n",
       "<style scoped>\n",
       "    .dataframe tbody tr th:only-of-type {\n",
       "        vertical-align: middle;\n",
       "    }\n",
       "\n",
       "    .dataframe tbody tr th {\n",
       "        vertical-align: top;\n",
       "    }\n",
       "\n",
       "    .dataframe thead th {\n",
       "        text-align: right;\n",
       "    }\n",
       "</style>\n",
       "<table border=\"1\" class=\"dataframe\">\n",
       "  <thead>\n",
       "    <tr style=\"text-align: right;\">\n",
       "      <th></th>\n",
       "      <th>id_Pais</th>\n",
       "      <th>nombre</th>\n",
       "    </tr>\n",
       "  </thead>\n",
       "  <tbody>\n",
       "    <tr>\n",
       "      <th>1</th>\n",
       "      <td>2</td>\n",
       "      <td>Chile</td>\n",
       "    </tr>\n",
       "    <tr>\n",
       "      <th>3</th>\n",
       "      <td>5</td>\n",
       "      <td>Paraguay</td>\n",
       "    </tr>\n",
       "    <tr>\n",
       "      <th>4</th>\n",
       "      <td>7</td>\n",
       "      <td>Bolivia</td>\n",
       "    </tr>\n",
       "  </tbody>\n",
       "</table>\n",
       "</div>"
      ],
      "text/plain": [
       "   id_Pais    nombre\n",
       "1        2     Chile\n",
       "3        5  Paraguay\n",
       "4        7   Bolivia"
      ]
     },
     "execution_count": 145,
     "metadata": {},
     "output_type": "execute_result"
    }
   ],
   "source": [
    "#Analizamos las paises que ya no estan\n",
    "list_pais = pdv_ubicacion.id_Pais.drop_duplicates().tolist()\n",
    "paises[~paises['id_Pais'].isin(list_pais)]"
   ]
  },
  {
   "cell_type": "markdown",
   "metadata": {
    "id": "ixE45vawIWAk"
   },
   "source": [
    "De la unión de pdv_ubicacion y paises, se pueden realizar las siguientes observaciones:\n",
    "\n",
    "1.   Se mantuvo la totalidad de registros de la base de pdv_ubicacion (sin pérdidas).\n",
    "2.   Hay 53 provincias que no figuran en el nuevo dataset. Hay varias de estas provincias que corresponden a otros países, dado que el dataset posee solo registros de puntos de ventas de Argentina no habría problema de que quedaran descartadas."
   ]
  },
  {
   "cell_type": "markdown",
   "metadata": {
    "id": "QQPIawj-BfhV"
   },
   "source": [
    "##### Merge ventas_producto y pdv_ubicacion"
   ]
  },
  {
   "cell_type": "code",
   "execution_count": 146,
   "metadata": {
    "colab": {
     "base_uri": "https://localhost:8080/"
    },
    "id": "5j-rYWqdJDzj",
    "outputId": "ba1fcb53-cf81-44ec-b81a-7d00afcc4075"
   },
   "outputs": [
    {
     "name": "stdout",
     "output_type": "stream",
     "text": [
      "Registros ventas_producto:  5638505\n",
      "Registros pdv_ubicacion:  1850\n",
      "Registros ventas_producto_pdv:  5638505\n"
     ]
    }
   ],
   "source": [
    "print('Registros ventas_producto: ',len(ventas_producto))\n",
    "print('Registros pdv_ubicacion: ',len(pdv_ubicacion))\n",
    "print('Registros ventas_producto_pdv: ',len(ventas_producto_pdv))"
   ]
  },
  {
   "cell_type": "markdown",
   "metadata": {
    "id": "--s52IOA3RUN"
   },
   "source": [
    "#### 4.2 Luego de aplicar el checklist de limpieza tiene features resultantes de tipo object? que decisión tomarán al respecto?"
   ]
  },
  {
   "cell_type": "code",
   "execution_count": 147,
   "metadata": {
    "colab": {
     "base_uri": "https://localhost:8080/"
    },
    "id": "MMvWOpV43RUN",
    "outputId": "296439e4-1544-418c-91d8-0391b114e491"
   },
   "outputs": [
    {
     "name": "stderr",
     "output_type": "stream",
     "text": [
      "C:\\Users\\Sofia\\anaconda3\\lib\\site-packages\\pandas\\core\\indexing.py:1676: SettingWithCopyWarning: \n",
      "A value is trying to be set on a copy of a slice from a DataFrame.\n",
      "Try using .loc[row_indexer,col_indexer] = value instead\n",
      "\n",
      "See the caveats in the documentation: https://pandas.pydata.org/pandas-docs/stable/user_guide/indexing.html#returning-a-view-versus-a-copy\n",
      "  self._setitem_single_column(ilocs[0], value, pi)\n"
     ]
    }
   ],
   "source": [
    "#Se convirtieorn las variables de sku, año y mes a string, para que al hacer el encoding se tomen como categoricas y no como numericas\n",
    "df.loc[:, 'sku'] = df.loc[:, 'sku'].astype(str)\n",
    "df.loc[:, 'mes'] = df.loc[:, 'mes'].astype(str) \n",
    "df.loc[:, 'anio'] = df.loc[:, 'anio'].astype(str)"
   ]
  },
  {
   "cell_type": "markdown",
   "metadata": {
    "id": "ieHuOQtD3RUN"
   },
   "source": [
    "#### 4.3 Que decisión se tomó con respecto a los puntos de venta que no tienen información de localización tales como paises, provincias y localidades?"
   ]
  },
  {
   "cell_type": "code",
   "execution_count": 148,
   "metadata": {
    "id": "_lFlSQ7c3RUN"
   },
   "outputs": [],
   "source": [
    "#Se eliminaron (informe se desarrolla más este punto)\n",
    "df = df.dropna(subset=['ubicacion'])"
   ]
  },
  {
   "cell_type": "markdown",
   "metadata": {
    "id": "XZNxh1TH3RUO"
   },
   "source": [
    "#### 4.4 Que decisión se tomó con aquellas filas cuya cantidad_pedida era menor o igual a 0?"
   ]
  },
  {
   "cell_type": "markdown",
   "metadata": {
    "id": "WeKopbI8QUkG"
   },
   "source": [
    "Se sacaron dado que con el filtrado realizado para outliers se eliminaron. "
   ]
  },
  {
   "cell_type": "markdown",
   "metadata": {
    "id": "RliXob5w3RUO"
   },
   "source": [
    "#### 4.5 El dataset tiene la feature presentacion en NaN o string vacío?. En caso afirmativo, que decisión condieran pertinente tomar al respecto?"
   ]
  },
  {
   "cell_type": "code",
   "execution_count": 149,
   "metadata": {
    "colab": {
     "base_uri": "https://localhost:8080/"
    },
    "id": "NM51eTCQQWXE",
    "outputId": "f5d106f1-9e3e-45a4-e7b8-6ce192ccbeef"
   },
   "outputs": [
    {
     "data": {
      "text/plain": [
       "array(['Baldes', 'Kilogramos', 'Unidades', 'Pack', ' ', 'No Asignada'],\n",
       "      dtype=object)"
      ]
     },
     "execution_count": 149,
     "metadata": {},
     "output_type": "execute_result"
    }
   ],
   "source": [
    "df.presentacion.unique()"
   ]
  },
  {
   "cell_type": "code",
   "execution_count": 150,
   "metadata": {
    "colab": {
     "base_uri": "https://localhost:8080/"
    },
    "id": "pBxgRPjZ3RUO",
    "outputId": "bb8adf4b-b547-43f5-b571-0e3566304ac5",
    "scrolled": true
   },
   "outputs": [
    {
     "data": {
      "text/plain": [
       "1583"
      ]
     },
     "execution_count": 150,
     "metadata": {},
     "output_type": "execute_result"
    }
   ],
   "source": [
    "len(df[df.presentacion==' ']) # Dado que no son una gran cantidad de caso se juntan con los 'No Asignada'."
   ]
  },
  {
   "cell_type": "code",
   "execution_count": 151,
   "metadata": {
    "colab": {
     "base_uri": "https://localhost:8080/"
    },
    "id": "AQ0ZbF-73RUO",
    "outputId": "c51cd1fb-6e64-474c-f007-2502fd061561"
   },
   "outputs": [
    {
     "data": {
      "text/plain": [
       "250851"
      ]
     },
     "execution_count": 151,
     "metadata": {},
     "output_type": "execute_result"
    }
   ],
   "source": [
    "len(df[df.presentacion=='No Asignada']) #El número de casos es alto como para eliminarlos, por el momento se dejan."
   ]
  },
  {
   "cell_type": "code",
   "execution_count": 152,
   "metadata": {
    "colab": {
     "base_uri": "https://localhost:8080/"
    },
    "id": "21Jj7IHs3RUO",
    "outputId": "b404a223-f1a9-421c-8615-9f5e990ffa6a",
    "scrolled": true
   },
   "outputs": [
    {
     "name": "stderr",
     "output_type": "stream",
     "text": [
      "C:\\Users\\Sofia\\anaconda3\\lib\\site-packages\\pandas\\core\\indexing.py:1720: SettingWithCopyWarning: \n",
      "A value is trying to be set on a copy of a slice from a DataFrame.\n",
      "Try using .loc[row_indexer,col_indexer] = value instead\n",
      "\n",
      "See the caveats in the documentation: https://pandas.pydata.org/pandas-docs/stable/user_guide/indexing.html#returning-a-view-versus-a-copy\n",
      "  self._setitem_single_column(loc, value, pi)\n"
     ]
    }
   ],
   "source": [
    "df.loc[df.presentacion==' ', 'presentacion'] = 'No Asignada'"
   ]
  },
  {
   "cell_type": "markdown",
   "metadata": {
    "id": "hrrTKR4C3RUO"
   },
   "source": [
    "#### 4.6 El dataset tiene la feature marca en NaN o con string vacíos?. En caso afirmativo, que decisión condieran pertinente tomar al respecto?"
   ]
  },
  {
   "cell_type": "code",
   "execution_count": 153,
   "metadata": {
    "colab": {
     "base_uri": "https://localhost:8080/"
    },
    "id": "-WeN9P5QR3oL",
    "outputId": "25755192-488f-437f-9e7f-edaad045545d"
   },
   "outputs": [
    {
     "data": {
      "text/plain": [
       "array(['GRIDO', 'SIN DEFINIR', 'FRIZZIO', 'VIA BANA'], dtype=object)"
      ]
     },
     "execution_count": 153,
     "metadata": {},
     "output_type": "execute_result"
    }
   ],
   "source": [
    "df.marca.unique()"
   ]
  },
  {
   "cell_type": "code",
   "execution_count": 154,
   "metadata": {
    "colab": {
     "base_uri": "https://localhost:8080/"
    },
    "id": "-hgAOz8J3RUO",
    "outputId": "5aa10ebf-bffd-4148-9131-f09f16d18e1b"
   },
   "outputs": [
    {
     "data": {
      "text/plain": [
       "741251"
      ]
     },
     "execution_count": 154,
     "metadata": {},
     "output_type": "execute_result"
    }
   ],
   "source": [
    "#Categoría \"SIN DEFINIR\". Dado que son muchos casos se mantiene.\n",
    "len(df[df.marca=='SIN DEFINIR']) "
   ]
  },
  {
   "cell_type": "markdown",
   "metadata": {
    "id": "ECQX0SSN3RUP"
   },
   "source": [
    "#### 4.7 Tomaron alguna decisión adicional que redujo la cantidad de filas en el dataset resultante?"
   ]
  },
  {
   "cell_type": "code",
   "execution_count": 155,
   "metadata": {
    "colab": {
     "base_uri": "https://localhost:8080/"
    },
    "id": "TKzU_aN53RUP",
    "outputId": "347cadc0-cde7-4489-c859-aa02007cfa0e",
    "scrolled": false
   },
   "outputs": [
    {
     "name": "stderr",
     "output_type": "stream",
     "text": [
      "C:\\Users\\Sofia\\anaconda3\\lib\\site-packages\\pandas\\core\\indexing.py:1676: SettingWithCopyWarning: \n",
      "A value is trying to be set on a copy of a slice from a DataFrame.\n",
      "Try using .loc[row_indexer,col_indexer] = value instead\n",
      "\n",
      "See the caveats in the documentation: https://pandas.pydata.org/pandas-docs/stable/user_guide/indexing.html#returning-a-view-versus-a-copy\n",
      "  self._setitem_single_column(ilocs[0], value, pi)\n"
     ]
    },
    {
     "data": {
      "text/html": [
       "<div>\n",
       "<style scoped>\n",
       "    .dataframe tbody tr th:only-of-type {\n",
       "        vertical-align: middle;\n",
       "    }\n",
       "\n",
       "    .dataframe tbody tr th {\n",
       "        vertical-align: top;\n",
       "    }\n",
       "\n",
       "    .dataframe thead th {\n",
       "        text-align: right;\n",
       "    }\n",
       "</style>\n",
       "<table border=\"1\" class=\"dataframe\">\n",
       "  <thead>\n",
       "    <tr style=\"text-align: right;\">\n",
       "      <th></th>\n",
       "      <th>0</th>\n",
       "    </tr>\n",
       "  </thead>\n",
       "  <tbody>\n",
       "    <tr>\n",
       "      <th>mes</th>\n",
       "      <td>0</td>\n",
       "    </tr>\n",
       "    <tr>\n",
       "      <th>anio</th>\n",
       "      <td>0</td>\n",
       "    </tr>\n",
       "    <tr>\n",
       "      <th>sku</th>\n",
       "      <td>0</td>\n",
       "    </tr>\n",
       "    <tr>\n",
       "      <th>marca</th>\n",
       "      <td>0</td>\n",
       "    </tr>\n",
       "    <tr>\n",
       "      <th>presentacion</th>\n",
       "      <td>0</td>\n",
       "    </tr>\n",
       "    <tr>\n",
       "      <th>categoria</th>\n",
       "      <td>0</td>\n",
       "    </tr>\n",
       "    <tr>\n",
       "      <th>cantidad_pedida</th>\n",
       "      <td>0</td>\n",
       "    </tr>\n",
       "    <tr>\n",
       "      <th>unidadkg</th>\n",
       "      <td>0</td>\n",
       "    </tr>\n",
       "    <tr>\n",
       "      <th>id_proveedor</th>\n",
       "      <td>0</td>\n",
       "    </tr>\n",
       "    <tr>\n",
       "      <th>ubicacion</th>\n",
       "      <td>0</td>\n",
       "    </tr>\n",
       "    <tr>\n",
       "      <th>Provincia</th>\n",
       "      <td>0</td>\n",
       "    </tr>\n",
       "  </tbody>\n",
       "</table>\n",
       "</div>"
      ],
      "text/plain": [
       "                 0\n",
       "mes              0\n",
       "anio             0\n",
       "sku              0\n",
       "marca            0\n",
       "presentacion     0\n",
       "categoria        0\n",
       "cantidad_pedida  0\n",
       "unidadkg         0\n",
       "id_proveedor     0\n",
       "ubicacion        0\n",
       "Provincia        0"
      ]
     },
     "execution_count": 155,
     "metadata": {},
     "output_type": "execute_result"
    }
   ],
   "source": [
    "df.loc[:, 'id_proveedor'] = df.loc[:, 'id_proveedor'].astype(int)\n",
    "df.loc[:, 'id_proveedor'] = df.loc[:, 'id_proveedor'].astype(str)\n",
    "df.isna().sum().to_frame()"
   ]
  },
  {
   "cell_type": "code",
   "execution_count": 156,
   "metadata": {
    "colab": {
     "base_uri": "https://localhost:8080/"
    },
    "id": "Gtx3YAJY3RUP",
    "outputId": "15693471-3f48-4bfb-c1ee-4b72c31d28c7"
   },
   "outputs": [
    {
     "data": {
      "text/html": [
       "<div>\n",
       "<style scoped>\n",
       "    .dataframe tbody tr th:only-of-type {\n",
       "        vertical-align: middle;\n",
       "    }\n",
       "\n",
       "    .dataframe tbody tr th {\n",
       "        vertical-align: top;\n",
       "    }\n",
       "\n",
       "    .dataframe thead th {\n",
       "        text-align: right;\n",
       "    }\n",
       "</style>\n",
       "<table border=\"1\" class=\"dataframe\">\n",
       "  <thead>\n",
       "    <tr style=\"text-align: right;\">\n",
       "      <th></th>\n",
       "      <th>mes</th>\n",
       "      <th>anio</th>\n",
       "      <th>sku</th>\n",
       "      <th>marca</th>\n",
       "      <th>presentacion</th>\n",
       "      <th>categoria</th>\n",
       "      <th>cantidad_pedida</th>\n",
       "      <th>unidadkg</th>\n",
       "      <th>id_proveedor</th>\n",
       "      <th>ubicacion</th>\n",
       "      <th>Provincia</th>\n",
       "    </tr>\n",
       "  </thead>\n",
       "  <tbody>\n",
       "    <tr>\n",
       "      <th>2886</th>\n",
       "      <td>1</td>\n",
       "      <td>2018</td>\n",
       "      <td>266</td>\n",
       "      <td>GRIDO</td>\n",
       "      <td>Baldes</td>\n",
       "      <td>06 - SABORES AL AGUA</td>\n",
       "      <td>1.00</td>\n",
       "      <td>7.80</td>\n",
       "      <td>2</td>\n",
       "      <td>Montecristo, Córdoba</td>\n",
       "      <td>Córdoba</td>\n",
       "    </tr>\n",
       "    <tr>\n",
       "      <th>2887</th>\n",
       "      <td>1</td>\n",
       "      <td>2018</td>\n",
       "      <td>263</td>\n",
       "      <td>GRIDO</td>\n",
       "      <td>Baldes</td>\n",
       "      <td>06 - SABORES AL AGUA</td>\n",
       "      <td>6.00</td>\n",
       "      <td>7.80</td>\n",
       "      <td>2</td>\n",
       "      <td>Montecristo, Córdoba</td>\n",
       "      <td>Córdoba</td>\n",
       "    </tr>\n",
       "    <tr>\n",
       "      <th>2888</th>\n",
       "      <td>1</td>\n",
       "      <td>2018</td>\n",
       "      <td>861</td>\n",
       "      <td>GRIDO</td>\n",
       "      <td>Kilogramos</td>\n",
       "      <td>06 - SABORES AL AGUA</td>\n",
       "      <td>1.00</td>\n",
       "      <td>7.80</td>\n",
       "      <td>2</td>\n",
       "      <td>Montecristo, Córdoba</td>\n",
       "      <td>Córdoba</td>\n",
       "    </tr>\n",
       "    <tr>\n",
       "      <th>2889</th>\n",
       "      <td>1</td>\n",
       "      <td>2018</td>\n",
       "      <td>1103</td>\n",
       "      <td>GRIDO</td>\n",
       "      <td>Unidades</td>\n",
       "      <td>06 - SABORES AL AGUA</td>\n",
       "      <td>3.00</td>\n",
       "      <td>7.80</td>\n",
       "      <td>2</td>\n",
       "      <td>Montecristo, Córdoba</td>\n",
       "      <td>Córdoba</td>\n",
       "    </tr>\n",
       "    <tr>\n",
       "      <th>2890</th>\n",
       "      <td>1</td>\n",
       "      <td>2018</td>\n",
       "      <td>1695</td>\n",
       "      <td>GRIDO</td>\n",
       "      <td>Baldes</td>\n",
       "      <td>07 - SABORES COMUNES</td>\n",
       "      <td>3.00</td>\n",
       "      <td>7.80</td>\n",
       "      <td>2</td>\n",
       "      <td>Montecristo, Córdoba</td>\n",
       "      <td>Córdoba</td>\n",
       "    </tr>\n",
       "    <tr>\n",
       "      <th>...</th>\n",
       "      <td>...</td>\n",
       "      <td>...</td>\n",
       "      <td>...</td>\n",
       "      <td>...</td>\n",
       "      <td>...</td>\n",
       "      <td>...</td>\n",
       "      <td>...</td>\n",
       "      <td>...</td>\n",
       "      <td>...</td>\n",
       "      <td>...</td>\n",
       "      <td>...</td>\n",
       "    </tr>\n",
       "    <tr>\n",
       "      <th>5606771</th>\n",
       "      <td>12</td>\n",
       "      <td>2019</td>\n",
       "      <td>613</td>\n",
       "      <td>SIN DEFINIR</td>\n",
       "      <td>Unidades</td>\n",
       "      <td>0007 - BAÑOS, CAPUCCINO, LECHE Y SALSAS</td>\n",
       "      <td>2.00</td>\n",
       "      <td>12.93</td>\n",
       "      <td>3</td>\n",
       "      <td>Córdoba, Córdoba</td>\n",
       "      <td>Córdoba</td>\n",
       "    </tr>\n",
       "    <tr>\n",
       "      <th>5606772</th>\n",
       "      <td>12</td>\n",
       "      <td>2019</td>\n",
       "      <td>1097</td>\n",
       "      <td>SIN DEFINIR</td>\n",
       "      <td>Unidades</td>\n",
       "      <td>0008 - DECORACION y FRUTOS</td>\n",
       "      <td>1.00</td>\n",
       "      <td>0.00</td>\n",
       "      <td>3</td>\n",
       "      <td>Córdoba, Córdoba</td>\n",
       "      <td>Córdoba</td>\n",
       "    </tr>\n",
       "    <tr>\n",
       "      <th>5606813</th>\n",
       "      <td>12</td>\n",
       "      <td>2019</td>\n",
       "      <td>1112</td>\n",
       "      <td>SIN DEFINIR</td>\n",
       "      <td>Unidades</td>\n",
       "      <td>0004 - CUCURUCHOS , CONOS Y VASOS DE  PASTA</td>\n",
       "      <td>1.00</td>\n",
       "      <td>5.90</td>\n",
       "      <td>3</td>\n",
       "      <td>Córdoba, Córdoba</td>\n",
       "      <td>Córdoba</td>\n",
       "    </tr>\n",
       "    <tr>\n",
       "      <th>5606819</th>\n",
       "      <td>12</td>\n",
       "      <td>2019</td>\n",
       "      <td>613</td>\n",
       "      <td>SIN DEFINIR</td>\n",
       "      <td>Unidades</td>\n",
       "      <td>0007 - BAÑOS, CAPUCCINO, LECHE Y SALSAS</td>\n",
       "      <td>1.00</td>\n",
       "      <td>12.93</td>\n",
       "      <td>3</td>\n",
       "      <td>Córdoba, Córdoba</td>\n",
       "      <td>Córdoba</td>\n",
       "    </tr>\n",
       "    <tr>\n",
       "      <th>5606820</th>\n",
       "      <td>12</td>\n",
       "      <td>2019</td>\n",
       "      <td>3139</td>\n",
       "      <td>SIN DEFINIR</td>\n",
       "      <td>Unidades</td>\n",
       "      <td>0008 - DECORACION y FRUTOS</td>\n",
       "      <td>1.00</td>\n",
       "      <td>1.00</td>\n",
       "      <td>3</td>\n",
       "      <td>Córdoba, Córdoba</td>\n",
       "      <td>Córdoba</td>\n",
       "    </tr>\n",
       "  </tbody>\n",
       "</table>\n",
       "<p>4319258 rows × 11 columns</p>\n",
       "</div>"
      ],
      "text/plain": [
       "        mes  anio   sku        marca presentacion  \\\n",
       "2886      1  2018   266        GRIDO       Baldes   \n",
       "2887      1  2018   263        GRIDO       Baldes   \n",
       "2888      1  2018   861        GRIDO   Kilogramos   \n",
       "2889      1  2018  1103        GRIDO     Unidades   \n",
       "2890      1  2018  1695        GRIDO       Baldes   \n",
       "...      ..   ...   ...          ...          ...   \n",
       "5606771  12  2019   613  SIN DEFINIR     Unidades   \n",
       "5606772  12  2019  1097  SIN DEFINIR     Unidades   \n",
       "5606813  12  2019  1112  SIN DEFINIR     Unidades   \n",
       "5606819  12  2019   613  SIN DEFINIR     Unidades   \n",
       "5606820  12  2019  3139  SIN DEFINIR     Unidades   \n",
       "\n",
       "                                           categoria  cantidad_pedida  \\\n",
       "2886                            06 - SABORES AL AGUA             1.00   \n",
       "2887                            06 - SABORES AL AGUA             6.00   \n",
       "2888                            06 - SABORES AL AGUA             1.00   \n",
       "2889                            06 - SABORES AL AGUA             3.00   \n",
       "2890                            07 - SABORES COMUNES             3.00   \n",
       "...                                              ...              ...   \n",
       "5606771      0007 - BAÑOS, CAPUCCINO, LECHE Y SALSAS             2.00   \n",
       "5606772                   0008 - DECORACION y FRUTOS             1.00   \n",
       "5606813  0004 - CUCURUCHOS , CONOS Y VASOS DE  PASTA             1.00   \n",
       "5606819      0007 - BAÑOS, CAPUCCINO, LECHE Y SALSAS             1.00   \n",
       "5606820                   0008 - DECORACION y FRUTOS             1.00   \n",
       "\n",
       "        unidadkg id_proveedor             ubicacion Provincia  \n",
       "2886        7.80            2  Montecristo, Córdoba   Córdoba  \n",
       "2887        7.80            2  Montecristo, Córdoba   Córdoba  \n",
       "2888        7.80            2  Montecristo, Córdoba   Córdoba  \n",
       "2889        7.80            2  Montecristo, Córdoba   Córdoba  \n",
       "2890        7.80            2  Montecristo, Córdoba   Córdoba  \n",
       "...          ...          ...                   ...       ...  \n",
       "5606771    12.93            3      Córdoba, Córdoba   Córdoba  \n",
       "5606772     0.00            3      Córdoba, Córdoba   Córdoba  \n",
       "5606813     5.90            3      Córdoba, Córdoba   Córdoba  \n",
       "5606819    12.93            3      Córdoba, Córdoba   Córdoba  \n",
       "5606820     1.00            3      Córdoba, Córdoba   Córdoba  \n",
       "\n",
       "[4319258 rows x 11 columns]"
      ]
     },
     "execution_count": 156,
     "metadata": {},
     "output_type": "execute_result"
    }
   ],
   "source": [
    "#Listado de Categorias NO comestibles\n",
    "listado_0 = ['0010 - PRODUCTOS PROMOCIONALES','0001 - GRIDO MARKET','0006 - PRODUCTOS COMPOSTABLES /BIODEGRADABLES' ,\n",
    "             '07 - ACCESORIOS, UTENSILIOS Y REPUESTOS ','0005 - ENVASES TERMICOS Y VASOS', '06 - PRODUCTOS DE LIMPIEZA ',\n",
    "             '0006 - EQUIPOS', '0007 - ACCESORIOS Y REPUESTOS PARA EQUIPOS DE FRIO', '0008 - MUEBLES', '09 - DISPENSER', \n",
    "             '0005 - CARTELERIA, INSTITUCIONALES Y PLOTEOS', '0010 - PACKAGING', '0001 - INDUMENTARIA ', \n",
    "             '0009 - DESCARTABLES ', '0012 - MATERIAL MKT', '19 - MATERIAS PRIMAS']\n",
    "#Sacamos categorias no comestibles (según listado definido)\n",
    "df = df[~df['categoria'].isin(listado_0)]\n",
    "df #total base de datos 4,319,258"
   ]
  },
  {
   "cell_type": "code",
   "execution_count": 157,
   "metadata": {
    "colab": {
     "base_uri": "https://localhost:8080/"
    },
    "id": "7T9dwSat3RUP",
    "outputId": "0f9e9209-f3dc-4300-c475-1d1c0c763efa",
    "scrolled": true
   },
   "outputs": [
    {
     "data": {
      "text/html": [
       "<div>\n",
       "<style scoped>\n",
       "    .dataframe tbody tr th:only-of-type {\n",
       "        vertical-align: middle;\n",
       "    }\n",
       "\n",
       "    .dataframe tbody tr th {\n",
       "        vertical-align: top;\n",
       "    }\n",
       "\n",
       "    .dataframe thead th {\n",
       "        text-align: right;\n",
       "    }\n",
       "</style>\n",
       "<table border=\"1\" class=\"dataframe\">\n",
       "  <thead>\n",
       "    <tr style=\"text-align: right;\">\n",
       "      <th></th>\n",
       "      <th>mes</th>\n",
       "      <th>anio</th>\n",
       "      <th>sku</th>\n",
       "      <th>marca</th>\n",
       "      <th>presentacion</th>\n",
       "      <th>categoria</th>\n",
       "      <th>cantidad_pedida</th>\n",
       "      <th>unidadkg</th>\n",
       "      <th>id_proveedor</th>\n",
       "      <th>ubicacion</th>\n",
       "      <th>Provincia</th>\n",
       "    </tr>\n",
       "  </thead>\n",
       "  <tbody>\n",
       "    <tr>\n",
       "      <th>2886</th>\n",
       "      <td>1</td>\n",
       "      <td>2018</td>\n",
       "      <td>266</td>\n",
       "      <td>GRIDO</td>\n",
       "      <td>Baldes</td>\n",
       "      <td>06 - SABORES AL AGUA</td>\n",
       "      <td>1.00</td>\n",
       "      <td>7.80</td>\n",
       "      <td>2</td>\n",
       "      <td>Montecristo, Córdoba</td>\n",
       "      <td>Córdoba</td>\n",
       "    </tr>\n",
       "    <tr>\n",
       "      <th>2887</th>\n",
       "      <td>1</td>\n",
       "      <td>2018</td>\n",
       "      <td>263</td>\n",
       "      <td>GRIDO</td>\n",
       "      <td>Baldes</td>\n",
       "      <td>06 - SABORES AL AGUA</td>\n",
       "      <td>6.00</td>\n",
       "      <td>7.80</td>\n",
       "      <td>2</td>\n",
       "      <td>Montecristo, Córdoba</td>\n",
       "      <td>Córdoba</td>\n",
       "    </tr>\n",
       "    <tr>\n",
       "      <th>2888</th>\n",
       "      <td>1</td>\n",
       "      <td>2018</td>\n",
       "      <td>861</td>\n",
       "      <td>GRIDO</td>\n",
       "      <td>Kilogramos</td>\n",
       "      <td>06 - SABORES AL AGUA</td>\n",
       "      <td>1.00</td>\n",
       "      <td>7.80</td>\n",
       "      <td>2</td>\n",
       "      <td>Montecristo, Córdoba</td>\n",
       "      <td>Córdoba</td>\n",
       "    </tr>\n",
       "    <tr>\n",
       "      <th>2889</th>\n",
       "      <td>1</td>\n",
       "      <td>2018</td>\n",
       "      <td>1103</td>\n",
       "      <td>GRIDO</td>\n",
       "      <td>Unidades</td>\n",
       "      <td>06 - SABORES AL AGUA</td>\n",
       "      <td>3.00</td>\n",
       "      <td>7.80</td>\n",
       "      <td>2</td>\n",
       "      <td>Montecristo, Córdoba</td>\n",
       "      <td>Córdoba</td>\n",
       "    </tr>\n",
       "    <tr>\n",
       "      <th>2890</th>\n",
       "      <td>1</td>\n",
       "      <td>2018</td>\n",
       "      <td>1695</td>\n",
       "      <td>GRIDO</td>\n",
       "      <td>Baldes</td>\n",
       "      <td>07 - SABORES COMUNES</td>\n",
       "      <td>3.00</td>\n",
       "      <td>7.80</td>\n",
       "      <td>2</td>\n",
       "      <td>Montecristo, Córdoba</td>\n",
       "      <td>Córdoba</td>\n",
       "    </tr>\n",
       "    <tr>\n",
       "      <th>...</th>\n",
       "      <td>...</td>\n",
       "      <td>...</td>\n",
       "      <td>...</td>\n",
       "      <td>...</td>\n",
       "      <td>...</td>\n",
       "      <td>...</td>\n",
       "      <td>...</td>\n",
       "      <td>...</td>\n",
       "      <td>...</td>\n",
       "      <td>...</td>\n",
       "      <td>...</td>\n",
       "    </tr>\n",
       "    <tr>\n",
       "      <th>5606767</th>\n",
       "      <td>12</td>\n",
       "      <td>2019</td>\n",
       "      <td>1542</td>\n",
       "      <td>SIN DEFINIR</td>\n",
       "      <td>No Asignada</td>\n",
       "      <td>0004 - CUCURUCHOS , CONOS Y VASOS DE  PASTA</td>\n",
       "      <td>1.00</td>\n",
       "      <td>2.29</td>\n",
       "      <td>3</td>\n",
       "      <td>Córdoba, Córdoba</td>\n",
       "      <td>Córdoba</td>\n",
       "    </tr>\n",
       "    <tr>\n",
       "      <th>5606771</th>\n",
       "      <td>12</td>\n",
       "      <td>2019</td>\n",
       "      <td>613</td>\n",
       "      <td>SIN DEFINIR</td>\n",
       "      <td>Unidades</td>\n",
       "      <td>0007 - BAÑOS, CAPUCCINO, LECHE Y SALSAS</td>\n",
       "      <td>2.00</td>\n",
       "      <td>12.93</td>\n",
       "      <td>3</td>\n",
       "      <td>Córdoba, Córdoba</td>\n",
       "      <td>Córdoba</td>\n",
       "    </tr>\n",
       "    <tr>\n",
       "      <th>5606813</th>\n",
       "      <td>12</td>\n",
       "      <td>2019</td>\n",
       "      <td>1112</td>\n",
       "      <td>SIN DEFINIR</td>\n",
       "      <td>Unidades</td>\n",
       "      <td>0004 - CUCURUCHOS , CONOS Y VASOS DE  PASTA</td>\n",
       "      <td>1.00</td>\n",
       "      <td>5.90</td>\n",
       "      <td>3</td>\n",
       "      <td>Córdoba, Córdoba</td>\n",
       "      <td>Córdoba</td>\n",
       "    </tr>\n",
       "    <tr>\n",
       "      <th>5606819</th>\n",
       "      <td>12</td>\n",
       "      <td>2019</td>\n",
       "      <td>613</td>\n",
       "      <td>SIN DEFINIR</td>\n",
       "      <td>Unidades</td>\n",
       "      <td>0007 - BAÑOS, CAPUCCINO, LECHE Y SALSAS</td>\n",
       "      <td>1.00</td>\n",
       "      <td>12.93</td>\n",
       "      <td>3</td>\n",
       "      <td>Córdoba, Córdoba</td>\n",
       "      <td>Córdoba</td>\n",
       "    </tr>\n",
       "    <tr>\n",
       "      <th>5606820</th>\n",
       "      <td>12</td>\n",
       "      <td>2019</td>\n",
       "      <td>3139</td>\n",
       "      <td>SIN DEFINIR</td>\n",
       "      <td>Unidades</td>\n",
       "      <td>0008 - DECORACION y FRUTOS</td>\n",
       "      <td>1.00</td>\n",
       "      <td>1.00</td>\n",
       "      <td>3</td>\n",
       "      <td>Córdoba, Córdoba</td>\n",
       "      <td>Córdoba</td>\n",
       "    </tr>\n",
       "  </tbody>\n",
       "</table>\n",
       "<p>4283779 rows × 11 columns</p>\n",
       "</div>"
      ],
      "text/plain": [
       "        mes  anio   sku        marca presentacion  \\\n",
       "2886      1  2018   266        GRIDO       Baldes   \n",
       "2887      1  2018   263        GRIDO       Baldes   \n",
       "2888      1  2018   861        GRIDO   Kilogramos   \n",
       "2889      1  2018  1103        GRIDO     Unidades   \n",
       "2890      1  2018  1695        GRIDO       Baldes   \n",
       "...      ..   ...   ...          ...          ...   \n",
       "5606767  12  2019  1542  SIN DEFINIR  No Asignada   \n",
       "5606771  12  2019   613  SIN DEFINIR     Unidades   \n",
       "5606813  12  2019  1112  SIN DEFINIR     Unidades   \n",
       "5606819  12  2019   613  SIN DEFINIR     Unidades   \n",
       "5606820  12  2019  3139  SIN DEFINIR     Unidades   \n",
       "\n",
       "                                           categoria  cantidad_pedida  \\\n",
       "2886                            06 - SABORES AL AGUA             1.00   \n",
       "2887                            06 - SABORES AL AGUA             6.00   \n",
       "2888                            06 - SABORES AL AGUA             1.00   \n",
       "2889                            06 - SABORES AL AGUA             3.00   \n",
       "2890                            07 - SABORES COMUNES             3.00   \n",
       "...                                              ...              ...   \n",
       "5606767  0004 - CUCURUCHOS , CONOS Y VASOS DE  PASTA             1.00   \n",
       "5606771      0007 - BAÑOS, CAPUCCINO, LECHE Y SALSAS             2.00   \n",
       "5606813  0004 - CUCURUCHOS , CONOS Y VASOS DE  PASTA             1.00   \n",
       "5606819      0007 - BAÑOS, CAPUCCINO, LECHE Y SALSAS             1.00   \n",
       "5606820                   0008 - DECORACION y FRUTOS             1.00   \n",
       "\n",
       "         unidadkg id_proveedor             ubicacion Provincia  \n",
       "2886         7.80            2  Montecristo, Córdoba   Córdoba  \n",
       "2887         7.80            2  Montecristo, Córdoba   Córdoba  \n",
       "2888         7.80            2  Montecristo, Córdoba   Córdoba  \n",
       "2889         7.80            2  Montecristo, Córdoba   Córdoba  \n",
       "2890         7.80            2  Montecristo, Córdoba   Córdoba  \n",
       "...           ...          ...                   ...       ...  \n",
       "5606767      2.29            3      Córdoba, Córdoba   Córdoba  \n",
       "5606771     12.93            3      Córdoba, Córdoba   Córdoba  \n",
       "5606813      5.90            3      Córdoba, Córdoba   Córdoba  \n",
       "5606819     12.93            3      Córdoba, Córdoba   Córdoba  \n",
       "5606820      1.00            3      Córdoba, Córdoba   Córdoba  \n",
       "\n",
       "[4283779 rows x 11 columns]"
      ]
     },
     "execution_count": 157,
     "metadata": {},
     "output_type": "execute_result"
    }
   ],
   "source": [
    "# Se filtran aquellos registros con unidadkg negativas\n",
    "df['unidadkg'] = df['unidadkg'].astype(float)\n",
    "df = df[df.unidadkg > 0]\n",
    "df #total base de datos 4,283,779"
   ]
  },
  {
   "cell_type": "code",
   "execution_count": 158,
   "metadata": {
    "id": "AXJa602tyZVW"
   },
   "outputs": [
    {
     "name": "stderr",
     "output_type": "stream",
     "text": [
      "<ipython-input-158-7606cb9bb8cd>:6: SettingWithCopyWarning: \n",
      "A value is trying to be set on a copy of a slice from a DataFrame.\n",
      "Try using .loc[row_indexer,col_indexer] = value instead\n",
      "\n",
      "See the caveats in the documentation: https://pandas.pydata.org/pandas-docs/stable/user_guide/indexing.html#returning-a-view-versus-a-copy\n",
      "  df['mes'] = df['mes'].astype(int)\n",
      "<ipython-input-158-7606cb9bb8cd>:8: SettingWithCopyWarning: \n",
      "A value is trying to be set on a copy of a slice from a DataFrame.\n",
      "Try using .loc[row_indexer,col_indexer] = value instead\n",
      "\n",
      "See the caveats in the documentation: https://pandas.pydata.org/pandas-docs/stable/user_guide/indexing.html#returning-a-view-versus-a-copy\n",
      "  df['mes'] = df['mes'].astype(str)\n"
     ]
    },
    {
     "data": {
      "text/html": [
       "<div>\n",
       "<style scoped>\n",
       "    .dataframe tbody tr th:only-of-type {\n",
       "        vertical-align: middle;\n",
       "    }\n",
       "\n",
       "    .dataframe tbody tr th {\n",
       "        vertical-align: top;\n",
       "    }\n",
       "\n",
       "    .dataframe thead th {\n",
       "        text-align: right;\n",
       "    }\n",
       "</style>\n",
       "<table border=\"1\" class=\"dataframe\">\n",
       "  <thead>\n",
       "    <tr style=\"text-align: right;\">\n",
       "      <th></th>\n",
       "      <th>mes</th>\n",
       "      <th>anio</th>\n",
       "      <th>sku</th>\n",
       "      <th>marca</th>\n",
       "      <th>presentacion</th>\n",
       "      <th>categoria</th>\n",
       "      <th>unidadkg</th>\n",
       "      <th>id_proveedor</th>\n",
       "      <th>ubicacion</th>\n",
       "      <th>Provincia</th>\n",
       "      <th>cantidad_pedida</th>\n",
       "    </tr>\n",
       "  </thead>\n",
       "  <tbody>\n",
       "    <tr>\n",
       "      <th>0</th>\n",
       "      <td>1</td>\n",
       "      <td>2018</td>\n",
       "      <td>1008</td>\n",
       "      <td>VIA BANA</td>\n",
       "      <td>No Asignada</td>\n",
       "      <td>0013 - PRODUCTOS VIA BANA - TIPO A</td>\n",
       "      <td>8.50</td>\n",
       "      <td>3</td>\n",
       "      <td>La Rioja, La Rioja</td>\n",
       "      <td>La Rioja</td>\n",
       "      <td>2.00</td>\n",
       "    </tr>\n",
       "    <tr>\n",
       "      <th>1</th>\n",
       "      <td>1</td>\n",
       "      <td>2018</td>\n",
       "      <td>1008</td>\n",
       "      <td>VIA BANA</td>\n",
       "      <td>No Asignada</td>\n",
       "      <td>0013 - PRODUCTOS VIA BANA - TIPO A</td>\n",
       "      <td>8.50</td>\n",
       "      <td>3</td>\n",
       "      <td>San Isidro, Catamarca</td>\n",
       "      <td>Catamarca</td>\n",
       "      <td>1.00</td>\n",
       "    </tr>\n",
       "    <tr>\n",
       "      <th>2</th>\n",
       "      <td>1</td>\n",
       "      <td>2018</td>\n",
       "      <td>1021</td>\n",
       "      <td>SIN DEFINIR</td>\n",
       "      <td>Unidades</td>\n",
       "      <td>12 - IMPULSIVOS</td>\n",
       "      <td>3.22</td>\n",
       "      <td>2</td>\n",
       "      <td>25 De Mayo, 25 De Mayo, Buenos Aires</td>\n",
       "      <td>Buenos Aires</td>\n",
       "      <td>50.00</td>\n",
       "    </tr>\n",
       "    <tr>\n",
       "      <th>3</th>\n",
       "      <td>1</td>\n",
       "      <td>2018</td>\n",
       "      <td>1021</td>\n",
       "      <td>SIN DEFINIR</td>\n",
       "      <td>Unidades</td>\n",
       "      <td>12 - IMPULSIVOS</td>\n",
       "      <td>3.22</td>\n",
       "      <td>2</td>\n",
       "      <td>3 De Febrero, 3 De Febrero, Buenos Aires</td>\n",
       "      <td>Buenos Aires</td>\n",
       "      <td>18.00</td>\n",
       "    </tr>\n",
       "    <tr>\n",
       "      <th>4</th>\n",
       "      <td>1</td>\n",
       "      <td>2018</td>\n",
       "      <td>1021</td>\n",
       "      <td>SIN DEFINIR</td>\n",
       "      <td>Unidades</td>\n",
       "      <td>12 - IMPULSIVOS</td>\n",
       "      <td>3.22</td>\n",
       "      <td>2</td>\n",
       "      <td>3 De Febrero, Caseros, Buenos Aires</td>\n",
       "      <td>Buenos Aires</td>\n",
       "      <td>128.00</td>\n",
       "    </tr>\n",
       "    <tr>\n",
       "      <th>...</th>\n",
       "      <td>...</td>\n",
       "      <td>...</td>\n",
       "      <td>...</td>\n",
       "      <td>...</td>\n",
       "      <td>...</td>\n",
       "      <td>...</td>\n",
       "      <td>...</td>\n",
       "      <td>...</td>\n",
       "      <td>...</td>\n",
       "      <td>...</td>\n",
       "      <td>...</td>\n",
       "    </tr>\n",
       "    <tr>\n",
       "      <th>1015981</th>\n",
       "      <td>12</td>\n",
       "      <td>2019</td>\n",
       "      <td>995</td>\n",
       "      <td>SIN DEFINIR</td>\n",
       "      <td>Unidades</td>\n",
       "      <td>0004 - CUCURUCHOS , CONOS Y VASOS DE  PASTA</td>\n",
       "      <td>3.10</td>\n",
       "      <td>3</td>\n",
       "      <td>Villa Ocampo, Santa Fe</td>\n",
       "      <td>Santa Fe</td>\n",
       "      <td>4.00</td>\n",
       "    </tr>\n",
       "    <tr>\n",
       "      <th>1015982</th>\n",
       "      <td>12</td>\n",
       "      <td>2019</td>\n",
       "      <td>995</td>\n",
       "      <td>SIN DEFINIR</td>\n",
       "      <td>Unidades</td>\n",
       "      <td>0004 - CUCURUCHOS , CONOS Y VASOS DE  PASTA</td>\n",
       "      <td>3.10</td>\n",
       "      <td>3</td>\n",
       "      <td>Villa Pueyrredón, Capital Federal</td>\n",
       "      <td>Capital Federal</td>\n",
       "      <td>2.00</td>\n",
       "    </tr>\n",
       "    <tr>\n",
       "      <th>1015983</th>\n",
       "      <td>12</td>\n",
       "      <td>2019</td>\n",
       "      <td>995</td>\n",
       "      <td>SIN DEFINIR</td>\n",
       "      <td>Unidades</td>\n",
       "      <td>0004 - CUCURUCHOS , CONOS Y VASOS DE  PASTA</td>\n",
       "      <td>3.10</td>\n",
       "      <td>3</td>\n",
       "      <td>Yerba Buena, Tucumán</td>\n",
       "      <td>Tucumán</td>\n",
       "      <td>4.00</td>\n",
       "    </tr>\n",
       "    <tr>\n",
       "      <th>1015984</th>\n",
       "      <td>12</td>\n",
       "      <td>2019</td>\n",
       "      <td>995</td>\n",
       "      <td>SIN DEFINIR</td>\n",
       "      <td>Unidades</td>\n",
       "      <td>0004 - CUCURUCHOS , CONOS Y VASOS DE  PASTA</td>\n",
       "      <td>3.10</td>\n",
       "      <td>3</td>\n",
       "      <td>Zapala, Neuquén</td>\n",
       "      <td>Neuquén</td>\n",
       "      <td>7.00</td>\n",
       "    </tr>\n",
       "    <tr>\n",
       "      <th>1015985</th>\n",
       "      <td>12</td>\n",
       "      <td>2019</td>\n",
       "      <td>995</td>\n",
       "      <td>SIN DEFINIR</td>\n",
       "      <td>Unidades</td>\n",
       "      <td>0004 - CUCURUCHOS , CONOS Y VASOS DE  PASTA</td>\n",
       "      <td>3.10</td>\n",
       "      <td>3</td>\n",
       "      <td>Zarate, Zarate, Buenos Aires</td>\n",
       "      <td>Buenos Aires</td>\n",
       "      <td>8.00</td>\n",
       "    </tr>\n",
       "  </tbody>\n",
       "</table>\n",
       "<p>1015986 rows × 11 columns</p>\n",
       "</div>"
      ],
      "text/plain": [
       "        mes  anio   sku        marca presentacion  \\\n",
       "0         1  2018  1008     VIA BANA  No Asignada   \n",
       "1         1  2018  1008     VIA BANA  No Asignada   \n",
       "2         1  2018  1021  SIN DEFINIR     Unidades   \n",
       "3         1  2018  1021  SIN DEFINIR     Unidades   \n",
       "4         1  2018  1021  SIN DEFINIR     Unidades   \n",
       "...      ..   ...   ...          ...          ...   \n",
       "1015981  12  2019   995  SIN DEFINIR     Unidades   \n",
       "1015982  12  2019   995  SIN DEFINIR     Unidades   \n",
       "1015983  12  2019   995  SIN DEFINIR     Unidades   \n",
       "1015984  12  2019   995  SIN DEFINIR     Unidades   \n",
       "1015985  12  2019   995  SIN DEFINIR     Unidades   \n",
       "\n",
       "                                           categoria  unidadkg id_proveedor  \\\n",
       "0                 0013 - PRODUCTOS VIA BANA - TIPO A      8.50            3   \n",
       "1                 0013 - PRODUCTOS VIA BANA - TIPO A      8.50            3   \n",
       "2                                    12 - IMPULSIVOS      3.22            2   \n",
       "3                                    12 - IMPULSIVOS      3.22            2   \n",
       "4                                    12 - IMPULSIVOS      3.22            2   \n",
       "...                                              ...       ...          ...   \n",
       "1015981  0004 - CUCURUCHOS , CONOS Y VASOS DE  PASTA      3.10            3   \n",
       "1015982  0004 - CUCURUCHOS , CONOS Y VASOS DE  PASTA      3.10            3   \n",
       "1015983  0004 - CUCURUCHOS , CONOS Y VASOS DE  PASTA      3.10            3   \n",
       "1015984  0004 - CUCURUCHOS , CONOS Y VASOS DE  PASTA      3.10            3   \n",
       "1015985  0004 - CUCURUCHOS , CONOS Y VASOS DE  PASTA      3.10            3   \n",
       "\n",
       "                                        ubicacion        Provincia  \\\n",
       "0                              La Rioja, La Rioja         La Rioja   \n",
       "1                           San Isidro, Catamarca        Catamarca   \n",
       "2            25 De Mayo, 25 De Mayo, Buenos Aires     Buenos Aires   \n",
       "3        3 De Febrero, 3 De Febrero, Buenos Aires     Buenos Aires   \n",
       "4             3 De Febrero, Caseros, Buenos Aires     Buenos Aires   \n",
       "...                                           ...              ...   \n",
       "1015981                    Villa Ocampo, Santa Fe         Santa Fe   \n",
       "1015982         Villa Pueyrredón, Capital Federal  Capital Federal   \n",
       "1015983                      Yerba Buena, Tucumán          Tucumán   \n",
       "1015984                           Zapala, Neuquén          Neuquén   \n",
       "1015985              Zarate, Zarate, Buenos Aires     Buenos Aires   \n",
       "\n",
       "         cantidad_pedida  \n",
       "0                   2.00  \n",
       "1                   1.00  \n",
       "2                  50.00  \n",
       "3                  18.00  \n",
       "4                 128.00  \n",
       "...                  ...  \n",
       "1015981             4.00  \n",
       "1015982             2.00  \n",
       "1015983             4.00  \n",
       "1015984             7.00  \n",
       "1015985             8.00  \n",
       "\n",
       "[1015986 rows x 11 columns]"
      ]
     },
     "execution_count": 158,
     "metadata": {},
     "output_type": "execute_result"
    }
   ],
   "source": [
    "# Agrupamos por mes (el dataset estaba a nivel día), ya que es el horizonte temporal que nos interesa predecir \n",
    "#y nos ayuda a reducir bastante el tamaño de la matriz sin perder casi información\n",
    "_columns = ['mes', 'anio', 'sku', 'marca', 'presentacion', 'categoria', 'unidadkg', 'id_proveedor', 'ubicacion',\n",
    " 'Provincia']\n",
    "_value_columns =['cantidad_pedida']\n",
    "df['mes'] = df['mes'].astype(int)\n",
    "df_grouped=  df.groupby(_columns).sum().reset_index()\n",
    "df['mes'] = df['mes'].astype(str)\n",
    "df_grouped['mes'] = df_grouped['mes'].astype(str)\n",
    "df_grouped"
   ]
  },
  {
   "cell_type": "code",
   "execution_count": 159,
   "metadata": {
    "id": "UHMckR021hSs"
   },
   "outputs": [
    {
     "name": "stdout",
     "output_type": "stream",
     "text": [
      "Registros Df inicial 4283779\n",
      "Registros Df agrupado 1015986\n"
     ]
    }
   ],
   "source": [
    "print('Registros Df inicial',df.shape[0])\n",
    "print('Registros Df agrupado',df_grouped.shape[0])"
   ]
  },
  {
   "cell_type": "markdown",
   "metadata": {
    "id": "wYDUA8qq3RUP"
   },
   "source": [
    "#### 4.8 Análisis adicional "
   ]
  },
  {
   "cell_type": "markdown",
   "metadata": {
    "id": "qeQPBiIP3RUQ"
   },
   "source": [
    "Cualquier análisis adicional o feature que deseen agregar porque lo consideran pertinente, será bienvenido y valorado."
   ]
  },
  {
   "cell_type": "markdown",
   "metadata": {
    "id": "FNarRVfZ3RUQ"
   },
   "source": [
    "### 5- Enriquecimiento dataset sumando nuevas features"
   ]
  },
  {
   "cell_type": "markdown",
   "metadata": {
    "id": "kyd4MS1R3RUQ"
   },
   "source": [
    "#### 5.1 Tratamiento de las features presentación, categoria y marca"
   ]
  },
  {
   "cell_type": "markdown",
   "metadata": {
    "id": "Tvvq1G9K3RUQ"
   },
   "source": [
    "En caso que los datos de estas columnas tengan números, acentos, signos y/o estén en mayúsuclas crear nuevas columnas para cada una de ellas con sufijo _depurada. El contenido de estas nuevas columnas deben estar en minúsculas, quitar acentos, quitar números y quitar signos de puntuación si corresponde. "
   ]
  },
  {
   "cell_type": "code",
   "execution_count": 160,
   "metadata": {
    "colab": {
     "base_uri": "https://localhost:8080/"
    },
    "id": "hfKkV8YD3RUQ",
    "outputId": "364ffd4c-89e5-4759-af36-512ab732ac87"
   },
   "outputs": [],
   "source": [
    "# !pip install unidecode"
   ]
  },
  {
   "cell_type": "code",
   "execution_count": 161,
   "metadata": {
    "colab": {
     "base_uri": "https://localhost:8080/"
    },
    "id": "JNTr0LWaCkQM",
    "outputId": "432d2b9a-b744-4551-8620-75a8d9431a22"
   },
   "outputs": [],
   "source": [
    "#Columnas de presentacion, categoria y marca a minuscula\n",
    "df_grouped['presentacion_depurada'] = df_grouped['presentacion'].str.lower()\n",
    "df_grouped['marca_depurada'] = df_grouped['marca'].str.lower()\n",
    "df_grouped['categoria_depurada'] = df_grouped['categoria'].str.lower()"
   ]
  },
  {
   "cell_type": "code",
   "execution_count": 162,
   "metadata": {
    "colab": {
     "base_uri": "https://localhost:8080/"
    },
    "id": "sRkjADvIDlGb",
    "outputId": "9edabdbe-9e4e-4738-ca1e-2a844937d6f7"
   },
   "outputs": [
    {
     "name": "stderr",
     "output_type": "stream",
     "text": [
      "<ipython-input-162-c4a0554da875>:2: FutureWarning: The default value of regex will change from True to False in a future version.\n",
      "  df_grouped['presentacion_depurada'] = df_grouped['presentacion_depurada'].str.replace('\\d+', '')\n",
      "<ipython-input-162-c4a0554da875>:3: FutureWarning: The default value of regex will change from True to False in a future version.\n",
      "  df_grouped['marca_depurada'] = df_grouped['marca_depurada'].str.replace('\\d+', '')\n",
      "<ipython-input-162-c4a0554da875>:4: FutureWarning: The default value of regex will change from True to False in a future version.\n",
      "  df_grouped['categoria_depurada'] = df_grouped['categoria_depurada'].str.replace('\\d+', '')\n"
     ]
    }
   ],
   "source": [
    "#Eliminamos numeros de columnas \n",
    "df_grouped['presentacion_depurada'] = df_grouped['presentacion_depurada'].str.replace('\\d+', '')\n",
    "df_grouped['marca_depurada'] = df_grouped['marca_depurada'].str.replace('\\d+', '')\n",
    "df_grouped['categoria_depurada'] = df_grouped['categoria_depurada'].str.replace('\\d+', '')"
   ]
  },
  {
   "cell_type": "code",
   "execution_count": 163,
   "metadata": {
    "colab": {
     "base_uri": "https://localhost:8080/"
    },
    "id": "D36EApV-H1ec",
    "outputId": "c142a1e5-c5c6-4b3a-bd78-6c3d4ae59a4a"
   },
   "outputs": [
    {
     "name": "stderr",
     "output_type": "stream",
     "text": [
      "<ipython-input-163-3d0a95491726>:3: FutureWarning: The default value of regex will change from True to False in a future version.\n",
      "  df_grouped['categoria_depurada'] = df_grouped['categoria_depurada'].str.replace('[{}]'.format(string.punctuation), '')\n"
     ]
    }
   ],
   "source": [
    "#Eliminamos signos de puntuacion\n",
    "import string \n",
    "df_grouped['categoria_depurada'] = df_grouped['categoria_depurada'].str.replace('[{}]'.format(string.punctuation), '')\n",
    "\n",
    "#Eliminamos espacios en blancos al principio de las celdas\n",
    "df_grouped['categoria_depurada'] = df_grouped['categoria_depurada'].str.lstrip()"
   ]
  },
  {
   "cell_type": "code",
   "execution_count": 164,
   "metadata": {
    "id": "DSJKZNs-3RUQ",
    "scrolled": true
   },
   "outputs": [],
   "source": [
    "# Definimos una función para sacar los acentos.\n",
    "from unidecode import unidecode\n",
    "def remove_accents(df, columns=[]):\n",
    "    columns = list(columns)\n",
    "    if len(columns) !=0:\n",
    "        for i in range(len(columns)):\n",
    "            if columns[i] in df.columns:\n",
    "                df[columns[i]]=df[columns[i]].str.normalize('NFKD').str.encode('ascii', errors='ignore').str.decode('utf-8')\n",
    "    else:\n",
    "        print(\"Seleccione una columna o la columna no se encuentra en el DataFrame\")"
   ]
  },
  {
   "cell_type": "code",
   "execution_count": 165,
   "metadata": {
    "id": "8SfIArsE3RUQ"
   },
   "outputs": [],
   "source": [
    "#Se eliminan los acentos\n",
    "remove_accents(df_grouped,['marca_depurada','presentacion_depurada', 'categoria_depurada'])"
   ]
  },
  {
   "cell_type": "code",
   "execution_count": 166,
   "metadata": {
    "scrolled": true
   },
   "outputs": [
    {
     "name": "stdout",
     "output_type": "stream",
     "text": [
      "Marca:  ['via bana', 'sin definir', 'grido', 'frizzio']\n",
      "Presentacion:  ['no asignada', 'unidades', 'kilogramos', 'baldes', 'pack']\n",
      "Categoria:  ['productos via bana  tipo a', 'impulsivos', 'cucuruchos  conos y vasos de  pasta', 'palitos crema  frutal  bombon', 'sabores al agua', 'sabores premium x  lts  via bana', 'sabores especiales x  lts  via bana', 'productos via bana  tipo b', 'decoracion y frutos', 'sabores al agua x  lts  via bana', 'banos capuccino leche y salsas', 'sabores comunes x  lts  via bana', 'pack potes via bana', 'sabores comunes', 'sabores especiales', 'sabores premium', 'frizzio', 'grido mix', 'pack impulsivos via bana', 'tortas y postres', 'pack postrestortas via bana', 'sundae go', 'pote  lts', 'familiar', 'semifrios', 'grido cafe']\n"
     ]
    }
   ],
   "source": [
    "#Verificamos que se haya eliminado todo\n",
    "print('Marca: ',df_grouped.marca_depurada.drop_duplicates().tolist())\n",
    "print('Presentacion: ',df_grouped.presentacion_depurada.drop_duplicates().tolist())\n",
    "print('Categoria: ',df_grouped.categoria_depurada.drop_duplicates().tolist())"
   ]
  },
  {
   "cell_type": "markdown",
   "metadata": {
    "id": "9ngcoOjC3RUT"
   },
   "source": [
    "#### 5.3 Valores cantidad_pedida para los periodos t-n (Lag)"
   ]
  },
  {
   "cell_type": "markdown",
   "metadata": {
    "id": "AykrTE6v3RUT"
   },
   "source": [
    "Crear columnas nuevas que representen los valores de cantidad_pedida para la combinación de provincia-localidad y sku agrupados por mes para n periodos anteriores (lag t-n). Podrá utilizar pandas.Series.shift para lograr este requerimiento. Seleccione el n que considere pertinente y justifique su elección. "
   ]
  },
  {
   "cell_type": "code",
   "execution_count": 167,
   "metadata": {
    "id": "7DT9UM8m3RUT"
   },
   "outputs": [],
   "source": [
    "def lag_t_n(df, cols_group, col_lag, n=1):\n",
    "    group = df[cols_group + [col_lag]]\n",
    "    # Tengo que asegurarme que la columna temporal respecto a la que voy a laggear este bien ordenada y para eso tiene que ser tipo int, no str\n",
    "    group.iloc[:, len(cols_group)-1] = group.iloc[:, len(cols_group)-1].astype(int)\n",
    "    group = group.groupby(cols_group).sum().reset_index()\n",
    "    for i in range(1, n+1):\n",
    "        name = col_lag + '_lag_t-' + str(i)\n",
    "        group[name] = group.loc[:, col_lag].shift(periods=i)\n",
    "    # Tiro las filas de los primeros n meses ya que van a ser NaN en la columna cantidad_pedida_lag_t-n\n",
    "    time_values = list(group.iloc[:, len(cols_group)-1].unique())\n",
    "    group = group[~(group.iloc[:, len(cols_group)-1].isin(time_values[:n]))]\n",
    "    group.iloc[:, len(cols_group)-1] = group.iloc[:, len(cols_group)-1].astype(str)\n",
    "    group.drop(columns=[col_lag], inplace=True)\n",
    "    return group"
   ]
  },
  {
   "cell_type": "code",
   "execution_count": 168,
   "metadata": {
    "colab": {
     "base_uri": "https://localhost:8080/",
     "height": 344
    },
    "id": "_ugTjY5e3RUT",
    "outputId": "2fb890a4-85a5-4957-a591-16c2e8862ff3",
    "scrolled": true
   },
   "outputs": [
    {
     "name": "stderr",
     "output_type": "stream",
     "text": [
      "C:\\Users\\Sofia\\anaconda3\\lib\\site-packages\\pandas\\core\\indexing.py:1676: SettingWithCopyWarning: \n",
      "A value is trying to be set on a copy of a slice from a DataFrame.\n",
      "Try using .loc[row_indexer,col_indexer] = value instead\n",
      "\n",
      "See the caveats in the documentation: https://pandas.pydata.org/pandas-docs/stable/user_guide/indexing.html#returning-a-view-versus-a-copy\n",
      "  self._setitem_single_column(ilocs[0], value, pi)\n"
     ]
    },
    {
     "data": {
      "text/html": [
       "<div>\n",
       "<style scoped>\n",
       "    .dataframe tbody tr th:only-of-type {\n",
       "        vertical-align: middle;\n",
       "    }\n",
       "\n",
       "    .dataframe tbody tr th {\n",
       "        vertical-align: top;\n",
       "    }\n",
       "\n",
       "    .dataframe thead th {\n",
       "        text-align: right;\n",
       "    }\n",
       "</style>\n",
       "<table border=\"1\" class=\"dataframe\">\n",
       "  <thead>\n",
       "    <tr style=\"text-align: right;\">\n",
       "      <th></th>\n",
       "      <th>ubicacion</th>\n",
       "      <th>sku</th>\n",
       "      <th>anio</th>\n",
       "      <th>mes</th>\n",
       "      <th>cantidad_pedida_lag_t-1</th>\n",
       "      <th>cantidad_pedida_lag_t-2</th>\n",
       "      <th>cantidad_pedida_lag_t-3</th>\n",
       "    </tr>\n",
       "  </thead>\n",
       "  <tbody>\n",
       "    <tr>\n",
       "      <th>3</th>\n",
       "      <td>25 De Mayo, 25 De Mayo, Buenos Aires</td>\n",
       "      <td>1021</td>\n",
       "      <td>2018</td>\n",
       "      <td>4</td>\n",
       "      <td>65.00</td>\n",
       "      <td>60.00</td>\n",
       "      <td>50.00</td>\n",
       "    </tr>\n",
       "    <tr>\n",
       "      <th>4</th>\n",
       "      <td>25 De Mayo, 25 De Mayo, Buenos Aires</td>\n",
       "      <td>1021</td>\n",
       "      <td>2018</td>\n",
       "      <td>5</td>\n",
       "      <td>15.00</td>\n",
       "      <td>65.00</td>\n",
       "      <td>60.00</td>\n",
       "    </tr>\n",
       "    <tr>\n",
       "      <th>5</th>\n",
       "      <td>25 De Mayo, 25 De Mayo, Buenos Aires</td>\n",
       "      <td>1021</td>\n",
       "      <td>2018</td>\n",
       "      <td>6</td>\n",
       "      <td>25.00</td>\n",
       "      <td>15.00</td>\n",
       "      <td>65.00</td>\n",
       "    </tr>\n",
       "    <tr>\n",
       "      <th>6</th>\n",
       "      <td>25 De Mayo, 25 De Mayo, Buenos Aires</td>\n",
       "      <td>1021</td>\n",
       "      <td>2018</td>\n",
       "      <td>7</td>\n",
       "      <td>30.00</td>\n",
       "      <td>25.00</td>\n",
       "      <td>15.00</td>\n",
       "    </tr>\n",
       "    <tr>\n",
       "      <th>7</th>\n",
       "      <td>25 De Mayo, 25 De Mayo, Buenos Aires</td>\n",
       "      <td>1021</td>\n",
       "      <td>2018</td>\n",
       "      <td>9</td>\n",
       "      <td>20.00</td>\n",
       "      <td>30.00</td>\n",
       "      <td>25.00</td>\n",
       "    </tr>\n",
       "  </tbody>\n",
       "</table>\n",
       "</div>"
      ],
      "text/plain": [
       "                              ubicacion   sku  anio mes  \\\n",
       "3  25 De Mayo, 25 De Mayo, Buenos Aires  1021  2018   4   \n",
       "4  25 De Mayo, 25 De Mayo, Buenos Aires  1021  2018   5   \n",
       "5  25 De Mayo, 25 De Mayo, Buenos Aires  1021  2018   6   \n",
       "6  25 De Mayo, 25 De Mayo, Buenos Aires  1021  2018   7   \n",
       "7  25 De Mayo, 25 De Mayo, Buenos Aires  1021  2018   9   \n",
       "\n",
       "   cantidad_pedida_lag_t-1  cantidad_pedida_lag_t-2  cantidad_pedida_lag_t-3  \n",
       "3                    65.00                    60.00                    50.00  \n",
       "4                    15.00                    65.00                    60.00  \n",
       "5                    25.00                    15.00                    65.00  \n",
       "6                    30.00                    25.00                    15.00  \n",
       "7                    20.00                    30.00                    25.00  "
      ]
     },
     "execution_count": 168,
     "metadata": {},
     "output_type": "execute_result"
    }
   ],
   "source": [
    "lag = lag_t_n(df, ['ubicacion', 'sku', 'anio', 'mes'], 'cantidad_pedida', n=3)\n",
    "lag[:5]"
   ]
  },
  {
   "cell_type": "code",
   "execution_count": 169,
   "metadata": {
    "colab": {
     "base_uri": "https://localhost:8080/",
     "height": 405
    },
    "id": "kcW7WZOk3RUT",
    "outputId": "5662cb4e-5ba6-405b-833b-d57f1621e4b0"
   },
   "outputs": [
    {
     "data": {
      "text/html": [
       "<div>\n",
       "<style scoped>\n",
       "    .dataframe tbody tr th:only-of-type {\n",
       "        vertical-align: middle;\n",
       "    }\n",
       "\n",
       "    .dataframe tbody tr th {\n",
       "        vertical-align: top;\n",
       "    }\n",
       "\n",
       "    .dataframe thead th {\n",
       "        text-align: right;\n",
       "    }\n",
       "</style>\n",
       "<table border=\"1\" class=\"dataframe\">\n",
       "  <thead>\n",
       "    <tr style=\"text-align: right;\">\n",
       "      <th></th>\n",
       "      <th>mes</th>\n",
       "      <th>anio</th>\n",
       "      <th>sku</th>\n",
       "      <th>marca</th>\n",
       "      <th>presentacion</th>\n",
       "      <th>categoria</th>\n",
       "      <th>unidadkg</th>\n",
       "      <th>id_proveedor</th>\n",
       "      <th>ubicacion</th>\n",
       "      <th>Provincia</th>\n",
       "      <th>cantidad_pedida</th>\n",
       "      <th>presentacion_depurada</th>\n",
       "      <th>marca_depurada</th>\n",
       "      <th>categoria_depurada</th>\n",
       "      <th>cantidad_pedida_lag_t-1</th>\n",
       "      <th>cantidad_pedida_lag_t-2</th>\n",
       "      <th>cantidad_pedida_lag_t-3</th>\n",
       "    </tr>\n",
       "  </thead>\n",
       "  <tbody>\n",
       "    <tr>\n",
       "      <th>0</th>\n",
       "      <td>4</td>\n",
       "      <td>2018</td>\n",
       "      <td>1021</td>\n",
       "      <td>SIN DEFINIR</td>\n",
       "      <td>Unidades</td>\n",
       "      <td>12 - IMPULSIVOS</td>\n",
       "      <td>3.22</td>\n",
       "      <td>2</td>\n",
       "      <td>25 De Mayo, 25 De Mayo, Buenos Aires</td>\n",
       "      <td>Buenos Aires</td>\n",
       "      <td>15.00</td>\n",
       "      <td>unidades</td>\n",
       "      <td>sin definir</td>\n",
       "      <td>impulsivos</td>\n",
       "      <td>65.00</td>\n",
       "      <td>60.00</td>\n",
       "      <td>50.00</td>\n",
       "    </tr>\n",
       "    <tr>\n",
       "      <th>1</th>\n",
       "      <td>4</td>\n",
       "      <td>2018</td>\n",
       "      <td>1021</td>\n",
       "      <td>SIN DEFINIR</td>\n",
       "      <td>Unidades</td>\n",
       "      <td>12 - IMPULSIVOS</td>\n",
       "      <td>3.22</td>\n",
       "      <td>2</td>\n",
       "      <td>3 De Febrero, 3 De Febrero, Buenos Aires</td>\n",
       "      <td>Buenos Aires</td>\n",
       "      <td>8.00</td>\n",
       "      <td>unidades</td>\n",
       "      <td>sin definir</td>\n",
       "      <td>impulsivos</td>\n",
       "      <td>10.00</td>\n",
       "      <td>10.00</td>\n",
       "      <td>18.00</td>\n",
       "    </tr>\n",
       "    <tr>\n",
       "      <th>2</th>\n",
       "      <td>4</td>\n",
       "      <td>2018</td>\n",
       "      <td>1021</td>\n",
       "      <td>SIN DEFINIR</td>\n",
       "      <td>Unidades</td>\n",
       "      <td>12 - IMPULSIVOS</td>\n",
       "      <td>3.22</td>\n",
       "      <td>2</td>\n",
       "      <td>3 De Febrero, Caseros, Buenos Aires</td>\n",
       "      <td>Buenos Aires</td>\n",
       "      <td>73.00</td>\n",
       "      <td>unidades</td>\n",
       "      <td>sin definir</td>\n",
       "      <td>impulsivos</td>\n",
       "      <td>96.00</td>\n",
       "      <td>82.00</td>\n",
       "      <td>128.00</td>\n",
       "    </tr>\n",
       "    <tr>\n",
       "      <th>3</th>\n",
       "      <td>4</td>\n",
       "      <td>2018</td>\n",
       "      <td>1021</td>\n",
       "      <td>SIN DEFINIR</td>\n",
       "      <td>Unidades</td>\n",
       "      <td>12 - IMPULSIVOS</td>\n",
       "      <td>3.22</td>\n",
       "      <td>2</td>\n",
       "      <td>3 De Febrero, Ciudadela, Buenos Aires</td>\n",
       "      <td>Buenos Aires</td>\n",
       "      <td>20.00</td>\n",
       "      <td>unidades</td>\n",
       "      <td>sin definir</td>\n",
       "      <td>impulsivos</td>\n",
       "      <td>55.00</td>\n",
       "      <td>35.00</td>\n",
       "      <td>2.00</td>\n",
       "    </tr>\n",
       "    <tr>\n",
       "      <th>4</th>\n",
       "      <td>4</td>\n",
       "      <td>2018</td>\n",
       "      <td>1021</td>\n",
       "      <td>SIN DEFINIR</td>\n",
       "      <td>Unidades</td>\n",
       "      <td>12 - IMPULSIVOS</td>\n",
       "      <td>3.22</td>\n",
       "      <td>2</td>\n",
       "      <td>3 De Febrero, Santos Lugares, Buenos Aires</td>\n",
       "      <td>Buenos Aires</td>\n",
       "      <td>55.00</td>\n",
       "      <td>unidades</td>\n",
       "      <td>sin definir</td>\n",
       "      <td>impulsivos</td>\n",
       "      <td>55.00</td>\n",
       "      <td>90.00</td>\n",
       "      <td>107.00</td>\n",
       "    </tr>\n",
       "    <tr>\n",
       "      <th>...</th>\n",
       "      <td>...</td>\n",
       "      <td>...</td>\n",
       "      <td>...</td>\n",
       "      <td>...</td>\n",
       "      <td>...</td>\n",
       "      <td>...</td>\n",
       "      <td>...</td>\n",
       "      <td>...</td>\n",
       "      <td>...</td>\n",
       "      <td>...</td>\n",
       "      <td>...</td>\n",
       "      <td>...</td>\n",
       "      <td>...</td>\n",
       "      <td>...</td>\n",
       "      <td>...</td>\n",
       "      <td>...</td>\n",
       "      <td>...</td>\n",
       "    </tr>\n",
       "    <tr>\n",
       "      <th>766595</th>\n",
       "      <td>12</td>\n",
       "      <td>2019</td>\n",
       "      <td>995</td>\n",
       "      <td>SIN DEFINIR</td>\n",
       "      <td>Unidades</td>\n",
       "      <td>0004 - CUCURUCHOS , CONOS Y VASOS DE  PASTA</td>\n",
       "      <td>3.10</td>\n",
       "      <td>3</td>\n",
       "      <td>Villa Ocampo, Santa Fe</td>\n",
       "      <td>Santa Fe</td>\n",
       "      <td>4.00</td>\n",
       "      <td>unidades</td>\n",
       "      <td>sin definir</td>\n",
       "      <td>cucuruchos  conos y vasos de  pasta</td>\n",
       "      <td>2.00</td>\n",
       "      <td>3.00</td>\n",
       "      <td>3.00</td>\n",
       "    </tr>\n",
       "    <tr>\n",
       "      <th>766596</th>\n",
       "      <td>12</td>\n",
       "      <td>2019</td>\n",
       "      <td>995</td>\n",
       "      <td>SIN DEFINIR</td>\n",
       "      <td>Unidades</td>\n",
       "      <td>0004 - CUCURUCHOS , CONOS Y VASOS DE  PASTA</td>\n",
       "      <td>3.10</td>\n",
       "      <td>3</td>\n",
       "      <td>Villa Pueyrredón, Capital Federal</td>\n",
       "      <td>Capital Federal</td>\n",
       "      <td>2.00</td>\n",
       "      <td>unidades</td>\n",
       "      <td>sin definir</td>\n",
       "      <td>cucuruchos  conos y vasos de  pasta</td>\n",
       "      <td>1.00</td>\n",
       "      <td>2.00</td>\n",
       "      <td>4.00</td>\n",
       "    </tr>\n",
       "    <tr>\n",
       "      <th>766597</th>\n",
       "      <td>12</td>\n",
       "      <td>2019</td>\n",
       "      <td>995</td>\n",
       "      <td>SIN DEFINIR</td>\n",
       "      <td>Unidades</td>\n",
       "      <td>0004 - CUCURUCHOS , CONOS Y VASOS DE  PASTA</td>\n",
       "      <td>3.10</td>\n",
       "      <td>3</td>\n",
       "      <td>Yerba Buena, Tucumán</td>\n",
       "      <td>Tucumán</td>\n",
       "      <td>4.00</td>\n",
       "      <td>unidades</td>\n",
       "      <td>sin definir</td>\n",
       "      <td>cucuruchos  conos y vasos de  pasta</td>\n",
       "      <td>3.00</td>\n",
       "      <td>1.00</td>\n",
       "      <td>2.00</td>\n",
       "    </tr>\n",
       "    <tr>\n",
       "      <th>766598</th>\n",
       "      <td>12</td>\n",
       "      <td>2019</td>\n",
       "      <td>995</td>\n",
       "      <td>SIN DEFINIR</td>\n",
       "      <td>Unidades</td>\n",
       "      <td>0004 - CUCURUCHOS , CONOS Y VASOS DE  PASTA</td>\n",
       "      <td>3.10</td>\n",
       "      <td>3</td>\n",
       "      <td>Zapala, Neuquén</td>\n",
       "      <td>Neuquén</td>\n",
       "      <td>7.00</td>\n",
       "      <td>unidades</td>\n",
       "      <td>sin definir</td>\n",
       "      <td>cucuruchos  conos y vasos de  pasta</td>\n",
       "      <td>5.00</td>\n",
       "      <td>6.00</td>\n",
       "      <td>10.00</td>\n",
       "    </tr>\n",
       "    <tr>\n",
       "      <th>766599</th>\n",
       "      <td>12</td>\n",
       "      <td>2019</td>\n",
       "      <td>995</td>\n",
       "      <td>SIN DEFINIR</td>\n",
       "      <td>Unidades</td>\n",
       "      <td>0004 - CUCURUCHOS , CONOS Y VASOS DE  PASTA</td>\n",
       "      <td>3.10</td>\n",
       "      <td>3</td>\n",
       "      <td>Zarate, Zarate, Buenos Aires</td>\n",
       "      <td>Buenos Aires</td>\n",
       "      <td>8.00</td>\n",
       "      <td>unidades</td>\n",
       "      <td>sin definir</td>\n",
       "      <td>cucuruchos  conos y vasos de  pasta</td>\n",
       "      <td>5.00</td>\n",
       "      <td>10.00</td>\n",
       "      <td>3.00</td>\n",
       "    </tr>\n",
       "  </tbody>\n",
       "</table>\n",
       "<p>766600 rows × 17 columns</p>\n",
       "</div>"
      ],
      "text/plain": [
       "       mes  anio   sku        marca presentacion  \\\n",
       "0        4  2018  1021  SIN DEFINIR     Unidades   \n",
       "1        4  2018  1021  SIN DEFINIR     Unidades   \n",
       "2        4  2018  1021  SIN DEFINIR     Unidades   \n",
       "3        4  2018  1021  SIN DEFINIR     Unidades   \n",
       "4        4  2018  1021  SIN DEFINIR     Unidades   \n",
       "...     ..   ...   ...          ...          ...   \n",
       "766595  12  2019   995  SIN DEFINIR     Unidades   \n",
       "766596  12  2019   995  SIN DEFINIR     Unidades   \n",
       "766597  12  2019   995  SIN DEFINIR     Unidades   \n",
       "766598  12  2019   995  SIN DEFINIR     Unidades   \n",
       "766599  12  2019   995  SIN DEFINIR     Unidades   \n",
       "\n",
       "                                          categoria  unidadkg id_proveedor  \\\n",
       "0                                   12 - IMPULSIVOS      3.22            2   \n",
       "1                                   12 - IMPULSIVOS      3.22            2   \n",
       "2                                   12 - IMPULSIVOS      3.22            2   \n",
       "3                                   12 - IMPULSIVOS      3.22            2   \n",
       "4                                   12 - IMPULSIVOS      3.22            2   \n",
       "...                                             ...       ...          ...   \n",
       "766595  0004 - CUCURUCHOS , CONOS Y VASOS DE  PASTA      3.10            3   \n",
       "766596  0004 - CUCURUCHOS , CONOS Y VASOS DE  PASTA      3.10            3   \n",
       "766597  0004 - CUCURUCHOS , CONOS Y VASOS DE  PASTA      3.10            3   \n",
       "766598  0004 - CUCURUCHOS , CONOS Y VASOS DE  PASTA      3.10            3   \n",
       "766599  0004 - CUCURUCHOS , CONOS Y VASOS DE  PASTA      3.10            3   \n",
       "\n",
       "                                         ubicacion        Provincia  \\\n",
       "0             25 De Mayo, 25 De Mayo, Buenos Aires     Buenos Aires   \n",
       "1         3 De Febrero, 3 De Febrero, Buenos Aires     Buenos Aires   \n",
       "2              3 De Febrero, Caseros, Buenos Aires     Buenos Aires   \n",
       "3            3 De Febrero, Ciudadela, Buenos Aires     Buenos Aires   \n",
       "4       3 De Febrero, Santos Lugares, Buenos Aires     Buenos Aires   \n",
       "...                                            ...              ...   \n",
       "766595                      Villa Ocampo, Santa Fe         Santa Fe   \n",
       "766596           Villa Pueyrredón, Capital Federal  Capital Federal   \n",
       "766597                        Yerba Buena, Tucumán          Tucumán   \n",
       "766598                             Zapala, Neuquén          Neuquén   \n",
       "766599                Zarate, Zarate, Buenos Aires     Buenos Aires   \n",
       "\n",
       "        cantidad_pedida presentacion_depurada marca_depurada  \\\n",
       "0                 15.00              unidades    sin definir   \n",
       "1                  8.00              unidades    sin definir   \n",
       "2                 73.00              unidades    sin definir   \n",
       "3                 20.00              unidades    sin definir   \n",
       "4                 55.00              unidades    sin definir   \n",
       "...                 ...                   ...            ...   \n",
       "766595             4.00              unidades    sin definir   \n",
       "766596             2.00              unidades    sin definir   \n",
       "766597             4.00              unidades    sin definir   \n",
       "766598             7.00              unidades    sin definir   \n",
       "766599             8.00              unidades    sin definir   \n",
       "\n",
       "                         categoria_depurada  cantidad_pedida_lag_t-1  \\\n",
       "0                                impulsivos                    65.00   \n",
       "1                                impulsivos                    10.00   \n",
       "2                                impulsivos                    96.00   \n",
       "3                                impulsivos                    55.00   \n",
       "4                                impulsivos                    55.00   \n",
       "...                                     ...                      ...   \n",
       "766595  cucuruchos  conos y vasos de  pasta                     2.00   \n",
       "766596  cucuruchos  conos y vasos de  pasta                     1.00   \n",
       "766597  cucuruchos  conos y vasos de  pasta                     3.00   \n",
       "766598  cucuruchos  conos y vasos de  pasta                     5.00   \n",
       "766599  cucuruchos  conos y vasos de  pasta                     5.00   \n",
       "\n",
       "        cantidad_pedida_lag_t-2  cantidad_pedida_lag_t-3  \n",
       "0                         60.00                    50.00  \n",
       "1                         10.00                    18.00  \n",
       "2                         82.00                   128.00  \n",
       "3                         35.00                     2.00  \n",
       "4                         90.00                   107.00  \n",
       "...                         ...                      ...  \n",
       "766595                     3.00                     3.00  \n",
       "766596                     2.00                     4.00  \n",
       "766597                     1.00                     2.00  \n",
       "766598                     6.00                    10.00  \n",
       "766599                    10.00                     3.00  \n",
       "\n",
       "[766600 rows x 17 columns]"
      ]
     },
     "execution_count": 169,
     "metadata": {},
     "output_type": "execute_result"
    }
   ],
   "source": [
    "df_lagged = df_grouped.merge(lag, how='inner', on=['ubicacion', 'sku', 'anio', 'mes'])\n",
    "df_lagged"
   ]
  },
  {
   "cell_type": "markdown",
   "metadata": {
    "id": "5WHGQ5jk3RUT"
   },
   "source": [
    "#### 5.4 Crear columnas nuevas para medias móviles simples y/o ponderadas"
   ]
  },
  {
   "cell_type": "markdown",
   "metadata": {
    "id": "CUQL44ul3RUU"
   },
   "source": [
    "Crear medias móviles simples y/o ponderadas de la columna cantidad_pedida de n periodos pasados para la combinación de provincia-localidad y sku agrupados por mes. Considere utilizar pandas rolling para el calculo de medias móviles. Seleccione \"window\" que considere pertinente y justifique su elección."
   ]
  },
  {
   "cell_type": "code",
   "execution_count": 170,
   "metadata": {
    "colab": {
     "base_uri": "https://localhost:8080/"
    },
    "id": "QT3gs7dTniAt",
    "outputId": "80a36781-bd51-4285-a48e-c59d631eba26"
   },
   "outputs": [
    {
     "name": "stderr",
     "output_type": "stream",
     "text": [
      "<ipython-input-170-0543f67d0f4d>:5: SettingWithCopyWarning: \n",
      "A value is trying to be set on a copy of a slice from a DataFrame.\n",
      "Try using .loc[row_indexer,col_indexer] = value instead\n",
      "\n",
      "See the caveats in the documentation: https://pandas.pydata.org/pandas-docs/stable/user_guide/indexing.html#returning-a-view-versus-a-copy\n",
      "  df_roll_mean['mes'] = df_roll_mean['mes'].astype(int)\n"
     ]
    }
   ],
   "source": [
    "#Seleccionamos solas las variables que se necesitan\n",
    "df_roll_mean = df[['anio','mes','ubicacion','sku','cantidad_pedida']]\n",
    "\n",
    "#Calculamos el promedio mensual para cada sku y ubicacion de cantidad pedida (estaba a nivel diario)\n",
    "df_roll_mean['mes'] = df_roll_mean['mes'].astype(int)\n",
    "df_roll_mean = df_roll_mean.groupby(['ubicacion','sku','anio','mes']).mean().reset_index()\n",
    "df_roll_mean = df_roll_mean.set_index(['ubicacion','sku','anio','mes'])"
   ]
  },
  {
   "cell_type": "code",
   "execution_count": 171,
   "metadata": {
    "colab": {
     "base_uri": "https://localhost:8080/",
     "height": 414
    },
    "id": "mPHdj2T2IjCI",
    "outputId": "4cad46cd-c1a2-4465-9f84-8170b670fad2"
   },
   "outputs": [
    {
     "data": {
      "text/html": [
       "<div>\n",
       "<style scoped>\n",
       "    .dataframe tbody tr th:only-of-type {\n",
       "        vertical-align: middle;\n",
       "    }\n",
       "\n",
       "    .dataframe tbody tr th {\n",
       "        vertical-align: top;\n",
       "    }\n",
       "\n",
       "    .dataframe thead th {\n",
       "        text-align: right;\n",
       "    }\n",
       "</style>\n",
       "<table border=\"1\" class=\"dataframe\">\n",
       "  <thead>\n",
       "    <tr style=\"text-align: right;\">\n",
       "      <th></th>\n",
       "      <th>ubicacion</th>\n",
       "      <th>sku</th>\n",
       "      <th>anio</th>\n",
       "      <th>mes</th>\n",
       "      <th>cantidad_pedida_mean</th>\n",
       "      <th>cantidad_pedida_mean_w2</th>\n",
       "      <th>cantidad_pedida_mean_w3</th>\n",
       "    </tr>\n",
       "  </thead>\n",
       "  <tbody>\n",
       "    <tr>\n",
       "      <th>0</th>\n",
       "      <td>25 De Mayo, 25 De Mayo, Buenos Aires</td>\n",
       "      <td>1021</td>\n",
       "      <td>2018</td>\n",
       "      <td>1</td>\n",
       "      <td>16.67</td>\n",
       "      <td>0.00</td>\n",
       "      <td>0.00</td>\n",
       "    </tr>\n",
       "    <tr>\n",
       "      <th>1</th>\n",
       "      <td>25 De Mayo, 25 De Mayo, Buenos Aires</td>\n",
       "      <td>1021</td>\n",
       "      <td>2018</td>\n",
       "      <td>2</td>\n",
       "      <td>15.00</td>\n",
       "      <td>15.83</td>\n",
       "      <td>0.00</td>\n",
       "    </tr>\n",
       "    <tr>\n",
       "      <th>2</th>\n",
       "      <td>25 De Mayo, 25 De Mayo, Buenos Aires</td>\n",
       "      <td>1021</td>\n",
       "      <td>2018</td>\n",
       "      <td>3</td>\n",
       "      <td>16.25</td>\n",
       "      <td>15.62</td>\n",
       "      <td>15.97</td>\n",
       "    </tr>\n",
       "    <tr>\n",
       "      <th>3</th>\n",
       "      <td>25 De Mayo, 25 De Mayo, Buenos Aires</td>\n",
       "      <td>1021</td>\n",
       "      <td>2018</td>\n",
       "      <td>4</td>\n",
       "      <td>15.00</td>\n",
       "      <td>15.62</td>\n",
       "      <td>15.42</td>\n",
       "    </tr>\n",
       "    <tr>\n",
       "      <th>4</th>\n",
       "      <td>25 De Mayo, 25 De Mayo, Buenos Aires</td>\n",
       "      <td>1021</td>\n",
       "      <td>2018</td>\n",
       "      <td>5</td>\n",
       "      <td>12.50</td>\n",
       "      <td>13.75</td>\n",
       "      <td>14.58</td>\n",
       "    </tr>\n",
       "    <tr>\n",
       "      <th>...</th>\n",
       "      <td>...</td>\n",
       "      <td>...</td>\n",
       "      <td>...</td>\n",
       "      <td>...</td>\n",
       "      <td>...</td>\n",
       "      <td>...</td>\n",
       "      <td>...</td>\n",
       "    </tr>\n",
       "    <tr>\n",
       "      <th>1015981</th>\n",
       "      <td>Zavalla, Santa Fe</td>\n",
       "      <td>908</td>\n",
       "      <td>2018</td>\n",
       "      <td>1</td>\n",
       "      <td>1.00</td>\n",
       "      <td>1.50</td>\n",
       "      <td>1.67</td>\n",
       "    </tr>\n",
       "    <tr>\n",
       "      <th>1015982</th>\n",
       "      <td>Zavalla, Santa Fe</td>\n",
       "      <td>909</td>\n",
       "      <td>2018</td>\n",
       "      <td>1</td>\n",
       "      <td>1.00</td>\n",
       "      <td>1.00</td>\n",
       "      <td>1.33</td>\n",
       "    </tr>\n",
       "    <tr>\n",
       "      <th>1015983</th>\n",
       "      <td>Zavalla, Santa Fe</td>\n",
       "      <td>910</td>\n",
       "      <td>2018</td>\n",
       "      <td>1</td>\n",
       "      <td>1.00</td>\n",
       "      <td>1.00</td>\n",
       "      <td>1.00</td>\n",
       "    </tr>\n",
       "    <tr>\n",
       "      <th>1015984</th>\n",
       "      <td>Zavalla, Santa Fe</td>\n",
       "      <td>911</td>\n",
       "      <td>2018</td>\n",
       "      <td>1</td>\n",
       "      <td>1.00</td>\n",
       "      <td>1.00</td>\n",
       "      <td>1.00</td>\n",
       "    </tr>\n",
       "    <tr>\n",
       "      <th>1015985</th>\n",
       "      <td>Zavalla, Santa Fe</td>\n",
       "      <td>912</td>\n",
       "      <td>2018</td>\n",
       "      <td>1</td>\n",
       "      <td>1.00</td>\n",
       "      <td>1.00</td>\n",
       "      <td>1.00</td>\n",
       "    </tr>\n",
       "  </tbody>\n",
       "</table>\n",
       "<p>1015986 rows × 7 columns</p>\n",
       "</div>"
      ],
      "text/plain": [
       "                                    ubicacion   sku  anio mes  \\\n",
       "0        25 De Mayo, 25 De Mayo, Buenos Aires  1021  2018   1   \n",
       "1        25 De Mayo, 25 De Mayo, Buenos Aires  1021  2018   2   \n",
       "2        25 De Mayo, 25 De Mayo, Buenos Aires  1021  2018   3   \n",
       "3        25 De Mayo, 25 De Mayo, Buenos Aires  1021  2018   4   \n",
       "4        25 De Mayo, 25 De Mayo, Buenos Aires  1021  2018   5   \n",
       "...                                       ...   ...   ...  ..   \n",
       "1015981                     Zavalla, Santa Fe   908  2018   1   \n",
       "1015982                     Zavalla, Santa Fe   909  2018   1   \n",
       "1015983                     Zavalla, Santa Fe   910  2018   1   \n",
       "1015984                     Zavalla, Santa Fe   911  2018   1   \n",
       "1015985                     Zavalla, Santa Fe   912  2018   1   \n",
       "\n",
       "         cantidad_pedida_mean  cantidad_pedida_mean_w2  \\\n",
       "0                       16.67                     0.00   \n",
       "1                       15.00                    15.83   \n",
       "2                       16.25                    15.62   \n",
       "3                       15.00                    15.62   \n",
       "4                       12.50                    13.75   \n",
       "...                       ...                      ...   \n",
       "1015981                  1.00                     1.50   \n",
       "1015982                  1.00                     1.00   \n",
       "1015983                  1.00                     1.00   \n",
       "1015984                  1.00                     1.00   \n",
       "1015985                  1.00                     1.00   \n",
       "\n",
       "         cantidad_pedida_mean_w3  \n",
       "0                           0.00  \n",
       "1                           0.00  \n",
       "2                          15.97  \n",
       "3                          15.42  \n",
       "4                          14.58  \n",
       "...                          ...  \n",
       "1015981                     1.67  \n",
       "1015982                     1.33  \n",
       "1015983                     1.00  \n",
       "1015984                     1.00  \n",
       "1015985                     1.00  \n",
       "\n",
       "[1015986 rows x 7 columns]"
      ]
     },
     "execution_count": 171,
     "metadata": {},
     "output_type": "execute_result"
    }
   ],
   "source": [
    "#Calculamos la media movil simple para dos y tres ventanas\n",
    "w2 = df_roll_mean.rolling(2).mean().reset_index()[['cantidad_pedida']]\n",
    "w3 = df_roll_mean.rolling(3).mean().reset_index()[['cantidad_pedida']]\n",
    "df_roll_mean = df_roll_mean.reset_index()\n",
    "df_roll_mean.rename(columns={'cantidad_pedida': 'cantidad_pedida_mean'}, inplace=True)\n",
    "df_roll_mean['cantidad_pedida_mean_w2'] = w2['cantidad_pedida']\n",
    "df_roll_mean['cantidad_pedida_mean_w3'] = w3['cantidad_pedida']\n",
    "df_roll_mean['mes'] = df_roll_mean['mes'].astype(str)\n",
    "df_roll_mean.fillna(0)"
   ]
  },
  {
   "cell_type": "code",
   "execution_count": 172,
   "metadata": {
    "id": "rmC9Ura25Qn3"
   },
   "outputs": [
    {
     "data": {
      "text/html": [
       "<div>\n",
       "<style scoped>\n",
       "    .dataframe tbody tr th:only-of-type {\n",
       "        vertical-align: middle;\n",
       "    }\n",
       "\n",
       "    .dataframe tbody tr th {\n",
       "        vertical-align: top;\n",
       "    }\n",
       "\n",
       "    .dataframe thead th {\n",
       "        text-align: right;\n",
       "    }\n",
       "</style>\n",
       "<table border=\"1\" class=\"dataframe\">\n",
       "  <thead>\n",
       "    <tr style=\"text-align: right;\">\n",
       "      <th></th>\n",
       "      <th>mes</th>\n",
       "      <th>anio</th>\n",
       "      <th>sku</th>\n",
       "      <th>marca</th>\n",
       "      <th>presentacion</th>\n",
       "      <th>categoria</th>\n",
       "      <th>unidadkg</th>\n",
       "      <th>id_proveedor</th>\n",
       "      <th>ubicacion</th>\n",
       "      <th>Provincia</th>\n",
       "      <th>cantidad_pedida</th>\n",
       "      <th>presentacion_depurada</th>\n",
       "      <th>marca_depurada</th>\n",
       "      <th>categoria_depurada</th>\n",
       "      <th>cantidad_pedida_lag_t-1</th>\n",
       "      <th>cantidad_pedida_lag_t-2</th>\n",
       "      <th>cantidad_pedida_lag_t-3</th>\n",
       "      <th>cantidad_pedida_mean</th>\n",
       "      <th>cantidad_pedida_mean_w2</th>\n",
       "      <th>cantidad_pedida_mean_w3</th>\n",
       "    </tr>\n",
       "  </thead>\n",
       "  <tbody>\n",
       "    <tr>\n",
       "      <th>0</th>\n",
       "      <td>4</td>\n",
       "      <td>2018</td>\n",
       "      <td>1021</td>\n",
       "      <td>SIN DEFINIR</td>\n",
       "      <td>Unidades</td>\n",
       "      <td>12 - IMPULSIVOS</td>\n",
       "      <td>3.22</td>\n",
       "      <td>2</td>\n",
       "      <td>25 De Mayo, 25 De Mayo, Buenos Aires</td>\n",
       "      <td>Buenos Aires</td>\n",
       "      <td>15.00</td>\n",
       "      <td>unidades</td>\n",
       "      <td>sin definir</td>\n",
       "      <td>impulsivos</td>\n",
       "      <td>65.00</td>\n",
       "      <td>60.00</td>\n",
       "      <td>50.00</td>\n",
       "      <td>15.00</td>\n",
       "      <td>15.62</td>\n",
       "      <td>15.42</td>\n",
       "    </tr>\n",
       "    <tr>\n",
       "      <th>1</th>\n",
       "      <td>4</td>\n",
       "      <td>2018</td>\n",
       "      <td>1021</td>\n",
       "      <td>SIN DEFINIR</td>\n",
       "      <td>Unidades</td>\n",
       "      <td>12 - IMPULSIVOS</td>\n",
       "      <td>3.22</td>\n",
       "      <td>2</td>\n",
       "      <td>3 De Febrero, 3 De Febrero, Buenos Aires</td>\n",
       "      <td>Buenos Aires</td>\n",
       "      <td>8.00</td>\n",
       "      <td>unidades</td>\n",
       "      <td>sin definir</td>\n",
       "      <td>impulsivos</td>\n",
       "      <td>10.00</td>\n",
       "      <td>10.00</td>\n",
       "      <td>18.00</td>\n",
       "      <td>4.00</td>\n",
       "      <td>3.67</td>\n",
       "      <td>4.11</td>\n",
       "    </tr>\n",
       "    <tr>\n",
       "      <th>2</th>\n",
       "      <td>4</td>\n",
       "      <td>2018</td>\n",
       "      <td>1021</td>\n",
       "      <td>SIN DEFINIR</td>\n",
       "      <td>Unidades</td>\n",
       "      <td>12 - IMPULSIVOS</td>\n",
       "      <td>3.22</td>\n",
       "      <td>2</td>\n",
       "      <td>3 De Febrero, Caseros, Buenos Aires</td>\n",
       "      <td>Buenos Aires</td>\n",
       "      <td>73.00</td>\n",
       "      <td>unidades</td>\n",
       "      <td>sin definir</td>\n",
       "      <td>impulsivos</td>\n",
       "      <td>96.00</td>\n",
       "      <td>82.00</td>\n",
       "      <td>128.00</td>\n",
       "      <td>9.12</td>\n",
       "      <td>10.56</td>\n",
       "      <td>10.46</td>\n",
       "    </tr>\n",
       "    <tr>\n",
       "      <th>3</th>\n",
       "      <td>4</td>\n",
       "      <td>2018</td>\n",
       "      <td>1021</td>\n",
       "      <td>SIN DEFINIR</td>\n",
       "      <td>Unidades</td>\n",
       "      <td>12 - IMPULSIVOS</td>\n",
       "      <td>3.22</td>\n",
       "      <td>2</td>\n",
       "      <td>3 De Febrero, Ciudadela, Buenos Aires</td>\n",
       "      <td>Buenos Aires</td>\n",
       "      <td>20.00</td>\n",
       "      <td>unidades</td>\n",
       "      <td>sin definir</td>\n",
       "      <td>impulsivos</td>\n",
       "      <td>55.00</td>\n",
       "      <td>35.00</td>\n",
       "      <td>2.00</td>\n",
       "      <td>20.00</td>\n",
       "      <td>23.75</td>\n",
       "      <td>21.67</td>\n",
       "    </tr>\n",
       "    <tr>\n",
       "      <th>4</th>\n",
       "      <td>4</td>\n",
       "      <td>2018</td>\n",
       "      <td>1021</td>\n",
       "      <td>SIN DEFINIR</td>\n",
       "      <td>Unidades</td>\n",
       "      <td>12 - IMPULSIVOS</td>\n",
       "      <td>3.22</td>\n",
       "      <td>2</td>\n",
       "      <td>3 De Febrero, Santos Lugares, Buenos Aires</td>\n",
       "      <td>Buenos Aires</td>\n",
       "      <td>55.00</td>\n",
       "      <td>unidades</td>\n",
       "      <td>sin definir</td>\n",
       "      <td>impulsivos</td>\n",
       "      <td>55.00</td>\n",
       "      <td>90.00</td>\n",
       "      <td>107.00</td>\n",
       "      <td>18.33</td>\n",
       "      <td>18.33</td>\n",
       "      <td>22.22</td>\n",
       "    </tr>\n",
       "    <tr>\n",
       "      <th>...</th>\n",
       "      <td>...</td>\n",
       "      <td>...</td>\n",
       "      <td>...</td>\n",
       "      <td>...</td>\n",
       "      <td>...</td>\n",
       "      <td>...</td>\n",
       "      <td>...</td>\n",
       "      <td>...</td>\n",
       "      <td>...</td>\n",
       "      <td>...</td>\n",
       "      <td>...</td>\n",
       "      <td>...</td>\n",
       "      <td>...</td>\n",
       "      <td>...</td>\n",
       "      <td>...</td>\n",
       "      <td>...</td>\n",
       "      <td>...</td>\n",
       "      <td>...</td>\n",
       "      <td>...</td>\n",
       "      <td>...</td>\n",
       "    </tr>\n",
       "    <tr>\n",
       "      <th>766595</th>\n",
       "      <td>12</td>\n",
       "      <td>2019</td>\n",
       "      <td>995</td>\n",
       "      <td>SIN DEFINIR</td>\n",
       "      <td>Unidades</td>\n",
       "      <td>0004 - CUCURUCHOS , CONOS Y VASOS DE  PASTA</td>\n",
       "      <td>3.10</td>\n",
       "      <td>3</td>\n",
       "      <td>Villa Ocampo, Santa Fe</td>\n",
       "      <td>Santa Fe</td>\n",
       "      <td>4.00</td>\n",
       "      <td>unidades</td>\n",
       "      <td>sin definir</td>\n",
       "      <td>cucuruchos  conos y vasos de  pasta</td>\n",
       "      <td>2.00</td>\n",
       "      <td>3.00</td>\n",
       "      <td>3.00</td>\n",
       "      <td>2.00</td>\n",
       "      <td>2.00</td>\n",
       "      <td>2.33</td>\n",
       "    </tr>\n",
       "    <tr>\n",
       "      <th>766596</th>\n",
       "      <td>12</td>\n",
       "      <td>2019</td>\n",
       "      <td>995</td>\n",
       "      <td>SIN DEFINIR</td>\n",
       "      <td>Unidades</td>\n",
       "      <td>0004 - CUCURUCHOS , CONOS Y VASOS DE  PASTA</td>\n",
       "      <td>3.10</td>\n",
       "      <td>3</td>\n",
       "      <td>Villa Pueyrredón, Capital Federal</td>\n",
       "      <td>Capital Federal</td>\n",
       "      <td>2.00</td>\n",
       "      <td>unidades</td>\n",
       "      <td>sin definir</td>\n",
       "      <td>cucuruchos  conos y vasos de  pasta</td>\n",
       "      <td>1.00</td>\n",
       "      <td>2.00</td>\n",
       "      <td>4.00</td>\n",
       "      <td>2.00</td>\n",
       "      <td>1.50</td>\n",
       "      <td>1.67</td>\n",
       "    </tr>\n",
       "    <tr>\n",
       "      <th>766597</th>\n",
       "      <td>12</td>\n",
       "      <td>2019</td>\n",
       "      <td>995</td>\n",
       "      <td>SIN DEFINIR</td>\n",
       "      <td>Unidades</td>\n",
       "      <td>0004 - CUCURUCHOS , CONOS Y VASOS DE  PASTA</td>\n",
       "      <td>3.10</td>\n",
       "      <td>3</td>\n",
       "      <td>Yerba Buena, Tucumán</td>\n",
       "      <td>Tucumán</td>\n",
       "      <td>4.00</td>\n",
       "      <td>unidades</td>\n",
       "      <td>sin definir</td>\n",
       "      <td>cucuruchos  conos y vasos de  pasta</td>\n",
       "      <td>3.00</td>\n",
       "      <td>1.00</td>\n",
       "      <td>2.00</td>\n",
       "      <td>2.00</td>\n",
       "      <td>1.75</td>\n",
       "      <td>1.50</td>\n",
       "    </tr>\n",
       "    <tr>\n",
       "      <th>766598</th>\n",
       "      <td>12</td>\n",
       "      <td>2019</td>\n",
       "      <td>995</td>\n",
       "      <td>SIN DEFINIR</td>\n",
       "      <td>Unidades</td>\n",
       "      <td>0004 - CUCURUCHOS , CONOS Y VASOS DE  PASTA</td>\n",
       "      <td>3.10</td>\n",
       "      <td>3</td>\n",
       "      <td>Zapala, Neuquén</td>\n",
       "      <td>Neuquén</td>\n",
       "      <td>7.00</td>\n",
       "      <td>unidades</td>\n",
       "      <td>sin definir</td>\n",
       "      <td>cucuruchos  conos y vasos de  pasta</td>\n",
       "      <td>5.00</td>\n",
       "      <td>6.00</td>\n",
       "      <td>10.00</td>\n",
       "      <td>3.50</td>\n",
       "      <td>4.25</td>\n",
       "      <td>4.83</td>\n",
       "    </tr>\n",
       "    <tr>\n",
       "      <th>766599</th>\n",
       "      <td>12</td>\n",
       "      <td>2019</td>\n",
       "      <td>995</td>\n",
       "      <td>SIN DEFINIR</td>\n",
       "      <td>Unidades</td>\n",
       "      <td>0004 - CUCURUCHOS , CONOS Y VASOS DE  PASTA</td>\n",
       "      <td>3.10</td>\n",
       "      <td>3</td>\n",
       "      <td>Zarate, Zarate, Buenos Aires</td>\n",
       "      <td>Buenos Aires</td>\n",
       "      <td>8.00</td>\n",
       "      <td>unidades</td>\n",
       "      <td>sin definir</td>\n",
       "      <td>cucuruchos  conos y vasos de  pasta</td>\n",
       "      <td>5.00</td>\n",
       "      <td>10.00</td>\n",
       "      <td>3.00</td>\n",
       "      <td>2.67</td>\n",
       "      <td>2.58</td>\n",
       "      <td>2.56</td>\n",
       "    </tr>\n",
       "  </tbody>\n",
       "</table>\n",
       "<p>766600 rows × 20 columns</p>\n",
       "</div>"
      ],
      "text/plain": [
       "       mes  anio   sku        marca presentacion  \\\n",
       "0        4  2018  1021  SIN DEFINIR     Unidades   \n",
       "1        4  2018  1021  SIN DEFINIR     Unidades   \n",
       "2        4  2018  1021  SIN DEFINIR     Unidades   \n",
       "3        4  2018  1021  SIN DEFINIR     Unidades   \n",
       "4        4  2018  1021  SIN DEFINIR     Unidades   \n",
       "...     ..   ...   ...          ...          ...   \n",
       "766595  12  2019   995  SIN DEFINIR     Unidades   \n",
       "766596  12  2019   995  SIN DEFINIR     Unidades   \n",
       "766597  12  2019   995  SIN DEFINIR     Unidades   \n",
       "766598  12  2019   995  SIN DEFINIR     Unidades   \n",
       "766599  12  2019   995  SIN DEFINIR     Unidades   \n",
       "\n",
       "                                          categoria  unidadkg id_proveedor  \\\n",
       "0                                   12 - IMPULSIVOS      3.22            2   \n",
       "1                                   12 - IMPULSIVOS      3.22            2   \n",
       "2                                   12 - IMPULSIVOS      3.22            2   \n",
       "3                                   12 - IMPULSIVOS      3.22            2   \n",
       "4                                   12 - IMPULSIVOS      3.22            2   \n",
       "...                                             ...       ...          ...   \n",
       "766595  0004 - CUCURUCHOS , CONOS Y VASOS DE  PASTA      3.10            3   \n",
       "766596  0004 - CUCURUCHOS , CONOS Y VASOS DE  PASTA      3.10            3   \n",
       "766597  0004 - CUCURUCHOS , CONOS Y VASOS DE  PASTA      3.10            3   \n",
       "766598  0004 - CUCURUCHOS , CONOS Y VASOS DE  PASTA      3.10            3   \n",
       "766599  0004 - CUCURUCHOS , CONOS Y VASOS DE  PASTA      3.10            3   \n",
       "\n",
       "                                         ubicacion        Provincia  \\\n",
       "0             25 De Mayo, 25 De Mayo, Buenos Aires     Buenos Aires   \n",
       "1         3 De Febrero, 3 De Febrero, Buenos Aires     Buenos Aires   \n",
       "2              3 De Febrero, Caseros, Buenos Aires     Buenos Aires   \n",
       "3            3 De Febrero, Ciudadela, Buenos Aires     Buenos Aires   \n",
       "4       3 De Febrero, Santos Lugares, Buenos Aires     Buenos Aires   \n",
       "...                                            ...              ...   \n",
       "766595                      Villa Ocampo, Santa Fe         Santa Fe   \n",
       "766596           Villa Pueyrredón, Capital Federal  Capital Federal   \n",
       "766597                        Yerba Buena, Tucumán          Tucumán   \n",
       "766598                             Zapala, Neuquén          Neuquén   \n",
       "766599                Zarate, Zarate, Buenos Aires     Buenos Aires   \n",
       "\n",
       "        cantidad_pedida presentacion_depurada marca_depurada  \\\n",
       "0                 15.00              unidades    sin definir   \n",
       "1                  8.00              unidades    sin definir   \n",
       "2                 73.00              unidades    sin definir   \n",
       "3                 20.00              unidades    sin definir   \n",
       "4                 55.00              unidades    sin definir   \n",
       "...                 ...                   ...            ...   \n",
       "766595             4.00              unidades    sin definir   \n",
       "766596             2.00              unidades    sin definir   \n",
       "766597             4.00              unidades    sin definir   \n",
       "766598             7.00              unidades    sin definir   \n",
       "766599             8.00              unidades    sin definir   \n",
       "\n",
       "                         categoria_depurada  cantidad_pedida_lag_t-1  \\\n",
       "0                                impulsivos                    65.00   \n",
       "1                                impulsivos                    10.00   \n",
       "2                                impulsivos                    96.00   \n",
       "3                                impulsivos                    55.00   \n",
       "4                                impulsivos                    55.00   \n",
       "...                                     ...                      ...   \n",
       "766595  cucuruchos  conos y vasos de  pasta                     2.00   \n",
       "766596  cucuruchos  conos y vasos de  pasta                     1.00   \n",
       "766597  cucuruchos  conos y vasos de  pasta                     3.00   \n",
       "766598  cucuruchos  conos y vasos de  pasta                     5.00   \n",
       "766599  cucuruchos  conos y vasos de  pasta                     5.00   \n",
       "\n",
       "        cantidad_pedida_lag_t-2  cantidad_pedida_lag_t-3  \\\n",
       "0                         60.00                    50.00   \n",
       "1                         10.00                    18.00   \n",
       "2                         82.00                   128.00   \n",
       "3                         35.00                     2.00   \n",
       "4                         90.00                   107.00   \n",
       "...                         ...                      ...   \n",
       "766595                     3.00                     3.00   \n",
       "766596                     2.00                     4.00   \n",
       "766597                     1.00                     2.00   \n",
       "766598                     6.00                    10.00   \n",
       "766599                    10.00                     3.00   \n",
       "\n",
       "        cantidad_pedida_mean  cantidad_pedida_mean_w2  cantidad_pedida_mean_w3  \n",
       "0                      15.00                    15.62                    15.42  \n",
       "1                       4.00                     3.67                     4.11  \n",
       "2                       9.12                    10.56                    10.46  \n",
       "3                      20.00                    23.75                    21.67  \n",
       "4                      18.33                    18.33                    22.22  \n",
       "...                      ...                      ...                      ...  \n",
       "766595                  2.00                     2.00                     2.33  \n",
       "766596                  2.00                     1.50                     1.67  \n",
       "766597                  2.00                     1.75                     1.50  \n",
       "766598                  3.50                     4.25                     4.83  \n",
       "766599                  2.67                     2.58                     2.56  \n",
       "\n",
       "[766600 rows x 20 columns]"
      ]
     },
     "execution_count": 172,
     "metadata": {},
     "output_type": "execute_result"
    }
   ],
   "source": [
    "df_lagged_roll_mean = df_lagged.merge(df_roll_mean, how='inner', on=['ubicacion', 'sku', 'anio', 'mes'])\n",
    "df_lagged_roll_mean"
   ]
  },
  {
   "cell_type": "markdown",
   "metadata": {
    "id": "VufgZ-Gz3RUU"
   },
   "source": [
    "#### 5.5 Features externas a agregar"
   ]
  },
  {
   "cell_type": "markdown",
   "metadata": {
    "id": "6t4cSDxR3RUU"
   },
   "source": [
    "Que features externas consideran pueden enriquecer el dataset pues tendrían relación con el comportamiento de compra?. Será bienvenido y valorado enriquecer el dataset con alguna variable adicional que considere pertinente y este diponible en forma pública. "
   ]
  },
  {
   "cell_type": "code",
   "execution_count": 173,
   "metadata": {
    "colab": {
     "base_uri": "https://localhost:8080/"
    },
    "id": "amO8KGD33RUU",
    "outputId": "9c7e6181-a964-42fa-f2a6-e1bad5c974d5"
   },
   "outputs": [
    {
     "data": {
      "text/html": [
       "<div>\n",
       "<style scoped>\n",
       "    .dataframe tbody tr th:only-of-type {\n",
       "        vertical-align: middle;\n",
       "    }\n",
       "\n",
       "    .dataframe tbody tr th {\n",
       "        vertical-align: top;\n",
       "    }\n",
       "\n",
       "    .dataframe thead th {\n",
       "        text-align: right;\n",
       "    }\n",
       "</style>\n",
       "<table border=\"1\" class=\"dataframe\">\n",
       "  <thead>\n",
       "    <tr style=\"text-align: right;\">\n",
       "      <th></th>\n",
       "      <th>provincia</th>\n",
       "      <th>poblacion_prov</th>\n",
       "      <th>densidad_prov</th>\n",
       "    </tr>\n",
       "  </thead>\n",
       "  <tbody>\n",
       "    <tr>\n",
       "      <th>0</th>\n",
       "      <td>Buenos Aires</td>\n",
       "      <td>17541141</td>\n",
       "      <td>57.00</td>\n",
       "    </tr>\n",
       "    <tr>\n",
       "      <th>1</th>\n",
       "      <td>Catamarca</td>\n",
       "      <td>415438</td>\n",
       "      <td>4.00</td>\n",
       "    </tr>\n",
       "    <tr>\n",
       "      <th>2</th>\n",
       "      <td>Chaco</td>\n",
       "      <td>1204541</td>\n",
       "      <td>12.00</td>\n",
       "    </tr>\n",
       "    <tr>\n",
       "      <th>3</th>\n",
       "      <td>Chubut</td>\n",
       "      <td>618994</td>\n",
       "      <td>2.80</td>\n",
       "    </tr>\n",
       "    <tr>\n",
       "      <th>4</th>\n",
       "      <td>Córdoba</td>\n",
       "      <td>3760450</td>\n",
       "      <td>23.00</td>\n",
       "    </tr>\n",
       "    <tr>\n",
       "      <th>5</th>\n",
       "      <td>Corrientes</td>\n",
       "      <td>1120801</td>\n",
       "      <td>13.00</td>\n",
       "    </tr>\n",
       "    <tr>\n",
       "      <th>6</th>\n",
       "      <td>Entre Ríos</td>\n",
       "      <td>1385961</td>\n",
       "      <td>18.00</td>\n",
       "    </tr>\n",
       "    <tr>\n",
       "      <th>7</th>\n",
       "      <td>Formosa</td>\n",
       "      <td>605193</td>\n",
       "      <td>8.40</td>\n",
       "    </tr>\n",
       "    <tr>\n",
       "      <th>8</th>\n",
       "      <td>Jujuy</td>\n",
       "      <td>770881</td>\n",
       "      <td>14.00</td>\n",
       "    </tr>\n",
       "    <tr>\n",
       "      <th>9</th>\n",
       "      <td>La Pampa</td>\n",
       "      <td>358428</td>\n",
       "      <td>2.50</td>\n",
       "    </tr>\n",
       "    <tr>\n",
       "      <th>10</th>\n",
       "      <td>La Rioja</td>\n",
       "      <td>393531</td>\n",
       "      <td>4.40</td>\n",
       "    </tr>\n",
       "    <tr>\n",
       "      <th>11</th>\n",
       "      <td>Mendoza</td>\n",
       "      <td>1990338</td>\n",
       "      <td>13.00</td>\n",
       "    </tr>\n",
       "    <tr>\n",
       "      <th>12</th>\n",
       "      <td>Misiones</td>\n",
       "      <td>1261294</td>\n",
       "      <td>42.00</td>\n",
       "    </tr>\n",
       "    <tr>\n",
       "      <th>13</th>\n",
       "      <td>Neuquén</td>\n",
       "      <td>664057</td>\n",
       "      <td>7.10</td>\n",
       "    </tr>\n",
       "    <tr>\n",
       "      <th>14</th>\n",
       "      <td>Río Negro</td>\n",
       "      <td>747610</td>\n",
       "      <td>3.70</td>\n",
       "    </tr>\n",
       "    <tr>\n",
       "      <th>15</th>\n",
       "      <td>Salta</td>\n",
       "      <td>1424397</td>\n",
       "      <td>9.20</td>\n",
       "    </tr>\n",
       "    <tr>\n",
       "      <th>16</th>\n",
       "      <td>San Juan</td>\n",
       "      <td>781217</td>\n",
       "      <td>8.70</td>\n",
       "    </tr>\n",
       "    <tr>\n",
       "      <th>17</th>\n",
       "      <td>San Luis</td>\n",
       "      <td>508328</td>\n",
       "      <td>6.60</td>\n",
       "    </tr>\n",
       "    <tr>\n",
       "      <th>18</th>\n",
       "      <td>Santa Cruz</td>\n",
       "      <td>365698</td>\n",
       "      <td>1.50</td>\n",
       "    </tr>\n",
       "    <tr>\n",
       "      <th>19</th>\n",
       "      <td>Santa Fe</td>\n",
       "      <td>3536418</td>\n",
       "      <td>27.00</td>\n",
       "    </tr>\n",
       "    <tr>\n",
       "      <th>20</th>\n",
       "      <td>Santiago del Estero</td>\n",
       "      <td>978313</td>\n",
       "      <td>7.20</td>\n",
       "    </tr>\n",
       "    <tr>\n",
       "      <th>21</th>\n",
       "      <td>Tierra del Fuego</td>\n",
       "      <td>173432</td>\n",
       "      <td>8.00</td>\n",
       "    </tr>\n",
       "    <tr>\n",
       "      <th>22</th>\n",
       "      <td>Tucumán</td>\n",
       "      <td>1694656</td>\n",
       "      <td>64.00</td>\n",
       "    </tr>\n",
       "    <tr>\n",
       "      <th>23</th>\n",
       "      <td>Capital Federal</td>\n",
       "      <td>3075646</td>\n",
       "      <td>15069.99</td>\n",
       "    </tr>\n",
       "  </tbody>\n",
       "</table>\n",
       "</div>"
      ],
      "text/plain": [
       "              provincia  poblacion_prov  densidad_prov\n",
       "0          Buenos Aires        17541141          57.00\n",
       "1             Catamarca          415438           4.00\n",
       "2                 Chaco         1204541          12.00\n",
       "3                Chubut          618994           2.80\n",
       "4               Córdoba         3760450          23.00\n",
       "5            Corrientes         1120801          13.00\n",
       "6            Entre Ríos         1385961          18.00\n",
       "7               Formosa          605193           8.40\n",
       "8                 Jujuy          770881          14.00\n",
       "9              La Pampa          358428           2.50\n",
       "10             La Rioja          393531           4.40\n",
       "11              Mendoza         1990338          13.00\n",
       "12             Misiones         1261294          42.00\n",
       "13              Neuquén          664057           7.10\n",
       "14            Río Negro          747610           3.70\n",
       "15                Salta         1424397           9.20\n",
       "16             San Juan          781217           8.70\n",
       "17             San Luis          508328           6.60\n",
       "18           Santa Cruz          365698           1.50\n",
       "19             Santa Fe         3536418          27.00\n",
       "20  Santiago del Estero          978313           7.20\n",
       "21     Tierra del Fuego          173432           8.00\n",
       "22              Tucumán         1694656          64.00\n",
       "23      Capital Federal         3075646       15069.99"
      ]
     },
     "execution_count": 173,
     "metadata": {},
     "output_type": "execute_result"
    }
   ],
   "source": [
    "# Info sacada de https://es.wikipedia.org/wiki/Provincias_de_Argentina\n",
    "# Agregamos informacion de la cantidad y densidad de población de cada provincia\n",
    "poblacion_densidad = pd.read_csv('poblacion_densidad.csv')\n",
    "poblacion_densidad['poblacion_prov'] = poblacion_densidad['poblacion_prov'].astype(int)\n",
    "poblacion_densidad['densidad_prov'] = poblacion_densidad['densidad_prov'].apply(lambda x: x.replace(',', '.')).astype(float)\n",
    "poblacion_densidad"
   ]
  },
  {
   "cell_type": "code",
   "execution_count": 174,
   "metadata": {
    "colab": {
     "base_uri": "https://localhost:8080/"
    },
    "id": "Srw8q6Wh3RUU",
    "outputId": "f707ecaf-7691-4989-f10f-741f3ff117eb",
    "scrolled": false
   },
   "outputs": [
    {
     "data": {
      "text/html": [
       "<div>\n",
       "<style scoped>\n",
       "    .dataframe tbody tr th:only-of-type {\n",
       "        vertical-align: middle;\n",
       "    }\n",
       "\n",
       "    .dataframe tbody tr th {\n",
       "        vertical-align: top;\n",
       "    }\n",
       "\n",
       "    .dataframe thead th {\n",
       "        text-align: right;\n",
       "    }\n",
       "</style>\n",
       "<table border=\"1\" class=\"dataframe\">\n",
       "  <thead>\n",
       "    <tr style=\"text-align: right;\">\n",
       "      <th></th>\n",
       "      <th>mes</th>\n",
       "      <th>anio</th>\n",
       "      <th>sku</th>\n",
       "      <th>marca</th>\n",
       "      <th>presentacion</th>\n",
       "      <th>categoria</th>\n",
       "      <th>unidadkg</th>\n",
       "      <th>id_proveedor</th>\n",
       "      <th>ubicacion</th>\n",
       "      <th>cantidad_pedida</th>\n",
       "      <th>presentacion_depurada</th>\n",
       "      <th>marca_depurada</th>\n",
       "      <th>categoria_depurada</th>\n",
       "      <th>cantidad_pedida_lag_t-1</th>\n",
       "      <th>cantidad_pedida_lag_t-2</th>\n",
       "      <th>cantidad_pedida_lag_t-3</th>\n",
       "      <th>cantidad_pedida_mean</th>\n",
       "      <th>cantidad_pedida_mean_w2</th>\n",
       "      <th>cantidad_pedida_mean_w3</th>\n",
       "      <th>poblacion_prov</th>\n",
       "      <th>densidad_prov</th>\n",
       "    </tr>\n",
       "  </thead>\n",
       "  <tbody>\n",
       "    <tr>\n",
       "      <th>0</th>\n",
       "      <td>4</td>\n",
       "      <td>2018</td>\n",
       "      <td>1021</td>\n",
       "      <td>SIN DEFINIR</td>\n",
       "      <td>Unidades</td>\n",
       "      <td>12 - IMPULSIVOS</td>\n",
       "      <td>3.22</td>\n",
       "      <td>2</td>\n",
       "      <td>25 De Mayo, 25 De Mayo, Buenos Aires</td>\n",
       "      <td>15.00</td>\n",
       "      <td>unidades</td>\n",
       "      <td>sin definir</td>\n",
       "      <td>impulsivos</td>\n",
       "      <td>65.00</td>\n",
       "      <td>60.00</td>\n",
       "      <td>50.00</td>\n",
       "      <td>15.00</td>\n",
       "      <td>15.62</td>\n",
       "      <td>15.42</td>\n",
       "      <td>17541141</td>\n",
       "      <td>57.00</td>\n",
       "    </tr>\n",
       "    <tr>\n",
       "      <th>1</th>\n",
       "      <td>4</td>\n",
       "      <td>2018</td>\n",
       "      <td>1021</td>\n",
       "      <td>SIN DEFINIR</td>\n",
       "      <td>Unidades</td>\n",
       "      <td>12 - IMPULSIVOS</td>\n",
       "      <td>3.22</td>\n",
       "      <td>2</td>\n",
       "      <td>3 De Febrero, 3 De Febrero, Buenos Aires</td>\n",
       "      <td>8.00</td>\n",
       "      <td>unidades</td>\n",
       "      <td>sin definir</td>\n",
       "      <td>impulsivos</td>\n",
       "      <td>10.00</td>\n",
       "      <td>10.00</td>\n",
       "      <td>18.00</td>\n",
       "      <td>4.00</td>\n",
       "      <td>3.67</td>\n",
       "      <td>4.11</td>\n",
       "      <td>17541141</td>\n",
       "      <td>57.00</td>\n",
       "    </tr>\n",
       "    <tr>\n",
       "      <th>2</th>\n",
       "      <td>4</td>\n",
       "      <td>2018</td>\n",
       "      <td>1021</td>\n",
       "      <td>SIN DEFINIR</td>\n",
       "      <td>Unidades</td>\n",
       "      <td>12 - IMPULSIVOS</td>\n",
       "      <td>3.22</td>\n",
       "      <td>2</td>\n",
       "      <td>3 De Febrero, Caseros, Buenos Aires</td>\n",
       "      <td>73.00</td>\n",
       "      <td>unidades</td>\n",
       "      <td>sin definir</td>\n",
       "      <td>impulsivos</td>\n",
       "      <td>96.00</td>\n",
       "      <td>82.00</td>\n",
       "      <td>128.00</td>\n",
       "      <td>9.12</td>\n",
       "      <td>10.56</td>\n",
       "      <td>10.46</td>\n",
       "      <td>17541141</td>\n",
       "      <td>57.00</td>\n",
       "    </tr>\n",
       "    <tr>\n",
       "      <th>3</th>\n",
       "      <td>4</td>\n",
       "      <td>2018</td>\n",
       "      <td>1021</td>\n",
       "      <td>SIN DEFINIR</td>\n",
       "      <td>Unidades</td>\n",
       "      <td>12 - IMPULSIVOS</td>\n",
       "      <td>3.22</td>\n",
       "      <td>2</td>\n",
       "      <td>3 De Febrero, Ciudadela, Buenos Aires</td>\n",
       "      <td>20.00</td>\n",
       "      <td>unidades</td>\n",
       "      <td>sin definir</td>\n",
       "      <td>impulsivos</td>\n",
       "      <td>55.00</td>\n",
       "      <td>35.00</td>\n",
       "      <td>2.00</td>\n",
       "      <td>20.00</td>\n",
       "      <td>23.75</td>\n",
       "      <td>21.67</td>\n",
       "      <td>17541141</td>\n",
       "      <td>57.00</td>\n",
       "    </tr>\n",
       "    <tr>\n",
       "      <th>4</th>\n",
       "      <td>4</td>\n",
       "      <td>2018</td>\n",
       "      <td>1021</td>\n",
       "      <td>SIN DEFINIR</td>\n",
       "      <td>Unidades</td>\n",
       "      <td>12 - IMPULSIVOS</td>\n",
       "      <td>3.22</td>\n",
       "      <td>2</td>\n",
       "      <td>3 De Febrero, Santos Lugares, Buenos Aires</td>\n",
       "      <td>55.00</td>\n",
       "      <td>unidades</td>\n",
       "      <td>sin definir</td>\n",
       "      <td>impulsivos</td>\n",
       "      <td>55.00</td>\n",
       "      <td>90.00</td>\n",
       "      <td>107.00</td>\n",
       "      <td>18.33</td>\n",
       "      <td>18.33</td>\n",
       "      <td>22.22</td>\n",
       "      <td>17541141</td>\n",
       "      <td>57.00</td>\n",
       "    </tr>\n",
       "    <tr>\n",
       "      <th>...</th>\n",
       "      <td>...</td>\n",
       "      <td>...</td>\n",
       "      <td>...</td>\n",
       "      <td>...</td>\n",
       "      <td>...</td>\n",
       "      <td>...</td>\n",
       "      <td>...</td>\n",
       "      <td>...</td>\n",
       "      <td>...</td>\n",
       "      <td>...</td>\n",
       "      <td>...</td>\n",
       "      <td>...</td>\n",
       "      <td>...</td>\n",
       "      <td>...</td>\n",
       "      <td>...</td>\n",
       "      <td>...</td>\n",
       "      <td>...</td>\n",
       "      <td>...</td>\n",
       "      <td>...</td>\n",
       "      <td>...</td>\n",
       "      <td>...</td>\n",
       "    </tr>\n",
       "    <tr>\n",
       "      <th>766595</th>\n",
       "      <td>12</td>\n",
       "      <td>2019</td>\n",
       "      <td>995</td>\n",
       "      <td>SIN DEFINIR</td>\n",
       "      <td>Unidades</td>\n",
       "      <td>0004 - CUCURUCHOS , CONOS Y VASOS DE  PASTA</td>\n",
       "      <td>3.10</td>\n",
       "      <td>3</td>\n",
       "      <td>Villa Ocampo, Santa Fe</td>\n",
       "      <td>4.00</td>\n",
       "      <td>unidades</td>\n",
       "      <td>sin definir</td>\n",
       "      <td>cucuruchos  conos y vasos de  pasta</td>\n",
       "      <td>2.00</td>\n",
       "      <td>3.00</td>\n",
       "      <td>3.00</td>\n",
       "      <td>2.00</td>\n",
       "      <td>2.00</td>\n",
       "      <td>2.33</td>\n",
       "      <td>3536418</td>\n",
       "      <td>27.00</td>\n",
       "    </tr>\n",
       "    <tr>\n",
       "      <th>766596</th>\n",
       "      <td>12</td>\n",
       "      <td>2019</td>\n",
       "      <td>995</td>\n",
       "      <td>SIN DEFINIR</td>\n",
       "      <td>Unidades</td>\n",
       "      <td>0004 - CUCURUCHOS , CONOS Y VASOS DE  PASTA</td>\n",
       "      <td>3.10</td>\n",
       "      <td>3</td>\n",
       "      <td>Villa Pueyrredón, Capital Federal</td>\n",
       "      <td>2.00</td>\n",
       "      <td>unidades</td>\n",
       "      <td>sin definir</td>\n",
       "      <td>cucuruchos  conos y vasos de  pasta</td>\n",
       "      <td>1.00</td>\n",
       "      <td>2.00</td>\n",
       "      <td>4.00</td>\n",
       "      <td>2.00</td>\n",
       "      <td>1.50</td>\n",
       "      <td>1.67</td>\n",
       "      <td>3075646</td>\n",
       "      <td>15069.99</td>\n",
       "    </tr>\n",
       "    <tr>\n",
       "      <th>766597</th>\n",
       "      <td>12</td>\n",
       "      <td>2019</td>\n",
       "      <td>995</td>\n",
       "      <td>SIN DEFINIR</td>\n",
       "      <td>Unidades</td>\n",
       "      <td>0004 - CUCURUCHOS , CONOS Y VASOS DE  PASTA</td>\n",
       "      <td>3.10</td>\n",
       "      <td>3</td>\n",
       "      <td>Yerba Buena, Tucumán</td>\n",
       "      <td>4.00</td>\n",
       "      <td>unidades</td>\n",
       "      <td>sin definir</td>\n",
       "      <td>cucuruchos  conos y vasos de  pasta</td>\n",
       "      <td>3.00</td>\n",
       "      <td>1.00</td>\n",
       "      <td>2.00</td>\n",
       "      <td>2.00</td>\n",
       "      <td>1.75</td>\n",
       "      <td>1.50</td>\n",
       "      <td>1694656</td>\n",
       "      <td>64.00</td>\n",
       "    </tr>\n",
       "    <tr>\n",
       "      <th>766598</th>\n",
       "      <td>12</td>\n",
       "      <td>2019</td>\n",
       "      <td>995</td>\n",
       "      <td>SIN DEFINIR</td>\n",
       "      <td>Unidades</td>\n",
       "      <td>0004 - CUCURUCHOS , CONOS Y VASOS DE  PASTA</td>\n",
       "      <td>3.10</td>\n",
       "      <td>3</td>\n",
       "      <td>Zapala, Neuquén</td>\n",
       "      <td>7.00</td>\n",
       "      <td>unidades</td>\n",
       "      <td>sin definir</td>\n",
       "      <td>cucuruchos  conos y vasos de  pasta</td>\n",
       "      <td>5.00</td>\n",
       "      <td>6.00</td>\n",
       "      <td>10.00</td>\n",
       "      <td>3.50</td>\n",
       "      <td>4.25</td>\n",
       "      <td>4.83</td>\n",
       "      <td>664057</td>\n",
       "      <td>7.10</td>\n",
       "    </tr>\n",
       "    <tr>\n",
       "      <th>766599</th>\n",
       "      <td>12</td>\n",
       "      <td>2019</td>\n",
       "      <td>995</td>\n",
       "      <td>SIN DEFINIR</td>\n",
       "      <td>Unidades</td>\n",
       "      <td>0004 - CUCURUCHOS , CONOS Y VASOS DE  PASTA</td>\n",
       "      <td>3.10</td>\n",
       "      <td>3</td>\n",
       "      <td>Zarate, Zarate, Buenos Aires</td>\n",
       "      <td>8.00</td>\n",
       "      <td>unidades</td>\n",
       "      <td>sin definir</td>\n",
       "      <td>cucuruchos  conos y vasos de  pasta</td>\n",
       "      <td>5.00</td>\n",
       "      <td>10.00</td>\n",
       "      <td>3.00</td>\n",
       "      <td>2.67</td>\n",
       "      <td>2.58</td>\n",
       "      <td>2.56</td>\n",
       "      <td>17541141</td>\n",
       "      <td>57.00</td>\n",
       "    </tr>\n",
       "  </tbody>\n",
       "</table>\n",
       "<p>766600 rows × 21 columns</p>\n",
       "</div>"
      ],
      "text/plain": [
       "       mes  anio   sku        marca presentacion  \\\n",
       "0        4  2018  1021  SIN DEFINIR     Unidades   \n",
       "1        4  2018  1021  SIN DEFINIR     Unidades   \n",
       "2        4  2018  1021  SIN DEFINIR     Unidades   \n",
       "3        4  2018  1021  SIN DEFINIR     Unidades   \n",
       "4        4  2018  1021  SIN DEFINIR     Unidades   \n",
       "...     ..   ...   ...          ...          ...   \n",
       "766595  12  2019   995  SIN DEFINIR     Unidades   \n",
       "766596  12  2019   995  SIN DEFINIR     Unidades   \n",
       "766597  12  2019   995  SIN DEFINIR     Unidades   \n",
       "766598  12  2019   995  SIN DEFINIR     Unidades   \n",
       "766599  12  2019   995  SIN DEFINIR     Unidades   \n",
       "\n",
       "                                          categoria  unidadkg id_proveedor  \\\n",
       "0                                   12 - IMPULSIVOS      3.22            2   \n",
       "1                                   12 - IMPULSIVOS      3.22            2   \n",
       "2                                   12 - IMPULSIVOS      3.22            2   \n",
       "3                                   12 - IMPULSIVOS      3.22            2   \n",
       "4                                   12 - IMPULSIVOS      3.22            2   \n",
       "...                                             ...       ...          ...   \n",
       "766595  0004 - CUCURUCHOS , CONOS Y VASOS DE  PASTA      3.10            3   \n",
       "766596  0004 - CUCURUCHOS , CONOS Y VASOS DE  PASTA      3.10            3   \n",
       "766597  0004 - CUCURUCHOS , CONOS Y VASOS DE  PASTA      3.10            3   \n",
       "766598  0004 - CUCURUCHOS , CONOS Y VASOS DE  PASTA      3.10            3   \n",
       "766599  0004 - CUCURUCHOS , CONOS Y VASOS DE  PASTA      3.10            3   \n",
       "\n",
       "                                         ubicacion  cantidad_pedida  \\\n",
       "0             25 De Mayo, 25 De Mayo, Buenos Aires            15.00   \n",
       "1         3 De Febrero, 3 De Febrero, Buenos Aires             8.00   \n",
       "2              3 De Febrero, Caseros, Buenos Aires            73.00   \n",
       "3            3 De Febrero, Ciudadela, Buenos Aires            20.00   \n",
       "4       3 De Febrero, Santos Lugares, Buenos Aires            55.00   \n",
       "...                                            ...              ...   \n",
       "766595                      Villa Ocampo, Santa Fe             4.00   \n",
       "766596           Villa Pueyrredón, Capital Federal             2.00   \n",
       "766597                        Yerba Buena, Tucumán             4.00   \n",
       "766598                             Zapala, Neuquén             7.00   \n",
       "766599                Zarate, Zarate, Buenos Aires             8.00   \n",
       "\n",
       "       presentacion_depurada marca_depurada  \\\n",
       "0                   unidades    sin definir   \n",
       "1                   unidades    sin definir   \n",
       "2                   unidades    sin definir   \n",
       "3                   unidades    sin definir   \n",
       "4                   unidades    sin definir   \n",
       "...                      ...            ...   \n",
       "766595              unidades    sin definir   \n",
       "766596              unidades    sin definir   \n",
       "766597              unidades    sin definir   \n",
       "766598              unidades    sin definir   \n",
       "766599              unidades    sin definir   \n",
       "\n",
       "                         categoria_depurada  cantidad_pedida_lag_t-1  \\\n",
       "0                                impulsivos                    65.00   \n",
       "1                                impulsivos                    10.00   \n",
       "2                                impulsivos                    96.00   \n",
       "3                                impulsivos                    55.00   \n",
       "4                                impulsivos                    55.00   \n",
       "...                                     ...                      ...   \n",
       "766595  cucuruchos  conos y vasos de  pasta                     2.00   \n",
       "766596  cucuruchos  conos y vasos de  pasta                     1.00   \n",
       "766597  cucuruchos  conos y vasos de  pasta                     3.00   \n",
       "766598  cucuruchos  conos y vasos de  pasta                     5.00   \n",
       "766599  cucuruchos  conos y vasos de  pasta                     5.00   \n",
       "\n",
       "        cantidad_pedida_lag_t-2  cantidad_pedida_lag_t-3  \\\n",
       "0                         60.00                    50.00   \n",
       "1                         10.00                    18.00   \n",
       "2                         82.00                   128.00   \n",
       "3                         35.00                     2.00   \n",
       "4                         90.00                   107.00   \n",
       "...                         ...                      ...   \n",
       "766595                     3.00                     3.00   \n",
       "766596                     2.00                     4.00   \n",
       "766597                     1.00                     2.00   \n",
       "766598                     6.00                    10.00   \n",
       "766599                    10.00                     3.00   \n",
       "\n",
       "        cantidad_pedida_mean  cantidad_pedida_mean_w2  \\\n",
       "0                      15.00                    15.62   \n",
       "1                       4.00                     3.67   \n",
       "2                       9.12                    10.56   \n",
       "3                      20.00                    23.75   \n",
       "4                      18.33                    18.33   \n",
       "...                      ...                      ...   \n",
       "766595                  2.00                     2.00   \n",
       "766596                  2.00                     1.50   \n",
       "766597                  2.00                     1.75   \n",
       "766598                  3.50                     4.25   \n",
       "766599                  2.67                     2.58   \n",
       "\n",
       "        cantidad_pedida_mean_w3  poblacion_prov  densidad_prov  \n",
       "0                         15.42        17541141          57.00  \n",
       "1                          4.11        17541141          57.00  \n",
       "2                         10.46        17541141          57.00  \n",
       "3                         21.67        17541141          57.00  \n",
       "4                         22.22        17541141          57.00  \n",
       "...                         ...             ...            ...  \n",
       "766595                     2.33         3536418          27.00  \n",
       "766596                     1.67         3075646       15069.99  \n",
       "766597                     1.50         1694656          64.00  \n",
       "766598                     4.83          664057           7.10  \n",
       "766599                     2.56        17541141          57.00  \n",
       "\n",
       "[766600 rows x 21 columns]"
      ]
     },
     "execution_count": 174,
     "metadata": {},
     "output_type": "execute_result"
    }
   ],
   "source": [
    "df_lagged_roll_mean_agg = df_lagged_roll_mean.merge(poblacion_densidad, how='left', left_on='Provincia', right_on='provincia').drop(columns=['Provincia', 'provincia'])\n",
    "df_lagged_roll_mean_agg"
   ]
  },
  {
   "cell_type": "markdown",
   "metadata": {
    "id": "3NmkrIlE3RUU"
   },
   "source": [
    "#### 5.6 Crear columna totalkg"
   ]
  },
  {
   "cell_type": "markdown",
   "metadata": {
    "id": "Mmr-4zdI3RUV"
   },
   "source": [
    "En el dataset se puede observar que hay distintos tipos de presentaciones (baldes, pack, etc) y que los productos tienen especificado su peso en kilogramos en la variable unidadkg para cada producto/presentacion. Por tanto, para poder tener una unidad de medida uniforme para todos los productos a producir por la fábrica se sugiere crear una nueva columna en el dataset denominada totalkg que sea el resultado de la multiplicación de cantidad_pedida x unidadkg. Repetir el analisis de outliers esta vez sobre la columna totalkg. Se encontraron nuevos outliers?\n"
   ]
  },
  {
   "cell_type": "code",
   "execution_count": 175,
   "metadata": {
    "id": "2GZC-ZH-3RUV",
    "scrolled": true
   },
   "outputs": [],
   "source": [
    "df_lagged_roll_mean_agg['totalkg'] = df_lagged_roll_mean_agg['unidadkg'] * df_lagged_roll_mean_agg['cantidad_pedida']"
   ]
  },
  {
   "cell_type": "code",
   "execution_count": 176,
   "metadata": {
    "id": "3TBsDiXE3RUV",
    "outputId": "44216b72-7e0c-4342-d1e5-bdf17d1d1aa0"
   },
   "outputs": [
    {
     "name": "stdout",
     "output_type": "stream",
     "text": [
      "count   766600.00\n",
      "mean       103.30\n",
      "std        333.98\n",
      "min          0.01\n",
      "25%         15.60\n",
      "50%         39.00\n",
      "75%         93.60\n",
      "max      62941.66\n",
      "Name: totalkg, dtype: float64\n"
     ]
    },
    {
     "data": {
      "image/png": "[encoded data removed]",
      "text/plain": [
       "<Figure size 432x288 with 1 Axes>"
      ]
     },
     "metadata": {
      "needs_background": "light"
     },
     "output_type": "display_data"
    }
   ],
   "source": [
    "#Estadistica descriptiva de cantidad_pedida\n",
    "print(df_lagged_roll_mean_agg.totalkg.describe())\n",
    "fig = sns.boxplot(x=df_lagged_roll_mean_agg.totalkg)"
   ]
  },
  {
   "cell_type": "code",
   "execution_count": 177,
   "metadata": {
    "id": "7L4UC4Fy3RUV",
    "outputId": "cad17335-10bf-4006-da3c-d847aa48dffb"
   },
   "outputs": [
    {
     "data": {
      "text/html": [
       "<div>\n",
       "<style scoped>\n",
       "    .dataframe tbody tr th:only-of-type {\n",
       "        vertical-align: middle;\n",
       "    }\n",
       "\n",
       "    .dataframe tbody tr th {\n",
       "        vertical-align: top;\n",
       "    }\n",
       "\n",
       "    .dataframe thead th {\n",
       "        text-align: right;\n",
       "    }\n",
       "</style>\n",
       "<table border=\"1\" class=\"dataframe\">\n",
       "  <thead>\n",
       "    <tr style=\"text-align: right;\">\n",
       "      <th></th>\n",
       "      <th>mes</th>\n",
       "      <th>anio</th>\n",
       "      <th>sku</th>\n",
       "      <th>marca</th>\n",
       "      <th>presentacion</th>\n",
       "      <th>categoria</th>\n",
       "      <th>unidadkg</th>\n",
       "      <th>id_proveedor</th>\n",
       "      <th>ubicacion</th>\n",
       "      <th>cantidad_pedida</th>\n",
       "      <th>presentacion_depurada</th>\n",
       "      <th>marca_depurada</th>\n",
       "      <th>categoria_depurada</th>\n",
       "      <th>cantidad_pedida_lag_t-1</th>\n",
       "      <th>cantidad_pedida_lag_t-2</th>\n",
       "      <th>cantidad_pedida_lag_t-3</th>\n",
       "      <th>cantidad_pedida_mean</th>\n",
       "      <th>cantidad_pedida_mean_w2</th>\n",
       "      <th>cantidad_pedida_mean_w3</th>\n",
       "      <th>poblacion_prov</th>\n",
       "      <th>densidad_prov</th>\n",
       "      <th>totalkg</th>\n",
       "    </tr>\n",
       "  </thead>\n",
       "  <tbody>\n",
       "    <tr>\n",
       "      <th>0</th>\n",
       "      <td>4</td>\n",
       "      <td>2018</td>\n",
       "      <td>1021</td>\n",
       "      <td>SIN DEFINIR</td>\n",
       "      <td>Unidades</td>\n",
       "      <td>12 - IMPULSIVOS</td>\n",
       "      <td>3.22</td>\n",
       "      <td>2</td>\n",
       "      <td>25 De Mayo, 25 De Mayo, Buenos Aires</td>\n",
       "      <td>15.00</td>\n",
       "      <td>unidades</td>\n",
       "      <td>sin definir</td>\n",
       "      <td>impulsivos</td>\n",
       "      <td>65.00</td>\n",
       "      <td>60.00</td>\n",
       "      <td>50.00</td>\n",
       "      <td>15.00</td>\n",
       "      <td>15.62</td>\n",
       "      <td>15.42</td>\n",
       "      <td>17541141</td>\n",
       "      <td>57.00</td>\n",
       "      <td>48.24</td>\n",
       "    </tr>\n",
       "    <tr>\n",
       "      <th>1</th>\n",
       "      <td>4</td>\n",
       "      <td>2018</td>\n",
       "      <td>1021</td>\n",
       "      <td>SIN DEFINIR</td>\n",
       "      <td>Unidades</td>\n",
       "      <td>12 - IMPULSIVOS</td>\n",
       "      <td>3.22</td>\n",
       "      <td>2</td>\n",
       "      <td>3 De Febrero, 3 De Febrero, Buenos Aires</td>\n",
       "      <td>8.00</td>\n",
       "      <td>unidades</td>\n",
       "      <td>sin definir</td>\n",
       "      <td>impulsivos</td>\n",
       "      <td>10.00</td>\n",
       "      <td>10.00</td>\n",
       "      <td>18.00</td>\n",
       "      <td>4.00</td>\n",
       "      <td>3.67</td>\n",
       "      <td>4.11</td>\n",
       "      <td>17541141</td>\n",
       "      <td>57.00</td>\n",
       "      <td>25.73</td>\n",
       "    </tr>\n",
       "    <tr>\n",
       "      <th>2</th>\n",
       "      <td>4</td>\n",
       "      <td>2018</td>\n",
       "      <td>1021</td>\n",
       "      <td>SIN DEFINIR</td>\n",
       "      <td>Unidades</td>\n",
       "      <td>12 - IMPULSIVOS</td>\n",
       "      <td>3.22</td>\n",
       "      <td>2</td>\n",
       "      <td>3 De Febrero, Caseros, Buenos Aires</td>\n",
       "      <td>73.00</td>\n",
       "      <td>unidades</td>\n",
       "      <td>sin definir</td>\n",
       "      <td>impulsivos</td>\n",
       "      <td>96.00</td>\n",
       "      <td>82.00</td>\n",
       "      <td>128.00</td>\n",
       "      <td>9.12</td>\n",
       "      <td>10.56</td>\n",
       "      <td>10.46</td>\n",
       "      <td>17541141</td>\n",
       "      <td>57.00</td>\n",
       "      <td>234.77</td>\n",
       "    </tr>\n",
       "    <tr>\n",
       "      <th>3</th>\n",
       "      <td>4</td>\n",
       "      <td>2018</td>\n",
       "      <td>1021</td>\n",
       "      <td>SIN DEFINIR</td>\n",
       "      <td>Unidades</td>\n",
       "      <td>12 - IMPULSIVOS</td>\n",
       "      <td>3.22</td>\n",
       "      <td>2</td>\n",
       "      <td>3 De Febrero, Ciudadela, Buenos Aires</td>\n",
       "      <td>20.00</td>\n",
       "      <td>unidades</td>\n",
       "      <td>sin definir</td>\n",
       "      <td>impulsivos</td>\n",
       "      <td>55.00</td>\n",
       "      <td>35.00</td>\n",
       "      <td>2.00</td>\n",
       "      <td>20.00</td>\n",
       "      <td>23.75</td>\n",
       "      <td>21.67</td>\n",
       "      <td>17541141</td>\n",
       "      <td>57.00</td>\n",
       "      <td>64.32</td>\n",
       "    </tr>\n",
       "    <tr>\n",
       "      <th>4</th>\n",
       "      <td>4</td>\n",
       "      <td>2018</td>\n",
       "      <td>1021</td>\n",
       "      <td>SIN DEFINIR</td>\n",
       "      <td>Unidades</td>\n",
       "      <td>12 - IMPULSIVOS</td>\n",
       "      <td>3.22</td>\n",
       "      <td>2</td>\n",
       "      <td>3 De Febrero, Santos Lugares, Buenos Aires</td>\n",
       "      <td>55.00</td>\n",
       "      <td>unidades</td>\n",
       "      <td>sin definir</td>\n",
       "      <td>impulsivos</td>\n",
       "      <td>55.00</td>\n",
       "      <td>90.00</td>\n",
       "      <td>107.00</td>\n",
       "      <td>18.33</td>\n",
       "      <td>18.33</td>\n",
       "      <td>22.22</td>\n",
       "      <td>17541141</td>\n",
       "      <td>57.00</td>\n",
       "      <td>176.88</td>\n",
       "    </tr>\n",
       "    <tr>\n",
       "      <th>...</th>\n",
       "      <td>...</td>\n",
       "      <td>...</td>\n",
       "      <td>...</td>\n",
       "      <td>...</td>\n",
       "      <td>...</td>\n",
       "      <td>...</td>\n",
       "      <td>...</td>\n",
       "      <td>...</td>\n",
       "      <td>...</td>\n",
       "      <td>...</td>\n",
       "      <td>...</td>\n",
       "      <td>...</td>\n",
       "      <td>...</td>\n",
       "      <td>...</td>\n",
       "      <td>...</td>\n",
       "      <td>...</td>\n",
       "      <td>...</td>\n",
       "      <td>...</td>\n",
       "      <td>...</td>\n",
       "      <td>...</td>\n",
       "      <td>...</td>\n",
       "      <td>...</td>\n",
       "    </tr>\n",
       "    <tr>\n",
       "      <th>766595</th>\n",
       "      <td>12</td>\n",
       "      <td>2019</td>\n",
       "      <td>995</td>\n",
       "      <td>SIN DEFINIR</td>\n",
       "      <td>Unidades</td>\n",
       "      <td>0004 - CUCURUCHOS , CONOS Y VASOS DE  PASTA</td>\n",
       "      <td>3.10</td>\n",
       "      <td>3</td>\n",
       "      <td>Villa Ocampo, Santa Fe</td>\n",
       "      <td>4.00</td>\n",
       "      <td>unidades</td>\n",
       "      <td>sin definir</td>\n",
       "      <td>cucuruchos  conos y vasos de  pasta</td>\n",
       "      <td>2.00</td>\n",
       "      <td>3.00</td>\n",
       "      <td>3.00</td>\n",
       "      <td>2.00</td>\n",
       "      <td>2.00</td>\n",
       "      <td>2.33</td>\n",
       "      <td>3536418</td>\n",
       "      <td>27.00</td>\n",
       "      <td>12.40</td>\n",
       "    </tr>\n",
       "    <tr>\n",
       "      <th>766596</th>\n",
       "      <td>12</td>\n",
       "      <td>2019</td>\n",
       "      <td>995</td>\n",
       "      <td>SIN DEFINIR</td>\n",
       "      <td>Unidades</td>\n",
       "      <td>0004 - CUCURUCHOS , CONOS Y VASOS DE  PASTA</td>\n",
       "      <td>3.10</td>\n",
       "      <td>3</td>\n",
       "      <td>Villa Pueyrredón, Capital Federal</td>\n",
       "      <td>2.00</td>\n",
       "      <td>unidades</td>\n",
       "      <td>sin definir</td>\n",
       "      <td>cucuruchos  conos y vasos de  pasta</td>\n",
       "      <td>1.00</td>\n",
       "      <td>2.00</td>\n",
       "      <td>4.00</td>\n",
       "      <td>2.00</td>\n",
       "      <td>1.50</td>\n",
       "      <td>1.67</td>\n",
       "      <td>3075646</td>\n",
       "      <td>15069.99</td>\n",
       "      <td>6.20</td>\n",
       "    </tr>\n",
       "    <tr>\n",
       "      <th>766597</th>\n",
       "      <td>12</td>\n",
       "      <td>2019</td>\n",
       "      <td>995</td>\n",
       "      <td>SIN DEFINIR</td>\n",
       "      <td>Unidades</td>\n",
       "      <td>0004 - CUCURUCHOS , CONOS Y VASOS DE  PASTA</td>\n",
       "      <td>3.10</td>\n",
       "      <td>3</td>\n",
       "      <td>Yerba Buena, Tucumán</td>\n",
       "      <td>4.00</td>\n",
       "      <td>unidades</td>\n",
       "      <td>sin definir</td>\n",
       "      <td>cucuruchos  conos y vasos de  pasta</td>\n",
       "      <td>3.00</td>\n",
       "      <td>1.00</td>\n",
       "      <td>2.00</td>\n",
       "      <td>2.00</td>\n",
       "      <td>1.75</td>\n",
       "      <td>1.50</td>\n",
       "      <td>1694656</td>\n",
       "      <td>64.00</td>\n",
       "      <td>12.40</td>\n",
       "    </tr>\n",
       "    <tr>\n",
       "      <th>766598</th>\n",
       "      <td>12</td>\n",
       "      <td>2019</td>\n",
       "      <td>995</td>\n",
       "      <td>SIN DEFINIR</td>\n",
       "      <td>Unidades</td>\n",
       "      <td>0004 - CUCURUCHOS , CONOS Y VASOS DE  PASTA</td>\n",
       "      <td>3.10</td>\n",
       "      <td>3</td>\n",
       "      <td>Zapala, Neuquén</td>\n",
       "      <td>7.00</td>\n",
       "      <td>unidades</td>\n",
       "      <td>sin definir</td>\n",
       "      <td>cucuruchos  conos y vasos de  pasta</td>\n",
       "      <td>5.00</td>\n",
       "      <td>6.00</td>\n",
       "      <td>10.00</td>\n",
       "      <td>3.50</td>\n",
       "      <td>4.25</td>\n",
       "      <td>4.83</td>\n",
       "      <td>664057</td>\n",
       "      <td>7.10</td>\n",
       "      <td>21.70</td>\n",
       "    </tr>\n",
       "    <tr>\n",
       "      <th>766599</th>\n",
       "      <td>12</td>\n",
       "      <td>2019</td>\n",
       "      <td>995</td>\n",
       "      <td>SIN DEFINIR</td>\n",
       "      <td>Unidades</td>\n",
       "      <td>0004 - CUCURUCHOS , CONOS Y VASOS DE  PASTA</td>\n",
       "      <td>3.10</td>\n",
       "      <td>3</td>\n",
       "      <td>Zarate, Zarate, Buenos Aires</td>\n",
       "      <td>8.00</td>\n",
       "      <td>unidades</td>\n",
       "      <td>sin definir</td>\n",
       "      <td>cucuruchos  conos y vasos de  pasta</td>\n",
       "      <td>5.00</td>\n",
       "      <td>10.00</td>\n",
       "      <td>3.00</td>\n",
       "      <td>2.67</td>\n",
       "      <td>2.58</td>\n",
       "      <td>2.56</td>\n",
       "      <td>17541141</td>\n",
       "      <td>57.00</td>\n",
       "      <td>24.80</td>\n",
       "    </tr>\n",
       "  </tbody>\n",
       "</table>\n",
       "<p>759818 rows × 22 columns</p>\n",
       "</div>"
      ],
      "text/plain": [
       "       mes  anio   sku        marca presentacion  \\\n",
       "0        4  2018  1021  SIN DEFINIR     Unidades   \n",
       "1        4  2018  1021  SIN DEFINIR     Unidades   \n",
       "2        4  2018  1021  SIN DEFINIR     Unidades   \n",
       "3        4  2018  1021  SIN DEFINIR     Unidades   \n",
       "4        4  2018  1021  SIN DEFINIR     Unidades   \n",
       "...     ..   ...   ...          ...          ...   \n",
       "766595  12  2019   995  SIN DEFINIR     Unidades   \n",
       "766596  12  2019   995  SIN DEFINIR     Unidades   \n",
       "766597  12  2019   995  SIN DEFINIR     Unidades   \n",
       "766598  12  2019   995  SIN DEFINIR     Unidades   \n",
       "766599  12  2019   995  SIN DEFINIR     Unidades   \n",
       "\n",
       "                                          categoria  unidadkg id_proveedor  \\\n",
       "0                                   12 - IMPULSIVOS      3.22            2   \n",
       "1                                   12 - IMPULSIVOS      3.22            2   \n",
       "2                                   12 - IMPULSIVOS      3.22            2   \n",
       "3                                   12 - IMPULSIVOS      3.22            2   \n",
       "4                                   12 - IMPULSIVOS      3.22            2   \n",
       "...                                             ...       ...          ...   \n",
       "766595  0004 - CUCURUCHOS , CONOS Y VASOS DE  PASTA      3.10            3   \n",
       "766596  0004 - CUCURUCHOS , CONOS Y VASOS DE  PASTA      3.10            3   \n",
       "766597  0004 - CUCURUCHOS , CONOS Y VASOS DE  PASTA      3.10            3   \n",
       "766598  0004 - CUCURUCHOS , CONOS Y VASOS DE  PASTA      3.10            3   \n",
       "766599  0004 - CUCURUCHOS , CONOS Y VASOS DE  PASTA      3.10            3   \n",
       "\n",
       "                                         ubicacion  cantidad_pedida  \\\n",
       "0             25 De Mayo, 25 De Mayo, Buenos Aires            15.00   \n",
       "1         3 De Febrero, 3 De Febrero, Buenos Aires             8.00   \n",
       "2              3 De Febrero, Caseros, Buenos Aires            73.00   \n",
       "3            3 De Febrero, Ciudadela, Buenos Aires            20.00   \n",
       "4       3 De Febrero, Santos Lugares, Buenos Aires            55.00   \n",
       "...                                            ...              ...   \n",
       "766595                      Villa Ocampo, Santa Fe             4.00   \n",
       "766596           Villa Pueyrredón, Capital Federal             2.00   \n",
       "766597                        Yerba Buena, Tucumán             4.00   \n",
       "766598                             Zapala, Neuquén             7.00   \n",
       "766599                Zarate, Zarate, Buenos Aires             8.00   \n",
       "\n",
       "       presentacion_depurada marca_depurada  \\\n",
       "0                   unidades    sin definir   \n",
       "1                   unidades    sin definir   \n",
       "2                   unidades    sin definir   \n",
       "3                   unidades    sin definir   \n",
       "4                   unidades    sin definir   \n",
       "...                      ...            ...   \n",
       "766595              unidades    sin definir   \n",
       "766596              unidades    sin definir   \n",
       "766597              unidades    sin definir   \n",
       "766598              unidades    sin definir   \n",
       "766599              unidades    sin definir   \n",
       "\n",
       "                         categoria_depurada  cantidad_pedida_lag_t-1  \\\n",
       "0                                impulsivos                    65.00   \n",
       "1                                impulsivos                    10.00   \n",
       "2                                impulsivos                    96.00   \n",
       "3                                impulsivos                    55.00   \n",
       "4                                impulsivos                    55.00   \n",
       "...                                     ...                      ...   \n",
       "766595  cucuruchos  conos y vasos de  pasta                     2.00   \n",
       "766596  cucuruchos  conos y vasos de  pasta                     1.00   \n",
       "766597  cucuruchos  conos y vasos de  pasta                     3.00   \n",
       "766598  cucuruchos  conos y vasos de  pasta                     5.00   \n",
       "766599  cucuruchos  conos y vasos de  pasta                     5.00   \n",
       "\n",
       "        cantidad_pedida_lag_t-2  cantidad_pedida_lag_t-3  \\\n",
       "0                         60.00                    50.00   \n",
       "1                         10.00                    18.00   \n",
       "2                         82.00                   128.00   \n",
       "3                         35.00                     2.00   \n",
       "4                         90.00                   107.00   \n",
       "...                         ...                      ...   \n",
       "766595                     3.00                     3.00   \n",
       "766596                     2.00                     4.00   \n",
       "766597                     1.00                     2.00   \n",
       "766598                     6.00                    10.00   \n",
       "766599                    10.00                     3.00   \n",
       "\n",
       "        cantidad_pedida_mean  cantidad_pedida_mean_w2  \\\n",
       "0                      15.00                    15.62   \n",
       "1                       4.00                     3.67   \n",
       "2                       9.12                    10.56   \n",
       "3                      20.00                    23.75   \n",
       "4                      18.33                    18.33   \n",
       "...                      ...                      ...   \n",
       "766595                  2.00                     2.00   \n",
       "766596                  2.00                     1.50   \n",
       "766597                  2.00                     1.75   \n",
       "766598                  3.50                     4.25   \n",
       "766599                  2.67                     2.58   \n",
       "\n",
       "        cantidad_pedida_mean_w3  poblacion_prov  densidad_prov  totalkg  \n",
       "0                         15.42        17541141          57.00    48.24  \n",
       "1                          4.11        17541141          57.00    25.73  \n",
       "2                         10.46        17541141          57.00   234.77  \n",
       "3                         21.67        17541141          57.00    64.32  \n",
       "4                         22.22        17541141          57.00   176.88  \n",
       "...                         ...             ...            ...      ...  \n",
       "766595                     2.33         3536418          27.00    12.40  \n",
       "766596                     1.67         3075646       15069.99     6.20  \n",
       "766597                     1.50         1694656          64.00    12.40  \n",
       "766598                     4.83          664057           7.10    21.70  \n",
       "766599                     2.56        17541141          57.00    24.80  \n",
       "\n",
       "[759818 rows x 22 columns]"
      ]
     },
     "execution_count": 177,
     "metadata": {},
     "output_type": "execute_result"
    }
   ],
   "source": [
    "#Detección por Z Score\n",
    "df_zscore = outliers_z_score(df_lagged_roll_mean_agg, 'totalkg')\n",
    "df_zscore"
   ]
  },
  {
   "cell_type": "code",
   "execution_count": 178,
   "metadata": {
    "id": "gV5Mf-sC3RUV",
    "outputId": "ed0a3df0-e2d7-46a0-9f42-503bf32a4b77"
   },
   "outputs": [
    {
     "name": "stdout",
     "output_type": "stream",
     "text": [
      "Antes\n",
      "count   766600.00\n",
      "mean       103.30\n",
      "std        333.98\n",
      "min          0.01\n",
      "25%         15.60\n",
      "50%         39.00\n",
      "75%         93.60\n",
      "max      62941.66\n",
      "Name: totalkg, dtype: float64\n",
      "\n",
      "Despues\n",
      "count   759818.00\n",
      "mean        83.07\n",
      "std        129.95\n",
      "min          0.01\n",
      "25%         15.60\n",
      "50%         39.00\n",
      "75%         92.70\n",
      "max       1104.40\n",
      "Name: totalkg, dtype: float64\n",
      "\n",
      "Se eliminaron 6782 filas\n"
     ]
    },
    {
     "data": {
      "image/png": "[encoded data removed]",
      "text/plain": [
       "<Figure size 432x288 with 1 Axes>"
      ]
     },
     "metadata": {
      "needs_background": "light"
     },
     "output_type": "display_data"
    }
   ],
   "source": [
    "print('Antes')\n",
    "print(df_lagged_roll_mean_agg.totalkg.describe())\n",
    "print('\\nDespues')\n",
    "print(df_zscore.totalkg.describe())\n",
    "print('\\nSe eliminaron', len(df_lagged_roll_mean_agg) - len(df_zscore), 'filas')\n",
    "fig = sns.boxplot(x=df_zscore.totalkg)"
   ]
  },
  {
   "cell_type": "code",
   "execution_count": 179,
   "metadata": {
    "id": "v5ZLThNv3RUW",
    "outputId": "0900c9e3-aaea-4050-8321-476f5c7ce6b0"
   },
   "outputs": [
    {
     "data": {
      "text/html": [
       "<div>\n",
       "<style scoped>\n",
       "    .dataframe tbody tr th:only-of-type {\n",
       "        vertical-align: middle;\n",
       "    }\n",
       "\n",
       "    .dataframe tbody tr th {\n",
       "        vertical-align: top;\n",
       "    }\n",
       "\n",
       "    .dataframe thead th {\n",
       "        text-align: right;\n",
       "    }\n",
       "</style>\n",
       "<table border=\"1\" class=\"dataframe\">\n",
       "  <thead>\n",
       "    <tr style=\"text-align: right;\">\n",
       "      <th></th>\n",
       "      <th>mes</th>\n",
       "      <th>anio</th>\n",
       "      <th>sku</th>\n",
       "      <th>marca</th>\n",
       "      <th>presentacion</th>\n",
       "      <th>categoria</th>\n",
       "      <th>unidadkg</th>\n",
       "      <th>id_proveedor</th>\n",
       "      <th>ubicacion</th>\n",
       "      <th>cantidad_pedida</th>\n",
       "      <th>presentacion_depurada</th>\n",
       "      <th>marca_depurada</th>\n",
       "      <th>categoria_depurada</th>\n",
       "      <th>cantidad_pedida_lag_t-1</th>\n",
       "      <th>cantidad_pedida_lag_t-2</th>\n",
       "      <th>cantidad_pedida_lag_t-3</th>\n",
       "      <th>cantidad_pedida_mean</th>\n",
       "      <th>cantidad_pedida_mean_w2</th>\n",
       "      <th>cantidad_pedida_mean_w3</th>\n",
       "      <th>poblacion_prov</th>\n",
       "      <th>densidad_prov</th>\n",
       "      <th>totalkg</th>\n",
       "    </tr>\n",
       "  </thead>\n",
       "  <tbody>\n",
       "    <tr>\n",
       "      <th>0</th>\n",
       "      <td>4</td>\n",
       "      <td>2018</td>\n",
       "      <td>1021</td>\n",
       "      <td>SIN DEFINIR</td>\n",
       "      <td>Unidades</td>\n",
       "      <td>12 - IMPULSIVOS</td>\n",
       "      <td>3.22</td>\n",
       "      <td>2</td>\n",
       "      <td>25 De Mayo, 25 De Mayo, Buenos Aires</td>\n",
       "      <td>15.00</td>\n",
       "      <td>unidades</td>\n",
       "      <td>sin definir</td>\n",
       "      <td>impulsivos</td>\n",
       "      <td>65.00</td>\n",
       "      <td>60.00</td>\n",
       "      <td>50.00</td>\n",
       "      <td>15.00</td>\n",
       "      <td>15.62</td>\n",
       "      <td>15.42</td>\n",
       "      <td>17541141</td>\n",
       "      <td>57.00</td>\n",
       "      <td>48.24</td>\n",
       "    </tr>\n",
       "    <tr>\n",
       "      <th>1</th>\n",
       "      <td>4</td>\n",
       "      <td>2018</td>\n",
       "      <td>1021</td>\n",
       "      <td>SIN DEFINIR</td>\n",
       "      <td>Unidades</td>\n",
       "      <td>12 - IMPULSIVOS</td>\n",
       "      <td>3.22</td>\n",
       "      <td>2</td>\n",
       "      <td>3 De Febrero, 3 De Febrero, Buenos Aires</td>\n",
       "      <td>8.00</td>\n",
       "      <td>unidades</td>\n",
       "      <td>sin definir</td>\n",
       "      <td>impulsivos</td>\n",
       "      <td>10.00</td>\n",
       "      <td>10.00</td>\n",
       "      <td>18.00</td>\n",
       "      <td>4.00</td>\n",
       "      <td>3.67</td>\n",
       "      <td>4.11</td>\n",
       "      <td>17541141</td>\n",
       "      <td>57.00</td>\n",
       "      <td>25.73</td>\n",
       "    </tr>\n",
       "    <tr>\n",
       "      <th>3</th>\n",
       "      <td>4</td>\n",
       "      <td>2018</td>\n",
       "      <td>1021</td>\n",
       "      <td>SIN DEFINIR</td>\n",
       "      <td>Unidades</td>\n",
       "      <td>12 - IMPULSIVOS</td>\n",
       "      <td>3.22</td>\n",
       "      <td>2</td>\n",
       "      <td>3 De Febrero, Ciudadela, Buenos Aires</td>\n",
       "      <td>20.00</td>\n",
       "      <td>unidades</td>\n",
       "      <td>sin definir</td>\n",
       "      <td>impulsivos</td>\n",
       "      <td>55.00</td>\n",
       "      <td>35.00</td>\n",
       "      <td>2.00</td>\n",
       "      <td>20.00</td>\n",
       "      <td>23.75</td>\n",
       "      <td>21.67</td>\n",
       "      <td>17541141</td>\n",
       "      <td>57.00</td>\n",
       "      <td>64.32</td>\n",
       "    </tr>\n",
       "    <tr>\n",
       "      <th>4</th>\n",
       "      <td>4</td>\n",
       "      <td>2018</td>\n",
       "      <td>1021</td>\n",
       "      <td>SIN DEFINIR</td>\n",
       "      <td>Unidades</td>\n",
       "      <td>12 - IMPULSIVOS</td>\n",
       "      <td>3.22</td>\n",
       "      <td>2</td>\n",
       "      <td>3 De Febrero, Santos Lugares, Buenos Aires</td>\n",
       "      <td>55.00</td>\n",
       "      <td>unidades</td>\n",
       "      <td>sin definir</td>\n",
       "      <td>impulsivos</td>\n",
       "      <td>55.00</td>\n",
       "      <td>90.00</td>\n",
       "      <td>107.00</td>\n",
       "      <td>18.33</td>\n",
       "      <td>18.33</td>\n",
       "      <td>22.22</td>\n",
       "      <td>17541141</td>\n",
       "      <td>57.00</td>\n",
       "      <td>176.88</td>\n",
       "    </tr>\n",
       "    <tr>\n",
       "      <th>5</th>\n",
       "      <td>4</td>\n",
       "      <td>2018</td>\n",
       "      <td>1021</td>\n",
       "      <td>SIN DEFINIR</td>\n",
       "      <td>Unidades</td>\n",
       "      <td>12 - IMPULSIVOS</td>\n",
       "      <td>3.22</td>\n",
       "      <td>2</td>\n",
       "      <td>9 De Julio, 9 De Julio, Buenos Aires</td>\n",
       "      <td>59.00</td>\n",
       "      <td>unidades</td>\n",
       "      <td>sin definir</td>\n",
       "      <td>impulsivos</td>\n",
       "      <td>96.00</td>\n",
       "      <td>26.00</td>\n",
       "      <td>1.00</td>\n",
       "      <td>14.75</td>\n",
       "      <td>16.97</td>\n",
       "      <td>19.98</td>\n",
       "      <td>17541141</td>\n",
       "      <td>57.00</td>\n",
       "      <td>189.74</td>\n",
       "    </tr>\n",
       "    <tr>\n",
       "      <th>...</th>\n",
       "      <td>...</td>\n",
       "      <td>...</td>\n",
       "      <td>...</td>\n",
       "      <td>...</td>\n",
       "      <td>...</td>\n",
       "      <td>...</td>\n",
       "      <td>...</td>\n",
       "      <td>...</td>\n",
       "      <td>...</td>\n",
       "      <td>...</td>\n",
       "      <td>...</td>\n",
       "      <td>...</td>\n",
       "      <td>...</td>\n",
       "      <td>...</td>\n",
       "      <td>...</td>\n",
       "      <td>...</td>\n",
       "      <td>...</td>\n",
       "      <td>...</td>\n",
       "      <td>...</td>\n",
       "      <td>...</td>\n",
       "      <td>...</td>\n",
       "      <td>...</td>\n",
       "    </tr>\n",
       "    <tr>\n",
       "      <th>766595</th>\n",
       "      <td>12</td>\n",
       "      <td>2019</td>\n",
       "      <td>995</td>\n",
       "      <td>SIN DEFINIR</td>\n",
       "      <td>Unidades</td>\n",
       "      <td>0004 - CUCURUCHOS , CONOS Y VASOS DE  PASTA</td>\n",
       "      <td>3.10</td>\n",
       "      <td>3</td>\n",
       "      <td>Villa Ocampo, Santa Fe</td>\n",
       "      <td>4.00</td>\n",
       "      <td>unidades</td>\n",
       "      <td>sin definir</td>\n",
       "      <td>cucuruchos  conos y vasos de  pasta</td>\n",
       "      <td>2.00</td>\n",
       "      <td>3.00</td>\n",
       "      <td>3.00</td>\n",
       "      <td>2.00</td>\n",
       "      <td>2.00</td>\n",
       "      <td>2.33</td>\n",
       "      <td>3536418</td>\n",
       "      <td>27.00</td>\n",
       "      <td>12.40</td>\n",
       "    </tr>\n",
       "    <tr>\n",
       "      <th>766596</th>\n",
       "      <td>12</td>\n",
       "      <td>2019</td>\n",
       "      <td>995</td>\n",
       "      <td>SIN DEFINIR</td>\n",
       "      <td>Unidades</td>\n",
       "      <td>0004 - CUCURUCHOS , CONOS Y VASOS DE  PASTA</td>\n",
       "      <td>3.10</td>\n",
       "      <td>3</td>\n",
       "      <td>Villa Pueyrredón, Capital Federal</td>\n",
       "      <td>2.00</td>\n",
       "      <td>unidades</td>\n",
       "      <td>sin definir</td>\n",
       "      <td>cucuruchos  conos y vasos de  pasta</td>\n",
       "      <td>1.00</td>\n",
       "      <td>2.00</td>\n",
       "      <td>4.00</td>\n",
       "      <td>2.00</td>\n",
       "      <td>1.50</td>\n",
       "      <td>1.67</td>\n",
       "      <td>3075646</td>\n",
       "      <td>15069.99</td>\n",
       "      <td>6.20</td>\n",
       "    </tr>\n",
       "    <tr>\n",
       "      <th>766597</th>\n",
       "      <td>12</td>\n",
       "      <td>2019</td>\n",
       "      <td>995</td>\n",
       "      <td>SIN DEFINIR</td>\n",
       "      <td>Unidades</td>\n",
       "      <td>0004 - CUCURUCHOS , CONOS Y VASOS DE  PASTA</td>\n",
       "      <td>3.10</td>\n",
       "      <td>3</td>\n",
       "      <td>Yerba Buena, Tucumán</td>\n",
       "      <td>4.00</td>\n",
       "      <td>unidades</td>\n",
       "      <td>sin definir</td>\n",
       "      <td>cucuruchos  conos y vasos de  pasta</td>\n",
       "      <td>3.00</td>\n",
       "      <td>1.00</td>\n",
       "      <td>2.00</td>\n",
       "      <td>2.00</td>\n",
       "      <td>1.75</td>\n",
       "      <td>1.50</td>\n",
       "      <td>1694656</td>\n",
       "      <td>64.00</td>\n",
       "      <td>12.40</td>\n",
       "    </tr>\n",
       "    <tr>\n",
       "      <th>766598</th>\n",
       "      <td>12</td>\n",
       "      <td>2019</td>\n",
       "      <td>995</td>\n",
       "      <td>SIN DEFINIR</td>\n",
       "      <td>Unidades</td>\n",
       "      <td>0004 - CUCURUCHOS , CONOS Y VASOS DE  PASTA</td>\n",
       "      <td>3.10</td>\n",
       "      <td>3</td>\n",
       "      <td>Zapala, Neuquén</td>\n",
       "      <td>7.00</td>\n",
       "      <td>unidades</td>\n",
       "      <td>sin definir</td>\n",
       "      <td>cucuruchos  conos y vasos de  pasta</td>\n",
       "      <td>5.00</td>\n",
       "      <td>6.00</td>\n",
       "      <td>10.00</td>\n",
       "      <td>3.50</td>\n",
       "      <td>4.25</td>\n",
       "      <td>4.83</td>\n",
       "      <td>664057</td>\n",
       "      <td>7.10</td>\n",
       "      <td>21.70</td>\n",
       "    </tr>\n",
       "    <tr>\n",
       "      <th>766599</th>\n",
       "      <td>12</td>\n",
       "      <td>2019</td>\n",
       "      <td>995</td>\n",
       "      <td>SIN DEFINIR</td>\n",
       "      <td>Unidades</td>\n",
       "      <td>0004 - CUCURUCHOS , CONOS Y VASOS DE  PASTA</td>\n",
       "      <td>3.10</td>\n",
       "      <td>3</td>\n",
       "      <td>Zarate, Zarate, Buenos Aires</td>\n",
       "      <td>8.00</td>\n",
       "      <td>unidades</td>\n",
       "      <td>sin definir</td>\n",
       "      <td>cucuruchos  conos y vasos de  pasta</td>\n",
       "      <td>5.00</td>\n",
       "      <td>10.00</td>\n",
       "      <td>3.00</td>\n",
       "      <td>2.67</td>\n",
       "      <td>2.58</td>\n",
       "      <td>2.56</td>\n",
       "      <td>17541141</td>\n",
       "      <td>57.00</td>\n",
       "      <td>24.80</td>\n",
       "    </tr>\n",
       "  </tbody>\n",
       "</table>\n",
       "<p>681316 rows × 22 columns</p>\n",
       "</div>"
      ],
      "text/plain": [
       "       mes  anio   sku        marca presentacion  \\\n",
       "0        4  2018  1021  SIN DEFINIR     Unidades   \n",
       "1        4  2018  1021  SIN DEFINIR     Unidades   \n",
       "3        4  2018  1021  SIN DEFINIR     Unidades   \n",
       "4        4  2018  1021  SIN DEFINIR     Unidades   \n",
       "5        4  2018  1021  SIN DEFINIR     Unidades   \n",
       "...     ..   ...   ...          ...          ...   \n",
       "766595  12  2019   995  SIN DEFINIR     Unidades   \n",
       "766596  12  2019   995  SIN DEFINIR     Unidades   \n",
       "766597  12  2019   995  SIN DEFINIR     Unidades   \n",
       "766598  12  2019   995  SIN DEFINIR     Unidades   \n",
       "766599  12  2019   995  SIN DEFINIR     Unidades   \n",
       "\n",
       "                                          categoria  unidadkg id_proveedor  \\\n",
       "0                                   12 - IMPULSIVOS      3.22            2   \n",
       "1                                   12 - IMPULSIVOS      3.22            2   \n",
       "3                                   12 - IMPULSIVOS      3.22            2   \n",
       "4                                   12 - IMPULSIVOS      3.22            2   \n",
       "5                                   12 - IMPULSIVOS      3.22            2   \n",
       "...                                             ...       ...          ...   \n",
       "766595  0004 - CUCURUCHOS , CONOS Y VASOS DE  PASTA      3.10            3   \n",
       "766596  0004 - CUCURUCHOS , CONOS Y VASOS DE  PASTA      3.10            3   \n",
       "766597  0004 - CUCURUCHOS , CONOS Y VASOS DE  PASTA      3.10            3   \n",
       "766598  0004 - CUCURUCHOS , CONOS Y VASOS DE  PASTA      3.10            3   \n",
       "766599  0004 - CUCURUCHOS , CONOS Y VASOS DE  PASTA      3.10            3   \n",
       "\n",
       "                                         ubicacion  cantidad_pedida  \\\n",
       "0             25 De Mayo, 25 De Mayo, Buenos Aires            15.00   \n",
       "1         3 De Febrero, 3 De Febrero, Buenos Aires             8.00   \n",
       "3            3 De Febrero, Ciudadela, Buenos Aires            20.00   \n",
       "4       3 De Febrero, Santos Lugares, Buenos Aires            55.00   \n",
       "5             9 De Julio, 9 De Julio, Buenos Aires            59.00   \n",
       "...                                            ...              ...   \n",
       "766595                      Villa Ocampo, Santa Fe             4.00   \n",
       "766596           Villa Pueyrredón, Capital Federal             2.00   \n",
       "766597                        Yerba Buena, Tucumán             4.00   \n",
       "766598                             Zapala, Neuquén             7.00   \n",
       "766599                Zarate, Zarate, Buenos Aires             8.00   \n",
       "\n",
       "       presentacion_depurada marca_depurada  \\\n",
       "0                   unidades    sin definir   \n",
       "1                   unidades    sin definir   \n",
       "3                   unidades    sin definir   \n",
       "4                   unidades    sin definir   \n",
       "5                   unidades    sin definir   \n",
       "...                      ...            ...   \n",
       "766595              unidades    sin definir   \n",
       "766596              unidades    sin definir   \n",
       "766597              unidades    sin definir   \n",
       "766598              unidades    sin definir   \n",
       "766599              unidades    sin definir   \n",
       "\n",
       "                         categoria_depurada  cantidad_pedida_lag_t-1  \\\n",
       "0                                impulsivos                    65.00   \n",
       "1                                impulsivos                    10.00   \n",
       "3                                impulsivos                    55.00   \n",
       "4                                impulsivos                    55.00   \n",
       "5                                impulsivos                    96.00   \n",
       "...                                     ...                      ...   \n",
       "766595  cucuruchos  conos y vasos de  pasta                     2.00   \n",
       "766596  cucuruchos  conos y vasos de  pasta                     1.00   \n",
       "766597  cucuruchos  conos y vasos de  pasta                     3.00   \n",
       "766598  cucuruchos  conos y vasos de  pasta                     5.00   \n",
       "766599  cucuruchos  conos y vasos de  pasta                     5.00   \n",
       "\n",
       "        cantidad_pedida_lag_t-2  cantidad_pedida_lag_t-3  \\\n",
       "0                         60.00                    50.00   \n",
       "1                         10.00                    18.00   \n",
       "3                         35.00                     2.00   \n",
       "4                         90.00                   107.00   \n",
       "5                         26.00                     1.00   \n",
       "...                         ...                      ...   \n",
       "766595                     3.00                     3.00   \n",
       "766596                     2.00                     4.00   \n",
       "766597                     1.00                     2.00   \n",
       "766598                     6.00                    10.00   \n",
       "766599                    10.00                     3.00   \n",
       "\n",
       "        cantidad_pedida_mean  cantidad_pedida_mean_w2  \\\n",
       "0                      15.00                    15.62   \n",
       "1                       4.00                     3.67   \n",
       "3                      20.00                    23.75   \n",
       "4                      18.33                    18.33   \n",
       "5                      14.75                    16.97   \n",
       "...                      ...                      ...   \n",
       "766595                  2.00                     2.00   \n",
       "766596                  2.00                     1.50   \n",
       "766597                  2.00                     1.75   \n",
       "766598                  3.50                     4.25   \n",
       "766599                  2.67                     2.58   \n",
       "\n",
       "        cantidad_pedida_mean_w3  poblacion_prov  densidad_prov  totalkg  \n",
       "0                         15.42        17541141          57.00    48.24  \n",
       "1                          4.11        17541141          57.00    25.73  \n",
       "3                         21.67        17541141          57.00    64.32  \n",
       "4                         22.22        17541141          57.00   176.88  \n",
       "5                         19.98        17541141          57.00   189.74  \n",
       "...                         ...             ...            ...      ...  \n",
       "766595                     2.33         3536418          27.00    12.40  \n",
       "766596                     1.67         3075646       15069.99     6.20  \n",
       "766597                     1.50         1694656          64.00    12.40  \n",
       "766598                     4.83          664057           7.10    21.70  \n",
       "766599                     2.56        17541141          57.00    24.80  \n",
       "\n",
       "[681316 rows x 22 columns]"
      ]
     },
     "execution_count": 179,
     "metadata": {},
     "output_type": "execute_result"
    }
   ],
   "source": [
    "#Detección por Modified Z Score\n",
    "df_zscorem = outliers_modified_z_score(df_lagged_roll_mean_agg, 'totalkg')\n",
    "df_zscorem"
   ]
  },
  {
   "cell_type": "code",
   "execution_count": 180,
   "metadata": {
    "id": "YP5Hpreg3RUW",
    "outputId": "0f4d3104-1c15-4312-c436-5023ef5e813e"
   },
   "outputs": [
    {
     "name": "stdout",
     "output_type": "stream",
     "text": [
      "count   681316.00\n",
      "mean        47.46\n",
      "std         45.37\n",
      "min          0.01\n",
      "25%         13.22\n",
      "50%         31.20\n",
      "75%         67.60\n",
      "max        195.84\n",
      "Name: totalkg, dtype: float64\n",
      "Se eliminaron 85284 filas\n"
     ]
    },
    {
     "data": {
      "image/png": "[encoded data removed]",
      "text/plain": [
       "<Figure size 432x288 with 1 Axes>"
      ]
     },
     "metadata": {
      "needs_background": "light"
     },
     "output_type": "display_data"
    }
   ],
   "source": [
    "print(df_zscorem.totalkg.describe())\n",
    "print('Se eliminaron', len(df_lagged_roll_mean_agg) - len(df_zscorem), 'filas')\n",
    "fig = sns.boxplot(x=df_zscorem.totalkg)"
   ]
  },
  {
   "cell_type": "code",
   "execution_count": 181,
   "metadata": {
    "id": "kTIiufQH3RUW",
    "outputId": "f7bbf03f-5b5f-4386-9ef6-76a6e80afee4"
   },
   "outputs": [
    {
     "data": {
      "text/html": [
       "<div>\n",
       "<style scoped>\n",
       "    .dataframe tbody tr th:only-of-type {\n",
       "        vertical-align: middle;\n",
       "    }\n",
       "\n",
       "    .dataframe tbody tr th {\n",
       "        vertical-align: top;\n",
       "    }\n",
       "\n",
       "    .dataframe thead th {\n",
       "        text-align: right;\n",
       "    }\n",
       "</style>\n",
       "<table border=\"1\" class=\"dataframe\">\n",
       "  <thead>\n",
       "    <tr style=\"text-align: right;\">\n",
       "      <th></th>\n",
       "      <th>mes</th>\n",
       "      <th>anio</th>\n",
       "      <th>sku</th>\n",
       "      <th>marca</th>\n",
       "      <th>presentacion</th>\n",
       "      <th>categoria</th>\n",
       "      <th>unidadkg</th>\n",
       "      <th>id_proveedor</th>\n",
       "      <th>ubicacion</th>\n",
       "      <th>cantidad_pedida</th>\n",
       "      <th>presentacion_depurada</th>\n",
       "      <th>marca_depurada</th>\n",
       "      <th>categoria_depurada</th>\n",
       "      <th>cantidad_pedida_lag_t-1</th>\n",
       "      <th>cantidad_pedida_lag_t-2</th>\n",
       "      <th>cantidad_pedida_lag_t-3</th>\n",
       "      <th>cantidad_pedida_mean</th>\n",
       "      <th>cantidad_pedida_mean_w2</th>\n",
       "      <th>cantidad_pedida_mean_w3</th>\n",
       "      <th>poblacion_prov</th>\n",
       "      <th>densidad_prov</th>\n",
       "      <th>totalkg</th>\n",
       "    </tr>\n",
       "  </thead>\n",
       "  <tbody>\n",
       "    <tr>\n",
       "      <th>0</th>\n",
       "      <td>4</td>\n",
       "      <td>2018</td>\n",
       "      <td>1021</td>\n",
       "      <td>SIN DEFINIR</td>\n",
       "      <td>Unidades</td>\n",
       "      <td>12 - IMPULSIVOS</td>\n",
       "      <td>3.22</td>\n",
       "      <td>2</td>\n",
       "      <td>25 De Mayo, 25 De Mayo, Buenos Aires</td>\n",
       "      <td>15.00</td>\n",
       "      <td>unidades</td>\n",
       "      <td>sin definir</td>\n",
       "      <td>impulsivos</td>\n",
       "      <td>65.00</td>\n",
       "      <td>60.00</td>\n",
       "      <td>50.00</td>\n",
       "      <td>15.00</td>\n",
       "      <td>15.62</td>\n",
       "      <td>15.42</td>\n",
       "      <td>17541141</td>\n",
       "      <td>57.00</td>\n",
       "      <td>48.24</td>\n",
       "    </tr>\n",
       "    <tr>\n",
       "      <th>1</th>\n",
       "      <td>4</td>\n",
       "      <td>2018</td>\n",
       "      <td>1021</td>\n",
       "      <td>SIN DEFINIR</td>\n",
       "      <td>Unidades</td>\n",
       "      <td>12 - IMPULSIVOS</td>\n",
       "      <td>3.22</td>\n",
       "      <td>2</td>\n",
       "      <td>3 De Febrero, 3 De Febrero, Buenos Aires</td>\n",
       "      <td>8.00</td>\n",
       "      <td>unidades</td>\n",
       "      <td>sin definir</td>\n",
       "      <td>impulsivos</td>\n",
       "      <td>10.00</td>\n",
       "      <td>10.00</td>\n",
       "      <td>18.00</td>\n",
       "      <td>4.00</td>\n",
       "      <td>3.67</td>\n",
       "      <td>4.11</td>\n",
       "      <td>17541141</td>\n",
       "      <td>57.00</td>\n",
       "      <td>25.73</td>\n",
       "    </tr>\n",
       "    <tr>\n",
       "      <th>3</th>\n",
       "      <td>4</td>\n",
       "      <td>2018</td>\n",
       "      <td>1021</td>\n",
       "      <td>SIN DEFINIR</td>\n",
       "      <td>Unidades</td>\n",
       "      <td>12 - IMPULSIVOS</td>\n",
       "      <td>3.22</td>\n",
       "      <td>2</td>\n",
       "      <td>3 De Febrero, Ciudadela, Buenos Aires</td>\n",
       "      <td>20.00</td>\n",
       "      <td>unidades</td>\n",
       "      <td>sin definir</td>\n",
       "      <td>impulsivos</td>\n",
       "      <td>55.00</td>\n",
       "      <td>35.00</td>\n",
       "      <td>2.00</td>\n",
       "      <td>20.00</td>\n",
       "      <td>23.75</td>\n",
       "      <td>21.67</td>\n",
       "      <td>17541141</td>\n",
       "      <td>57.00</td>\n",
       "      <td>64.32</td>\n",
       "    </tr>\n",
       "    <tr>\n",
       "      <th>4</th>\n",
       "      <td>4</td>\n",
       "      <td>2018</td>\n",
       "      <td>1021</td>\n",
       "      <td>SIN DEFINIR</td>\n",
       "      <td>Unidades</td>\n",
       "      <td>12 - IMPULSIVOS</td>\n",
       "      <td>3.22</td>\n",
       "      <td>2</td>\n",
       "      <td>3 De Febrero, Santos Lugares, Buenos Aires</td>\n",
       "      <td>55.00</td>\n",
       "      <td>unidades</td>\n",
       "      <td>sin definir</td>\n",
       "      <td>impulsivos</td>\n",
       "      <td>55.00</td>\n",
       "      <td>90.00</td>\n",
       "      <td>107.00</td>\n",
       "      <td>18.33</td>\n",
       "      <td>18.33</td>\n",
       "      <td>22.22</td>\n",
       "      <td>17541141</td>\n",
       "      <td>57.00</td>\n",
       "      <td>176.88</td>\n",
       "    </tr>\n",
       "    <tr>\n",
       "      <th>5</th>\n",
       "      <td>4</td>\n",
       "      <td>2018</td>\n",
       "      <td>1021</td>\n",
       "      <td>SIN DEFINIR</td>\n",
       "      <td>Unidades</td>\n",
       "      <td>12 - IMPULSIVOS</td>\n",
       "      <td>3.22</td>\n",
       "      <td>2</td>\n",
       "      <td>9 De Julio, 9 De Julio, Buenos Aires</td>\n",
       "      <td>59.00</td>\n",
       "      <td>unidades</td>\n",
       "      <td>sin definir</td>\n",
       "      <td>impulsivos</td>\n",
       "      <td>96.00</td>\n",
       "      <td>26.00</td>\n",
       "      <td>1.00</td>\n",
       "      <td>14.75</td>\n",
       "      <td>16.97</td>\n",
       "      <td>19.98</td>\n",
       "      <td>17541141</td>\n",
       "      <td>57.00</td>\n",
       "      <td>189.74</td>\n",
       "    </tr>\n",
       "    <tr>\n",
       "      <th>...</th>\n",
       "      <td>...</td>\n",
       "      <td>...</td>\n",
       "      <td>...</td>\n",
       "      <td>...</td>\n",
       "      <td>...</td>\n",
       "      <td>...</td>\n",
       "      <td>...</td>\n",
       "      <td>...</td>\n",
       "      <td>...</td>\n",
       "      <td>...</td>\n",
       "      <td>...</td>\n",
       "      <td>...</td>\n",
       "      <td>...</td>\n",
       "      <td>...</td>\n",
       "      <td>...</td>\n",
       "      <td>...</td>\n",
       "      <td>...</td>\n",
       "      <td>...</td>\n",
       "      <td>...</td>\n",
       "      <td>...</td>\n",
       "      <td>...</td>\n",
       "      <td>...</td>\n",
       "    </tr>\n",
       "    <tr>\n",
       "      <th>766595</th>\n",
       "      <td>12</td>\n",
       "      <td>2019</td>\n",
       "      <td>995</td>\n",
       "      <td>SIN DEFINIR</td>\n",
       "      <td>Unidades</td>\n",
       "      <td>0004 - CUCURUCHOS , CONOS Y VASOS DE  PASTA</td>\n",
       "      <td>3.10</td>\n",
       "      <td>3</td>\n",
       "      <td>Villa Ocampo, Santa Fe</td>\n",
       "      <td>4.00</td>\n",
       "      <td>unidades</td>\n",
       "      <td>sin definir</td>\n",
       "      <td>cucuruchos  conos y vasos de  pasta</td>\n",
       "      <td>2.00</td>\n",
       "      <td>3.00</td>\n",
       "      <td>3.00</td>\n",
       "      <td>2.00</td>\n",
       "      <td>2.00</td>\n",
       "      <td>2.33</td>\n",
       "      <td>3536418</td>\n",
       "      <td>27.00</td>\n",
       "      <td>12.40</td>\n",
       "    </tr>\n",
       "    <tr>\n",
       "      <th>766596</th>\n",
       "      <td>12</td>\n",
       "      <td>2019</td>\n",
       "      <td>995</td>\n",
       "      <td>SIN DEFINIR</td>\n",
       "      <td>Unidades</td>\n",
       "      <td>0004 - CUCURUCHOS , CONOS Y VASOS DE  PASTA</td>\n",
       "      <td>3.10</td>\n",
       "      <td>3</td>\n",
       "      <td>Villa Pueyrredón, Capital Federal</td>\n",
       "      <td>2.00</td>\n",
       "      <td>unidades</td>\n",
       "      <td>sin definir</td>\n",
       "      <td>cucuruchos  conos y vasos de  pasta</td>\n",
       "      <td>1.00</td>\n",
       "      <td>2.00</td>\n",
       "      <td>4.00</td>\n",
       "      <td>2.00</td>\n",
       "      <td>1.50</td>\n",
       "      <td>1.67</td>\n",
       "      <td>3075646</td>\n",
       "      <td>15069.99</td>\n",
       "      <td>6.20</td>\n",
       "    </tr>\n",
       "    <tr>\n",
       "      <th>766597</th>\n",
       "      <td>12</td>\n",
       "      <td>2019</td>\n",
       "      <td>995</td>\n",
       "      <td>SIN DEFINIR</td>\n",
       "      <td>Unidades</td>\n",
       "      <td>0004 - CUCURUCHOS , CONOS Y VASOS DE  PASTA</td>\n",
       "      <td>3.10</td>\n",
       "      <td>3</td>\n",
       "      <td>Yerba Buena, Tucumán</td>\n",
       "      <td>4.00</td>\n",
       "      <td>unidades</td>\n",
       "      <td>sin definir</td>\n",
       "      <td>cucuruchos  conos y vasos de  pasta</td>\n",
       "      <td>3.00</td>\n",
       "      <td>1.00</td>\n",
       "      <td>2.00</td>\n",
       "      <td>2.00</td>\n",
       "      <td>1.75</td>\n",
       "      <td>1.50</td>\n",
       "      <td>1694656</td>\n",
       "      <td>64.00</td>\n",
       "      <td>12.40</td>\n",
       "    </tr>\n",
       "    <tr>\n",
       "      <th>766598</th>\n",
       "      <td>12</td>\n",
       "      <td>2019</td>\n",
       "      <td>995</td>\n",
       "      <td>SIN DEFINIR</td>\n",
       "      <td>Unidades</td>\n",
       "      <td>0004 - CUCURUCHOS , CONOS Y VASOS DE  PASTA</td>\n",
       "      <td>3.10</td>\n",
       "      <td>3</td>\n",
       "      <td>Zapala, Neuquén</td>\n",
       "      <td>7.00</td>\n",
       "      <td>unidades</td>\n",
       "      <td>sin definir</td>\n",
       "      <td>cucuruchos  conos y vasos de  pasta</td>\n",
       "      <td>5.00</td>\n",
       "      <td>6.00</td>\n",
       "      <td>10.00</td>\n",
       "      <td>3.50</td>\n",
       "      <td>4.25</td>\n",
       "      <td>4.83</td>\n",
       "      <td>664057</td>\n",
       "      <td>7.10</td>\n",
       "      <td>21.70</td>\n",
       "    </tr>\n",
       "    <tr>\n",
       "      <th>766599</th>\n",
       "      <td>12</td>\n",
       "      <td>2019</td>\n",
       "      <td>995</td>\n",
       "      <td>SIN DEFINIR</td>\n",
       "      <td>Unidades</td>\n",
       "      <td>0004 - CUCURUCHOS , CONOS Y VASOS DE  PASTA</td>\n",
       "      <td>3.10</td>\n",
       "      <td>3</td>\n",
       "      <td>Zarate, Zarate, Buenos Aires</td>\n",
       "      <td>8.00</td>\n",
       "      <td>unidades</td>\n",
       "      <td>sin definir</td>\n",
       "      <td>cucuruchos  conos y vasos de  pasta</td>\n",
       "      <td>5.00</td>\n",
       "      <td>10.00</td>\n",
       "      <td>3.00</td>\n",
       "      <td>2.67</td>\n",
       "      <td>2.58</td>\n",
       "      <td>2.56</td>\n",
       "      <td>17541141</td>\n",
       "      <td>57.00</td>\n",
       "      <td>24.80</td>\n",
       "    </tr>\n",
       "  </tbody>\n",
       "</table>\n",
       "<p>687900 rows × 22 columns</p>\n",
       "</div>"
      ],
      "text/plain": [
       "       mes  anio   sku        marca presentacion  \\\n",
       "0        4  2018  1021  SIN DEFINIR     Unidades   \n",
       "1        4  2018  1021  SIN DEFINIR     Unidades   \n",
       "3        4  2018  1021  SIN DEFINIR     Unidades   \n",
       "4        4  2018  1021  SIN DEFINIR     Unidades   \n",
       "5        4  2018  1021  SIN DEFINIR     Unidades   \n",
       "...     ..   ...   ...          ...          ...   \n",
       "766595  12  2019   995  SIN DEFINIR     Unidades   \n",
       "766596  12  2019   995  SIN DEFINIR     Unidades   \n",
       "766597  12  2019   995  SIN DEFINIR     Unidades   \n",
       "766598  12  2019   995  SIN DEFINIR     Unidades   \n",
       "766599  12  2019   995  SIN DEFINIR     Unidades   \n",
       "\n",
       "                                          categoria  unidadkg id_proveedor  \\\n",
       "0                                   12 - IMPULSIVOS      3.22            2   \n",
       "1                                   12 - IMPULSIVOS      3.22            2   \n",
       "3                                   12 - IMPULSIVOS      3.22            2   \n",
       "4                                   12 - IMPULSIVOS      3.22            2   \n",
       "5                                   12 - IMPULSIVOS      3.22            2   \n",
       "...                                             ...       ...          ...   \n",
       "766595  0004 - CUCURUCHOS , CONOS Y VASOS DE  PASTA      3.10            3   \n",
       "766596  0004 - CUCURUCHOS , CONOS Y VASOS DE  PASTA      3.10            3   \n",
       "766597  0004 - CUCURUCHOS , CONOS Y VASOS DE  PASTA      3.10            3   \n",
       "766598  0004 - CUCURUCHOS , CONOS Y VASOS DE  PASTA      3.10            3   \n",
       "766599  0004 - CUCURUCHOS , CONOS Y VASOS DE  PASTA      3.10            3   \n",
       "\n",
       "                                         ubicacion  cantidad_pedida  \\\n",
       "0             25 De Mayo, 25 De Mayo, Buenos Aires            15.00   \n",
       "1         3 De Febrero, 3 De Febrero, Buenos Aires             8.00   \n",
       "3            3 De Febrero, Ciudadela, Buenos Aires            20.00   \n",
       "4       3 De Febrero, Santos Lugares, Buenos Aires            55.00   \n",
       "5             9 De Julio, 9 De Julio, Buenos Aires            59.00   \n",
       "...                                            ...              ...   \n",
       "766595                      Villa Ocampo, Santa Fe             4.00   \n",
       "766596           Villa Pueyrredón, Capital Federal             2.00   \n",
       "766597                        Yerba Buena, Tucumán             4.00   \n",
       "766598                             Zapala, Neuquén             7.00   \n",
       "766599                Zarate, Zarate, Buenos Aires             8.00   \n",
       "\n",
       "       presentacion_depurada marca_depurada  \\\n",
       "0                   unidades    sin definir   \n",
       "1                   unidades    sin definir   \n",
       "3                   unidades    sin definir   \n",
       "4                   unidades    sin definir   \n",
       "5                   unidades    sin definir   \n",
       "...                      ...            ...   \n",
       "766595              unidades    sin definir   \n",
       "766596              unidades    sin definir   \n",
       "766597              unidades    sin definir   \n",
       "766598              unidades    sin definir   \n",
       "766599              unidades    sin definir   \n",
       "\n",
       "                         categoria_depurada  cantidad_pedida_lag_t-1  \\\n",
       "0                                impulsivos                    65.00   \n",
       "1                                impulsivos                    10.00   \n",
       "3                                impulsivos                    55.00   \n",
       "4                                impulsivos                    55.00   \n",
       "5                                impulsivos                    96.00   \n",
       "...                                     ...                      ...   \n",
       "766595  cucuruchos  conos y vasos de  pasta                     2.00   \n",
       "766596  cucuruchos  conos y vasos de  pasta                     1.00   \n",
       "766597  cucuruchos  conos y vasos de  pasta                     3.00   \n",
       "766598  cucuruchos  conos y vasos de  pasta                     5.00   \n",
       "766599  cucuruchos  conos y vasos de  pasta                     5.00   \n",
       "\n",
       "        cantidad_pedida_lag_t-2  cantidad_pedida_lag_t-3  \\\n",
       "0                         60.00                    50.00   \n",
       "1                         10.00                    18.00   \n",
       "3                         35.00                     2.00   \n",
       "4                         90.00                   107.00   \n",
       "5                         26.00                     1.00   \n",
       "...                         ...                      ...   \n",
       "766595                     3.00                     3.00   \n",
       "766596                     2.00                     4.00   \n",
       "766597                     1.00                     2.00   \n",
       "766598                     6.00                    10.00   \n",
       "766599                    10.00                     3.00   \n",
       "\n",
       "        cantidad_pedida_mean  cantidad_pedida_mean_w2  \\\n",
       "0                      15.00                    15.62   \n",
       "1                       4.00                     3.67   \n",
       "3                      20.00                    23.75   \n",
       "4                      18.33                    18.33   \n",
       "5                      14.75                    16.97   \n",
       "...                      ...                      ...   \n",
       "766595                  2.00                     2.00   \n",
       "766596                  2.00                     1.50   \n",
       "766597                  2.00                     1.75   \n",
       "766598                  3.50                     4.25   \n",
       "766599                  2.67                     2.58   \n",
       "\n",
       "        cantidad_pedida_mean_w3  poblacion_prov  densidad_prov  totalkg  \n",
       "0                         15.42        17541141          57.00    48.24  \n",
       "1                          4.11        17541141          57.00    25.73  \n",
       "3                         21.67        17541141          57.00    64.32  \n",
       "4                         22.22        17541141          57.00   176.88  \n",
       "5                         19.98        17541141          57.00   189.74  \n",
       "...                         ...             ...            ...      ...  \n",
       "766595                     2.33         3536418          27.00    12.40  \n",
       "766596                     1.67         3075646       15069.99     6.20  \n",
       "766597                     1.50         1694656          64.00    12.40  \n",
       "766598                     4.83          664057           7.10    21.70  \n",
       "766599                     2.56        17541141          57.00    24.80  \n",
       "\n",
       "[687900 rows x 22 columns]"
      ]
     },
     "execution_count": 181,
     "metadata": {},
     "output_type": "execute_result"
    }
   ],
   "source": [
    "#Detección por IQR\n",
    "df_iqr = outliers_iqr(df_lagged_roll_mean_agg, 'totalkg')\n",
    "df_iqr"
   ]
  },
  {
   "cell_type": "code",
   "execution_count": 182,
   "metadata": {
    "id": "DdwXzCuN3RUW",
    "outputId": "3996c9c0-aa8b-43d4-f1f1-3bfa9b6bbf21"
   },
   "outputs": [
    {
     "name": "stdout",
     "output_type": "stream",
     "text": [
      "count   687900.00\n",
      "mean        48.97\n",
      "std         47.68\n",
      "min          0.01\n",
      "25%         13.25\n",
      "50%         31.20\n",
      "75%         70.20\n",
      "max        210.60\n",
      "Name: totalkg, dtype: float64\n",
      "Se eliminaron 78700 filas\n"
     ]
    },
    {
     "data": {
      "image/png": "[encoded data removed]",
      "text/plain": [
       "<Figure size 432x288 with 1 Axes>"
      ]
     },
     "metadata": {
      "needs_background": "light"
     },
     "output_type": "display_data"
    }
   ],
   "source": [
    "print(df_iqr.totalkg.describe())\n",
    "print('Se eliminaron', len(df_lagged_roll_mean_agg) - len(df_iqr), 'filas')\n",
    "fig = sns.boxplot(x=df_iqr.totalkg)"
   ]
  },
  {
   "cell_type": "code",
   "execution_count": 183,
   "metadata": {
    "id": "hJGaSk_P3RUW",
    "outputId": "08c1c42d-fb2a-4312-aa15-2a6eeca40e5f"
   },
   "outputs": [
    {
     "data": {
      "text/html": [
       "<div>\n",
       "<style scoped>\n",
       "    .dataframe tbody tr th:only-of-type {\n",
       "        vertical-align: middle;\n",
       "    }\n",
       "\n",
       "    .dataframe tbody tr th {\n",
       "        vertical-align: top;\n",
       "    }\n",
       "\n",
       "    .dataframe thead th {\n",
       "        text-align: right;\n",
       "    }\n",
       "</style>\n",
       "<table border=\"1\" class=\"dataframe\">\n",
       "  <thead>\n",
       "    <tr style=\"text-align: right;\">\n",
       "      <th></th>\n",
       "      <th>mes</th>\n",
       "      <th>anio</th>\n",
       "      <th>sku</th>\n",
       "      <th>marca</th>\n",
       "      <th>presentacion</th>\n",
       "      <th>categoria</th>\n",
       "      <th>unidadkg</th>\n",
       "      <th>id_proveedor</th>\n",
       "      <th>ubicacion</th>\n",
       "      <th>cantidad_pedida</th>\n",
       "      <th>presentacion_depurada</th>\n",
       "      <th>marca_depurada</th>\n",
       "      <th>categoria_depurada</th>\n",
       "      <th>cantidad_pedida_lag_t-1</th>\n",
       "      <th>cantidad_pedida_lag_t-2</th>\n",
       "      <th>cantidad_pedida_lag_t-3</th>\n",
       "      <th>cantidad_pedida_mean</th>\n",
       "      <th>cantidad_pedida_mean_w2</th>\n",
       "      <th>cantidad_pedida_mean_w3</th>\n",
       "      <th>poblacion_prov</th>\n",
       "      <th>densidad_prov</th>\n",
       "      <th>totalkg</th>\n",
       "    </tr>\n",
       "  </thead>\n",
       "  <tbody>\n",
       "    <tr>\n",
       "      <th>0</th>\n",
       "      <td>4</td>\n",
       "      <td>2018</td>\n",
       "      <td>1021</td>\n",
       "      <td>SIN DEFINIR</td>\n",
       "      <td>Unidades</td>\n",
       "      <td>12 - IMPULSIVOS</td>\n",
       "      <td>3.22</td>\n",
       "      <td>2</td>\n",
       "      <td>25 De Mayo, 25 De Mayo, Buenos Aires</td>\n",
       "      <td>15.00</td>\n",
       "      <td>unidades</td>\n",
       "      <td>sin definir</td>\n",
       "      <td>impulsivos</td>\n",
       "      <td>65.00</td>\n",
       "      <td>60.00</td>\n",
       "      <td>50.00</td>\n",
       "      <td>15.00</td>\n",
       "      <td>15.62</td>\n",
       "      <td>15.42</td>\n",
       "      <td>17541141</td>\n",
       "      <td>57.00</td>\n",
       "      <td>48.24</td>\n",
       "    </tr>\n",
       "    <tr>\n",
       "      <th>1</th>\n",
       "      <td>4</td>\n",
       "      <td>2018</td>\n",
       "      <td>1021</td>\n",
       "      <td>SIN DEFINIR</td>\n",
       "      <td>Unidades</td>\n",
       "      <td>12 - IMPULSIVOS</td>\n",
       "      <td>3.22</td>\n",
       "      <td>2</td>\n",
       "      <td>3 De Febrero, 3 De Febrero, Buenos Aires</td>\n",
       "      <td>8.00</td>\n",
       "      <td>unidades</td>\n",
       "      <td>sin definir</td>\n",
       "      <td>impulsivos</td>\n",
       "      <td>10.00</td>\n",
       "      <td>10.00</td>\n",
       "      <td>18.00</td>\n",
       "      <td>4.00</td>\n",
       "      <td>3.67</td>\n",
       "      <td>4.11</td>\n",
       "      <td>17541141</td>\n",
       "      <td>57.00</td>\n",
       "      <td>25.73</td>\n",
       "    </tr>\n",
       "    <tr>\n",
       "      <th>2</th>\n",
       "      <td>4</td>\n",
       "      <td>2018</td>\n",
       "      <td>1021</td>\n",
       "      <td>SIN DEFINIR</td>\n",
       "      <td>Unidades</td>\n",
       "      <td>12 - IMPULSIVOS</td>\n",
       "      <td>3.22</td>\n",
       "      <td>2</td>\n",
       "      <td>3 De Febrero, Caseros, Buenos Aires</td>\n",
       "      <td>73.00</td>\n",
       "      <td>unidades</td>\n",
       "      <td>sin definir</td>\n",
       "      <td>impulsivos</td>\n",
       "      <td>96.00</td>\n",
       "      <td>82.00</td>\n",
       "      <td>128.00</td>\n",
       "      <td>9.12</td>\n",
       "      <td>10.56</td>\n",
       "      <td>10.46</td>\n",
       "      <td>17541141</td>\n",
       "      <td>57.00</td>\n",
       "      <td>234.77</td>\n",
       "    </tr>\n",
       "    <tr>\n",
       "      <th>3</th>\n",
       "      <td>4</td>\n",
       "      <td>2018</td>\n",
       "      <td>1021</td>\n",
       "      <td>SIN DEFINIR</td>\n",
       "      <td>Unidades</td>\n",
       "      <td>12 - IMPULSIVOS</td>\n",
       "      <td>3.22</td>\n",
       "      <td>2</td>\n",
       "      <td>3 De Febrero, Ciudadela, Buenos Aires</td>\n",
       "      <td>20.00</td>\n",
       "      <td>unidades</td>\n",
       "      <td>sin definir</td>\n",
       "      <td>impulsivos</td>\n",
       "      <td>55.00</td>\n",
       "      <td>35.00</td>\n",
       "      <td>2.00</td>\n",
       "      <td>20.00</td>\n",
       "      <td>23.75</td>\n",
       "      <td>21.67</td>\n",
       "      <td>17541141</td>\n",
       "      <td>57.00</td>\n",
       "      <td>64.32</td>\n",
       "    </tr>\n",
       "    <tr>\n",
       "      <th>4</th>\n",
       "      <td>4</td>\n",
       "      <td>2018</td>\n",
       "      <td>1021</td>\n",
       "      <td>SIN DEFINIR</td>\n",
       "      <td>Unidades</td>\n",
       "      <td>12 - IMPULSIVOS</td>\n",
       "      <td>3.22</td>\n",
       "      <td>2</td>\n",
       "      <td>3 De Febrero, Santos Lugares, Buenos Aires</td>\n",
       "      <td>55.00</td>\n",
       "      <td>unidades</td>\n",
       "      <td>sin definir</td>\n",
       "      <td>impulsivos</td>\n",
       "      <td>55.00</td>\n",
       "      <td>90.00</td>\n",
       "      <td>107.00</td>\n",
       "      <td>18.33</td>\n",
       "      <td>18.33</td>\n",
       "      <td>22.22</td>\n",
       "      <td>17541141</td>\n",
       "      <td>57.00</td>\n",
       "      <td>176.88</td>\n",
       "    </tr>\n",
       "    <tr>\n",
       "      <th>...</th>\n",
       "      <td>...</td>\n",
       "      <td>...</td>\n",
       "      <td>...</td>\n",
       "      <td>...</td>\n",
       "      <td>...</td>\n",
       "      <td>...</td>\n",
       "      <td>...</td>\n",
       "      <td>...</td>\n",
       "      <td>...</td>\n",
       "      <td>...</td>\n",
       "      <td>...</td>\n",
       "      <td>...</td>\n",
       "      <td>...</td>\n",
       "      <td>...</td>\n",
       "      <td>...</td>\n",
       "      <td>...</td>\n",
       "      <td>...</td>\n",
       "      <td>...</td>\n",
       "      <td>...</td>\n",
       "      <td>...</td>\n",
       "      <td>...</td>\n",
       "      <td>...</td>\n",
       "    </tr>\n",
       "    <tr>\n",
       "      <th>766595</th>\n",
       "      <td>12</td>\n",
       "      <td>2019</td>\n",
       "      <td>995</td>\n",
       "      <td>SIN DEFINIR</td>\n",
       "      <td>Unidades</td>\n",
       "      <td>0004 - CUCURUCHOS , CONOS Y VASOS DE  PASTA</td>\n",
       "      <td>3.10</td>\n",
       "      <td>3</td>\n",
       "      <td>Villa Ocampo, Santa Fe</td>\n",
       "      <td>4.00</td>\n",
       "      <td>unidades</td>\n",
       "      <td>sin definir</td>\n",
       "      <td>cucuruchos  conos y vasos de  pasta</td>\n",
       "      <td>2.00</td>\n",
       "      <td>3.00</td>\n",
       "      <td>3.00</td>\n",
       "      <td>2.00</td>\n",
       "      <td>2.00</td>\n",
       "      <td>2.33</td>\n",
       "      <td>3536418</td>\n",
       "      <td>27.00</td>\n",
       "      <td>12.40</td>\n",
       "    </tr>\n",
       "    <tr>\n",
       "      <th>766596</th>\n",
       "      <td>12</td>\n",
       "      <td>2019</td>\n",
       "      <td>995</td>\n",
       "      <td>SIN DEFINIR</td>\n",
       "      <td>Unidades</td>\n",
       "      <td>0004 - CUCURUCHOS , CONOS Y VASOS DE  PASTA</td>\n",
       "      <td>3.10</td>\n",
       "      <td>3</td>\n",
       "      <td>Villa Pueyrredón, Capital Federal</td>\n",
       "      <td>2.00</td>\n",
       "      <td>unidades</td>\n",
       "      <td>sin definir</td>\n",
       "      <td>cucuruchos  conos y vasos de  pasta</td>\n",
       "      <td>1.00</td>\n",
       "      <td>2.00</td>\n",
       "      <td>4.00</td>\n",
       "      <td>2.00</td>\n",
       "      <td>1.50</td>\n",
       "      <td>1.67</td>\n",
       "      <td>3075646</td>\n",
       "      <td>15069.99</td>\n",
       "      <td>6.20</td>\n",
       "    </tr>\n",
       "    <tr>\n",
       "      <th>766597</th>\n",
       "      <td>12</td>\n",
       "      <td>2019</td>\n",
       "      <td>995</td>\n",
       "      <td>SIN DEFINIR</td>\n",
       "      <td>Unidades</td>\n",
       "      <td>0004 - CUCURUCHOS , CONOS Y VASOS DE  PASTA</td>\n",
       "      <td>3.10</td>\n",
       "      <td>3</td>\n",
       "      <td>Yerba Buena, Tucumán</td>\n",
       "      <td>4.00</td>\n",
       "      <td>unidades</td>\n",
       "      <td>sin definir</td>\n",
       "      <td>cucuruchos  conos y vasos de  pasta</td>\n",
       "      <td>3.00</td>\n",
       "      <td>1.00</td>\n",
       "      <td>2.00</td>\n",
       "      <td>2.00</td>\n",
       "      <td>1.75</td>\n",
       "      <td>1.50</td>\n",
       "      <td>1694656</td>\n",
       "      <td>64.00</td>\n",
       "      <td>12.40</td>\n",
       "    </tr>\n",
       "    <tr>\n",
       "      <th>766598</th>\n",
       "      <td>12</td>\n",
       "      <td>2019</td>\n",
       "      <td>995</td>\n",
       "      <td>SIN DEFINIR</td>\n",
       "      <td>Unidades</td>\n",
       "      <td>0004 - CUCURUCHOS , CONOS Y VASOS DE  PASTA</td>\n",
       "      <td>3.10</td>\n",
       "      <td>3</td>\n",
       "      <td>Zapala, Neuquén</td>\n",
       "      <td>7.00</td>\n",
       "      <td>unidades</td>\n",
       "      <td>sin definir</td>\n",
       "      <td>cucuruchos  conos y vasos de  pasta</td>\n",
       "      <td>5.00</td>\n",
       "      <td>6.00</td>\n",
       "      <td>10.00</td>\n",
       "      <td>3.50</td>\n",
       "      <td>4.25</td>\n",
       "      <td>4.83</td>\n",
       "      <td>664057</td>\n",
       "      <td>7.10</td>\n",
       "      <td>21.70</td>\n",
       "    </tr>\n",
       "    <tr>\n",
       "      <th>766599</th>\n",
       "      <td>12</td>\n",
       "      <td>2019</td>\n",
       "      <td>995</td>\n",
       "      <td>SIN DEFINIR</td>\n",
       "      <td>Unidades</td>\n",
       "      <td>0004 - CUCURUCHOS , CONOS Y VASOS DE  PASTA</td>\n",
       "      <td>3.10</td>\n",
       "      <td>3</td>\n",
       "      <td>Zarate, Zarate, Buenos Aires</td>\n",
       "      <td>8.00</td>\n",
       "      <td>unidades</td>\n",
       "      <td>sin definir</td>\n",
       "      <td>cucuruchos  conos y vasos de  pasta</td>\n",
       "      <td>5.00</td>\n",
       "      <td>10.00</td>\n",
       "      <td>3.00</td>\n",
       "      <td>2.67</td>\n",
       "      <td>2.58</td>\n",
       "      <td>2.56</td>\n",
       "      <td>17541141</td>\n",
       "      <td>57.00</td>\n",
       "      <td>24.80</td>\n",
       "    </tr>\n",
       "  </tbody>\n",
       "</table>\n",
       "<p>751554 rows × 22 columns</p>\n",
       "</div>"
      ],
      "text/plain": [
       "       mes  anio   sku        marca presentacion  \\\n",
       "0        4  2018  1021  SIN DEFINIR     Unidades   \n",
       "1        4  2018  1021  SIN DEFINIR     Unidades   \n",
       "2        4  2018  1021  SIN DEFINIR     Unidades   \n",
       "3        4  2018  1021  SIN DEFINIR     Unidades   \n",
       "4        4  2018  1021  SIN DEFINIR     Unidades   \n",
       "...     ..   ...   ...          ...          ...   \n",
       "766595  12  2019   995  SIN DEFINIR     Unidades   \n",
       "766596  12  2019   995  SIN DEFINIR     Unidades   \n",
       "766597  12  2019   995  SIN DEFINIR     Unidades   \n",
       "766598  12  2019   995  SIN DEFINIR     Unidades   \n",
       "766599  12  2019   995  SIN DEFINIR     Unidades   \n",
       "\n",
       "                                          categoria  unidadkg id_proveedor  \\\n",
       "0                                   12 - IMPULSIVOS      3.22            2   \n",
       "1                                   12 - IMPULSIVOS      3.22            2   \n",
       "2                                   12 - IMPULSIVOS      3.22            2   \n",
       "3                                   12 - IMPULSIVOS      3.22            2   \n",
       "4                                   12 - IMPULSIVOS      3.22            2   \n",
       "...                                             ...       ...          ...   \n",
       "766595  0004 - CUCURUCHOS , CONOS Y VASOS DE  PASTA      3.10            3   \n",
       "766596  0004 - CUCURUCHOS , CONOS Y VASOS DE  PASTA      3.10            3   \n",
       "766597  0004 - CUCURUCHOS , CONOS Y VASOS DE  PASTA      3.10            3   \n",
       "766598  0004 - CUCURUCHOS , CONOS Y VASOS DE  PASTA      3.10            3   \n",
       "766599  0004 - CUCURUCHOS , CONOS Y VASOS DE  PASTA      3.10            3   \n",
       "\n",
       "                                         ubicacion  cantidad_pedida  \\\n",
       "0             25 De Mayo, 25 De Mayo, Buenos Aires            15.00   \n",
       "1         3 De Febrero, 3 De Febrero, Buenos Aires             8.00   \n",
       "2              3 De Febrero, Caseros, Buenos Aires            73.00   \n",
       "3            3 De Febrero, Ciudadela, Buenos Aires            20.00   \n",
       "4       3 De Febrero, Santos Lugares, Buenos Aires            55.00   \n",
       "...                                            ...              ...   \n",
       "766595                      Villa Ocampo, Santa Fe             4.00   \n",
       "766596           Villa Pueyrredón, Capital Federal             2.00   \n",
       "766597                        Yerba Buena, Tucumán             4.00   \n",
       "766598                             Zapala, Neuquén             7.00   \n",
       "766599                Zarate, Zarate, Buenos Aires             8.00   \n",
       "\n",
       "       presentacion_depurada marca_depurada  \\\n",
       "0                   unidades    sin definir   \n",
       "1                   unidades    sin definir   \n",
       "2                   unidades    sin definir   \n",
       "3                   unidades    sin definir   \n",
       "4                   unidades    sin definir   \n",
       "...                      ...            ...   \n",
       "766595              unidades    sin definir   \n",
       "766596              unidades    sin definir   \n",
       "766597              unidades    sin definir   \n",
       "766598              unidades    sin definir   \n",
       "766599              unidades    sin definir   \n",
       "\n",
       "                         categoria_depurada  cantidad_pedida_lag_t-1  \\\n",
       "0                                impulsivos                    65.00   \n",
       "1                                impulsivos                    10.00   \n",
       "2                                impulsivos                    96.00   \n",
       "3                                impulsivos                    55.00   \n",
       "4                                impulsivos                    55.00   \n",
       "...                                     ...                      ...   \n",
       "766595  cucuruchos  conos y vasos de  pasta                     2.00   \n",
       "766596  cucuruchos  conos y vasos de  pasta                     1.00   \n",
       "766597  cucuruchos  conos y vasos de  pasta                     3.00   \n",
       "766598  cucuruchos  conos y vasos de  pasta                     5.00   \n",
       "766599  cucuruchos  conos y vasos de  pasta                     5.00   \n",
       "\n",
       "        cantidad_pedida_lag_t-2  cantidad_pedida_lag_t-3  \\\n",
       "0                         60.00                    50.00   \n",
       "1                         10.00                    18.00   \n",
       "2                         82.00                   128.00   \n",
       "3                         35.00                     2.00   \n",
       "4                         90.00                   107.00   \n",
       "...                         ...                      ...   \n",
       "766595                     3.00                     3.00   \n",
       "766596                     2.00                     4.00   \n",
       "766597                     1.00                     2.00   \n",
       "766598                     6.00                    10.00   \n",
       "766599                    10.00                     3.00   \n",
       "\n",
       "        cantidad_pedida_mean  cantidad_pedida_mean_w2  \\\n",
       "0                      15.00                    15.62   \n",
       "1                       4.00                     3.67   \n",
       "2                       9.12                    10.56   \n",
       "3                      20.00                    23.75   \n",
       "4                      18.33                    18.33   \n",
       "...                      ...                      ...   \n",
       "766595                  2.00                     2.00   \n",
       "766596                  2.00                     1.50   \n",
       "766597                  2.00                     1.75   \n",
       "766598                  3.50                     4.25   \n",
       "766599                  2.67                     2.58   \n",
       "\n",
       "        cantidad_pedida_mean_w3  poblacion_prov  densidad_prov  totalkg  \n",
       "0                         15.42        17541141          57.00    48.24  \n",
       "1                          4.11        17541141          57.00    25.73  \n",
       "2                         10.46        17541141          57.00   234.77  \n",
       "3                         21.67        17541141          57.00    64.32  \n",
       "4                         22.22        17541141          57.00   176.88  \n",
       "...                         ...             ...            ...      ...  \n",
       "766595                     2.33         3536418          27.00    12.40  \n",
       "766596                     1.67         3075646       15069.99     6.20  \n",
       "766597                     1.50         1694656          64.00    12.40  \n",
       "766598                     4.83          664057           7.10    21.70  \n",
       "766599                     2.56        17541141          57.00    24.80  \n",
       "\n",
       "[751554 rows x 22 columns]"
      ]
     },
     "execution_count": 183,
     "metadata": {},
     "output_type": "execute_result"
    }
   ],
   "source": [
    "#Deteccion por percentiles de 0.99 y 0.01\n",
    "df_quantile_01 = outliers_quantile(df_lagged_roll_mean_agg, 'totalkg')\n",
    "df_quantile_01"
   ]
  },
  {
   "cell_type": "code",
   "execution_count": 184,
   "metadata": {
    "id": "zxFNbqVZ3RUX",
    "outputId": "8b67482b-c5f5-40ca-9776-372135e3f4ae"
   },
   "outputs": [
    {
     "name": "stdout",
     "output_type": "stream",
     "text": [
      "count   751554.00\n",
      "mean        82.76\n",
      "std        126.07\n",
      "min          0.04\n",
      "25%         15.60\n",
      "50%         39.00\n",
      "75%         93.60\n",
      "max       1027.20\n",
      "Name: totalkg, dtype: float64\n",
      "Se eliminaron 15046 filas\n"
     ]
    },
    {
     "data": {
      "image/png": "[encoded data removed]",
      "text/plain": [
       "<Figure size 432x288 with 1 Axes>"
      ]
     },
     "metadata": {
      "needs_background": "light"
     },
     "output_type": "display_data"
    }
   ],
   "source": [
    "print(df_quantile_01.totalkg.describe())\n",
    "print('Se eliminaron', len(df_lagged_roll_mean_agg) - len(df_quantile_01), 'filas')\n",
    "fig = sns.boxplot(x=df_quantile_01.totalkg)"
   ]
  },
  {
   "cell_type": "code",
   "execution_count": 185,
   "metadata": {
    "id": "ADOTmhKk3RUX",
    "outputId": "2d0440e3-bcda-4375-f10a-7728d25bf546"
   },
   "outputs": [
    {
     "data": {
      "text/html": [
       "<div>\n",
       "<style scoped>\n",
       "    .dataframe tbody tr th:only-of-type {\n",
       "        vertical-align: middle;\n",
       "    }\n",
       "\n",
       "    .dataframe tbody tr th {\n",
       "        vertical-align: top;\n",
       "    }\n",
       "\n",
       "    .dataframe thead th {\n",
       "        text-align: right;\n",
       "    }\n",
       "</style>\n",
       "<table border=\"1\" class=\"dataframe\">\n",
       "  <thead>\n",
       "    <tr style=\"text-align: right;\">\n",
       "      <th></th>\n",
       "      <th>mes</th>\n",
       "      <th>anio</th>\n",
       "      <th>sku</th>\n",
       "      <th>marca</th>\n",
       "      <th>presentacion</th>\n",
       "      <th>categoria</th>\n",
       "      <th>unidadkg</th>\n",
       "      <th>id_proveedor</th>\n",
       "      <th>ubicacion</th>\n",
       "      <th>cantidad_pedida</th>\n",
       "      <th>presentacion_depurada</th>\n",
       "      <th>marca_depurada</th>\n",
       "      <th>categoria_depurada</th>\n",
       "      <th>cantidad_pedida_lag_t-1</th>\n",
       "      <th>cantidad_pedida_lag_t-2</th>\n",
       "      <th>cantidad_pedida_lag_t-3</th>\n",
       "      <th>cantidad_pedida_mean</th>\n",
       "      <th>cantidad_pedida_mean_w2</th>\n",
       "      <th>cantidad_pedida_mean_w3</th>\n",
       "      <th>poblacion_prov</th>\n",
       "      <th>densidad_prov</th>\n",
       "      <th>totalkg</th>\n",
       "    </tr>\n",
       "  </thead>\n",
       "  <tbody>\n",
       "    <tr>\n",
       "      <th>0</th>\n",
       "      <td>4</td>\n",
       "      <td>2018</td>\n",
       "      <td>1021</td>\n",
       "      <td>SIN DEFINIR</td>\n",
       "      <td>Unidades</td>\n",
       "      <td>12 - IMPULSIVOS</td>\n",
       "      <td>3.22</td>\n",
       "      <td>2</td>\n",
       "      <td>25 De Mayo, 25 De Mayo, Buenos Aires</td>\n",
       "      <td>15.00</td>\n",
       "      <td>unidades</td>\n",
       "      <td>sin definir</td>\n",
       "      <td>impulsivos</td>\n",
       "      <td>65.00</td>\n",
       "      <td>60.00</td>\n",
       "      <td>50.00</td>\n",
       "      <td>15.00</td>\n",
       "      <td>15.62</td>\n",
       "      <td>15.42</td>\n",
       "      <td>17541141</td>\n",
       "      <td>57.00</td>\n",
       "      <td>48.24</td>\n",
       "    </tr>\n",
       "    <tr>\n",
       "      <th>1</th>\n",
       "      <td>4</td>\n",
       "      <td>2018</td>\n",
       "      <td>1021</td>\n",
       "      <td>SIN DEFINIR</td>\n",
       "      <td>Unidades</td>\n",
       "      <td>12 - IMPULSIVOS</td>\n",
       "      <td>3.22</td>\n",
       "      <td>2</td>\n",
       "      <td>3 De Febrero, 3 De Febrero, Buenos Aires</td>\n",
       "      <td>8.00</td>\n",
       "      <td>unidades</td>\n",
       "      <td>sin definir</td>\n",
       "      <td>impulsivos</td>\n",
       "      <td>10.00</td>\n",
       "      <td>10.00</td>\n",
       "      <td>18.00</td>\n",
       "      <td>4.00</td>\n",
       "      <td>3.67</td>\n",
       "      <td>4.11</td>\n",
       "      <td>17541141</td>\n",
       "      <td>57.00</td>\n",
       "      <td>25.73</td>\n",
       "    </tr>\n",
       "    <tr>\n",
       "      <th>2</th>\n",
       "      <td>4</td>\n",
       "      <td>2018</td>\n",
       "      <td>1021</td>\n",
       "      <td>SIN DEFINIR</td>\n",
       "      <td>Unidades</td>\n",
       "      <td>12 - IMPULSIVOS</td>\n",
       "      <td>3.22</td>\n",
       "      <td>2</td>\n",
       "      <td>3 De Febrero, Caseros, Buenos Aires</td>\n",
       "      <td>73.00</td>\n",
       "      <td>unidades</td>\n",
       "      <td>sin definir</td>\n",
       "      <td>impulsivos</td>\n",
       "      <td>96.00</td>\n",
       "      <td>82.00</td>\n",
       "      <td>128.00</td>\n",
       "      <td>9.12</td>\n",
       "      <td>10.56</td>\n",
       "      <td>10.46</td>\n",
       "      <td>17541141</td>\n",
       "      <td>57.00</td>\n",
       "      <td>234.77</td>\n",
       "    </tr>\n",
       "    <tr>\n",
       "      <th>3</th>\n",
       "      <td>4</td>\n",
       "      <td>2018</td>\n",
       "      <td>1021</td>\n",
       "      <td>SIN DEFINIR</td>\n",
       "      <td>Unidades</td>\n",
       "      <td>12 - IMPULSIVOS</td>\n",
       "      <td>3.22</td>\n",
       "      <td>2</td>\n",
       "      <td>3 De Febrero, Ciudadela, Buenos Aires</td>\n",
       "      <td>20.00</td>\n",
       "      <td>unidades</td>\n",
       "      <td>sin definir</td>\n",
       "      <td>impulsivos</td>\n",
       "      <td>55.00</td>\n",
       "      <td>35.00</td>\n",
       "      <td>2.00</td>\n",
       "      <td>20.00</td>\n",
       "      <td>23.75</td>\n",
       "      <td>21.67</td>\n",
       "      <td>17541141</td>\n",
       "      <td>57.00</td>\n",
       "      <td>64.32</td>\n",
       "    </tr>\n",
       "    <tr>\n",
       "      <th>4</th>\n",
       "      <td>4</td>\n",
       "      <td>2018</td>\n",
       "      <td>1021</td>\n",
       "      <td>SIN DEFINIR</td>\n",
       "      <td>Unidades</td>\n",
       "      <td>12 - IMPULSIVOS</td>\n",
       "      <td>3.22</td>\n",
       "      <td>2</td>\n",
       "      <td>3 De Febrero, Santos Lugares, Buenos Aires</td>\n",
       "      <td>55.00</td>\n",
       "      <td>unidades</td>\n",
       "      <td>sin definir</td>\n",
       "      <td>impulsivos</td>\n",
       "      <td>55.00</td>\n",
       "      <td>90.00</td>\n",
       "      <td>107.00</td>\n",
       "      <td>18.33</td>\n",
       "      <td>18.33</td>\n",
       "      <td>22.22</td>\n",
       "      <td>17541141</td>\n",
       "      <td>57.00</td>\n",
       "      <td>176.88</td>\n",
       "    </tr>\n",
       "    <tr>\n",
       "      <th>...</th>\n",
       "      <td>...</td>\n",
       "      <td>...</td>\n",
       "      <td>...</td>\n",
       "      <td>...</td>\n",
       "      <td>...</td>\n",
       "      <td>...</td>\n",
       "      <td>...</td>\n",
       "      <td>...</td>\n",
       "      <td>...</td>\n",
       "      <td>...</td>\n",
       "      <td>...</td>\n",
       "      <td>...</td>\n",
       "      <td>...</td>\n",
       "      <td>...</td>\n",
       "      <td>...</td>\n",
       "      <td>...</td>\n",
       "      <td>...</td>\n",
       "      <td>...</td>\n",
       "      <td>...</td>\n",
       "      <td>...</td>\n",
       "      <td>...</td>\n",
       "      <td>...</td>\n",
       "    </tr>\n",
       "    <tr>\n",
       "      <th>766595</th>\n",
       "      <td>12</td>\n",
       "      <td>2019</td>\n",
       "      <td>995</td>\n",
       "      <td>SIN DEFINIR</td>\n",
       "      <td>Unidades</td>\n",
       "      <td>0004 - CUCURUCHOS , CONOS Y VASOS DE  PASTA</td>\n",
       "      <td>3.10</td>\n",
       "      <td>3</td>\n",
       "      <td>Villa Ocampo, Santa Fe</td>\n",
       "      <td>4.00</td>\n",
       "      <td>unidades</td>\n",
       "      <td>sin definir</td>\n",
       "      <td>cucuruchos  conos y vasos de  pasta</td>\n",
       "      <td>2.00</td>\n",
       "      <td>3.00</td>\n",
       "      <td>3.00</td>\n",
       "      <td>2.00</td>\n",
       "      <td>2.00</td>\n",
       "      <td>2.33</td>\n",
       "      <td>3536418</td>\n",
       "      <td>27.00</td>\n",
       "      <td>12.40</td>\n",
       "    </tr>\n",
       "    <tr>\n",
       "      <th>766596</th>\n",
       "      <td>12</td>\n",
       "      <td>2019</td>\n",
       "      <td>995</td>\n",
       "      <td>SIN DEFINIR</td>\n",
       "      <td>Unidades</td>\n",
       "      <td>0004 - CUCURUCHOS , CONOS Y VASOS DE  PASTA</td>\n",
       "      <td>3.10</td>\n",
       "      <td>3</td>\n",
       "      <td>Villa Pueyrredón, Capital Federal</td>\n",
       "      <td>2.00</td>\n",
       "      <td>unidades</td>\n",
       "      <td>sin definir</td>\n",
       "      <td>cucuruchos  conos y vasos de  pasta</td>\n",
       "      <td>1.00</td>\n",
       "      <td>2.00</td>\n",
       "      <td>4.00</td>\n",
       "      <td>2.00</td>\n",
       "      <td>1.50</td>\n",
       "      <td>1.67</td>\n",
       "      <td>3075646</td>\n",
       "      <td>15069.99</td>\n",
       "      <td>6.20</td>\n",
       "    </tr>\n",
       "    <tr>\n",
       "      <th>766597</th>\n",
       "      <td>12</td>\n",
       "      <td>2019</td>\n",
       "      <td>995</td>\n",
       "      <td>SIN DEFINIR</td>\n",
       "      <td>Unidades</td>\n",
       "      <td>0004 - CUCURUCHOS , CONOS Y VASOS DE  PASTA</td>\n",
       "      <td>3.10</td>\n",
       "      <td>3</td>\n",
       "      <td>Yerba Buena, Tucumán</td>\n",
       "      <td>4.00</td>\n",
       "      <td>unidades</td>\n",
       "      <td>sin definir</td>\n",
       "      <td>cucuruchos  conos y vasos de  pasta</td>\n",
       "      <td>3.00</td>\n",
       "      <td>1.00</td>\n",
       "      <td>2.00</td>\n",
       "      <td>2.00</td>\n",
       "      <td>1.75</td>\n",
       "      <td>1.50</td>\n",
       "      <td>1694656</td>\n",
       "      <td>64.00</td>\n",
       "      <td>12.40</td>\n",
       "    </tr>\n",
       "    <tr>\n",
       "      <th>766598</th>\n",
       "      <td>12</td>\n",
       "      <td>2019</td>\n",
       "      <td>995</td>\n",
       "      <td>SIN DEFINIR</td>\n",
       "      <td>Unidades</td>\n",
       "      <td>0004 - CUCURUCHOS , CONOS Y VASOS DE  PASTA</td>\n",
       "      <td>3.10</td>\n",
       "      <td>3</td>\n",
       "      <td>Zapala, Neuquén</td>\n",
       "      <td>7.00</td>\n",
       "      <td>unidades</td>\n",
       "      <td>sin definir</td>\n",
       "      <td>cucuruchos  conos y vasos de  pasta</td>\n",
       "      <td>5.00</td>\n",
       "      <td>6.00</td>\n",
       "      <td>10.00</td>\n",
       "      <td>3.50</td>\n",
       "      <td>4.25</td>\n",
       "      <td>4.83</td>\n",
       "      <td>664057</td>\n",
       "      <td>7.10</td>\n",
       "      <td>21.70</td>\n",
       "    </tr>\n",
       "    <tr>\n",
       "      <th>766599</th>\n",
       "      <td>12</td>\n",
       "      <td>2019</td>\n",
       "      <td>995</td>\n",
       "      <td>SIN DEFINIR</td>\n",
       "      <td>Unidades</td>\n",
       "      <td>0004 - CUCURUCHOS , CONOS Y VASOS DE  PASTA</td>\n",
       "      <td>3.10</td>\n",
       "      <td>3</td>\n",
       "      <td>Zarate, Zarate, Buenos Aires</td>\n",
       "      <td>8.00</td>\n",
       "      <td>unidades</td>\n",
       "      <td>sin definir</td>\n",
       "      <td>cucuruchos  conos y vasos de  pasta</td>\n",
       "      <td>5.00</td>\n",
       "      <td>10.00</td>\n",
       "      <td>3.00</td>\n",
       "      <td>2.67</td>\n",
       "      <td>2.58</td>\n",
       "      <td>2.56</td>\n",
       "      <td>17541141</td>\n",
       "      <td>57.00</td>\n",
       "      <td>24.80</td>\n",
       "    </tr>\n",
       "  </tbody>\n",
       "</table>\n",
       "<p>762798 rows × 22 columns</p>\n",
       "</div>"
      ],
      "text/plain": [
       "       mes  anio   sku        marca presentacion  \\\n",
       "0        4  2018  1021  SIN DEFINIR     Unidades   \n",
       "1        4  2018  1021  SIN DEFINIR     Unidades   \n",
       "2        4  2018  1021  SIN DEFINIR     Unidades   \n",
       "3        4  2018  1021  SIN DEFINIR     Unidades   \n",
       "4        4  2018  1021  SIN DEFINIR     Unidades   \n",
       "...     ..   ...   ...          ...          ...   \n",
       "766595  12  2019   995  SIN DEFINIR     Unidades   \n",
       "766596  12  2019   995  SIN DEFINIR     Unidades   \n",
       "766597  12  2019   995  SIN DEFINIR     Unidades   \n",
       "766598  12  2019   995  SIN DEFINIR     Unidades   \n",
       "766599  12  2019   995  SIN DEFINIR     Unidades   \n",
       "\n",
       "                                          categoria  unidadkg id_proveedor  \\\n",
       "0                                   12 - IMPULSIVOS      3.22            2   \n",
       "1                                   12 - IMPULSIVOS      3.22            2   \n",
       "2                                   12 - IMPULSIVOS      3.22            2   \n",
       "3                                   12 - IMPULSIVOS      3.22            2   \n",
       "4                                   12 - IMPULSIVOS      3.22            2   \n",
       "...                                             ...       ...          ...   \n",
       "766595  0004 - CUCURUCHOS , CONOS Y VASOS DE  PASTA      3.10            3   \n",
       "766596  0004 - CUCURUCHOS , CONOS Y VASOS DE  PASTA      3.10            3   \n",
       "766597  0004 - CUCURUCHOS , CONOS Y VASOS DE  PASTA      3.10            3   \n",
       "766598  0004 - CUCURUCHOS , CONOS Y VASOS DE  PASTA      3.10            3   \n",
       "766599  0004 - CUCURUCHOS , CONOS Y VASOS DE  PASTA      3.10            3   \n",
       "\n",
       "                                         ubicacion  cantidad_pedida  \\\n",
       "0             25 De Mayo, 25 De Mayo, Buenos Aires            15.00   \n",
       "1         3 De Febrero, 3 De Febrero, Buenos Aires             8.00   \n",
       "2              3 De Febrero, Caseros, Buenos Aires            73.00   \n",
       "3            3 De Febrero, Ciudadela, Buenos Aires            20.00   \n",
       "4       3 De Febrero, Santos Lugares, Buenos Aires            55.00   \n",
       "...                                            ...              ...   \n",
       "766595                      Villa Ocampo, Santa Fe             4.00   \n",
       "766596           Villa Pueyrredón, Capital Federal             2.00   \n",
       "766597                        Yerba Buena, Tucumán             4.00   \n",
       "766598                             Zapala, Neuquén             7.00   \n",
       "766599                Zarate, Zarate, Buenos Aires             8.00   \n",
       "\n",
       "       presentacion_depurada marca_depurada  \\\n",
       "0                   unidades    sin definir   \n",
       "1                   unidades    sin definir   \n",
       "2                   unidades    sin definir   \n",
       "3                   unidades    sin definir   \n",
       "4                   unidades    sin definir   \n",
       "...                      ...            ...   \n",
       "766595              unidades    sin definir   \n",
       "766596              unidades    sin definir   \n",
       "766597              unidades    sin definir   \n",
       "766598              unidades    sin definir   \n",
       "766599              unidades    sin definir   \n",
       "\n",
       "                         categoria_depurada  cantidad_pedida_lag_t-1  \\\n",
       "0                                impulsivos                    65.00   \n",
       "1                                impulsivos                    10.00   \n",
       "2                                impulsivos                    96.00   \n",
       "3                                impulsivos                    55.00   \n",
       "4                                impulsivos                    55.00   \n",
       "...                                     ...                      ...   \n",
       "766595  cucuruchos  conos y vasos de  pasta                     2.00   \n",
       "766596  cucuruchos  conos y vasos de  pasta                     1.00   \n",
       "766597  cucuruchos  conos y vasos de  pasta                     3.00   \n",
       "766598  cucuruchos  conos y vasos de  pasta                     5.00   \n",
       "766599  cucuruchos  conos y vasos de  pasta                     5.00   \n",
       "\n",
       "        cantidad_pedida_lag_t-2  cantidad_pedida_lag_t-3  \\\n",
       "0                         60.00                    50.00   \n",
       "1                         10.00                    18.00   \n",
       "2                         82.00                   128.00   \n",
       "3                         35.00                     2.00   \n",
       "4                         90.00                   107.00   \n",
       "...                         ...                      ...   \n",
       "766595                     3.00                     3.00   \n",
       "766596                     2.00                     4.00   \n",
       "766597                     1.00                     2.00   \n",
       "766598                     6.00                    10.00   \n",
       "766599                    10.00                     3.00   \n",
       "\n",
       "        cantidad_pedida_mean  cantidad_pedida_mean_w2  \\\n",
       "0                      15.00                    15.62   \n",
       "1                       4.00                     3.67   \n",
       "2                       9.12                    10.56   \n",
       "3                      20.00                    23.75   \n",
       "4                      18.33                    18.33   \n",
       "...                      ...                      ...   \n",
       "766595                  2.00                     2.00   \n",
       "766596                  2.00                     1.50   \n",
       "766597                  2.00                     1.75   \n",
       "766598                  3.50                     4.25   \n",
       "766599                  2.67                     2.58   \n",
       "\n",
       "        cantidad_pedida_mean_w3  poblacion_prov  densidad_prov  totalkg  \n",
       "0                         15.42        17541141          57.00    48.24  \n",
       "1                          4.11        17541141          57.00    25.73  \n",
       "2                         10.46        17541141          57.00   234.77  \n",
       "3                         21.67        17541141          57.00    64.32  \n",
       "4                         22.22        17541141          57.00   176.88  \n",
       "...                         ...             ...            ...      ...  \n",
       "766595                     2.33         3536418          27.00    12.40  \n",
       "766596                     1.67         3075646       15069.99     6.20  \n",
       "766597                     1.50         1694656          64.00    12.40  \n",
       "766598                     4.83          664057           7.10    21.70  \n",
       "766599                     2.56        17541141          57.00    24.80  \n",
       "\n",
       "[762798 rows x 22 columns]"
      ]
     },
     "execution_count": 185,
     "metadata": {},
     "output_type": "execute_result"
    }
   ],
   "source": [
    "#Deteccion por percentiles de 0.995 y 0.005\n",
    "df_quantile_005 = outliers_quantile(df_lagged_roll_mean_agg, 'totalkg', percentil=0.005)\n",
    "df_quantile_005"
   ]
  },
  {
   "cell_type": "code",
   "execution_count": 186,
   "metadata": {
    "id": "6m1uTw9P3RUX",
    "outputId": "a402a94f-d0ee-4544-ccd6-791f3a57d3bd"
   },
   "outputs": [
    {
     "name": "stdout",
     "output_type": "stream",
     "text": [
      "count   762798.00\n",
      "mean        87.79\n",
      "std        150.25\n",
      "min          0.01\n",
      "25%         15.60\n",
      "50%         39.00\n",
      "75%         93.60\n",
      "max       1547.68\n",
      "Name: totalkg, dtype: float64\n",
      "Se eliminaron 3802 filas\n"
     ]
    },
    {
     "data": {
      "image/png": "[encoded data removed]",
      "text/plain": [
       "<Figure size 432x288 with 1 Axes>"
      ]
     },
     "metadata": {
      "needs_background": "light"
     },
     "output_type": "display_data"
    }
   ],
   "source": [
    "print(df_quantile_005.totalkg.describe())\n",
    "print('Se eliminaron', len(df_lagged_roll_mean_agg) - len(df_quantile_005), 'filas')\n",
    "fig = sns.boxplot(x=df_quantile_005.totalkg)"
   ]
  },
  {
   "cell_type": "code",
   "execution_count": 187,
   "metadata": {
    "id": "qlGv7pDf3RUX"
   },
   "outputs": [],
   "source": [
    "# hay que elegir un metodo y asignarlo a df_to_encode\n",
    "df_to_encode = df_quantile_005"
   ]
  },
  {
   "cell_type": "code",
   "execution_count": 188,
   "metadata": {
    "id": "MEmmgPR_3RUX",
    "outputId": "4a89fe1e-f279-4cf9-b633-f044964f60f0",
    "scrolled": true
   },
   "outputs": [
    {
     "data": {
      "image/png": "[encoded data removed]",
      "text/plain": [
       "<Figure size 720x432 with 2 Axes>"
      ]
     },
     "metadata": {
      "needs_background": "light"
     },
     "output_type": "display_data"
    }
   ],
   "source": [
    "fig, (ax1, ax2) = plt.subplots(nrows=2, figsize = (10,6))\n",
    "sns.boxplot(x=df_lagged_roll_mean_agg.totalkg, ax=ax1)\n",
    "ax1.set_title('Boxplot de totalkg sin filtrar')\n",
    "sns.boxplot(x=df_quantile_005.totalkg, ax=ax2)\n",
    "ax2.set_title('Boxplot de totalkg filtrando con ' + outliers_quantile.__name__ + ', percentil 0.995')\n",
    "fig.tight_layout(pad=3.0)"
   ]
  },
  {
   "cell_type": "markdown",
   "metadata": {
    "id": "t_HtDrlU3RUQ"
   },
   "source": [
    "#### 5.2 One Hot Encoding. Creación variables dummies"
   ]
  },
  {
   "cell_type": "markdown",
   "metadata": {
    "id": "SBpqaDgk3RUR"
   },
   "source": [
    "Generar variables dummies para aquellas features de tipo objects que considere pueden aportar a los futuros modelos de machine learning.  Las features que seleccione aqui pueden no ser las definitivas pues pueden ser consideradas mas adelante nuevas features en el proceso circular de un proyecto de machine learning . Puede utilizar pandas.get_dummies o sklearn.preprocessing.OneHotEncoder para este propósito. Algunos ejemplos de columnas candidatas a ser columnas dummies son marca, categoria, presentación, provincias-localidad y sku. "
   ]
  },
  {
   "cell_type": "markdown",
   "metadata": {
    "id": "EHEO6-Gb3RUR"
   },
   "source": [
    "**Nota:** la generación de dummies para provincia-localidad y sku generará una gran cantidade columnas. A fines de reducir la cantidad de columnas para estas dos features generar solo dummies de las top N mas frecuentes. Adicionar una nueva variable que sea otras_localidades y otros_sku para indicar aquellas ventas que no se realizan en las localidades o con los sku mas frecuentes o no estan en el top N antes mencionado. Seleccione el parámetro N que considere representativo."
   ]
  },
  {
   "cell_type": "markdown",
   "metadata": {
    "id": "l_2SC4H82KOQ"
   },
   "source": [
    "##### Reducción de Ubicación y SKU"
   ]
  },
  {
   "cell_type": "code",
   "execution_count": 189,
   "metadata": {
    "id": "rkxjs4wj3RUR"
   },
   "outputs": [],
   "source": [
    "#Deja los top n valores en frecuencia y el resto los pone en otros\n",
    "def top_n(df, col, n):\n",
    "    \n",
    "    frec = df[col].value_counts()\n",
    "    frec = frec.to_frame()\n",
    "    top = list(frec.index)[:n]\n",
    "    new_col = []\n",
    "    \n",
    "    for value in df[col]:\n",
    "        if value in top:\n",
    "            new_col.append(value)\n",
    "        else:\n",
    "            new_col.append('otros')\n",
    "    \n",
    "    ret = df.copy()\n",
    "    ret[col] = new_col\n",
    "    return ret\n",
    "       \n",
    "# Deja los valores que representan el X% de las ventas (o el top n_max si lo anterior lo supera)\n",
    "def top_porcentaje(df, col, porcentaje, n_max=100):\n",
    "    \n",
    "    s = (len(df)*porcentaje)//100\n",
    "    frec = df[col].value_counts()\n",
    "    frec = frec.to_frame('frec')\n",
    "    suma = 0\n",
    "    i = 0\n",
    "    while suma < s:\n",
    "        suma = suma + frec.frec[i]\n",
    "        i = i + 1\n",
    "    if i > n_max:\n",
    "        ret = top_n(df, col, n_max)\n",
    "        porcentaje_real = (sum(frec.frec[:n_max])/len(df))*100\n",
    "    else:\n",
    "        ret = top_n(df, col, i)\n",
    "        porcentaje_real = (suma/len(df))*100\n",
    "    return ret, porcentaje_real"
   ]
  },
  {
   "cell_type": "code",
   "execution_count": 190,
   "metadata": {
    "colab": {
     "base_uri": "https://localhost:8080/"
    },
    "id": "Nq326y2s3RUS",
    "outputId": "dd91d16a-9131-460f-ffbd-a92d683c94c9",
    "scrolled": true
   },
   "outputs": [
    {
     "name": "stdout",
     "output_type": "stream",
     "text": [
      "<class 'pandas.core.frame.DataFrame'>\n",
      "Int64Index: 762798 entries, 0 to 766599\n",
      "Data columns (total 19 columns):\n",
      " #   Column                   Non-Null Count   Dtype  \n",
      "---  ------                   --------------   -----  \n",
      " 0   mes                      762798 non-null  object \n",
      " 1   anio                     762798 non-null  object \n",
      " 2   sku                      762798 non-null  object \n",
      " 3   unidadkg                 762798 non-null  float64\n",
      " 4   id_proveedor             762798 non-null  object \n",
      " 5   ubicacion                762798 non-null  object \n",
      " 6   cantidad_pedida          762798 non-null  float64\n",
      " 7   presentacion_depurada    762798 non-null  object \n",
      " 8   marca_depurada           762798 non-null  object \n",
      " 9   categoria_depurada       762798 non-null  object \n",
      " 10  cantidad_pedida_lag_t-1  762798 non-null  float64\n",
      " 11  cantidad_pedida_lag_t-2  762798 non-null  float64\n",
      " 12  cantidad_pedida_lag_t-3  762798 non-null  float64\n",
      " 13  cantidad_pedida_mean     762798 non-null  float64\n",
      " 14  cantidad_pedida_mean_w2  762798 non-null  float64\n",
      " 15  cantidad_pedida_mean_w3  762798 non-null  float64\n",
      " 16  poblacion_prov           762798 non-null  int32  \n",
      " 17  densidad_prov            762798 non-null  float64\n",
      " 18  totalkg                  762798 non-null  float64\n",
      "dtypes: float64(10), int32(1), object(8)\n",
      "memory usage: 113.5+ MB\n"
     ]
    }
   ],
   "source": [
    "df_onehot = df_to_encode.drop(columns=['presentacion', 'marca', 'categoria'])\n",
    "df_onehot.info()"
   ]
  },
  {
   "cell_type": "code",
   "execution_count": 191,
   "metadata": {
    "id": "OrngD0KO3RUS"
   },
   "outputs": [],
   "source": [
    "#Filtramos el 80% de sku y las 100 top localidades\n",
    "df_top, _ = top_porcentaje(df_onehot, 'sku', 60)\n",
    "df_top = top_n(df_top, 'ubicacion', n=80)"
   ]
  },
  {
   "cell_type": "code",
   "execution_count": 192,
   "metadata": {
    "colab": {
     "base_uri": "https://localhost:8080/"
    },
    "id": "-u1X42JsSHa3",
    "outputId": "5d5190dd-f2f5-4842-cb4f-f18ecf6a69f2"
   },
   "outputs": [
    {
     "name": "stdout",
     "output_type": "stream",
     "text": [
      "SKU original 254\n",
      "SKU top 53\n",
      "Ubicacion original 653\n",
      "Ubicacion top 81\n"
     ]
    }
   ],
   "source": [
    "#Vemos sku y ubicacion post reduccion\n",
    "print('SKU original',df_onehot.sku.nunique())\n",
    "print('SKU top',df_top.sku.nunique())\n",
    "print('Ubicacion original',df_onehot.ubicacion.nunique())\n",
    "print('Ubicacion top',df_top.ubicacion.nunique())"
   ]
  },
  {
   "cell_type": "code",
   "execution_count": 193,
   "metadata": {
    "id": "Vhrln8hCpAyh"
   },
   "outputs": [],
   "source": [
    "#Total columnas (categoricas y continuas) para el OneHotEncoding\n",
    "feature_cols = list(df_onehot.columns) \n",
    " \n",
    "#Columnas por separado para el OneHotEncoder\n",
    "cols_categoricas =  ['mes', 'anio', 'sku', 'id_proveedor', 'ubicacion', 'presentacion_depurada', 'marca_depurada', 'categoria_depurada']\n",
    "cols_continuas =  ['unidadkg', 'cantidad_pedida', 'cantidad_pedida_lag_t-1', 'cantidad_pedida_lag_t-2', 'cantidad_pedida_lag_t-3',\n",
    "                  'cantidad_pedida_mean', 'cantidad_pedida_mean_w2', 'cantidad_pedida_mean_w3', 'poblacion_prov', 'densidad_prov', 'totalkg']"
   ]
  },
  {
   "cell_type": "code",
   "execution_count": 194,
   "metadata": {
    "colab": {
     "base_uri": "https://localhost:8080/"
    },
    "id": "93oHWM-krjUV",
    "outputId": "ef681ec9-d72d-4378-a8bf-64d2a01d81fe"
   },
   "outputs": [
    {
     "name": "stdout",
     "output_type": "stream",
     "text": [
      "Total columnas y filas (762798, 19)\n",
      "Total columnas categoricas 8\n",
      "Total columnas continuas 11\n"
     ]
    }
   ],
   "source": [
    "print('Total columnas y filas', df_top[feature_cols].shape)\n",
    "print('Total columnas categoricas', df_top[cols_categoricas].shape[1])\n",
    "print('Total columnas continuas', df_top[cols_continuas].shape[1])"
   ]
  },
  {
   "cell_type": "code",
   "execution_count": 195,
   "metadata": {
    "id": "NLmIhcDIbc0_"
   },
   "outputs": [
    {
     "data": {
      "text/html": [
       "<div>\n",
       "<style scoped>\n",
       "    .dataframe tbody tr th:only-of-type {\n",
       "        vertical-align: middle;\n",
       "    }\n",
       "\n",
       "    .dataframe tbody tr th {\n",
       "        vertical-align: top;\n",
       "    }\n",
       "\n",
       "    .dataframe thead th {\n",
       "        text-align: right;\n",
       "    }\n",
       "</style>\n",
       "<table border=\"1\" class=\"dataframe\">\n",
       "  <thead>\n",
       "    <tr style=\"text-align: right;\">\n",
       "      <th></th>\n",
       "      <th>mes</th>\n",
       "      <th>anio</th>\n",
       "      <th>sku</th>\n",
       "      <th>unidadkg</th>\n",
       "      <th>id_proveedor</th>\n",
       "      <th>ubicacion</th>\n",
       "      <th>cantidad_pedida</th>\n",
       "      <th>presentacion_depurada</th>\n",
       "      <th>marca_depurada</th>\n",
       "      <th>categoria_depurada</th>\n",
       "      <th>cantidad_pedida_lag_t-1</th>\n",
       "      <th>cantidad_pedida_lag_t-2</th>\n",
       "      <th>cantidad_pedida_lag_t-3</th>\n",
       "      <th>cantidad_pedida_mean</th>\n",
       "      <th>cantidad_pedida_mean_w2</th>\n",
       "      <th>cantidad_pedida_mean_w3</th>\n",
       "      <th>poblacion_prov</th>\n",
       "      <th>densidad_prov</th>\n",
       "      <th>totalkg</th>\n",
       "    </tr>\n",
       "  </thead>\n",
       "  <tbody>\n",
       "    <tr>\n",
       "      <th>596317</th>\n",
       "      <td>11</td>\n",
       "      <td>2018</td>\n",
       "      <td>otros</td>\n",
       "      <td>0.21</td>\n",
       "      <td>3</td>\n",
       "      <td>San Fernando Del Valle De Catamarca, Catamarca</td>\n",
       "      <td>2.00</td>\n",
       "      <td>no asignada</td>\n",
       "      <td>via bana</td>\n",
       "      <td>productos via bana  tipo b</td>\n",
       "      <td>1.00</td>\n",
       "      <td>1.00</td>\n",
       "      <td>1.00</td>\n",
       "      <td>2.00</td>\n",
       "      <td>1.50</td>\n",
       "      <td>1.33</td>\n",
       "      <td>415438</td>\n",
       "      <td>4.00</td>\n",
       "      <td>0.42</td>\n",
       "    </tr>\n",
       "    <tr>\n",
       "      <th>290525</th>\n",
       "      <td>7</td>\n",
       "      <td>2019</td>\n",
       "      <td>otros</td>\n",
       "      <td>2.10</td>\n",
       "      <td>2</td>\n",
       "      <td>otros</td>\n",
       "      <td>3.00</td>\n",
       "      <td>pack</td>\n",
       "      <td>sin definir</td>\n",
       "      <td>grido cafe</td>\n",
       "      <td>1.00</td>\n",
       "      <td>3.00</td>\n",
       "      <td>1.00</td>\n",
       "      <td>1.50</td>\n",
       "      <td>1.25</td>\n",
       "      <td>1.33</td>\n",
       "      <td>1694656</td>\n",
       "      <td>64.00</td>\n",
       "      <td>6.30</td>\n",
       "    </tr>\n",
       "    <tr>\n",
       "      <th>373972</th>\n",
       "      <td>8</td>\n",
       "      <td>2019</td>\n",
       "      <td>909</td>\n",
       "      <td>4.14</td>\n",
       "      <td>2</td>\n",
       "      <td>otros</td>\n",
       "      <td>6.00</td>\n",
       "      <td>kilogramos</td>\n",
       "      <td>grido</td>\n",
       "      <td>pote  lts</td>\n",
       "      <td>2.00</td>\n",
       "      <td>2.00</td>\n",
       "      <td>2.00</td>\n",
       "      <td>1.50</td>\n",
       "      <td>1.25</td>\n",
       "      <td>1.17</td>\n",
       "      <td>17541141</td>\n",
       "      <td>57.00</td>\n",
       "      <td>24.84</td>\n",
       "    </tr>\n",
       "    <tr>\n",
       "      <th>660770</th>\n",
       "      <td>11</td>\n",
       "      <td>2019</td>\n",
       "      <td>890</td>\n",
       "      <td>9.60</td>\n",
       "      <td>2</td>\n",
       "      <td>otros</td>\n",
       "      <td>15.00</td>\n",
       "      <td>kilogramos</td>\n",
       "      <td>grido</td>\n",
       "      <td>familiar</td>\n",
       "      <td>30.00</td>\n",
       "      <td>39.00</td>\n",
       "      <td>6.00</td>\n",
       "      <td>15.00</td>\n",
       "      <td>15.00</td>\n",
       "      <td>14.33</td>\n",
       "      <td>1990338</td>\n",
       "      <td>13.00</td>\n",
       "      <td>144.00</td>\n",
       "    </tr>\n",
       "    <tr>\n",
       "      <th>184457</th>\n",
       "      <td>6</td>\n",
       "      <td>2019</td>\n",
       "      <td>1707</td>\n",
       "      <td>7.80</td>\n",
       "      <td>2</td>\n",
       "      <td>otros</td>\n",
       "      <td>5.00</td>\n",
       "      <td>baldes</td>\n",
       "      <td>grido</td>\n",
       "      <td>sabores especiales</td>\n",
       "      <td>6.00</td>\n",
       "      <td>6.00</td>\n",
       "      <td>6.00</td>\n",
       "      <td>5.00</td>\n",
       "      <td>4.00</td>\n",
       "      <td>4.67</td>\n",
       "      <td>17541141</td>\n",
       "      <td>57.00</td>\n",
       "      <td>39.00</td>\n",
       "    </tr>\n",
       "    <tr>\n",
       "      <th>...</th>\n",
       "      <td>...</td>\n",
       "      <td>...</td>\n",
       "      <td>...</td>\n",
       "      <td>...</td>\n",
       "      <td>...</td>\n",
       "      <td>...</td>\n",
       "      <td>...</td>\n",
       "      <td>...</td>\n",
       "      <td>...</td>\n",
       "      <td>...</td>\n",
       "      <td>...</td>\n",
       "      <td>...</td>\n",
       "      <td>...</td>\n",
       "      <td>...</td>\n",
       "      <td>...</td>\n",
       "      <td>...</td>\n",
       "      <td>...</td>\n",
       "      <td>...</td>\n",
       "      <td>...</td>\n",
       "    </tr>\n",
       "    <tr>\n",
       "      <th>125748</th>\n",
       "      <td>5</td>\n",
       "      <td>2019</td>\n",
       "      <td>otros</td>\n",
       "      <td>6.08</td>\n",
       "      <td>2</td>\n",
       "      <td>otros</td>\n",
       "      <td>2.00</td>\n",
       "      <td>pack</td>\n",
       "      <td>frizzio</td>\n",
       "      <td>frizzio</td>\n",
       "      <td>2.00</td>\n",
       "      <td>2.00</td>\n",
       "      <td>3.00</td>\n",
       "      <td>2.00</td>\n",
       "      <td>2.00</td>\n",
       "      <td>2.00</td>\n",
       "      <td>3536418</td>\n",
       "      <td>27.00</td>\n",
       "      <td>12.16</td>\n",
       "    </tr>\n",
       "    <tr>\n",
       "      <th>49300</th>\n",
       "      <td>4</td>\n",
       "      <td>2019</td>\n",
       "      <td>1714</td>\n",
       "      <td>7.80</td>\n",
       "      <td>2</td>\n",
       "      <td>otros</td>\n",
       "      <td>2.00</td>\n",
       "      <td>baldes</td>\n",
       "      <td>grido</td>\n",
       "      <td>sabores comunes</td>\n",
       "      <td>1.00</td>\n",
       "      <td>5.00</td>\n",
       "      <td>8.00</td>\n",
       "      <td>2.00</td>\n",
       "      <td>1.50</td>\n",
       "      <td>1.56</td>\n",
       "      <td>3760450</td>\n",
       "      <td>23.00</td>\n",
       "      <td>15.60</td>\n",
       "    </tr>\n",
       "    <tr>\n",
       "      <th>108798</th>\n",
       "      <td>5</td>\n",
       "      <td>2018</td>\n",
       "      <td>910</td>\n",
       "      <td>4.14</td>\n",
       "      <td>2</td>\n",
       "      <td>otros</td>\n",
       "      <td>33.00</td>\n",
       "      <td>kilogramos</td>\n",
       "      <td>grido</td>\n",
       "      <td>pote  lts</td>\n",
       "      <td>24.00</td>\n",
       "      <td>20.00</td>\n",
       "      <td>6.00</td>\n",
       "      <td>16.50</td>\n",
       "      <td>12.25</td>\n",
       "      <td>11.50</td>\n",
       "      <td>1694656</td>\n",
       "      <td>64.00</td>\n",
       "      <td>136.62</td>\n",
       "    </tr>\n",
       "    <tr>\n",
       "      <th>296407</th>\n",
       "      <td>8</td>\n",
       "      <td>2018</td>\n",
       "      <td>1692</td>\n",
       "      <td>7.80</td>\n",
       "      <td>2</td>\n",
       "      <td>otros</td>\n",
       "      <td>3.00</td>\n",
       "      <td>baldes</td>\n",
       "      <td>grido</td>\n",
       "      <td>sabores comunes</td>\n",
       "      <td>3.00</td>\n",
       "      <td>5.00</td>\n",
       "      <td>1.00</td>\n",
       "      <td>1.50</td>\n",
       "      <td>1.25</td>\n",
       "      <td>2.50</td>\n",
       "      <td>3760450</td>\n",
       "      <td>23.00</td>\n",
       "      <td>23.40</td>\n",
       "    </tr>\n",
       "    <tr>\n",
       "      <th>356788</th>\n",
       "      <td>8</td>\n",
       "      <td>2019</td>\n",
       "      <td>318</td>\n",
       "      <td>3.20</td>\n",
       "      <td>2</td>\n",
       "      <td>otros</td>\n",
       "      <td>5.00</td>\n",
       "      <td>kilogramos</td>\n",
       "      <td>grido</td>\n",
       "      <td>palitos crema  frutal  bombon</td>\n",
       "      <td>3.00</td>\n",
       "      <td>3.00</td>\n",
       "      <td>5.00</td>\n",
       "      <td>5.00</td>\n",
       "      <td>4.00</td>\n",
       "      <td>3.17</td>\n",
       "      <td>3760450</td>\n",
       "      <td>23.00</td>\n",
       "      <td>16.00</td>\n",
       "    </tr>\n",
       "  </tbody>\n",
       "</table>\n",
       "<p>100000 rows × 19 columns</p>\n",
       "</div>"
      ],
      "text/plain": [
       "       mes  anio    sku  unidadkg id_proveedor  \\\n",
       "596317  11  2018  otros      0.21            3   \n",
       "290525   7  2019  otros      2.10            2   \n",
       "373972   8  2019    909      4.14            2   \n",
       "660770  11  2019    890      9.60            2   \n",
       "184457   6  2019   1707      7.80            2   \n",
       "...     ..   ...    ...       ...          ...   \n",
       "125748   5  2019  otros      6.08            2   \n",
       "49300    4  2019   1714      7.80            2   \n",
       "108798   5  2018    910      4.14            2   \n",
       "296407   8  2018   1692      7.80            2   \n",
       "356788   8  2019    318      3.20            2   \n",
       "\n",
       "                                             ubicacion  cantidad_pedida  \\\n",
       "596317  San Fernando Del Valle De Catamarca, Catamarca             2.00   \n",
       "290525                                           otros             3.00   \n",
       "373972                                           otros             6.00   \n",
       "660770                                           otros            15.00   \n",
       "184457                                           otros             5.00   \n",
       "...                                                ...              ...   \n",
       "125748                                           otros             2.00   \n",
       "49300                                            otros             2.00   \n",
       "108798                                           otros            33.00   \n",
       "296407                                           otros             3.00   \n",
       "356788                                           otros             5.00   \n",
       "\n",
       "       presentacion_depurada marca_depurada             categoria_depurada  \\\n",
       "596317           no asignada       via bana     productos via bana  tipo b   \n",
       "290525                  pack    sin definir                     grido cafe   \n",
       "373972            kilogramos          grido                      pote  lts   \n",
       "660770            kilogramos          grido                       familiar   \n",
       "184457                baldes          grido             sabores especiales   \n",
       "...                      ...            ...                            ...   \n",
       "125748                  pack        frizzio                        frizzio   \n",
       "49300                 baldes          grido                sabores comunes   \n",
       "108798            kilogramos          grido                      pote  lts   \n",
       "296407                baldes          grido                sabores comunes   \n",
       "356788            kilogramos          grido  palitos crema  frutal  bombon   \n",
       "\n",
       "        cantidad_pedida_lag_t-1  cantidad_pedida_lag_t-2  \\\n",
       "596317                     1.00                     1.00   \n",
       "290525                     1.00                     3.00   \n",
       "373972                     2.00                     2.00   \n",
       "660770                    30.00                    39.00   \n",
       "184457                     6.00                     6.00   \n",
       "...                         ...                      ...   \n",
       "125748                     2.00                     2.00   \n",
       "49300                      1.00                     5.00   \n",
       "108798                    24.00                    20.00   \n",
       "296407                     3.00                     5.00   \n",
       "356788                     3.00                     3.00   \n",
       "\n",
       "        cantidad_pedida_lag_t-3  cantidad_pedida_mean  \\\n",
       "596317                     1.00                  2.00   \n",
       "290525                     1.00                  1.50   \n",
       "373972                     2.00                  1.50   \n",
       "660770                     6.00                 15.00   \n",
       "184457                     6.00                  5.00   \n",
       "...                         ...                   ...   \n",
       "125748                     3.00                  2.00   \n",
       "49300                      8.00                  2.00   \n",
       "108798                     6.00                 16.50   \n",
       "296407                     1.00                  1.50   \n",
       "356788                     5.00                  5.00   \n",
       "\n",
       "        cantidad_pedida_mean_w2  cantidad_pedida_mean_w3  poblacion_prov  \\\n",
       "596317                     1.50                     1.33          415438   \n",
       "290525                     1.25                     1.33         1694656   \n",
       "373972                     1.25                     1.17        17541141   \n",
       "660770                    15.00                    14.33         1990338   \n",
       "184457                     4.00                     4.67        17541141   \n",
       "...                         ...                      ...             ...   \n",
       "125748                     2.00                     2.00         3536418   \n",
       "49300                      1.50                     1.56         3760450   \n",
       "108798                    12.25                    11.50         1694656   \n",
       "296407                     1.25                     2.50         3760450   \n",
       "356788                     4.00                     3.17         3760450   \n",
       "\n",
       "        densidad_prov  totalkg  \n",
       "596317           4.00     0.42  \n",
       "290525          64.00     6.30  \n",
       "373972          57.00    24.84  \n",
       "660770          13.00   144.00  \n",
       "184457          57.00    39.00  \n",
       "...               ...      ...  \n",
       "125748          27.00    12.16  \n",
       "49300           23.00    15.60  \n",
       "108798          64.00   136.62  \n",
       "296407          23.00    23.40  \n",
       "356788          23.00    16.00  \n",
       "\n",
       "[100000 rows x 19 columns]"
      ]
     },
     "execution_count": 195,
     "metadata": {},
     "output_type": "execute_result"
    }
   ],
   "source": [
    "#Filtro dataset (para probar correr onehot encoding)\n",
    "df_top_sample = df_top.sample(100000, random_state=1)\n",
    "df_top_sample"
   ]
  },
  {
   "cell_type": "markdown",
   "metadata": {
    "id": "AKiTuEm9oQfN"
   },
   "source": [
    "##### OneHotEncoder"
   ]
  },
  {
   "cell_type": "code",
   "execution_count": 196,
   "metadata": {
    "id": "8ZmpkNk_oJw-"
   },
   "outputs": [],
   "source": [
    "from sklearn.preprocessing import OneHotEncoder\n",
    "encoder = OneHotEncoder(sparse=False)#True\n",
    "encoder.fit(df_top_sample[cols_categoricas])\n",
    "ohe_cat = encoder.transform(df_top_sample[cols_categoricas])\n",
    "#encoder.categories_ #Ver que categorias que existen"
   ]
  },
  {
   "cell_type": "code",
   "execution_count": 197,
   "metadata": {
    "colab": {
     "base_uri": "https://localhost:8080/"
    },
    "id": "VL0wsjB5yUwG",
    "outputId": "63c748f7-88ce-47dc-c454-ed336e8dd248"
   },
   "outputs": [
    {
     "data": {
      "text/plain": [
       "(100000, 182)"
      ]
     },
     "execution_count": 197,
     "metadata": {},
     "output_type": "execute_result"
    }
   ],
   "source": [
    "ohe_cat.shape"
   ]
  },
  {
   "cell_type": "code",
   "execution_count": 198,
   "metadata": {
    "colab": {
     "base_uri": "https://localhost:8080/"
    },
    "id": "3welOFuWpQc1",
    "outputId": "9055e042-f342-4800-f4c2-a555997b36d5"
   },
   "outputs": [
    {
     "name": "stdout",
     "output_type": "stream",
     "text": [
      "The dense matrix will weight approximately 69.43 MB\n"
     ]
    }
   ],
   "source": [
    "matrix_size_1 = ohe_cat.shape[0] * ohe_cat.shape[1] * 4 / 1024 / 1024\n",
    "print(\"The dense matrix will weight approximately {:.2f} MB\".format(matrix_size_1))"
   ]
  },
  {
   "cell_type": "code",
   "execution_count": 199,
   "metadata": {
    "colab": {
     "base_uri": "https://localhost:8080/"
    },
    "id": "gzdrYN8PqpUX",
    "outputId": "a17944d2-5edf-4b15-f749-641e3d9d6b00"
   },
   "outputs": [
    {
     "data": {
      "text/plain": [
       "(100000, 11)"
      ]
     },
     "execution_count": 199,
     "metadata": {},
     "output_type": "execute_result"
    }
   ],
   "source": [
    "#Variables continuas\n",
    "ohe_num = np.array(df_top_sample[cols_continuas])\n",
    "ohe_num.shape"
   ]
  },
  {
   "cell_type": "code",
   "execution_count": 200,
   "metadata": {
    "colab": {
     "base_uri": "https://localhost:8080/"
    },
    "id": "yPksFLwhyZj8",
    "outputId": "075c0ba1-0c72-46ba-bb45-2fd5be23d26c"
   },
   "outputs": [
    {
     "data": {
      "text/plain": [
       "(100000, 193)"
      ]
     },
     "execution_count": 200,
     "metadata": {},
     "output_type": "execute_result"
    }
   ],
   "source": [
    "#Uso de hstack para unir variables continuas y categoricas\n",
    "ohe_all = np.hstack((ohe_num,ohe_cat))\n",
    "ohe_all.shape"
   ]
  },
  {
   "cell_type": "markdown",
   "metadata": {
    "id": "LD3QSbUqoVBq"
   },
   "source": [
    "##### DictVectorizer"
   ]
  },
  {
   "cell_type": "code",
   "execution_count": 201,
   "metadata": {
    "colab": {
     "base_uri": "https://localhost:8080/",
     "height": 361
    },
    "id": "MtrE2N9iSlbK",
    "outputId": "0de8b492-0ff9-41e0-a994-afdfe2da03e6"
   },
   "outputs": [
    {
     "data": {
      "text/plain": [
       "[{'mes': '11',\n",
       "  'anio': '2018',\n",
       "  'sku': 'otros',\n",
       "  'unidadkg': 0.2099999999999999,\n",
       "  'id_proveedor': '3',\n",
       "  'ubicacion': 'San Fernando Del Valle De Catamarca, Catamarca',\n",
       "  'cantidad_pedida': 2.0,\n",
       "  'presentacion_depurada': 'no asignada',\n",
       "  'marca_depurada': 'via bana',\n",
       "  'categoria_depurada': 'productos via bana  tipo b',\n",
       "  'cantidad_pedida_lag_t-1': 1.0,\n",
       "  'cantidad_pedida_lag_t-2': 1.0,\n",
       "  'cantidad_pedida_lag_t-3': 1.0,\n",
       "  'cantidad_pedida_mean': 2.0,\n",
       "  'cantidad_pedida_mean_w2': 1.499999999999737,\n",
       "  'cantidad_pedida_mean_w3': 1.3333333333332575,\n",
       "  'poblacion_prov': 415438,\n",
       "  'densidad_prov': 4.0,\n",
       "  'totalkg': 0.4199999999999998}]"
      ]
     },
     "execution_count": 201,
     "metadata": {},
     "output_type": "execute_result"
    }
   ],
   "source": [
    "#Convierto el conjunto de datos a una lista de diccionarios\n",
    "feature_dict = list(df_top_sample[feature_cols].T.to_dict().values()) \n",
    "feature_dict[:1]"
   ]
  },
  {
   "cell_type": "code",
   "execution_count": 202,
   "metadata": {
    "colab": {
     "base_uri": "https://localhost:8080/"
    },
    "id": "e9THTISXUK-1",
    "outputId": "bdb75a55-4ac2-4973-9c90-85dab866a738"
   },
   "outputs": [
    {
     "data": {
      "text/plain": [
       "<100000x193 sparse matrix of type '<class 'numpy.float64'>'\n",
       "\twith 1900000 stored elements in Compressed Sparse Row format>"
      ]
     },
     "execution_count": 202,
     "metadata": {},
     "output_type": "execute_result"
    }
   ],
   "source": [
    "from sklearn.feature_extraction import DictVectorizer\n",
    "vec = DictVectorizer()\n",
    "feature_matrix = vec.fit_transform(feature_dict)\n",
    "feature_matrix"
   ]
  },
  {
   "cell_type": "code",
   "execution_count": 203,
   "metadata": {
    "colab": {
     "base_uri": "https://localhost:8080/"
    },
    "id": "dV_a5ci4ghuR",
    "outputId": "d89ac5cd-d918-4d04-d672-01a01d1fba60"
   },
   "outputs": [
    {
     "data": {
      "text/plain": [
       "193"
      ]
     },
     "execution_count": 203,
     "metadata": {},
     "output_type": "execute_result"
    }
   ],
   "source": [
    "len(vec.get_feature_names())"
   ]
  },
  {
   "cell_type": "code",
   "execution_count": 204,
   "metadata": {
    "colab": {
     "base_uri": "https://localhost:8080/"
    },
    "id": "zaE3sizPgvaP",
    "outputId": "a5492128-8ccb-42ed-ae88-9254c225e9ff"
   },
   "outputs": [
    {
     "name": "stdout",
     "output_type": "stream",
     "text": [
      "The dense matrix will weight approximately 73.62 MB\n"
     ]
    }
   ],
   "source": [
    "matrix_size_2 = feature_matrix.shape[0] * feature_matrix.shape[1] * 4 / 1024 / 1024\n",
    "print(\"The dense matrix will weight approximately {:.2f} MB\".format(matrix_size_2))"
   ]
  },
  {
   "cell_type": "code",
   "execution_count": 205,
   "metadata": {},
   "outputs": [],
   "source": [
    "from scipy.sparse import csr_matrix\n",
    "\n",
    "def save_sparse_csr(filename, array):\n",
    "    # note that .npz extension is added automatically\n",
    "    np.savez(filename, data=array.data, indices=array.indices,\n",
    "             indptr=array.indptr, shape=array.shape)\n",
    "\n",
    "def load_sparse_csr(filename):\n",
    "    # here we need to add .npz extension manually\n",
    "    loader = np.load(filename + '.npz')\n",
    "    return csr_matrix((loader['data'], loader['indices'], loader['indptr']),\n",
    "                      shape=loader['shape'])"
   ]
  },
  {
   "cell_type": "code",
   "execution_count": 206,
   "metadata": {},
   "outputs": [
    {
     "data": {
      "text/plain": [
       "<100000x193 sparse matrix of type '<class 'numpy.float64'>'\n",
       "\twith 1900000 stored elements in Compressed Sparse Row format>"
      ]
     },
     "execution_count": 206,
     "metadata": {},
     "output_type": "execute_result"
    }
   ],
   "source": [
    "save_sparse_csr('dataset/feature_matrix', feature_matrix)\n",
    "prueba = load_sparse_csr('dataset/feature_matrix')\n",
    "prueba"
   ]
  }
 ],
 "metadata": {
  "colab": {
   "name": "Copia de 2- Exploracion y Curacion_v5.ipynb",
   "provenance": []
  },
  "kernelspec": {
   "display_name": "Python 3",
   "language": "python",
   "name": "python3"
  },
  "language_info": {
   "codemirror_mode": {
    "name": "ipython",
    "version": 3
   },
   "file_extension": ".py",
   "mimetype": "text/x-python",
   "name": "python",
   "nbconvert_exporter": "python",
   "pygments_lexer": "ipython3",
   "version": "3.8.8"
  }
 },
 "nbformat": 4,
 "nbformat_minor": 1
}
